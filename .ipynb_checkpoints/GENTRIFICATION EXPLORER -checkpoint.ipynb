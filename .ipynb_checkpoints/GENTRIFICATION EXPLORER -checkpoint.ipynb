{
 "cells": [
  {
   "cell_type": "markdown",
   "metadata": {},
   "source": [
    "# INSTRUCTIONS:\n",
    "#### Install plotly you would need in Geo Map subplots as part of our presentation \n",
    "*you can read on it via this link*  https://plot.ly/api/\n",
    "\n",
    "\n",
    "# URLS for the project\n",
    "\n",
    "## Neighborhood Data-Set:\n",
    "\n",
    "#### https://www.huduser.gov/portal/datasets/fmr/smallarea/index.html\n",
    "\n",
    "## Taxi Data-Set:\n",
    "\n",
    "#### https://data.cityofnewyork.us/resource/74wj-s5ij.json (2010)  Yellow taxi\n",
    "#### https://data.cityofnewyork.us/resource/uwyp-dntv.json (2011) Yellow taxi\n",
    "#### https://data.cityofnewyork.us/resource/kerk-3eby.json (2012) Yellow taxi\n",
    "#### https://data.cityofnewyork.us/resource/t7ny-aygi.json (2013) Yellow taxi\n",
    "#### https://data.cityofnewyork.us/resource/gkne-dk5s.json (2014) Yellow taxi\n",
    "#### https://data.cityofnewyork.us/resource/7j25-xd5y.json (2014) Green taxi\n",
    "\n",
    "\n"
   ]
  },
  {
   "cell_type": "code",
   "execution_count": 25,
   "metadata": {
    "collapsed": true
   },
   "outputs": [],
   "source": [
    "%matplotlib inline \n",
    "import pandas as pd\n",
    "import requests \n",
    "from io import StringIO\n",
    "from io import BytesIO\n",
    "import numpy as np\n",
    "import matplotlib.pyplot as plt\n",
    "import plotly.plotly as py\n"
   ]
  },
  {
   "cell_type": "code",
   "execution_count": 26,
   "metadata": {
    "collapsed": false
   },
   "outputs": [
    {
     "data": {
      "text/html": [
       "<div>\n",
       "<table border=\"1\" class=\"dataframe\">\n",
       "  <thead>\n",
       "    <tr style=\"text-align: right;\">\n",
       "      <th></th>\n",
       "      <th>dropoff_latitude</th>\n",
       "      <th>dropoff_longitude</th>\n",
       "      <th>lpep_dropoff_datetime</th>\n",
       "      <th>lpep_pickup_datetime</th>\n",
       "      <th>pickup_latitude</th>\n",
       "      <th>pickup_longitude</th>\n",
       "      <th>tip_amount</th>\n",
       "      <th>trip_distance</th>\n",
       "    </tr>\n",
       "  </thead>\n",
       "  <tbody>\n",
       "    <tr>\n",
       "      <th>0</th>\n",
       "      <td>40.813202</td>\n",
       "      <td>-73.945152</td>\n",
       "      <td>0008-01-10T20:50:52.000</td>\n",
       "      <td>0008-01-10T20:44:53.000</td>\n",
       "      <td>40.822823</td>\n",
       "      <td>-73.938164</td>\n",
       "      <td>0.0</td>\n",
       "      <td>1.07</td>\n",
       "    </tr>\n",
       "    <tr>\n",
       "      <th>1</th>\n",
       "      <td>40.723186</td>\n",
       "      <td>-73.942223</td>\n",
       "      <td>0011-01-03T20:02:34.000</td>\n",
       "      <td>0011-01-03T19:57:48.000</td>\n",
       "      <td>40.729080</td>\n",
       "      <td>-73.953835</td>\n",
       "      <td>2.0</td>\n",
       "      <td>1.10</td>\n",
       "    </tr>\n",
       "    <tr>\n",
       "      <th>2</th>\n",
       "      <td>40.634247</td>\n",
       "      <td>-74.025093</td>\n",
       "      <td>0028-01-06T00:23:00.000</td>\n",
       "      <td>0028-01-06T00:00:03.000</td>\n",
       "      <td>40.684532</td>\n",
       "      <td>-73.978569</td>\n",
       "      <td>0.0</td>\n",
       "      <td>6.09</td>\n",
       "    </tr>\n",
       "    <tr>\n",
       "      <th>3</th>\n",
       "      <td>40.759521</td>\n",
       "      <td>-73.778999</td>\n",
       "      <td>0016-01-01T21:48:51.000</td>\n",
       "      <td>0016-01-01T21:38:35.000</td>\n",
       "      <td>40.759911</td>\n",
       "      <td>-73.829147</td>\n",
       "      <td>0.0</td>\n",
       "      <td>2.98</td>\n",
       "    </tr>\n",
       "    <tr>\n",
       "      <th>4</th>\n",
       "      <td>40.709873</td>\n",
       "      <td>-74.014717</td>\n",
       "      <td>0001-01-11T01:43:23.000</td>\n",
       "      <td>0001-01-11T01:14:08.000</td>\n",
       "      <td>40.721851</td>\n",
       "      <td>-73.950264</td>\n",
       "      <td>0.0</td>\n",
       "      <td>5.70</td>\n",
       "    </tr>\n",
       "  </tbody>\n",
       "</table>\n",
       "</div>"
      ],
      "text/plain": [
       "   dropoff_latitude  dropoff_longitude    lpep_dropoff_datetime  \\\n",
       "0         40.813202         -73.945152  0008-01-10T20:50:52.000   \n",
       "1         40.723186         -73.942223  0011-01-03T20:02:34.000   \n",
       "2         40.634247         -74.025093  0028-01-06T00:23:00.000   \n",
       "3         40.759521         -73.778999  0016-01-01T21:48:51.000   \n",
       "4         40.709873         -74.014717  0001-01-11T01:43:23.000   \n",
       "\n",
       "      lpep_pickup_datetime  pickup_latitude  pickup_longitude  tip_amount  \\\n",
       "0  0008-01-10T20:44:53.000        40.822823        -73.938164         0.0   \n",
       "1  0011-01-03T19:57:48.000        40.729080        -73.953835         2.0   \n",
       "2  0028-01-06T00:00:03.000        40.684532        -73.978569         0.0   \n",
       "3  0016-01-01T21:38:35.000        40.759911        -73.829147         0.0   \n",
       "4  0001-01-11T01:14:08.000        40.721851        -73.950264         0.0   \n",
       "\n",
       "   trip_distance  \n",
       "0           1.07  \n",
       "1           1.10  \n",
       "2           6.09  \n",
       "3           2.98  \n",
       "4           5.70  "
      ]
     },
     "execution_count": 26,
     "metadata": {},
     "output_type": "execute_result"
    }
   ],
   "source": [
    "urls  = [        'https://data.cityofnewyork.us/resource/7j25-xd5y.json',\n",
    "                 'https://data.cityofnewyork.us/resource/uwyp-dntv.json',\n",
    "                 'https://data.cityofnewyork.us/resource/kerk-3eby.json',\n",
    "                 'https://data.cityofnewyork.us/resource/t7ny-aygi.json',\n",
    "                 'https://data.cityofnewyork.us/resource/gkne-dk5s.json',\n",
    "                 'https://data.cityofnewyork.us/resource/7j25-xd5y.json ']\n",
    "\n",
    "def year_url(url):\n",
    "    query    = (url)\n",
    "    raw_data = pd.read_json(query)\n",
    "    return (raw_data)\n",
    "\n",
    "data_010 = year_url(urls[0])\n",
    "data_011 = year_url(urls[1])\n",
    "data_012 = year_url(urls[2])\n",
    "data_013 = year_url(urls[3])\n",
    "data_014 = year_url(urls[4])\n",
    "\n",
    "#cleaning the data-set for the green-taxi 2014 since its diff attributes with the yellow taxi\n",
    "cols = ['dropoff_latitude', 'dropoff_longitude','lpep_dropoff_datetime','lpep_pickup_datetime','pickup_latitude',\n",
    "        'pickup_longitude','tip_amount','trip_distance']\n",
    "\n",
    "green_014 = pd.DataFrame(year_url(urls[5]), columns = cols)\n",
    "green_014.head()"
   ]
  },
  {
   "cell_type": "code",
   "execution_count": 27,
   "metadata": {
    "collapsed": false
   },
   "outputs": [],
   "source": [
    "#save the data in array inorder to modify some attributes \n",
    "processed_data = [data_010,data_011,data_012,data_013,data_014,green_014]\n",
    "\n",
    "#there some columns in our yellow taxi data-set that contains the same data we need but diff column name\n",
    "#fix for it\n",
    "for i in range(len(processed_data)):\n",
    "    for j in processed_data[i].columns.values:\n",
    "        if j == 'lpep_dropoff_datetime' or j == 'tpep_dropoff_datetime':\n",
    "            processed_data[i].rename(columns={j: 'dropoff_datetime' }, inplace=True)\n",
    "            \n",
    "        if j == 'lpep_pickup_datetime'   or j == 'tpep_pickup_datetime':\n",
    "            processed_data[i].rename(columns={j: 'pickup_datetime' }, inplace=True)\n",
    "\n",
    "#cleaning other yellow taxi data-set so that it only contains the columns we need\n",
    "def needed_col(data):\n",
    "    cols_y = ['dropoff_latitude', 'dropoff_longitude','dropoff_datetime' , 'pickup_datetime',\n",
    "              'pickup_latitude','pickup_longitude','tip_amount','trip_distance']\n",
    "    refine_data = pd.DataFrame(data, columns = cols_y)\n",
    "    return (refine_data)\n",
    "\n",
    "y_data_010 = needed_col(data_010)\n",
    "y_data_011 = needed_col(data_011)\n",
    "y_data_012 = needed_col(data_012)\n",
    "y_data_013 = needed_col(data_013)\n",
    "y_data_014 = needed_col(data_014)"
   ]
  },
  {
   "cell_type": "code",
   "execution_count": 28,
   "metadata": {
    "collapsed": false
   },
   "outputs": [
    {
     "data": {
      "text/html": [
       "<div>\n",
       "<table border=\"1\" class=\"dataframe\">\n",
       "  <thead>\n",
       "    <tr style=\"text-align: right;\">\n",
       "      <th></th>\n",
       "      <th>dropoff_latitude</th>\n",
       "      <th>dropoff_longitude</th>\n",
       "      <th>dropoff_datetime</th>\n",
       "      <th>pickup_datetime</th>\n",
       "      <th>pickup_latitude</th>\n",
       "      <th>pickup_longitude</th>\n",
       "      <th>tip_amount</th>\n",
       "      <th>trip_distance</th>\n",
       "    </tr>\n",
       "  </thead>\n",
       "  <tbody>\n",
       "    <tr>\n",
       "      <th>0</th>\n",
       "      <td>40.813202</td>\n",
       "      <td>-73.945152</td>\n",
       "      <td>0008-01-10T20:50:52.000</td>\n",
       "      <td>0008-01-10T20:44:53.000</td>\n",
       "      <td>40.822823</td>\n",
       "      <td>-73.938164</td>\n",
       "      <td>0.0</td>\n",
       "      <td>1.07</td>\n",
       "    </tr>\n",
       "    <tr>\n",
       "      <th>1</th>\n",
       "      <td>40.723186</td>\n",
       "      <td>-73.942223</td>\n",
       "      <td>0011-01-03T20:02:34.000</td>\n",
       "      <td>0011-01-03T19:57:48.000</td>\n",
       "      <td>40.729080</td>\n",
       "      <td>-73.953835</td>\n",
       "      <td>2.0</td>\n",
       "      <td>1.10</td>\n",
       "    </tr>\n",
       "    <tr>\n",
       "      <th>2</th>\n",
       "      <td>40.634247</td>\n",
       "      <td>-74.025093</td>\n",
       "      <td>0028-01-06T00:23:00.000</td>\n",
       "      <td>0028-01-06T00:00:03.000</td>\n",
       "      <td>40.684532</td>\n",
       "      <td>-73.978569</td>\n",
       "      <td>0.0</td>\n",
       "      <td>6.09</td>\n",
       "    </tr>\n",
       "    <tr>\n",
       "      <th>3</th>\n",
       "      <td>40.759521</td>\n",
       "      <td>-73.778999</td>\n",
       "      <td>0016-01-01T21:48:51.000</td>\n",
       "      <td>0016-01-01T21:38:35.000</td>\n",
       "      <td>40.759911</td>\n",
       "      <td>-73.829147</td>\n",
       "      <td>0.0</td>\n",
       "      <td>2.98</td>\n",
       "    </tr>\n",
       "    <tr>\n",
       "      <th>4</th>\n",
       "      <td>40.709873</td>\n",
       "      <td>-74.014717</td>\n",
       "      <td>0001-01-11T01:43:23.000</td>\n",
       "      <td>0001-01-11T01:14:08.000</td>\n",
       "      <td>40.721851</td>\n",
       "      <td>-73.950264</td>\n",
       "      <td>0.0</td>\n",
       "      <td>5.70</td>\n",
       "    </tr>\n",
       "  </tbody>\n",
       "</table>\n",
       "</div>"
      ],
      "text/plain": [
       "   dropoff_latitude  dropoff_longitude         dropoff_datetime  \\\n",
       "0         40.813202         -73.945152  0008-01-10T20:50:52.000   \n",
       "1         40.723186         -73.942223  0011-01-03T20:02:34.000   \n",
       "2         40.634247         -74.025093  0028-01-06T00:23:00.000   \n",
       "3         40.759521         -73.778999  0016-01-01T21:48:51.000   \n",
       "4         40.709873         -74.014717  0001-01-11T01:43:23.000   \n",
       "\n",
       "           pickup_datetime  pickup_latitude  pickup_longitude  tip_amount  \\\n",
       "0  0008-01-10T20:44:53.000        40.822823        -73.938164         0.0   \n",
       "1  0011-01-03T19:57:48.000        40.729080        -73.953835         2.0   \n",
       "2  0028-01-06T00:00:03.000        40.684532        -73.978569         0.0   \n",
       "3  0016-01-01T21:38:35.000        40.759911        -73.829147         0.0   \n",
       "4  0001-01-11T01:14:08.000        40.721851        -73.950264         0.0   \n",
       "\n",
       "   trip_distance  \n",
       "0           1.07  \n",
       "1           1.10  \n",
       "2           6.09  \n",
       "3           2.98  \n",
       "4           5.70  "
      ]
     },
     "execution_count": 28,
     "metadata": {},
     "output_type": "execute_result"
    }
   ],
   "source": [
    "y_data_010.head()"
   ]
  },
  {
   "cell_type": "code",
   "execution_count": 29,
   "metadata": {
    "collapsed": false
   },
   "outputs": [
    {
     "data": {
      "text/html": [
       "<div>\n",
       "<table border=\"1\" class=\"dataframe\">\n",
       "  <thead>\n",
       "    <tr style=\"text-align: right;\">\n",
       "      <th></th>\n",
       "      <th>dropoff_latitude</th>\n",
       "      <th>dropoff_longitude</th>\n",
       "      <th>dropoff_datetime</th>\n",
       "      <th>pickup_datetime</th>\n",
       "      <th>pickup_latitude</th>\n",
       "      <th>pickup_longitude</th>\n",
       "      <th>tip_amount</th>\n",
       "      <th>trip_distance</th>\n",
       "    </tr>\n",
       "  </thead>\n",
       "  <tbody>\n",
       "    <tr>\n",
       "      <th>0</th>\n",
       "      <td>40.724422</td>\n",
       "      <td>-73.994383</td>\n",
       "      <td>2011-06-21T22:14:00.000</td>\n",
       "      <td>2011-06-21T22:03:00.000</td>\n",
       "      <td>40.707625</td>\n",
       "      <td>-74.001553</td>\n",
       "      <td>0.00</td>\n",
       "      <td>1.49</td>\n",
       "    </tr>\n",
       "    <tr>\n",
       "      <th>1</th>\n",
       "      <td>40.711134</td>\n",
       "      <td>-74.016117</td>\n",
       "      <td>2011-08-08T23:57:45.000</td>\n",
       "      <td>2011-08-08T23:49:24.000</td>\n",
       "      <td>40.740509</td>\n",
       "      <td>-74.005630</td>\n",
       "      <td>0.00</td>\n",
       "      <td>2.50</td>\n",
       "    </tr>\n",
       "    <tr>\n",
       "      <th>2</th>\n",
       "      <td>0.000000</td>\n",
       "      <td>0.000000</td>\n",
       "      <td>2011-09-15T03:58:54.000</td>\n",
       "      <td>2011-09-15T03:54:48.000</td>\n",
       "      <td>0.000000</td>\n",
       "      <td>0.000000</td>\n",
       "      <td>1.89</td>\n",
       "      <td>1.20</td>\n",
       "    </tr>\n",
       "    <tr>\n",
       "      <th>3</th>\n",
       "      <td>40.748888</td>\n",
       "      <td>-73.975833</td>\n",
       "      <td>2011-07-19T10:19:00.000</td>\n",
       "      <td>2011-07-19T10:08:00.000</td>\n",
       "      <td>40.747892</td>\n",
       "      <td>-73.988863</td>\n",
       "      <td>0.00</td>\n",
       "      <td>0.96</td>\n",
       "    </tr>\n",
       "    <tr>\n",
       "      <th>4</th>\n",
       "      <td>40.744913</td>\n",
       "      <td>-73.945500</td>\n",
       "      <td>2011-08-31T14:05:00.000</td>\n",
       "      <td>2011-08-31T13:46:00.000</td>\n",
       "      <td>40.751040</td>\n",
       "      <td>-73.945000</td>\n",
       "      <td>0.00</td>\n",
       "      <td>3.06</td>\n",
       "    </tr>\n",
       "  </tbody>\n",
       "</table>\n",
       "</div>"
      ],
      "text/plain": [
       "   dropoff_latitude  dropoff_longitude         dropoff_datetime  \\\n",
       "0         40.724422         -73.994383  2011-06-21T22:14:00.000   \n",
       "1         40.711134         -74.016117  2011-08-08T23:57:45.000   \n",
       "2          0.000000           0.000000  2011-09-15T03:58:54.000   \n",
       "3         40.748888         -73.975833  2011-07-19T10:19:00.000   \n",
       "4         40.744913         -73.945500  2011-08-31T14:05:00.000   \n",
       "\n",
       "           pickup_datetime  pickup_latitude  pickup_longitude  tip_amount  \\\n",
       "0  2011-06-21T22:03:00.000        40.707625        -74.001553        0.00   \n",
       "1  2011-08-08T23:49:24.000        40.740509        -74.005630        0.00   \n",
       "2  2011-09-15T03:54:48.000         0.000000          0.000000        1.89   \n",
       "3  2011-07-19T10:08:00.000        40.747892        -73.988863        0.00   \n",
       "4  2011-08-31T13:46:00.000        40.751040        -73.945000        0.00   \n",
       "\n",
       "   trip_distance  \n",
       "0           1.49  \n",
       "1           2.50  \n",
       "2           1.20  \n",
       "3           0.96  \n",
       "4           3.06  "
      ]
     },
     "execution_count": 29,
     "metadata": {},
     "output_type": "execute_result"
    }
   ],
   "source": [
    "y_data_011.head()"
   ]
  },
  {
   "cell_type": "code",
   "execution_count": 30,
   "metadata": {
    "collapsed": false
   },
   "outputs": [
    {
     "data": {
      "text/html": [
       "<div>\n",
       "<table border=\"1\" class=\"dataframe\">\n",
       "  <thead>\n",
       "    <tr style=\"text-align: right;\">\n",
       "      <th></th>\n",
       "      <th>dropoff_latitude</th>\n",
       "      <th>dropoff_longitude</th>\n",
       "      <th>dropoff_datetime</th>\n",
       "      <th>pickup_datetime</th>\n",
       "      <th>pickup_latitude</th>\n",
       "      <th>pickup_longitude</th>\n",
       "      <th>tip_amount</th>\n",
       "      <th>trip_distance</th>\n",
       "    </tr>\n",
       "  </thead>\n",
       "  <tbody>\n",
       "    <tr>\n",
       "      <th>0</th>\n",
       "      <td>40.770407</td>\n",
       "      <td>-73.986893</td>\n",
       "      <td>2012-06-25T20:47:00.000</td>\n",
       "      <td>2012-06-25T20:39:00.000</td>\n",
       "      <td>40.767928</td>\n",
       "      <td>-73.962740</td>\n",
       "      <td>1.0</td>\n",
       "      <td>1.70</td>\n",
       "    </tr>\n",
       "    <tr>\n",
       "      <th>1</th>\n",
       "      <td>40.713845</td>\n",
       "      <td>-73.997867</td>\n",
       "      <td>2012-08-11T21:44:00.000</td>\n",
       "      <td>2012-08-11T21:35:00.000</td>\n",
       "      <td>40.751447</td>\n",
       "      <td>-73.975002</td>\n",
       "      <td>0.0</td>\n",
       "      <td>1.42</td>\n",
       "    </tr>\n",
       "    <tr>\n",
       "      <th>2</th>\n",
       "      <td>40.727895</td>\n",
       "      <td>-73.993357</td>\n",
       "      <td>2012-02-24T06:51:48.000</td>\n",
       "      <td>2012-02-24T06:38:22.000</td>\n",
       "      <td>40.763360</td>\n",
       "      <td>-73.992565</td>\n",
       "      <td>1.0</td>\n",
       "      <td>3.20</td>\n",
       "    </tr>\n",
       "    <tr>\n",
       "      <th>3</th>\n",
       "      <td>40.780051</td>\n",
       "      <td>-73.956726</td>\n",
       "      <td>2012-04-26T21:36:11.000</td>\n",
       "      <td>2012-04-26T21:33:14.000</td>\n",
       "      <td>40.772920</td>\n",
       "      <td>-73.958413</td>\n",
       "      <td>0.0</td>\n",
       "      <td>0.60</td>\n",
       "    </tr>\n",
       "    <tr>\n",
       "      <th>4</th>\n",
       "      <td>40.762655</td>\n",
       "      <td>-74.001242</td>\n",
       "      <td>2012-06-29T09:06:31.000</td>\n",
       "      <td>2012-06-29T08:56:26.000</td>\n",
       "      <td>40.762923</td>\n",
       "      <td>-73.982564</td>\n",
       "      <td>0.0</td>\n",
       "      <td>1.30</td>\n",
       "    </tr>\n",
       "  </tbody>\n",
       "</table>\n",
       "</div>"
      ],
      "text/plain": [
       "   dropoff_latitude  dropoff_longitude         dropoff_datetime  \\\n",
       "0         40.770407         -73.986893  2012-06-25T20:47:00.000   \n",
       "1         40.713845         -73.997867  2012-08-11T21:44:00.000   \n",
       "2         40.727895         -73.993357  2012-02-24T06:51:48.000   \n",
       "3         40.780051         -73.956726  2012-04-26T21:36:11.000   \n",
       "4         40.762655         -74.001242  2012-06-29T09:06:31.000   \n",
       "\n",
       "           pickup_datetime  pickup_latitude  pickup_longitude  tip_amount  \\\n",
       "0  2012-06-25T20:39:00.000        40.767928        -73.962740         1.0   \n",
       "1  2012-08-11T21:35:00.000        40.751447        -73.975002         0.0   \n",
       "2  2012-02-24T06:38:22.000        40.763360        -73.992565         1.0   \n",
       "3  2012-04-26T21:33:14.000        40.772920        -73.958413         0.0   \n",
       "4  2012-06-29T08:56:26.000        40.762923        -73.982564         0.0   \n",
       "\n",
       "   trip_distance  \n",
       "0           1.70  \n",
       "1           1.42  \n",
       "2           3.20  \n",
       "3           0.60  \n",
       "4           1.30  "
      ]
     },
     "execution_count": 30,
     "metadata": {},
     "output_type": "execute_result"
    }
   ],
   "source": [
    "y_data_012.head()"
   ]
  },
  {
   "cell_type": "code",
   "execution_count": 31,
   "metadata": {
    "collapsed": false
   },
   "outputs": [
    {
     "data": {
      "text/html": [
       "<div>\n",
       "<table border=\"1\" class=\"dataframe\">\n",
       "  <thead>\n",
       "    <tr style=\"text-align: right;\">\n",
       "      <th></th>\n",
       "      <th>dropoff_latitude</th>\n",
       "      <th>dropoff_longitude</th>\n",
       "      <th>dropoff_datetime</th>\n",
       "      <th>pickup_datetime</th>\n",
       "      <th>pickup_latitude</th>\n",
       "      <th>pickup_longitude</th>\n",
       "      <th>tip_amount</th>\n",
       "      <th>trip_distance</th>\n",
       "    </tr>\n",
       "  </thead>\n",
       "  <tbody>\n",
       "    <tr>\n",
       "      <th>0</th>\n",
       "      <td>40.761542</td>\n",
       "      <td>-73.976697</td>\n",
       "      <td>2013-01-28T10:23:00.000</td>\n",
       "      <td>2013-01-28T10:20:00.000</td>\n",
       "      <td>40.762452</td>\n",
       "      <td>-73.978110</td>\n",
       "      <td>0.00</td>\n",
       "      <td>0.26</td>\n",
       "    </tr>\n",
       "    <tr>\n",
       "      <th>1</th>\n",
       "      <td>40.715045</td>\n",
       "      <td>-74.016115</td>\n",
       "      <td>2013-06-17T14:37:14.000</td>\n",
       "      <td>2013-06-17T14:32:06.000</td>\n",
       "      <td>40.712108</td>\n",
       "      <td>-74.010500</td>\n",
       "      <td>0.00</td>\n",
       "      <td>0.50</td>\n",
       "    </tr>\n",
       "    <tr>\n",
       "      <th>2</th>\n",
       "      <td>40.760480</td>\n",
       "      <td>-73.971565</td>\n",
       "      <td>2013-05-01T07:57:00.000</td>\n",
       "      <td>2013-05-01T07:40:00.000</td>\n",
       "      <td>40.737210</td>\n",
       "      <td>-73.996870</td>\n",
       "      <td>2.60</td>\n",
       "      <td>2.70</td>\n",
       "    </tr>\n",
       "    <tr>\n",
       "      <th>3</th>\n",
       "      <td>40.668347</td>\n",
       "      <td>-73.980303</td>\n",
       "      <td>2013-10-30T20:02:12.000</td>\n",
       "      <td>2013-10-30T19:41:24.000</td>\n",
       "      <td>40.725030</td>\n",
       "      <td>-74.005473</td>\n",
       "      <td>5.45</td>\n",
       "      <td>5.80</td>\n",
       "    </tr>\n",
       "    <tr>\n",
       "      <th>4</th>\n",
       "      <td>40.763215</td>\n",
       "      <td>-73.974433</td>\n",
       "      <td>2013-03-04T11:52:00.000</td>\n",
       "      <td>2013-03-04T11:44:00.000</td>\n",
       "      <td>40.751745</td>\n",
       "      <td>-73.986142</td>\n",
       "      <td>0.00</td>\n",
       "      <td>1.19</td>\n",
       "    </tr>\n",
       "  </tbody>\n",
       "</table>\n",
       "</div>"
      ],
      "text/plain": [
       "   dropoff_latitude  dropoff_longitude         dropoff_datetime  \\\n",
       "0         40.761542         -73.976697  2013-01-28T10:23:00.000   \n",
       "1         40.715045         -74.016115  2013-06-17T14:37:14.000   \n",
       "2         40.760480         -73.971565  2013-05-01T07:57:00.000   \n",
       "3         40.668347         -73.980303  2013-10-30T20:02:12.000   \n",
       "4         40.763215         -73.974433  2013-03-04T11:52:00.000   \n",
       "\n",
       "           pickup_datetime  pickup_latitude  pickup_longitude  tip_amount  \\\n",
       "0  2013-01-28T10:20:00.000        40.762452        -73.978110        0.00   \n",
       "1  2013-06-17T14:32:06.000        40.712108        -74.010500        0.00   \n",
       "2  2013-05-01T07:40:00.000        40.737210        -73.996870        2.60   \n",
       "3  2013-10-30T19:41:24.000        40.725030        -74.005473        5.45   \n",
       "4  2013-03-04T11:44:00.000        40.751745        -73.986142        0.00   \n",
       "\n",
       "   trip_distance  \n",
       "0           0.26  \n",
       "1           0.50  \n",
       "2           2.70  \n",
       "3           5.80  \n",
       "4           1.19  "
      ]
     },
     "execution_count": 31,
     "metadata": {},
     "output_type": "execute_result"
    }
   ],
   "source": [
    "y_data_013.head()"
   ]
  },
  {
   "cell_type": "code",
   "execution_count": 32,
   "metadata": {
    "collapsed": false
   },
   "outputs": [
    {
     "data": {
      "text/html": [
       "<div>\n",
       "<table border=\"1\" class=\"dataframe\">\n",
       "  <thead>\n",
       "    <tr style=\"text-align: right;\">\n",
       "      <th></th>\n",
       "      <th>dropoff_latitude</th>\n",
       "      <th>dropoff_longitude</th>\n",
       "      <th>dropoff_datetime</th>\n",
       "      <th>pickup_datetime</th>\n",
       "      <th>pickup_latitude</th>\n",
       "      <th>pickup_longitude</th>\n",
       "      <th>tip_amount</th>\n",
       "      <th>trip_distance</th>\n",
       "    </tr>\n",
       "  </thead>\n",
       "  <tbody>\n",
       "    <tr>\n",
       "      <th>0</th>\n",
       "      <td>40.770192</td>\n",
       "      <td>-73.918685</td>\n",
       "      <td>2014-09-20T01:59:00.000</td>\n",
       "      <td>2014-09-20T01:33:00.000</td>\n",
       "      <td>40.735232</td>\n",
       "      <td>-73.991880</td>\n",
       "      <td>0.0</td>\n",
       "      <td>6.27</td>\n",
       "    </tr>\n",
       "    <tr>\n",
       "      <th>1</th>\n",
       "      <td>40.767192</td>\n",
       "      <td>-73.971332</td>\n",
       "      <td>2014-05-19T10:43:00.000</td>\n",
       "      <td>2014-05-19T10:35:00.000</td>\n",
       "      <td>40.772880</td>\n",
       "      <td>-73.981728</td>\n",
       "      <td>0.0</td>\n",
       "      <td>0.82</td>\n",
       "    </tr>\n",
       "    <tr>\n",
       "      <th>2</th>\n",
       "      <td>40.760112</td>\n",
       "      <td>-73.972257</td>\n",
       "      <td>2014-05-07T07:05:17.000</td>\n",
       "      <td>2014-05-07T06:55:34.000</td>\n",
       "      <td>40.777891</td>\n",
       "      <td>-73.952068</td>\n",
       "      <td>2.0</td>\n",
       "      <td>1.90</td>\n",
       "    </tr>\n",
       "    <tr>\n",
       "      <th>3</th>\n",
       "      <td>40.773650</td>\n",
       "      <td>-73.963809</td>\n",
       "      <td>2014-03-25T19:54:10.000</td>\n",
       "      <td>2014-03-25T19:50:35.000</td>\n",
       "      <td>40.772541</td>\n",
       "      <td>-73.958471</td>\n",
       "      <td>0.0</td>\n",
       "      <td>0.30</td>\n",
       "    </tr>\n",
       "    <tr>\n",
       "      <th>4</th>\n",
       "      <td>40.749665</td>\n",
       "      <td>-73.991557</td>\n",
       "      <td>2014-07-07T16:12:00.000</td>\n",
       "      <td>2014-07-07T16:00:00.000</td>\n",
       "      <td>40.761137</td>\n",
       "      <td>-73.977500</td>\n",
       "      <td>0.0</td>\n",
       "      <td>1.34</td>\n",
       "    </tr>\n",
       "  </tbody>\n",
       "</table>\n",
       "</div>"
      ],
      "text/plain": [
       "   dropoff_latitude  dropoff_longitude         dropoff_datetime  \\\n",
       "0         40.770192         -73.918685  2014-09-20T01:59:00.000   \n",
       "1         40.767192         -73.971332  2014-05-19T10:43:00.000   \n",
       "2         40.760112         -73.972257  2014-05-07T07:05:17.000   \n",
       "3         40.773650         -73.963809  2014-03-25T19:54:10.000   \n",
       "4         40.749665         -73.991557  2014-07-07T16:12:00.000   \n",
       "\n",
       "           pickup_datetime  pickup_latitude  pickup_longitude  tip_amount  \\\n",
       "0  2014-09-20T01:33:00.000        40.735232        -73.991880         0.0   \n",
       "1  2014-05-19T10:35:00.000        40.772880        -73.981728         0.0   \n",
       "2  2014-05-07T06:55:34.000        40.777891        -73.952068         2.0   \n",
       "3  2014-03-25T19:50:35.000        40.772541        -73.958471         0.0   \n",
       "4  2014-07-07T16:00:00.000        40.761137        -73.977500         0.0   \n",
       "\n",
       "   trip_distance  \n",
       "0           6.27  \n",
       "1           0.82  \n",
       "2           1.90  \n",
       "3           0.30  \n",
       "4           1.34  "
      ]
     },
     "execution_count": 32,
     "metadata": {},
     "output_type": "execute_result"
    }
   ],
   "source": [
    "y_data_014.head()"
   ]
  },
  {
   "cell_type": "code",
   "execution_count": 33,
   "metadata": {
    "collapsed": false
   },
   "outputs": [
    {
     "data": {
      "text/html": [
       "<div>\n",
       "<table border=\"1\" class=\"dataframe\">\n",
       "  <thead>\n",
       "    <tr style=\"text-align: right;\">\n",
       "      <th></th>\n",
       "      <th>dropoff_latitude</th>\n",
       "      <th>dropoff_longitude</th>\n",
       "      <th>dropoff_datetime</th>\n",
       "      <th>pickup_datetime</th>\n",
       "      <th>pickup_latitude</th>\n",
       "      <th>pickup_longitude</th>\n",
       "      <th>tip_amount</th>\n",
       "      <th>trip_distance</th>\n",
       "    </tr>\n",
       "  </thead>\n",
       "  <tbody>\n",
       "    <tr>\n",
       "      <th>0</th>\n",
       "      <td>40.770192</td>\n",
       "      <td>-73.918685</td>\n",
       "      <td>2014-09-20T01:59:00.000</td>\n",
       "      <td>2014-09-20T01:33:00.000</td>\n",
       "      <td>40.735232</td>\n",
       "      <td>-73.991880</td>\n",
       "      <td>0.0</td>\n",
       "      <td>6.27</td>\n",
       "    </tr>\n",
       "    <tr>\n",
       "      <th>1</th>\n",
       "      <td>40.767192</td>\n",
       "      <td>-73.971332</td>\n",
       "      <td>2014-05-19T10:43:00.000</td>\n",
       "      <td>2014-05-19T10:35:00.000</td>\n",
       "      <td>40.772880</td>\n",
       "      <td>-73.981728</td>\n",
       "      <td>0.0</td>\n",
       "      <td>0.82</td>\n",
       "    </tr>\n",
       "    <tr>\n",
       "      <th>2</th>\n",
       "      <td>40.760112</td>\n",
       "      <td>-73.972257</td>\n",
       "      <td>2014-05-07T07:05:17.000</td>\n",
       "      <td>2014-05-07T06:55:34.000</td>\n",
       "      <td>40.777891</td>\n",
       "      <td>-73.952068</td>\n",
       "      <td>2.0</td>\n",
       "      <td>1.90</td>\n",
       "    </tr>\n",
       "    <tr>\n",
       "      <th>3</th>\n",
       "      <td>40.773650</td>\n",
       "      <td>-73.963809</td>\n",
       "      <td>2014-03-25T19:54:10.000</td>\n",
       "      <td>2014-03-25T19:50:35.000</td>\n",
       "      <td>40.772541</td>\n",
       "      <td>-73.958471</td>\n",
       "      <td>0.0</td>\n",
       "      <td>0.30</td>\n",
       "    </tr>\n",
       "    <tr>\n",
       "      <th>4</th>\n",
       "      <td>40.749665</td>\n",
       "      <td>-73.991557</td>\n",
       "      <td>2014-07-07T16:12:00.000</td>\n",
       "      <td>2014-07-07T16:00:00.000</td>\n",
       "      <td>40.761137</td>\n",
       "      <td>-73.977500</td>\n",
       "      <td>0.0</td>\n",
       "      <td>1.34</td>\n",
       "    </tr>\n",
       "  </tbody>\n",
       "</table>\n",
       "</div>"
      ],
      "text/plain": [
       "   dropoff_latitude  dropoff_longitude         dropoff_datetime  \\\n",
       "0         40.770192         -73.918685  2014-09-20T01:59:00.000   \n",
       "1         40.767192         -73.971332  2014-05-19T10:43:00.000   \n",
       "2         40.760112         -73.972257  2014-05-07T07:05:17.000   \n",
       "3         40.773650         -73.963809  2014-03-25T19:54:10.000   \n",
       "4         40.749665         -73.991557  2014-07-07T16:12:00.000   \n",
       "\n",
       "           pickup_datetime  pickup_latitude  pickup_longitude  tip_amount  \\\n",
       "0  2014-09-20T01:33:00.000        40.735232        -73.991880         0.0   \n",
       "1  2014-05-19T10:35:00.000        40.772880        -73.981728         0.0   \n",
       "2  2014-05-07T06:55:34.000        40.777891        -73.952068         2.0   \n",
       "3  2014-03-25T19:50:35.000        40.772541        -73.958471         0.0   \n",
       "4  2014-07-07T16:00:00.000        40.761137        -73.977500         0.0   \n",
       "\n",
       "   trip_distance  \n",
       "0           6.27  \n",
       "1           0.82  \n",
       "2           1.90  \n",
       "3           0.30  \n",
       "4           1.34  "
      ]
     },
     "execution_count": 33,
     "metadata": {},
     "output_type": "execute_result"
    }
   ],
   "source": [
    "#append the yellow taxi data-set with the green taxi data-set for 2014\n",
    "y_data_014.append(green_014)\n",
    "y_data_014.head()"
   ]
  },
  {
   "cell_type": "markdown",
   "metadata": {},
   "source": [
    "Coordinates of Brooklyn boundaries are...\n",
    "\n",
    "    E 40.664061, -73.855712\n",
    "    W 40.622149, -74.041539\n",
    "    S 40.570554, -73.995067\n",
    "    N 40.790880, -73.909987\n",
    "\n",
    "So, it is Brooklyn if\n",
    "\n",
    "    -74.041539 <= longitude <= -73.855712 \n",
    "and\n",
    "\n",
    "    40.570554 <= latitude <= 40.790880"
   ]
  },
  {
   "cell_type": "code",
   "execution_count": 34,
   "metadata": {
    "collapsed": false
   },
   "outputs": [
    {
     "data": {
      "text/plain": [
       "(1000, 8)"
      ]
     },
     "execution_count": 34,
     "metadata": {},
     "output_type": "execute_result"
    }
   ],
   "source": [
    "y_data_010.shape"
   ]
  },
  {
   "cell_type": "code",
   "execution_count": 35,
   "metadata": {
    "collapsed": false
   },
   "outputs": [
    {
     "data": {
      "text/plain": [
       "(715, 8)"
      ]
     },
     "execution_count": 35,
     "metadata": {},
     "output_type": "execute_result"
    }
   ],
   "source": [
    "# y_data_010\n",
    "# filter the rows either drop off location or pick up location is Brooklyn\n",
    "dropoff_is_brooklyn = (y_data_010.dropoff_longitude <= -73.855712) & (y_data_010.dropoff_longitude >= -74.041539) & (y_data_010.dropoff_latitude <= 40.790880) & (y_data_010.dropoff_latitude >= 40.570554)\n",
    "pickup_is_brooklyn = (y_data_010.pickup_longitude <= -73.855712) & (y_data_010.pickup_longitude >= -74.041539) & (y_data_010.pickup_latitude <= 40.790880) & (y_data_010.pickup_latitude >= 40.570554)\n",
    "in_brooklyn = dropoff_is_brooklyn | pickup_is_brooklyn\n",
    "\n",
    "y_data_010 = y_data_010[in_brooklyn]\n",
    "y_data_010.shape"
   ]
  },
  {
   "cell_type": "code",
   "execution_count": 36,
   "metadata": {
    "collapsed": false
   },
   "outputs": [
    {
     "data": {
      "text/plain": [
       "(1000, 8)"
      ]
     },
     "execution_count": 36,
     "metadata": {},
     "output_type": "execute_result"
    }
   ],
   "source": [
    "y_data_011.shape"
   ]
  },
  {
   "cell_type": "code",
   "execution_count": 37,
   "metadata": {
    "collapsed": false
   },
   "outputs": [
    {
     "data": {
      "text/plain": [
       "(946, 8)"
      ]
     },
     "execution_count": 37,
     "metadata": {},
     "output_type": "execute_result"
    }
   ],
   "source": [
    "# y_data_011\n",
    "# filter the rows either drop off location or pick up location is Brooklyn\n",
    "dropoff_is_brooklyn = (y_data_011.dropoff_longitude <= -73.855712) & (y_data_011.dropoff_longitude >= -74.041539) & (y_data_011.dropoff_latitude <= 40.790880) & (y_data_011.dropoff_latitude >= 40.570554)\n",
    "pickup_is_brooklyn = (y_data_011.pickup_longitude <= -73.855712) & (y_data_011.pickup_longitude >= -74.041539) & (y_data_011.pickup_latitude <= 40.790880) & (y_data_011.pickup_latitude >= 40.570554)\n",
    "in_brooklyn = dropoff_is_brooklyn | pickup_is_brooklyn\n",
    "\n",
    "y_data_011 = y_data_011[in_brooklyn]\n",
    "y_data_011.shape"
   ]
  },
  {
   "cell_type": "code",
   "execution_count": 38,
   "metadata": {
    "collapsed": false
   },
   "outputs": [
    {
     "data": {
      "text/plain": [
       "(1000, 8)"
      ]
     },
     "execution_count": 38,
     "metadata": {},
     "output_type": "execute_result"
    }
   ],
   "source": [
    "y_data_012.shape"
   ]
  },
  {
   "cell_type": "code",
   "execution_count": 39,
   "metadata": {
    "collapsed": false
   },
   "outputs": [
    {
     "data": {
      "text/plain": [
       "(955, 8)"
      ]
     },
     "execution_count": 39,
     "metadata": {},
     "output_type": "execute_result"
    }
   ],
   "source": [
    "# y_data_012\n",
    "# filter the rows either drop off location or pick up location is Brooklyn\n",
    "dropoff_is_brooklyn = (y_data_012.dropoff_longitude <= -73.855712) & (y_data_012.dropoff_longitude >= -74.041539) & (y_data_012.dropoff_latitude <= 40.790880) & (y_data_012.dropoff_latitude >= 40.570554)\n",
    "pickup_is_brooklyn = (y_data_012.pickup_longitude <= -73.855712) & (y_data_012.pickup_longitude >= -74.041539) & (y_data_012.pickup_latitude <= 40.790880) & (y_data_012.pickup_latitude >= 40.570554)\n",
    "in_brooklyn = dropoff_is_brooklyn | pickup_is_brooklyn\n",
    "\n",
    "y_data_012 = y_data_012[in_brooklyn]\n",
    "y_data_012.shape"
   ]
  },
  {
   "cell_type": "code",
   "execution_count": 40,
   "metadata": {
    "collapsed": false
   },
   "outputs": [
    {
     "data": {
      "text/plain": [
       "(1000, 8)"
      ]
     },
     "execution_count": 40,
     "metadata": {},
     "output_type": "execute_result"
    }
   ],
   "source": [
    "y_data_013.shape"
   ]
  },
  {
   "cell_type": "code",
   "execution_count": 41,
   "metadata": {
    "collapsed": false
   },
   "outputs": [
    {
     "data": {
      "text/plain": [
       "(956, 8)"
      ]
     },
     "execution_count": 41,
     "metadata": {},
     "output_type": "execute_result"
    }
   ],
   "source": [
    "# y_data_013\n",
    "# filter the rows either drop off location or pick up location is Brooklyn\n",
    "dropoff_is_brooklyn = (y_data_013.dropoff_longitude <= -73.855712) & (y_data_013.dropoff_longitude >= -74.041539) & (y_data_013.dropoff_latitude <= 40.790880) & (y_data_013.dropoff_latitude >= 40.570554)\n",
    "pickup_is_brooklyn = (y_data_013.pickup_longitude <= -73.855712) & (y_data_013.pickup_longitude >= -74.041539) & (y_data_013.pickup_latitude <= 40.790880) & (y_data_013.pickup_latitude >= 40.570554)\n",
    "in_brooklyn = dropoff_is_brooklyn | pickup_is_brooklyn\n",
    "\n",
    "y_data_013 = y_data_013[in_brooklyn]\n",
    "y_data_013.shape"
   ]
  },
  {
   "cell_type": "code",
   "execution_count": 42,
   "metadata": {
    "collapsed": false
   },
   "outputs": [
    {
     "data": {
      "text/plain": [
       "(1000, 8)"
      ]
     },
     "execution_count": 42,
     "metadata": {},
     "output_type": "execute_result"
    }
   ],
   "source": [
    "y_data_014.shape"
   ]
  },
  {
   "cell_type": "code",
   "execution_count": 46,
   "metadata": {
    "collapsed": false
   },
   "outputs": [
    {
     "data": {
      "text/plain": [
       "(953, 8)"
      ]
     },
     "execution_count": 46,
     "metadata": {},
     "output_type": "execute_result"
    }
   ],
   "source": [
    "# y_data_014\n",
    "# filter the rows either drop off location or pick up location is Brooklyn\n",
    "dropoff_is_brooklyn = (y_data_014.dropoff_longitude <= -73.855712) & (y_data_014.dropoff_longitude >= -74.041539) & (y_data_014.dropoff_latitude <= 40.790880) & (y_data_014.dropoff_latitude >= 40.570554)\n",
    "pickup_is_brooklyn = (y_data_014.pickup_longitude <= -73.855712) & (y_data_014.pickup_longitude >= -74.041539) & (y_data_014.pickup_latitude <= 40.790880) & (y_data_014.pickup_latitude >= 40.570554)\n",
    "in_brooklyn = dropoff_is_brooklyn | pickup_is_brooklyn\n",
    "\n",
    "y_data_014 = y_data_014[in_brooklyn]\n",
    "y_data_014.shape"
   ]
  },
  {
   "cell_type": "code",
   "execution_count": null,
   "metadata": {
    "collapsed": true
   },
   "outputs": [],
   "source": []
  },
  {
   "cell_type": "code",
   "execution_count": null,
   "metadata": {
    "collapsed": false
   },
   "outputs": [],
   "source": []
  },
  {
   "cell_type": "code",
   "execution_count": null,
   "metadata": {
    "collapsed": true
   },
   "outputs": [],
   "source": []
  },
  {
   "cell_type": "code",
   "execution_count": null,
   "metadata": {
    "collapsed": false
   },
   "outputs": [],
   "source": []
  },
  {
   "cell_type": "code",
   "execution_count": null,
   "metadata": {
    "collapsed": false
   },
   "outputs": [],
   "source": []
  },
  {
   "cell_type": "code",
   "execution_count": null,
   "metadata": {
    "collapsed": true
   },
   "outputs": [],
   "source": []
  }
 ],
 "metadata": {
  "anaconda-cloud": {},
  "kernelspec": {
   "display_name": "Python [Root]",
   "language": "python",
   "name": "Python [Root]"
  },
  "language_info": {
   "codemirror_mode": {
    "name": "ipython",
    "version": 3
   },
   "file_extension": ".py",
   "mimetype": "text/x-python",
   "name": "python",
   "nbconvert_exporter": "python",
   "pygments_lexer": "ipython3",
   "version": "3.5.2"
  }
 },
 "nbformat": 4,
 "nbformat_minor": 0
}
