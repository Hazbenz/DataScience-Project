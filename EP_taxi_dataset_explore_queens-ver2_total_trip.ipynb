{
 "cells": [
  {
   "cell_type": "code",
   "execution_count": 2,
   "metadata": {
    "collapsed": true
   },
   "outputs": [],
   "source": [
    "import pandas as pd\n",
    "#import requests \n",
    "#from io import StringIO\n",
    "#from io import BytesIO\n",
    "import numpy as np\n",
    "import matplotlib.pyplot as plt\n",
    "import plotly.plotly as py\n",
    "import geopandas as gpd\n",
    "#from shapely import ops\n",
    "from shapely import geometry as geom\n",
    "import os\n",
    "import urllib\n",
    "#from sjoin import sjoin\n",
    "%matplotlib inline"
   ]
  },
  {
   "cell_type": "markdown",
   "metadata": {},
   "source": [
    "### 1. Get map data for Queens"
   ]
  },
  {
   "cell_type": "code",
   "execution_count": 3,
   "metadata": {
    "collapsed": false
   },
   "outputs": [
    {
     "data": {
      "text/plain": [
       "(262, 12)"
      ]
     },
     "execution_count": 3,
     "metadata": {},
     "output_type": "execute_result"
    }
   ],
   "source": [
    "# map data for NYC\n",
    "zipgeojson = \"https://github.com/YuHuaCheng/Map/raw/master/data/nyc-zip-code-tabulation-areas-polygons.geojson\"\n",
    "\n",
    "# save the NYC map data under \"data\" folder\n",
    "zipsfile = os.path.join(\"data\",zipgeojson.split(\"/\")[-1])\n",
    "\n",
    "# read the saved NYC map data file\n",
    "try:\n",
    "    NZ = gpd.read_file(zipsfile) # NYC map data with Zipcode\n",
    "except OSError as e:\n",
    "    urllib.request.urlretrieve(zipgeojson, zipsfile)\n",
    "    \n",
    "    #zips geojson had a var assignment that caused problems\n",
    "    fin      = open(zipsfile)\n",
    "    \n",
    "    lines    = [line for line in fin]\n",
    "    lines[0] = lines[0].replace(\"var nycdata = \", \"\")\n",
    "    \n",
    "    fin.close()\n",
    "    \n",
    "    fout = open(zipsfile, \"w\")\n",
    "    for line in lines:\n",
    "        fout.write(line)\n",
    "    fout.flush()\n",
    "    fout.close()\n",
    "    \n",
    "    NZ = gpd.read_file(zipsfile)\n",
    "    \n",
    "NZ.shape # NYC is composed of 262 subarea on the map data"
   ]
  },
  {
   "cell_type": "code",
   "execution_count": 4,
   "metadata": {
    "collapsed": false
   },
   "outputs": [],
   "source": [
    "# NYC map data with Zipcode\n",
    "#NZ.head(3)"
   ]
  },
  {
   "cell_type": "code",
   "execution_count": 5,
   "metadata": {
    "collapsed": false
   },
   "outputs": [],
   "source": [
    "# draw the map data for New York City\n",
    "#NZ.plot(figsize=(14,7))\n",
    "#plt.title(\"The Geography of New York City\")\n",
    "#plt.xlabel(\"longitude\")\n",
    "#plt.ylabel(\"latitude\")"
   ]
  },
  {
   "cell_type": "code",
   "execution_count": 6,
   "metadata": {
    "collapsed": true
   },
   "outputs": [],
   "source": [
    "# seperate Queens map data from NYC map data\n",
    "QN = NZ[NZ.borough=='Queens']\n",
    "QN = QN.reset_index()"
   ]
  },
  {
   "cell_type": "code",
   "execution_count": 7,
   "metadata": {
    "collapsed": false
   },
   "outputs": [
    {
     "data": {
      "text/html": [
       "<div>\n",
       "<table border=\"1\" class=\"dataframe\">\n",
       "  <thead>\n",
       "    <tr style=\"text-align: right;\">\n",
       "      <th></th>\n",
       "      <th>index</th>\n",
       "      <th>@id</th>\n",
       "      <th>BLDGpostalCode</th>\n",
       "      <th>CTY_FIPS</th>\n",
       "      <th>OBJECTID</th>\n",
       "      <th>PO_NAME</th>\n",
       "      <th>STATE</th>\n",
       "      <th>ST_FIPS</th>\n",
       "      <th>Shape_Area</th>\n",
       "      <th>Shape_Leng</th>\n",
       "      <th>borough</th>\n",
       "      <th>geometry</th>\n",
       "      <th>postalCode</th>\n",
       "    </tr>\n",
       "  </thead>\n",
       "  <tbody>\n",
       "    <tr>\n",
       "      <th>0</th>\n",
       "      <td>0</td>\n",
       "      <td>http://nyc.pediacities.com/Resource/PostalCode...</td>\n",
       "      <td>0</td>\n",
       "      <td>081</td>\n",
       "      <td>1</td>\n",
       "      <td>Jackson Heights</td>\n",
       "      <td>NY</td>\n",
       "      <td>36</td>\n",
       "      <td>2.016328e+07</td>\n",
       "      <td>20624.692317</td>\n",
       "      <td>Queens</td>\n",
       "      <td>POLYGON ((-73.86942457284175 40.74915687096787...</td>\n",
       "      <td>11372</td>\n",
       "    </tr>\n",
       "    <tr>\n",
       "      <th>1</th>\n",
       "      <td>1</td>\n",
       "      <td>http://nyc.pediacities.com/Resource/PostalCode...</td>\n",
       "      <td>0</td>\n",
       "      <td>081</td>\n",
       "      <td>2</td>\n",
       "      <td>Glen Oaks</td>\n",
       "      <td>NY</td>\n",
       "      <td>36</td>\n",
       "      <td>2.260653e+07</td>\n",
       "      <td>23002.816039</td>\n",
       "      <td>Queens</td>\n",
       "      <td>POLYGON ((-73.71068374074007 40.75004039450917...</td>\n",
       "      <td>11004</td>\n",
       "    </tr>\n",
       "    <tr>\n",
       "      <th>2</th>\n",
       "      <td>2</td>\n",
       "      <td>http://nyc.pediacities.com/Resource/PostalCode...</td>\n",
       "      <td>0</td>\n",
       "      <td>081</td>\n",
       "      <td>3</td>\n",
       "      <td>New Hyde Park</td>\n",
       "      <td>NY</td>\n",
       "      <td>36</td>\n",
       "      <td>6.269333e+06</td>\n",
       "      <td>15749.161511</td>\n",
       "      <td>Queens</td>\n",
       "      <td>POLYGON ((-73.70098278625547 40.73889569923034...</td>\n",
       "      <td>11040</td>\n",
       "    </tr>\n",
       "  </tbody>\n",
       "</table>\n",
       "</div>"
      ],
      "text/plain": [
       "   index                                                @id  BLDGpostalCode  \\\n",
       "0      0  http://nyc.pediacities.com/Resource/PostalCode...               0   \n",
       "1      1  http://nyc.pediacities.com/Resource/PostalCode...               0   \n",
       "2      2  http://nyc.pediacities.com/Resource/PostalCode...               0   \n",
       "\n",
       "  CTY_FIPS  OBJECTID          PO_NAME STATE ST_FIPS    Shape_Area  \\\n",
       "0      081         1  Jackson Heights    NY      36  2.016328e+07   \n",
       "1      081         2        Glen Oaks    NY      36  2.260653e+07   \n",
       "2      081         3    New Hyde Park    NY      36  6.269333e+06   \n",
       "\n",
       "     Shape_Leng borough                                           geometry  \\\n",
       "0  20624.692317  Queens  POLYGON ((-73.86942457284175 40.74915687096787...   \n",
       "1  23002.816039  Queens  POLYGON ((-73.71068374074007 40.75004039450917...   \n",
       "2  15749.161511  Queens  POLYGON ((-73.70098278625547 40.73889569923034...   \n",
       "\n",
       "  postalCode  \n",
       "0      11372  \n",
       "1      11004  \n",
       "2      11040  "
      ]
     },
     "execution_count": 7,
     "metadata": {},
     "output_type": "execute_result"
    }
   ],
   "source": [
    "QN.head(3)"
   ]
  },
  {
   "cell_type": "code",
   "execution_count": 8,
   "metadata": {
    "collapsed": false
   },
   "outputs": [
    {
     "name": "stdout",
     "output_type": "stream",
     "text": [
      "number of zip codes in Queens:  67\n"
     ]
    }
   ],
   "source": [
    "# number of different zipcodes in Queens\n",
    "print(\"number of zip codes in Queens: \", QN.postalCode.unique().shape[0]) # 67\n",
    "\n",
    "# number of shape areas in QN data\n",
    "#print(\"number of shape areas in Queens: \", QN.Shape_Area.unique().shape[0]) # 70"
   ]
  },
  {
   "cell_type": "code",
   "execution_count": 9,
   "metadata": {
    "collapsed": false
   },
   "outputs": [
    {
     "data": {
      "text/plain": [
       "<matplotlib.text.Text at 0x11715bd68>"
      ]
     },
     "execution_count": 9,
     "metadata": {},
     "output_type": "execute_result"
    },
    {
     "data": {
      "image/png": "[encoded data removed]",
      "text/plain": [
       "<matplotlib.figure.Figure at 0x1174fdbe0>"
      ]
     },
     "metadata": {},
     "output_type": "display_data"
    }
   ],
   "source": [
    "# draw Queens\n",
    "QN.plot(figsize=(14,7))\n",
    "#plt.title(\"The Geography of Queens with 70 Sub Area\") # <~~~~~~~~~~~~~~ editted it for each shape doesn't mean zip\n",
    "plt.title(\"The Geography of Queens with 67 zip codes\")\n",
    "plt.xlabel(\"longitude\")\n",
    "plt.ylabel(\"latitude\")"
   ]
  },
  {
   "cell_type": "markdown",
   "metadata": {},
   "source": [
    "### 2. Apply taxi data into Queens map data\n",
    "**1) Read preprocessed taxi dataset.**"
   ]
  },
  {
   "cell_type": "code",
   "execution_count": 10,
   "metadata": {
    "collapsed": false
   },
   "outputs": [],
   "source": [
    "# read stored csv files\n",
    "taxi_data_10 = pd.read_csv(\"taxi_data_csv_files/taxi_data_10.csv\")\n",
    "taxi_data_11 = pd.read_csv(\"taxi_data_csv_files/taxi_data_11.csv\")\n",
    "taxi_data_12 = pd.read_csv(\"taxi_data_csv_files/taxi_data_12.csv\")\n",
    "taxi_data_13 = pd.read_csv(\"taxi_data_csv_files/taxi_data_13.csv\")\n",
    "taxi_data_14 = pd.read_csv(\"taxi_data_csv_files/taxi_data_14.csv\")"
   ]
  },
  {
   "cell_type": "code",
   "execution_count": 11,
   "metadata": {
    "collapsed": false
   },
   "outputs": [
    {
     "data": {
      "text/html": [
       "<div>\n",
       "<table border=\"1\" class=\"dataframe\">\n",
       "  <thead>\n",
       "    <tr style=\"text-align: right;\">\n",
       "      <th></th>\n",
       "      <th>Unnamed: 0</th>\n",
       "      <th>dropoff_latitude</th>\n",
       "      <th>dropoff_longitude</th>\n",
       "      <th>dropoff_datetime</th>\n",
       "      <th>pickup_datetime</th>\n",
       "      <th>pickup_latitude</th>\n",
       "      <th>pickup_longitude</th>\n",
       "      <th>tip_amount</th>\n",
       "      <th>trip_distance</th>\n",
       "    </tr>\n",
       "  </thead>\n",
       "  <tbody>\n",
       "    <tr>\n",
       "      <th>0</th>\n",
       "      <td>0</td>\n",
       "      <td>40.749413</td>\n",
       "      <td>-73.985765</td>\n",
       "      <td>2010-10-05T02:19:00.000</td>\n",
       "      <td>NaN</td>\n",
       "      <td>40.759252</td>\n",
       "      <td>-73.973838</td>\n",
       "      <td>3.0</td>\n",
       "      <td>1.46</td>\n",
       "    </tr>\n",
       "  </tbody>\n",
       "</table>\n",
       "</div>"
      ],
      "text/plain": [
       "   Unnamed: 0  dropoff_latitude  dropoff_longitude         dropoff_datetime  \\\n",
       "0           0         40.749413         -73.985765  2010-10-05T02:19:00.000   \n",
       "\n",
       "   pickup_datetime  pickup_latitude  pickup_longitude  tip_amount  \\\n",
       "0              NaN        40.759252        -73.973838         3.0   \n",
       "\n",
       "   trip_distance  \n",
       "0           1.46  "
      ]
     },
     "execution_count": 11,
     "metadata": {},
     "output_type": "execute_result"
    }
   ],
   "source": [
    "taxi_data_10.head(1)"
   ]
  },
  {
   "cell_type": "markdown",
   "metadata": {},
   "source": [
    "**2) Process taxi data to make it applicable to map data.**"
   ]
  },
  {
   "cell_type": "code",
   "execution_count": 12,
   "metadata": {
    "collapsed": true
   },
   "outputs": [],
   "source": [
    "# from taxi data, take pickup & dropoff latitude and longitude pairs\n",
    "# transform the pair into points and return the points\n",
    "def cov_latlon_POINT(dataframe): \n",
    "    \n",
    "    pickup_latlon = []\n",
    "    dropoff_latlon = [] #dropoff\n",
    "    \n",
    "    for i in range (len(dataframe)):\n",
    "        \n",
    "        pickup_latlon.append(geom.Point(dataframe.pickup_longitude.iloc[i],\n",
    "                                        dataframe.pickup_latitude.iloc[i]))\n",
    "        \n",
    "        dropoff_latlon.append(geom.Point(dataframe.dropoff_longitude.iloc[i], #dropoff\n",
    "                                        dataframe.dropoff_latitude.iloc[i]))\n",
    "    # pickup   \n",
    "    PickupP_df      = gpd.GeoSeries(pickup_latlon)\n",
    "    PickupP_df      = PickupP_df[PickupP_df.values != 'POINT (0.0 0.0)'] #get rid of 0.0 0.0 lon-lat points\n",
    "    #GeoPickup_Point = gpd.GeoDataFrame(geometry=PickupP_df)\n",
    "    \n",
    "    # dropoff\n",
    "    DropoffP_df     = gpd.GeoSeries(dropoff_latlon) \n",
    "    DropoffP_df     = DropoffP_df[DropoffP_df.values != 'POINT (0.0 0.0)'] \n",
    "    \n",
    "    # concatenate the two data frames\n",
    "    TripP_df        = pd.concat([PickupP_df, DropoffP_df])\n",
    "    \n",
    "    GeoPickup_Point = gpd.GeoDataFrame(geometry=TripP_df)\n",
    "    \n",
    "    return (GeoPickup_Point)"
   ]
  },
  {
   "cell_type": "code",
   "execution_count": 13,
   "metadata": {
    "collapsed": true
   },
   "outputs": [],
   "source": [
    "# get trip points(= pickup + dropoff) for each years\n",
    "\n",
    "# 2010 trip points\n",
    "GeoTrip10 = cov_latlon_POINT(taxi_data_10)\n",
    "\n",
    "# 2011 trip points\n",
    "GeoTrip11 = cov_latlon_POINT(taxi_data_11)\n",
    "\n",
    "# 2012 trip points\n",
    "GeoTrip12 = cov_latlon_POINT(taxi_data_12)\n",
    "\n",
    "# 2013 trip points\n",
    "GeoTrip13 = cov_latlon_POINT(taxi_data_13)\n",
    "\n",
    "# 2014 trip points\n",
    "GeoTrip14 = cov_latlon_POINT(taxi_data_14)"
   ]
  },
  {
   "cell_type": "code",
   "execution_count": 14,
   "metadata": {
    "collapsed": false
   },
   "outputs": [
    {
     "name": "stdout",
     "output_type": "stream",
     "text": [
      "2010 trip points: (200000, 1)\n",
      "First two points in the trip points:\n",
      "                       geometry\n",
      "0  POINT (-73.973838 40.759252)\n",
      "1   POINT (-73.96821 40.770695)\n",
      "-----------------------------------\n",
      "2011 trip points: (200000, 1)\n",
      "First two points in the trip points:\n",
      "                               geometry\n",
      "0  POINT (-73.98677499999999 40.725802)\n",
      "1          POINT (-73.993387 40.721605)\n",
      "-----------------------------------\n",
      "2012 trip points: (200000, 1)\n",
      "First two points in the trip points:\n",
      "                               geometry\n",
      "0  POINT (-73.89217499999999 40.746992)\n",
      "1          POINT (-73.782115 40.644622)\n",
      "-----------------------------------\n",
      "2013 trip points: (200000, 1)\n",
      "First two points in the trip points:\n",
      "                      geometry\n",
      "0   POINT (-73.994935 40.7348)\n",
      "1  POINT (-73.972595 40.76223)\n",
      "-----------------------------------\n",
      "2014 trip points: (200000, 1)\n",
      "First two points in the trip points:\n",
      "                               geometry\n",
      "0  POINT (-73.97773000000001 40.752252)\n",
      "1          POINT (-73.981925 40.765817)\n",
      "-----------------------------------\n"
     ]
    }
   ],
   "source": [
    "# confirm the trip points\n",
    "year = 2010\n",
    "for trip_data in [GeoTrip10, GeoTrip11, GeoTrip12, GeoTrip13, GeoTrip14]:\n",
    "    print(year, \"trip points:\", trip_data.shape)\n",
    "    print(\"First two points in the trip points:\")\n",
    "    print(trip_data.head(2))\n",
    "    print(\"-----------------------------------\")\n",
    "    year = year + 1"
   ]
  },
  {
   "cell_type": "markdown",
   "metadata": {},
   "source": [
    "** 3) Apply the trip points into Queens map. **"
   ]
  },
  {
   "cell_type": "code",
   "execution_count": 15,
   "metadata": {
    "collapsed": true
   },
   "outputs": [],
   "source": [
    "# take point data and map data, and return a list of the point lists within the geometry of the map data\n",
    "def points_in_region(points, region): # <~~~~~~~~~~~~~~ editted it from \"City_only_Points(GeoP)\"\n",
    "    within_region = []\n",
    "    for i in range(len(region)):\n",
    "        point_in_sub_area = points[points.geometry.within(region.geometry[i])]\n",
    "        within_region.append(point_in_sub_area) \n",
    "    return(within_region)"
   ]
  },
  {
   "cell_type": "code",
   "execution_count": 16,
   "metadata": {
    "collapsed": true
   },
   "outputs": [],
   "source": [
    "# get trip points in Queens for each year #<~~~~~~~~~~this takes long time\n",
    "#trip_in_QN10 = points_in_region(GeoTrip10, QN)"
   ]
  },
  {
   "cell_type": "code",
   "execution_count": 17,
   "metadata": {
    "collapsed": true
   },
   "outputs": [],
   "source": [
    "trip_in_QN11 = points_in_region(GeoTrip11, QN)"
   ]
  },
  {
   "cell_type": "code",
   "execution_count": 18,
   "metadata": {
    "collapsed": true
   },
   "outputs": [],
   "source": [
    "trip_in_QN12 = points_in_region(GeoTrip12, QN)"
   ]
  },
  {
   "cell_type": "code",
   "execution_count": 19,
   "metadata": {
    "collapsed": true
   },
   "outputs": [],
   "source": [
    "trip_in_QN13 = points_in_region(GeoTrip13, QN)"
   ]
  },
  {
   "cell_type": "code",
   "execution_count": 20,
   "metadata": {
    "collapsed": false
   },
   "outputs": [],
   "source": [
    "trip_in_QN14 = points_in_region(GeoTrip14, QN)"
   ]
  },
  {
   "cell_type": "code",
   "execution_count": 21,
   "metadata": {
    "collapsed": false
   },
   "outputs": [
    {
     "data": {
      "text/plain": [
       "[<matplotlib.text.Text at 0x12f4c9358>,\n",
       " <matplotlib.text.Text at 0x12f4cf0b8>,\n",
       " <matplotlib.text.Text at 0x12f505668>,\n",
       " <matplotlib.text.Text at 0x12f5090b8>,\n",
       " <matplotlib.text.Text at 0x12f509ac8>]"
      ]
     },
     "execution_count": 21,
     "metadata": {},
     "output_type": "execute_result"
    },
    {
     "data": {
      "image/png": "[encoded data removed]",
      "text/plain": [
       "<matplotlib.figure.Figure at 0x12f4a5fd0>"
      ]
     },
     "metadata": {},
     "output_type": "display_data"
    }
   ],
   "source": [
    "# get sum of the trip points in each zip code area\n",
    "def get_trip_sum(geo_points):\n",
    "    sum_  = 0\n",
    "    for i in range (len(geo_points)):\n",
    "        sum_ = sum_ + len(geo_points[i])\n",
    "    return sum_\n",
    "\n",
    "# the number of taxi trips in Queens\n",
    "#sum_trip10 = get_trip_sum(trip_in_QN10)\n",
    "sum_trip11 = get_trip_sum(trip_in_QN11)\n",
    "sum_trip12 = get_trip_sum(trip_in_QN12)\n",
    "sum_trip13 = get_trip_sum(trip_in_QN13)\n",
    "sum_trip14 = get_trip_sum(trip_in_QN14)\n",
    "\n",
    "# bar graph - the number of taxi trips in Queens\n",
    "fig = plt.figure()\n",
    "ax = fig.add_subplot(111)\n",
    "\n",
    "ind = np.arange(5) # the x locations for the groups\n",
    "width = 0.35       # the width of the bars\n",
    "\n",
    "y_val = [sum_trip11, sum_trip12, sum_trip13, sum_trip14]\n",
    "p1 = ax.bar(ind, y_val, width, edgecolor='b')\n",
    "\n",
    "ax.set_frame_on(False)\n",
    "\n",
    "ax.set_title('Number of Taxi Trips in Queens')\n",
    "ax.set_xlabel('Years')\n",
    "ax.set_ylabel('Pickups and Dropoffs in Queens')\n",
    "\n",
    "ax.set_xticks(ind + width/2.)\n",
    "ax.set_xticklabels(('2011', '2012', '2013', '2014'))"
   ]
  },
  {
   "cell_type": "markdown",
   "metadata": {},
   "source": [
    "** 4) Apply the trip points into sub area - zip codes - in Queens. **"
   ]
  },
  {
   "cell_type": "code",
   "execution_count": 22,
   "metadata": {
    "collapsed": false
   },
   "outputs": [],
   "source": [
    "# get sum of the trips in the sub-region\n",
    "def get_trip_sum_local(geo_points):\n",
    "    sums  = []\n",
    "    for i in range (len(geo_points)):\n",
    "        sums.append(len(geo_points[i]))\n",
    "    return sums\n",
    "\n",
    "# the number of taxi trips in subarea of Queens\n",
    "#loc_sum_trip10 = get_trip_sum_local(trip_in_QN10)\n",
    "loc_sum_trip11 = get_trip_sum_local(trip_in_QN11)\n",
    "loc_sum_trip12 = get_trip_sum_local(trip_in_QN12)\n",
    "loc_sum_trip13 = get_trip_sum_local(trip_in_QN13)\n",
    "loc_sum_trip14 = get_trip_sum_local(trip_in_QN14)\n",
    "#len(loc_sum_trip10) # 70 for each sub area"
   ]
  },
  {
   "cell_type": "code",
   "execution_count": 23,
   "metadata": {
    "collapsed": false
   },
   "outputs": [
    {
     "data": {
      "text/html": [
       "<div>\n",
       "<table border=\"1\" class=\"dataframe\">\n",
       "  <thead>\n",
       "    <tr style=\"text-align: right;\">\n",
       "      <th></th>\n",
       "      <th>trip_10</th>\n",
       "      <th>trip_11</th>\n",
       "      <th>trip_12</th>\n",
       "      <th>trip_13</th>\n",
       "      <th>trip_14</th>\n",
       "      <th>zip_code</th>\n",
       "    </tr>\n",
       "  </thead>\n",
       "  <tbody>\n",
       "    <tr>\n",
       "      <th>0</th>\n",
       "      <td>120</td>\n",
       "      <td>167</td>\n",
       "      <td>142</td>\n",
       "      <td>391</td>\n",
       "      <td>468</td>\n",
       "      <td>11372</td>\n",
       "    </tr>\n",
       "    <tr>\n",
       "      <th>1</th>\n",
       "      <td>0</td>\n",
       "      <td>7</td>\n",
       "      <td>0</td>\n",
       "      <td>1</td>\n",
       "      <td>0</td>\n",
       "      <td>11004</td>\n",
       "    </tr>\n",
       "    <tr>\n",
       "      <th>2</th>\n",
       "      <td>2</td>\n",
       "      <td>0</td>\n",
       "      <td>0</td>\n",
       "      <td>1</td>\n",
       "      <td>0</td>\n",
       "      <td>11040</td>\n",
       "    </tr>\n",
       "    <tr>\n",
       "      <th>3</th>\n",
       "      <td>6</td>\n",
       "      <td>8</td>\n",
       "      <td>4</td>\n",
       "      <td>7</td>\n",
       "      <td>5</td>\n",
       "      <td>11426</td>\n",
       "    </tr>\n",
       "    <tr>\n",
       "      <th>4</th>\n",
       "      <td>33</td>\n",
       "      <td>20</td>\n",
       "      <td>24</td>\n",
       "      <td>33</td>\n",
       "      <td>37</td>\n",
       "      <td>11365</td>\n",
       "    </tr>\n",
       "  </tbody>\n",
       "</table>\n",
       "</div>"
      ],
      "text/plain": [
       "   trip_10  trip_11  trip_12  trip_13  trip_14 zip_code\n",
       "0      120      167      142      391      468    11372\n",
       "1        0        7        0        1        0    11004\n",
       "2        2        0        0        1        0    11040\n",
       "3        6        8        4        7        5    11426\n",
       "4       33       20       24       33       37    11365"
      ]
     },
     "execution_count": 23,
     "metadata": {},
     "output_type": "execute_result"
    }
   ],
   "source": [
    "# create a dataframe\n",
    "df_tripQN = pd.DataFrame({'zip_code':QN.postalCode,\n",
    "                          'trip_11':loc_sum_trip11,\n",
    "                          'trip_12':loc_sum_trip12,\n",
    "                          'trip_13':loc_sum_trip13,\n",
    "                          'trip_14':loc_sum_trip14})\n",
    "df_tripQN.head()"
   ]
  },
  {
   "cell_type": "code",
   "execution_count": 24,
   "metadata": {
    "collapsed": false
   },
   "outputs": [
    {
     "data": {
      "text/plain": [
       "array([[<matplotlib.axes._subplots.AxesSubplot object at 0x12f4a5358>,\n",
       "        <matplotlib.axes._subplots.AxesSubplot object at 0x12f6ad7f0>],\n",
       "       [<matplotlib.axes._subplots.AxesSubplot object at 0x12f56fef0>,\n",
       "        <matplotlib.axes._subplots.AxesSubplot object at 0x12f7370b8>],\n",
       "       [<matplotlib.axes._subplots.AxesSubplot object at 0x1337ffa90>,\n",
       "        <matplotlib.axes._subplots.AxesSubplot object at 0x133839be0>]], dtype=object)"
      ]
     },
     "execution_count": 24,
     "metadata": {},
     "output_type": "execute_result"
    },
    {
     "data": {
      "image/png": "[encoded data removed]",
      "text/plain": [
       "<matplotlib.figure.Figure at 0x12f4b7978>"
      ]
     },
     "metadata": {},
     "output_type": "display_data"
    }
   ],
   "source": [
    "#df_tripQN.index\n",
    "#df_tripQN.trip_10\n",
    "df_tripQN.hist(orientation='horizontal') # <========================================= try 1"
   ]
  },
  {
   "cell_type": "code",
   "execution_count": 25,
   "metadata": {
    "collapsed": false
   },
   "outputs": [
    {
     "data": {
      "text/plain": [
       "[<matplotlib.text.Text at 0x138a4c1d0>,\n",
       " <matplotlib.text.Text at 0x1383c6fd0>,\n",
       " <matplotlib.text.Text at 0x139187e10>,\n",
       " <matplotlib.text.Text at 0x13918e860>,\n",
       " <matplotlib.text.Text at 0x1391912b0>,\n",
       " <matplotlib.text.Text at 0x139191cc0>,\n",
       " <matplotlib.text.Text at 0x139193710>,\n",
       " <matplotlib.text.Text at 0x139198160>,\n",
       " <matplotlib.text.Text at 0x139198b70>,\n",
       " <matplotlib.text.Text at 0x13919b5c0>,\n",
       " <matplotlib.text.Text at 0x13919bfd0>,\n",
       " <matplotlib.text.Text at 0x1391a2a20>,\n",
       " <matplotlib.text.Text at 0x1391a5470>,\n",
       " <matplotlib.text.Text at 0x1391a5e80>,\n",
       " <matplotlib.text.Text at 0x1391a78d0>,\n",
       " <matplotlib.text.Text at 0x1391ad320>,\n",
       " <matplotlib.text.Text at 0x1391add30>,\n",
       " <matplotlib.text.Text at 0x1391af780>,\n",
       " <matplotlib.text.Text at 0x1391b51d0>,\n",
       " <matplotlib.text.Text at 0x1391b5be0>,\n",
       " <matplotlib.text.Text at 0x1391b9630>,\n",
       " <matplotlib.text.Text at 0x1391bc080>,\n",
       " <matplotlib.text.Text at 0x1391bca90>,\n",
       " <matplotlib.text.Text at 0x1396694e0>,\n",
       " <matplotlib.text.Text at 0x139669ef0>,\n",
       " <matplotlib.text.Text at 0x13966c940>,\n",
       " <matplotlib.text.Text at 0x139670390>,\n",
       " <matplotlib.text.Text at 0x139670da0>,\n",
       " <matplotlib.text.Text at 0x1396757f0>,\n",
       " <matplotlib.text.Text at 0x139678240>,\n",
       " <matplotlib.text.Text at 0x139678c50>,\n",
       " <matplotlib.text.Text at 0x13967c6a0>,\n",
       " <matplotlib.text.Text at 0x1396810f0>,\n",
       " <matplotlib.text.Text at 0x139681b00>,\n",
       " <matplotlib.text.Text at 0x139685550>,\n",
       " <matplotlib.text.Text at 0x139685f60>,\n",
       " <matplotlib.text.Text at 0x13968a9b0>,\n",
       " <matplotlib.text.Text at 0x13968d400>,\n",
       " <matplotlib.text.Text at 0x13968de10>,\n",
       " <matplotlib.text.Text at 0x139690860>,\n",
       " <matplotlib.text.Text at 0x1396952b0>,\n",
       " <matplotlib.text.Text at 0x139695cc0>,\n",
       " <matplotlib.text.Text at 0x139699710>,\n",
       " <matplotlib.text.Text at 0x13969c160>,\n",
       " <matplotlib.text.Text at 0x13969cb70>,\n",
       " <matplotlib.text.Text at 0x1396a15c0>,\n",
       " <matplotlib.text.Text at 0x1396a1fd0>,\n",
       " <matplotlib.text.Text at 0x1396a4a20>,\n",
       " <matplotlib.text.Text at 0x1396a9470>,\n",
       " <matplotlib.text.Text at 0x1396a9e80>,\n",
       " <matplotlib.text.Text at 0x1396ad8d0>,\n",
       " <matplotlib.text.Text at 0x1396b1320>,\n",
       " <matplotlib.text.Text at 0x1396b1d30>,\n",
       " <matplotlib.text.Text at 0x1396b6780>,\n",
       " <matplotlib.text.Text at 0x1396b91d0>,\n",
       " <matplotlib.text.Text at 0x1396b9be0>,\n",
       " <matplotlib.text.Text at 0x1396bc630>,\n",
       " <matplotlib.text.Text at 0x1396c2080>,\n",
       " <matplotlib.text.Text at 0x1396c2a90>,\n",
       " <matplotlib.text.Text at 0x1396c64e0>,\n",
       " <matplotlib.text.Text at 0x1396c6ef0>,\n",
       " <matplotlib.text.Text at 0x1396cb940>,\n",
       " <matplotlib.text.Text at 0x1396ce390>,\n",
       " <matplotlib.text.Text at 0x1396ceda0>,\n",
       " <matplotlib.text.Text at 0x1396d27f0>,\n",
       " <matplotlib.text.Text at 0x1396d7240>,\n",
       " <matplotlib.text.Text at 0x1396d7c50>,\n",
       " <matplotlib.text.Text at 0x1396da6a0>,\n",
       " <matplotlib.text.Text at 0x1396df0f0>,\n",
       " <matplotlib.text.Text at 0x1396dfb00>]"
      ]
     },
     "execution_count": 25,
     "metadata": {},
     "output_type": "execute_result"
    },
    {
     "data": {
      "image/png": "[encoded data removed]",
      "text/plain": [
       "<matplotlib.figure.Figure at 0x13389b9b0>"
      ]
     },
     "metadata": {},
     "output_type": "display_data"
    }
   ],
   "source": [
    "# draw a bar graph                   # <========================================= try 2\n",
    "fig = plt.figure()\n",
    "ax = fig.add_subplot(111)\n",
    "\n",
    "ind = np.arange(70)  # the x locations for the groups\n",
    "#width = 0.3             # the width of the bars\n",
    "\n",
    "#x_val = df_tripQN.index\n",
    "y_val = df_tripQN.trip_10\n",
    "p1 = ax.barh(y_val, ind, align='center', edgecolor='b')\n",
    "\n",
    "ax.set_frame_on(False)\n",
    "\n",
    "ax.set_title('Number of Taxi Trips in Subarea of Queens')\n",
    "ax.set_xlabel('Zip Codes')\n",
    "ax.set_ylabel('Pickups and Dropoffs in Queens')\n",
    "\n",
    "ax.set_xticks(ind)\n",
    "ax.set_xticklabels(df_tripQN.zip_code)\n",
    "\n",
    "#plt.xticks(rotate=90)\n",
    "#plt.xticks(rotation='vertical')"
   ]
  },
  {
   "cell_type": "markdown",
   "metadata": {},
   "source": [
    "** 5) Gentrification suspected area with statistical method. **"
   ]
  },
  {
   "cell_type": "code",
   "execution_count": 39,
   "metadata": {
    "collapsed": false
   },
   "outputs": [
    {
     "name": "stdout",
     "output_type": "stream",
     "text": [
      "Int64Index([31, 45, 60, 39], dtype='int64')\n"
     ]
    }
   ],
   "source": [
    "# suspect the area where taxi trip increased drastically \n",
    "# between 2010 and 2014 as a gentrification area\n",
    "\n",
    "# gentrification suspected area in Queens\n",
    "gen_susp_area_series = df_tripQN.iloc[:,0:4].transpose().describe().loc['std', :].sort_values(ascending=False)\n",
    "#print(gen_susp_area_series.head(4))\n",
    "\n",
    "gen_susp_area = gen_susp_area_series.head(4).keys()\n",
    "print(gen_susp_area)"
   ]
  },
  {
   "cell_type": "code",
   "execution_count": 40,
   "metadata": {
    "collapsed": false
   },
   "outputs": [
    {
     "ename": "ValueError",
     "evalue": "incompatible sizes: argument 'height' must be length 5 or scalar",
     "output_type": "error",
     "traceback": [
      "\u001b[0;31m---------------------------------------------------------------------------\u001b[0m",
      "\u001b[0;31mValueError\u001b[0m                                Traceback (most recent call last)",
      "\u001b[0;32m<ipython-input-40-2f81d87b7ef0>\u001b[0m in \u001b[0;36m<module>\u001b[0;34m()\u001b[0m\n\u001b[1;32m     14\u001b[0m \u001b[0;31m#for area in gen_susp_area:\u001b[0m\u001b[0;34m\u001b[0m\u001b[0;34m\u001b[0m\u001b[0m\n\u001b[1;32m     15\u001b[0m \u001b[0max1\u001b[0m \u001b[0;34m=\u001b[0m \u001b[0mfig\u001b[0m\u001b[0;34m.\u001b[0m\u001b[0madd_subplot\u001b[0m\u001b[0;34m(\u001b[0m\u001b[0;36m221\u001b[0m\u001b[0;34m)\u001b[0m\u001b[0;34m\u001b[0m\u001b[0m\n\u001b[0;32m---> 16\u001b[0;31m \u001b[0max1\u001b[0m\u001b[0;34m.\u001b[0m\u001b[0mbar\u001b[0m\u001b[0;34m(\u001b[0m\u001b[0mind\u001b[0m\u001b[0;34m,\u001b[0m \u001b[0mget_y\u001b[0m\u001b[0;34m(\u001b[0m\u001b[0mgen_susp_area\u001b[0m\u001b[0;34m[\u001b[0m\u001b[0;36m0\u001b[0m\u001b[0;34m]\u001b[0m\u001b[0;34m)\u001b[0m\u001b[0;34m,\u001b[0m \u001b[0mwidth\u001b[0m\u001b[0;34m,\u001b[0m \u001b[0medgecolor\u001b[0m\u001b[0;34m=\u001b[0m\u001b[0;34m'b'\u001b[0m\u001b[0;34m)\u001b[0m\u001b[0;34m\u001b[0m\u001b[0m\n\u001b[0m\u001b[1;32m     17\u001b[0m \u001b[0max1\u001b[0m\u001b[0;34m.\u001b[0m\u001b[0mset_title\u001b[0m\u001b[0;34m(\u001b[0m\u001b[0mQN\u001b[0m\u001b[0;34m.\u001b[0m\u001b[0mPO_NAME\u001b[0m\u001b[0;34m.\u001b[0m\u001b[0miloc\u001b[0m\u001b[0;34m[\u001b[0m\u001b[0mgen_susp_area\u001b[0m\u001b[0;34m[\u001b[0m\u001b[0;36m0\u001b[0m\u001b[0;34m]\u001b[0m\u001b[0;34m]\u001b[0m\u001b[0;34m)\u001b[0m\u001b[0;34m\u001b[0m\u001b[0m\n\u001b[1;32m     18\u001b[0m \u001b[0max1\u001b[0m\u001b[0;34m.\u001b[0m\u001b[0mset_xlabel\u001b[0m\u001b[0;34m(\u001b[0m\u001b[0;34m'Years'\u001b[0m\u001b[0;34m)\u001b[0m\u001b[0;34m\u001b[0m\u001b[0m\n",
      "\u001b[0;32m//anaconda/envs/DataScience-Project/lib/python3.5/site-packages/matplotlib/__init__.py\u001b[0m in \u001b[0;36minner\u001b[0;34m(ax, *args, **kwargs)\u001b[0m\n\u001b[1;32m   1810\u001b[0m                     warnings.warn(msg % (label_namer, func.__name__),\n\u001b[1;32m   1811\u001b[0m                                   RuntimeWarning, stacklevel=2)\n\u001b[0;32m-> 1812\u001b[0;31m             \u001b[0;32mreturn\u001b[0m \u001b[0mfunc\u001b[0m\u001b[0;34m(\u001b[0m\u001b[0max\u001b[0m\u001b[0;34m,\u001b[0m \u001b[0;34m*\u001b[0m\u001b[0margs\u001b[0m\u001b[0;34m,\u001b[0m \u001b[0;34m**\u001b[0m\u001b[0mkwargs\u001b[0m\u001b[0;34m)\u001b[0m\u001b[0;34m\u001b[0m\u001b[0m\n\u001b[0m\u001b[1;32m   1813\u001b[0m         \u001b[0mpre_doc\u001b[0m \u001b[0;34m=\u001b[0m \u001b[0minner\u001b[0m\u001b[0;34m.\u001b[0m\u001b[0m__doc__\u001b[0m\u001b[0;34m\u001b[0m\u001b[0m\n\u001b[1;32m   1814\u001b[0m         \u001b[0;32mif\u001b[0m \u001b[0mpre_doc\u001b[0m \u001b[0;32mis\u001b[0m \u001b[0;32mNone\u001b[0m\u001b[0;34m:\u001b[0m\u001b[0;34m\u001b[0m\u001b[0m\n",
      "\u001b[0;32m//anaconda/envs/DataScience-Project/lib/python3.5/site-packages/matplotlib/axes/_axes.py\u001b[0m in \u001b[0;36mbar\u001b[0;34m(self, left, height, width, bottom, **kwargs)\u001b[0m\n\u001b[1;32m   2078\u001b[0m         \u001b[0;32mif\u001b[0m \u001b[0mlen\u001b[0m\u001b[0;34m(\u001b[0m\u001b[0mheight\u001b[0m\u001b[0;34m)\u001b[0m \u001b[0;34m!=\u001b[0m \u001b[0mnbars\u001b[0m\u001b[0;34m:\u001b[0m\u001b[0;34m\u001b[0m\u001b[0m\n\u001b[1;32m   2079\u001b[0m             raise ValueError(\"incompatible sizes: argument 'height' \"\n\u001b[0;32m-> 2080\u001b[0;31m                               \"must be length %d or scalar\" % nbars)\n\u001b[0m\u001b[1;32m   2081\u001b[0m         \u001b[0;32mif\u001b[0m \u001b[0mlen\u001b[0m\u001b[0;34m(\u001b[0m\u001b[0mwidth\u001b[0m\u001b[0;34m)\u001b[0m \u001b[0;34m!=\u001b[0m \u001b[0mnbars\u001b[0m\u001b[0;34m:\u001b[0m\u001b[0;34m\u001b[0m\u001b[0m\n\u001b[1;32m   2082\u001b[0m             raise ValueError(\"incompatible sizes: argument 'width' \"\n",
      "\u001b[0;31mValueError\u001b[0m: incompatible sizes: argument 'height' must be length 5 or scalar"
     ]
    },
    {
     "data": {
      "image/png": "[encoded data removed]",
      "text/plain": [
       "<matplotlib.figure.Figure at 0x13e685470>"
      ]
     },
     "metadata": {},
     "output_type": "display_data"
    }
   ],
   "source": [
    "# bar graph - the number of taxi pickups in Queens\n",
    "ind = np.arange(5) # the x locations for the groups\n",
    "width = 0.35       # the width of the bars\n",
    "\n",
    "fig = plt.figure()\n",
    "\n",
    "def get_y(sub_area_num):\n",
    "    y_val =  [loc_sum_trip11[sub_area_num], \n",
    "             loc_sum_trip12[sub_area_num], \n",
    "             loc_sum_trip13[sub_area_num], \n",
    "             loc_sum_trip14[sub_area_num]]\n",
    "    return y_val\n",
    "\n",
    "#for area in gen_susp_area:   \n",
    "ax1 = fig.add_subplot(221)\n",
    "ax1.bar(ind, get_y(gen_susp_area[0]), width, edgecolor='b')\n",
    "ax1.set_title(QN.PO_NAME.iloc[gen_susp_area[0]])\n",
    "ax1.set_xlabel('Years')\n",
    "ax1.set_ylabel('Trips')\n",
    "ax1.set_xticks(ind + width/2.)\n",
    "ax1.set_xticklabels(('2011', '2012', '2013', '2014'))\n",
    "\n",
    "ax2 = fig.add_subplot(222)\n",
    "ax2.bar(ind, get_y(gen_susp_area[1]), width, edgecolor='b')\n",
    "ax2.set_title(QN.PO_NAME.iloc[gen_susp_area[1]])\n",
    "ax2.set_xlabel('Years')\n",
    "ax2.set_ylabel('Trips')\n",
    "ax2.set_xticks(ind + width/2.)\n",
    "ax2.set_xticklabels(('2011', '2012', '2013', '2014'))\n",
    "\n",
    "ax3 = fig.add_subplot(223)\n",
    "ax3.bar(ind, get_y(gen_susp_area[2]), width, edgecolor='b')\n",
    "ax3.set_title(QN.PO_NAME.iloc[gen_susp_area[2]])\n",
    "ax3.set_xlabel('Years')\n",
    "ax3.set_ylabel('Trips')\n",
    "ax3.set_xticks(ind + width/2.)\n",
    "ax3.set_xticklabels(('2011', '2012', '2013', '2014'))\n",
    "\n",
    "ax4 = fig.add_subplot(224)\n",
    "ax4.bar(ind, get_y(gen_susp_area[3]), width, edgecolor='b')\n",
    "ax4.set_title(QN.PO_NAME.iloc[gen_susp_area[3]])\n",
    "ax4.set_xlabel('Years')\n",
    "ax4.set_ylabel('Trips')\n",
    "ax4.set_xticks(ind + width/2.)\n",
    "ax4.set_xticklabels(('2011', '2012', '2013', '2014'))\n",
    "\n",
    "plt.tight_layout()"
   ]
  },
  {
   "cell_type": "markdown",
   "metadata": {},
   "source": [
    "As an example, taxi trips in Forest Hills and Elmhurst increased drastically between 2012 and 2013.\n",
    "We suspect gentrification happened in Forest Hills and Elmhurst between 2012 and 2013."
   ]
  },
  {
   "cell_type": "code",
   "execution_count": null,
   "metadata": {
    "collapsed": false
   },
   "outputs": [],
   "source": [
    "# 2011\n",
    "ForestHills11 = GeoTrip11[GeoTrip11.geometry.within(QN.geometry[gen_susp_area[0]])]\n",
    "ForestHills11.plot(marker='o', color='red', alpha=0.3, markersize=2, figsize=(14,7))\n",
    "plt.title(\"2011 Taxi Trips in \" + QN.PO_NAME.iloc[gen_susp_area[0]] + \" - zip code: \" + str(QN.postalCode.iloc[gen_susp_area[0]]))\n",
    "plt.xlabel(\"Longitudes\")\n",
    "plt.ylabel(\"Latitudes\")\n",
    "QN.geometry[gen_susp_area[0]]"
   ]
  },
  {
   "cell_type": "code",
   "execution_count": null,
   "metadata": {
    "collapsed": false
   },
   "outputs": [],
   "source": [
    "# 2012\n",
    "ForestHills12 = GeoTrip12[GeoTrip12.geometry.within(QN.geometry[gen_susp_area[0]])]\n",
    "ForestHills12.plot(marker='o', color='red', alpha=0.3, markersize=2, figsize=(14,7))\n",
    "plt.title(\"2012 Taxi Trips in \" + QN.PO_NAME.iloc[gen_susp_area[0]] + \" - zip code: \" + str(QN.postalCode.iloc[gen_susp_area[0]]))\n",
    "plt.xlabel(\"Longitudes\")\n",
    "plt.ylabel(\"Latitudes\")\n",
    "QN.geometry[gen_susp_area[0]]"
   ]
  },
  {
   "cell_type": "code",
   "execution_count": null,
   "metadata": {
    "collapsed": false
   },
   "outputs": [],
   "source": [
    "# 2013\n",
    "ForestHills13 = GeoTrip13[GeoTrip13.geometry.within(QN.geometry[gen_susp_area[0]])]\n",
    "ForestHills13.plot(marker='o', color='red', alpha=0.3, markersize=2, figsize=(14,7))\n",
    "plt.title(\"2013 Taxi Trips in \" + QN.PO_NAME.iloc[gen_susp_area[0]] + \" - zip code: \" + str(QN.postalCode.iloc[gen_susp_area[0]]))\n",
    "plt.xlabel(\"Longitudes\")\n",
    "plt.ylabel(\"Latitudes\")\n",
    "QN.geometry[gen_susp_area[0]]"
   ]
  },
  {
   "cell_type": "code",
   "execution_count": null,
   "metadata": {
    "collapsed": false
   },
   "outputs": [],
   "source": [
    "# 2014\n",
    "ForestHills14 = GeoTrip14[GeoTrip14.geometry.within(QN.geometry[gen_susp_area[0]])]\n",
    "ForestHills14.plot(marker='o', color='red', alpha=0.3, markersize=2, figsize=(14,7))\n",
    "plt.title(\"2014 Taxi Trips in \" + QN.PO_NAME.iloc[gen_susp_area[0]] + \" - zip code: \" + str(QN.postalCode.iloc[gen_susp_area[0]]))\n",
    "plt.xlabel(\"Longitudes\")\n",
    "plt.ylabel(\"Latitudes\")\n",
    "QN.geometry[gen_susp_area[0]]"
   ]
  },
  {
   "cell_type": "markdown",
   "metadata": {
    "collapsed": true
   },
   "source": [
    "**6) visualize trips in subarea of Queens where the most trips happened.**"
   ]
  },
  {
   "cell_type": "code",
   "execution_count": null,
   "metadata": {
    "collapsed": true
   },
   "outputs": [],
   "source": [
    "# sort the pickup points for each subarea in Queens based on zip code\n",
    "def sort_points(points):\n",
    "    points_per_zipcode = {}\n",
    "    for i in range(len(points)):\n",
    "        points_per_zipcode[i] = len(points[i])\n",
    "    return points_per_zipcode"
   ]
  },
  {
   "cell_type": "code",
   "execution_count": null,
   "metadata": {
    "collapsed": true
   },
   "outputs": [],
   "source": [
    "# sort pickup points for each year\n",
    "trip_per_zipcode11 = sort_points(trip_in_QN11)\n",
    "trip_per_zipcode12 = sort_points(trip_in_QN12)\n",
    "trip_per_zipcode13 = sort_points(trip_in_QN13)\n",
    "trip_per_zipcode14 = sort_points(trip_in_QN14)"
   ]
  },
  {
   "cell_type": "code",
   "execution_count": null,
   "metadata": {
    "collapsed": false
   },
   "outputs": [],
   "source": [
    "# make a dataframe for pickup points per zip code in Queens\n",
    "QN_per_Zip_df11 = pd.DataFrame.from_dict(trip_per_zipcode11, orient='index')\n",
    "QN_per_Zip_df11.rename(columns={0: 'trips'}, inplace = True)\n",
    "QN_per_Zip_df11['ZIP'] = QN.postalCode.values\n",
    "QN_per_Zip_df11.head()"
   ]
  },
  {
   "cell_type": "code",
   "execution_count": null,
   "metadata": {
    "collapsed": false
   },
   "outputs": [],
   "source": [
    "# sort the pickup data in decending order based on number of pickups\n",
    "max_trip = QN_per_Zip_df11.sort_values('trips', ascending = False)\n",
    "max_trip.head()"
   ]
  },
  {
   "cell_type": "code",
   "execution_count": null,
   "metadata": {
    "collapsed": true
   },
   "outputs": [],
   "source": [
    "# make a dataframe for pickup points per zip code in Queens\n",
    "QN_per_Zip_df12 = pd.DataFrame.from_dict(trip_per_zipcode12, orient='index')\n",
    "QN_per_Zip_df12.rename(columns={0: 'trips'}, inplace = True)\n",
    "QN_per_Zip_df12['ZIP'] = QN.postalCode.values\n",
    "QN_per_Zip_df12.head()"
   ]
  },
  {
   "cell_type": "code",
   "execution_count": null,
   "metadata": {
    "collapsed": true
   },
   "outputs": [],
   "source": [
    "# sort the pickup data in decending order based on number of pickups\n",
    "max_trip = QN_per_Zip_df12.sort_values('trips', ascending = False)\n",
    "max_trip.head()"
   ]
  },
  {
   "cell_type": "code",
   "execution_count": null,
   "metadata": {
    "collapsed": true
   },
   "outputs": [],
   "source": [
    "# make a dataframe for pickup points per zip code in Queens\n",
    "QN_per_Zip_df13 = pd.DataFrame.from_dict(trip_per_zipcode13, orient='index')\n",
    "QN_per_Zip_df13.rename(columns={0: 'trips'}, inplace = True)\n",
    "QN_per_Zip_df13['ZIP'] = QN.postalCode.values\n",
    "QN_per_Zip_df13.head()"
   ]
  },
  {
   "cell_type": "code",
   "execution_count": null,
   "metadata": {
    "collapsed": true
   },
   "outputs": [],
   "source": [
    "# sort the pickup data in decending order based on number of pickups\n",
    "max_trip = QN_per_Zip_df13.sort_values('trips', ascending = False)\n",
    "max_trip.head()"
   ]
  },
  {
   "cell_type": "code",
   "execution_count": null,
   "metadata": {
    "collapsed": true
   },
   "outputs": [],
   "source": [
    "# make a dataframe for pickup points per zip code in Queens\n",
    "QN_per_Zip_df14 = pd.DataFrame.from_dict(trip_per_zipcode14, orient='index')\n",
    "QN_per_Zip_df14.rename(columns={0: 'trips'}, inplace = True)\n",
    "QN_per_Zip_df14['ZIP'] = QN.postalCode.values\n",
    "QN_per_Zip_df14.head()"
   ]
  },
  {
   "cell_type": "code",
   "execution_count": null,
   "metadata": {
    "collapsed": false
   },
   "outputs": [],
   "source": [
    "# sort the pickup data in decending order based on number of pickups\n",
    "max_trip = QN_per_Zip_df14.sort_values('trips', ascending = False)\n",
    "max_trip.head()"
   ]
  },
  {
   "cell_type": "code",
   "execution_count": null,
   "metadata": {
    "collapsed": false
   },
   "outputs": [],
   "source": [
    "# find the area with max trips\n",
    "max_val = max_trip.reset_index()\n",
    "print (\"The max trips made per Zip-Code is: \", max_val.loc[0]['trips'])\n",
    "print (\"The ZipCode that it Corresponds to is: \", max_val.loc[0].ZIP)\n",
    "print(\"The area is\", QN.PO_NAME.iloc[31])"
   ]
  },
  {
   "cell_type": "code",
   "execution_count": null,
   "metadata": {
    "collapsed": false
   },
   "outputs": [],
   "source": [
    "# visualize flushing pickups \n",
    "Plot_11371 = GeoTrip14[GeoTrip14.geometry.within(QN.geometry[31])]\n",
    "QN.geometry[31]\n",
    "Plot_11371.plot(marker='o', color='red', alpha=0.3, markersize=2, figsize=(14,7))\n",
    "plt.title(\"2014 Taxi Trips in \" + QN.PO_NAME.iloc[31] + \" - zip code: \" + str(max_trip.ZIP[0]))\n",
    "plt.xlabel(\"Longitudes\")\n",
    "plt.ylabel(\"Latitudes\")\n",
    "QN.geometry[31]"
   ]
  },
  {
   "cell_type": "markdown",
   "metadata": {},
   "source": []
  },
  {
   "cell_type": "code",
   "execution_count": null,
   "metadata": {
    "collapsed": true
   },
   "outputs": [],
   "source": []
  }
 ],
 "metadata": {
  "anaconda-cloud": {},
  "kernelspec": {
   "display_name": "Python [conda env:DataScience-Project]",
   "language": "python",
   "name": "conda-env-DataScience-Project-py"
  },
  "language_info": {
   "codemirror_mode": {
    "name": "ipython",
    "version": 3
   },
   "file_extension": ".py",
   "mimetype": "text/x-python",
   "name": "python",
   "nbconvert_exporter": "python",
   "pygments_lexer": "ipython3",
   "version": "3.5.2"
  }
 },
 "nbformat": 4,
 "nbformat_minor": 0
}
