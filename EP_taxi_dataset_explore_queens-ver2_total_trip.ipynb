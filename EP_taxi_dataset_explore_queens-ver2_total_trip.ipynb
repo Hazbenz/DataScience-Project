{
 "cells": [
  {
   "cell_type": "code",
   "execution_count": 2,
   "metadata": {
    "collapsed": true
   },
   "outputs": [],
   "source": [
    "import pandas as pd\n",
    "#import requests \n",
    "#from io import StringIO\n",
    "#from io import BytesIO\n",
    "import numpy as np\n",
    "import matplotlib.pyplot as plt\n",
    "import plotly.plotly as py\n",
    "import geopandas as gpd\n",
    "#from shapely import ops\n",
    "from shapely import geometry as geom\n",
    "import os\n",
    "import urllib\n",
    "#from sjoin import sjoin\n",
    "%matplotlib inline"
   ]
  },
  {
   "cell_type": "markdown",
   "metadata": {},
   "source": [
    "### 1. Get map data for Queens"
   ]
  },
  {
   "cell_type": "code",
   "execution_count": 3,
   "metadata": {
    "collapsed": false
   },
   "outputs": [
    {
     "data": {
      "text/plain": [
       "(262, 12)"
      ]
     },
     "execution_count": 3,
     "metadata": {},
     "output_type": "execute_result"
    }
   ],
   "source": [
    "# map data for NYC\n",
    "zipgeojson = \"https://github.com/YuHuaCheng/Map/raw/master/data/nyc-zip-code-tabulation-areas-polygons.geojson\"\n",
    "\n",
    "# save the NYC map data under \"data\" folder\n",
    "zipsfile = os.path.join(\"data\",zipgeojson.split(\"/\")[-1])\n",
    "\n",
    "# read the saved NYC map data file\n",
    "try:\n",
    "    NZ = gpd.read_file(zipsfile) # NYC map data with Zipcode\n",
    "except OSError as e:\n",
    "    urllib.request.urlretrieve(zipgeojson, zipsfile)\n",
    "    \n",
    "    #zips geojson had a var assignment that caused problems\n",
    "    fin      = open(zipsfile)\n",
    "    \n",
    "    lines    = [line for line in fin]\n",
    "    lines[0] = lines[0].replace(\"var nycdata = \", \"\")\n",
    "    \n",
    "    fin.close()\n",
    "    \n",
    "    fout = open(zipsfile, \"w\")\n",
    "    for line in lines:\n",
    "        fout.write(line)\n",
    "    fout.flush()\n",
    "    fout.close()\n",
    "    \n",
    "    NZ = gpd.read_file(zipsfile)\n",
    "    \n",
    "NZ.shape # NYC is composed of 262 subarea on the map data"
   ]
  },
  {
   "cell_type": "code",
   "execution_count": 4,
   "metadata": {
    "collapsed": false
   },
   "outputs": [],
   "source": [
    "# NYC map data with Zipcode\n",
    "#NZ.head(3)"
   ]
  },
  {
   "cell_type": "code",
   "execution_count": 5,
   "metadata": {
    "collapsed": false
   },
   "outputs": [],
   "source": [
    "# draw the map data for New York City\n",
    "#NZ.plot(figsize=(14,7))\n",
    "#plt.title(\"The Geography of New York City\")\n",
    "#plt.xlabel(\"longitude\")\n",
    "#plt.ylabel(\"latitude\")"
   ]
  },
  {
   "cell_type": "code",
   "execution_count": 6,
   "metadata": {
    "collapsed": true
   },
   "outputs": [],
   "source": [
    "# seperate Queens map data from NYC map data\n",
    "QN = NZ[NZ.borough=='Queens']\n",
    "QN = QN.reset_index()"
   ]
  },
  {
   "cell_type": "code",
   "execution_count": 7,
   "metadata": {
    "collapsed": false
   },
   "outputs": [
    {
     "data": {
      "text/html": [
       "<div>\n",
       "<table border=\"1\" class=\"dataframe\">\n",
       "  <thead>\n",
       "    <tr style=\"text-align: right;\">\n",
       "      <th></th>\n",
       "      <th>index</th>\n",
       "      <th>@id</th>\n",
       "      <th>BLDGpostalCode</th>\n",
       "      <th>CTY_FIPS</th>\n",
       "      <th>OBJECTID</th>\n",
       "      <th>PO_NAME</th>\n",
       "      <th>STATE</th>\n",
       "      <th>ST_FIPS</th>\n",
       "      <th>Shape_Area</th>\n",
       "      <th>Shape_Leng</th>\n",
       "      <th>borough</th>\n",
       "      <th>geometry</th>\n",
       "      <th>postalCode</th>\n",
       "    </tr>\n",
       "  </thead>\n",
       "  <tbody>\n",
       "    <tr>\n",
       "      <th>0</th>\n",
       "      <td>0</td>\n",
       "      <td>http://nyc.pediacities.com/Resource/PostalCode...</td>\n",
       "      <td>0</td>\n",
       "      <td>081</td>\n",
       "      <td>1</td>\n",
       "      <td>Jackson Heights</td>\n",
       "      <td>NY</td>\n",
       "      <td>36</td>\n",
       "      <td>2.016328e+07</td>\n",
       "      <td>20624.692317</td>\n",
       "      <td>Queens</td>\n",
       "      <td>POLYGON ((-73.86942457284175 40.74915687096787...</td>\n",
       "      <td>11372</td>\n",
       "    </tr>\n",
       "    <tr>\n",
       "      <th>1</th>\n",
       "      <td>1</td>\n",
       "      <td>http://nyc.pediacities.com/Resource/PostalCode...</td>\n",
       "      <td>0</td>\n",
       "      <td>081</td>\n",
       "      <td>2</td>\n",
       "      <td>Glen Oaks</td>\n",
       "      <td>NY</td>\n",
       "      <td>36</td>\n",
       "      <td>2.260653e+07</td>\n",
       "      <td>23002.816039</td>\n",
       "      <td>Queens</td>\n",
       "      <td>POLYGON ((-73.71068374074007 40.75004039450917...</td>\n",
       "      <td>11004</td>\n",
       "    </tr>\n",
       "    <tr>\n",
       "      <th>2</th>\n",
       "      <td>2</td>\n",
       "      <td>http://nyc.pediacities.com/Resource/PostalCode...</td>\n",
       "      <td>0</td>\n",
       "      <td>081</td>\n",
       "      <td>3</td>\n",
       "      <td>New Hyde Park</td>\n",
       "      <td>NY</td>\n",
       "      <td>36</td>\n",
       "      <td>6.269333e+06</td>\n",
       "      <td>15749.161511</td>\n",
       "      <td>Queens</td>\n",
       "      <td>POLYGON ((-73.70098278625547 40.73889569923034...</td>\n",
       "      <td>11040</td>\n",
       "    </tr>\n",
       "  </tbody>\n",
       "</table>\n",
       "</div>"
      ],
      "text/plain": [
       "   index                                                @id  BLDGpostalCode  \\\n",
       "0      0  http://nyc.pediacities.com/Resource/PostalCode...               0   \n",
       "1      1  http://nyc.pediacities.com/Resource/PostalCode...               0   \n",
       "2      2  http://nyc.pediacities.com/Resource/PostalCode...               0   \n",
       "\n",
       "  CTY_FIPS  OBJECTID          PO_NAME STATE ST_FIPS    Shape_Area  \\\n",
       "0      081         1  Jackson Heights    NY      36  2.016328e+07   \n",
       "1      081         2        Glen Oaks    NY      36  2.260653e+07   \n",
       "2      081         3    New Hyde Park    NY      36  6.269333e+06   \n",
       "\n",
       "     Shape_Leng borough                                           geometry  \\\n",
       "0  20624.692317  Queens  POLYGON ((-73.86942457284175 40.74915687096787...   \n",
       "1  23002.816039  Queens  POLYGON ((-73.71068374074007 40.75004039450917...   \n",
       "2  15749.161511  Queens  POLYGON ((-73.70098278625547 40.73889569923034...   \n",
       "\n",
       "  postalCode  \n",
       "0      11372  \n",
       "1      11004  \n",
       "2      11040  "
      ]
     },
     "execution_count": 7,
     "metadata": {},
     "output_type": "execute_result"
    }
   ],
   "source": [
    "QN.head(3)"
   ]
  },
  {
   "cell_type": "code",
   "execution_count": 8,
   "metadata": {
    "collapsed": false
   },
   "outputs": [
    {
     "name": "stdout",
     "output_type": "stream",
     "text": [
      "number of zip codes in Queens:  67\n"
     ]
    }
   ],
   "source": [
    "# number of different zipcodes in Queens\n",
    "print(\"number of zip codes in Queens: \", QN.postalCode.unique().shape[0]) # 67\n",
    "\n",
    "# number of shape areas in QN data\n",
    "#print(\"number of shape areas in Queens: \", QN.Shape_Area.unique().shape[0]) # 70"
   ]
  },
  {
   "cell_type": "code",
   "execution_count": 9,
   "metadata": {
    "collapsed": false
   },
   "outputs": [
    {
     "data": {
      "text/plain": [
       "<matplotlib.text.Text at 0x11715bd68>"
      ]
     },
     "execution_count": 9,
     "metadata": {},
     "output_type": "execute_result"
    },
    {
     "data": {
      "image/png": "[encoded data removed]",
      "text/plain": [
       "<matplotlib.figure.Figure at 0x1174fdbe0>"
      ]
     },
     "metadata": {},
     "output_type": "display_data"
    }
   ],
   "source": [
    "# draw Queens\n",
    "QN.plot(figsize=(14,7))\n",
    "#plt.title(\"The Geography of Queens with 70 Sub Area\") # <~~~~~~~~~~~~~~ editted it for each shape doesn't mean zip\n",
    "plt.title(\"The Geography of Queens with 67 zip codes\")\n",
    "plt.xlabel(\"longitude\")\n",
    "plt.ylabel(\"latitude\")"
   ]
  },
  {
   "cell_type": "markdown",
   "metadata": {},
   "source": [
    "### 2. Apply taxi data into Queens map data\n",
    "**1) Read preprocessed taxi dataset.**"
   ]
  },
  {
   "cell_type": "code",
   "execution_count": 10,
   "metadata": {
    "collapsed": false
   },
   "outputs": [],
   "source": [
    "# read stored csv files\n",
    "taxi_data_10 = pd.read_csv(\"taxi_data_csv_files/taxi_data_10.csv\")\n",
    "taxi_data_11 = pd.read_csv(\"taxi_data_csv_files/taxi_data_11.csv\")\n",
    "taxi_data_12 = pd.read_csv(\"taxi_data_csv_files/taxi_data_12.csv\")\n",
    "taxi_data_13 = pd.read_csv(\"taxi_data_csv_files/taxi_data_13.csv\")\n",
    "taxi_data_14 = pd.read_csv(\"taxi_data_csv_files/taxi_data_14.csv\")"
   ]
  },
  {
   "cell_type": "code",
   "execution_count": 11,
   "metadata": {
    "collapsed": false
   },
   "outputs": [
    {
     "data": {
      "text/html": [
       "<div>\n",
       "<table border=\"1\" class=\"dataframe\">\n",
       "  <thead>\n",
       "    <tr style=\"text-align: right;\">\n",
       "      <th></th>\n",
       "      <th>Unnamed: 0</th>\n",
       "      <th>dropoff_latitude</th>\n",
       "      <th>dropoff_longitude</th>\n",
       "      <th>dropoff_datetime</th>\n",
       "      <th>pickup_datetime</th>\n",
       "      <th>pickup_latitude</th>\n",
       "      <th>pickup_longitude</th>\n",
       "      <th>tip_amount</th>\n",
       "      <th>trip_distance</th>\n",
       "    </tr>\n",
       "  </thead>\n",
       "  <tbody>\n",
       "    <tr>\n",
       "      <th>0</th>\n",
       "      <td>0</td>\n",
       "      <td>40.749413</td>\n",
       "      <td>-73.985765</td>\n",
       "      <td>2010-10-05T02:19:00.000</td>\n",
       "      <td>NaN</td>\n",
       "      <td>40.759252</td>\n",
       "      <td>-73.973838</td>\n",
       "      <td>3.0</td>\n",
       "      <td>1.46</td>\n",
       "    </tr>\n",
       "  </tbody>\n",
       "</table>\n",
       "</div>"
      ],
      "text/plain": [
       "   Unnamed: 0  dropoff_latitude  dropoff_longitude         dropoff_datetime  \\\n",
       "0           0         40.749413         -73.985765  2010-10-05T02:19:00.000   \n",
       "\n",
       "   pickup_datetime  pickup_latitude  pickup_longitude  tip_amount  \\\n",
       "0              NaN        40.759252        -73.973838         3.0   \n",
       "\n",
       "   trip_distance  \n",
       "0           1.46  "
      ]
     },
     "execution_count": 11,
     "metadata": {},
     "output_type": "execute_result"
    }
   ],
   "source": [
    "taxi_data_10.head(1)"
   ]
  },
  {
   "cell_type": "markdown",
   "metadata": {},
   "source": [
    "**2) Process taxi data to make it applicable to map data.**"
   ]
  },
  {
   "cell_type": "code",
   "execution_count": 12,
   "metadata": {
    "collapsed": true
   },
   "outputs": [],
   "source": [
    "# from taxi data, take pickup & dropoff latitude and longitude pairs\n",
    "# transform the pair into points and return the points\n",
    "def cov_latlon_POINT(dataframe): \n",
    "    \n",
    "    pickup_latlon = []\n",
    "    dropoff_latlon = [] #dropoff\n",
    "    \n",
    "    for i in range (len(dataframe)):\n",
    "        \n",
    "        pickup_latlon.append(geom.Point(dataframe.pickup_longitude.iloc[i],\n",
    "                                        dataframe.pickup_latitude.iloc[i]))\n",
    "        \n",
    "        dropoff_latlon.append(geom.Point(dataframe.dropoff_longitude.iloc[i], #dropoff\n",
    "                                        dataframe.dropoff_latitude.iloc[i]))\n",
    "    # pickup   \n",
    "    PickupP_df      = gpd.GeoSeries(pickup_latlon)\n",
    "    PickupP_df      = PickupP_df[PickupP_df.values != 'POINT (0.0 0.0)'] #get rid of 0.0 0.0 lon-lat points\n",
    "    #GeoPickup_Point = gpd.GeoDataFrame(geometry=PickupP_df)\n",
    "    \n",
    "    # dropoff\n",
    "    DropoffP_df     = gpd.GeoSeries(dropoff_latlon) \n",
    "    DropoffP_df     = DropoffP_df[DropoffP_df.values != 'POINT (0.0 0.0)'] \n",
    "    \n",
    "    # concatenate the two data frames\n",
    "    TripP_df        = pd.concat([PickupP_df, DropoffP_df])\n",
    "    \n",
    "    GeoPickup_Point = gpd.GeoDataFrame(geometry=TripP_df)\n",
    "    \n",
    "    return (GeoPickup_Point)"
   ]
  },
  {
   "cell_type": "code",
   "execution_count": 13,
   "metadata": {
    "collapsed": true
   },
   "outputs": [],
   "source": [
    "# get trip points(= pickup + dropoff) for each years\n",
    "\n",
    "# 2010 trip points\n",
    "GeoTrip10 = cov_latlon_POINT(taxi_data_10)\n",
    "\n",
    "# 2011 trip points\n",
    "GeoTrip11 = cov_latlon_POINT(taxi_data_11)\n",
    "\n",
    "# 2012 trip points\n",
    "GeoTrip12 = cov_latlon_POINT(taxi_data_12)\n",
    "\n",
    "# 2013 trip points\n",
    "GeoTrip13 = cov_latlon_POINT(taxi_data_13)\n",
    "\n",
    "# 2014 trip points\n",
    "GeoTrip14 = cov_latlon_POINT(taxi_data_14)"
   ]
  },
  {
   "cell_type": "code",
   "execution_count": 14,
   "metadata": {
    "collapsed": false
   },
   "outputs": [
    {
     "name": "stdout",
     "output_type": "stream",
     "text": [
      "2010 trip points: (200000, 1)\n",
      "First two points in the trip points:\n",
      "                       geometry\n",
      "0  POINT (-73.973838 40.759252)\n",
      "1   POINT (-73.96821 40.770695)\n",
      "-----------------------------------\n",
      "2011 trip points: (200000, 1)\n",
      "First two points in the trip points:\n",
      "                               geometry\n",
      "0  POINT (-73.98677499999999 40.725802)\n",
      "1          POINT (-73.993387 40.721605)\n",
      "-----------------------------------\n",
      "2012 trip points: (200000, 1)\n",
      "First two points in the trip points:\n",
      "                               geometry\n",
      "0  POINT (-73.89217499999999 40.746992)\n",
      "1          POINT (-73.782115 40.644622)\n",
      "-----------------------------------\n",
      "2013 trip points: (200000, 1)\n",
      "First two points in the trip points:\n",
      "                      geometry\n",
      "0   POINT (-73.994935 40.7348)\n",
      "1  POINT (-73.972595 40.76223)\n",
      "-----------------------------------\n",
      "2014 trip points: (200000, 1)\n",
      "First two points in the trip points:\n",
      "                               geometry\n",
      "0  POINT (-73.97773000000001 40.752252)\n",
      "1          POINT (-73.981925 40.765817)\n",
      "-----------------------------------\n"
     ]
    }
   ],
   "source": [
    "# confirm the trip points\n",
    "year = 2010\n",
    "for trip_data in [GeoTrip10, GeoTrip11, GeoTrip12, GeoTrip13, GeoTrip14]:\n",
    "    print(year, \"trip points:\", trip_data.shape)\n",
    "    print(\"First two points in the trip points:\")\n",
    "    print(trip_data.head(2))\n",
    "    print(\"-----------------------------------\")\n",
    "    year = year + 1"
   ]
  },
  {
   "cell_type": "markdown",
   "metadata": {},
   "source": [
    "** 3) Apply the trip points into Queens map. **"
   ]
  },
  {
   "cell_type": "code",
   "execution_count": 15,
   "metadata": {
    "collapsed": true
   },
   "outputs": [],
   "source": [
    "# take point data and map data, and return a list of the point lists within the geometry of the map data\n",
    "def points_in_region(points, region): # <~~~~~~~~~~~~~~ editted it from \"City_only_Points(GeoP)\"\n",
    "    within_region = []\n",
    "    for i in range(len(region)):\n",
    "        point_in_sub_area = points[points.geometry.within(region.geometry[i])]\n",
    "        within_region.append(point_in_sub_area) \n",
    "    return(within_region)"
   ]
  },
  {
   "cell_type": "code",
   "execution_count": 16,
   "metadata": {
    "collapsed": true
   },
   "outputs": [],
   "source": [
    "# get trip points in Queens for each year #<~~~~~~~~~~this takes long time\n",
    "#trip_in_QN10 = points_in_region(GeoTrip10, QN)"
   ]
  },
  {
   "cell_type": "code",
   "execution_count": 17,
   "metadata": {
    "collapsed": true
   },
   "outputs": [],
   "source": [
    "trip_in_QN11 = points_in_region(GeoTrip11, QN)"
   ]
  },
  {
   "cell_type": "code",
   "execution_count": 18,
   "metadata": {
    "collapsed": true
   },
   "outputs": [],
   "source": [
    "trip_in_QN12 = points_in_region(GeoTrip12, QN)"
   ]
  },
  {
   "cell_type": "code",
   "execution_count": 19,
   "metadata": {
    "collapsed": true
   },
   "outputs": [],
   "source": [
    "trip_in_QN13 = points_in_region(GeoTrip13, QN)"
   ]
  },
  {
   "cell_type": "code",
   "execution_count": 20,
   "metadata": {
    "collapsed": false
   },
   "outputs": [],
   "source": [
    "trip_in_QN14 = points_in_region(GeoTrip14, QN)"
   ]
  },
  {
   "cell_type": "code",
   "execution_count": 21,
   "metadata": {
    "collapsed": false
   },
   "outputs": [
    {
     "data": {
      "text/plain": [
       "[<matplotlib.text.Text at 0x12f4c9358>,\n",
       " <matplotlib.text.Text at 0x12f4cf0b8>,\n",
       " <matplotlib.text.Text at 0x12f505668>,\n",
       " <matplotlib.text.Text at 0x12f5090b8>,\n",
       " <matplotlib.text.Text at 0x12f509ac8>]"
      ]
     },
     "execution_count": 21,
     "metadata": {},
     "output_type": "execute_result"
    },
    {
     "data": {
      "image/png": "[encoded data removed]",
      "text/plain": [
       "<matplotlib.figure.Figure at 0x12f4a5fd0>"
      ]
     },
     "metadata": {},
     "output_type": "display_data"
    }
   ],
   "source": [
    "# get sum of the trip points in each zip code area\n",
    "def get_trip_sum(geo_points):\n",
    "    sum_  = 0\n",
    "    for i in range (len(geo_points)):\n",
    "        sum_ = sum_ + len(geo_points[i])\n",
    "    return sum_\n",
    "\n",
    "# the number of taxi trips in Queens\n",
    "#sum_trip10 = get_trip_sum(trip_in_QN10)\n",
    "sum_trip11 = get_trip_sum(trip_in_QN11)\n",
    "sum_trip12 = get_trip_sum(trip_in_QN12)\n",
    "sum_trip13 = get_trip_sum(trip_in_QN13)\n",
    "sum_trip14 = get_trip_sum(trip_in_QN14)\n",
    "\n",
    "# bar graph - the number of taxi trips in Queens\n",
    "fig = plt.figure()\n",
    "ax = fig.add_subplot(111)\n",
    "\n",
    "ind = np.arange(5) # the x locations for the groups\n",
    "width = 0.35       # the width of the bars\n",
    "\n",
    "y_val = [sum_trip11, sum_trip12, sum_trip13, sum_trip14]\n",
    "p1 = ax.bar(ind, y_val, width, edgecolor='b')\n",
    "\n",
    "ax.set_frame_on(False)\n",
    "\n",
    "ax.set_title('Number of Taxi Trips in Queens')\n",
    "ax.set_xlabel('Years')\n",
    "ax.set_ylabel('Pickups and Dropoffs in Queens')\n",
    "\n",
    "ax.set_xticks(ind + width/2.)\n",
    "ax.set_xticklabels(('2011', '2012', '2013', '2014'))"
   ]
  },
  {
   "cell_type": "markdown",
   "metadata": {},
   "source": [
    "** 4) Apply the trip points into sub area - zip codes - in Queens. **"
   ]
  },
  {
   "cell_type": "code",
   "execution_count": 22,
   "metadata": {
    "collapsed": false
   },
   "outputs": [],
   "source": [
    "# get sum of the trips in the sub-region\n",
    "def get_trip_sum_local(geo_points):\n",
    "    sums  = []\n",
    "    for i in range (len(geo_points)):\n",
    "        sums.append(len(geo_points[i]))\n",
    "    return sums\n",
    "\n",
    "# the number of taxi trips in subarea of Queens\n",
    "#loc_sum_trip10 = get_trip_sum_local(trip_in_QN10)\n",
    "loc_sum_trip11 = get_trip_sum_local(trip_in_QN11)\n",
    "loc_sum_trip12 = get_trip_sum_local(trip_in_QN12)\n",
    "loc_sum_trip13 = get_trip_sum_local(trip_in_QN13)\n",
    "loc_sum_trip14 = get_trip_sum_local(trip_in_QN14)\n",
    "#len(loc_sum_trip10) # 70 for each sub area"
   ]
  },
  {
   "cell_type": "code",
   "execution_count": 23,
   "metadata": {
    "collapsed": false
   },
   "outputs": [
    {
     "data": {
      "text/html": [
       "<div>\n",
       "<table border=\"1\" class=\"dataframe\">\n",
       "  <thead>\n",
       "    <tr style=\"text-align: right;\">\n",
       "      <th></th>\n",
       "      <th>trip_10</th>\n",
       "      <th>trip_11</th>\n",
       "      <th>trip_12</th>\n",
       "      <th>trip_13</th>\n",
       "      <th>trip_14</th>\n",
       "      <th>zip_code</th>\n",
       "    </tr>\n",
       "  </thead>\n",
       "  <tbody>\n",
       "    <tr>\n",
       "      <th>0</th>\n",
       "      <td>120</td>\n",
       "      <td>167</td>\n",
       "      <td>142</td>\n",
       "      <td>391</td>\n",
       "      <td>468</td>\n",
       "      <td>11372</td>\n",
       "    </tr>\n",
       "    <tr>\n",
       "      <th>1</th>\n",
       "      <td>0</td>\n",
       "      <td>7</td>\n",
       "      <td>0</td>\n",
       "      <td>1</td>\n",
       "      <td>0</td>\n",
       "      <td>11004</td>\n",
       "    </tr>\n",
       "    <tr>\n",
       "      <th>2</th>\n",
       "      <td>2</td>\n",
       "      <td>0</td>\n",
       "      <td>0</td>\n",
       "      <td>1</td>\n",
       "      <td>0</td>\n",
       "      <td>11040</td>\n",
       "    </tr>\n",
       "    <tr>\n",
       "      <th>3</th>\n",
       "      <td>6</td>\n",
       "      <td>8</td>\n",
       "      <td>4</td>\n",
       "      <td>7</td>\n",
       "      <td>5</td>\n",
       "      <td>11426</td>\n",
       "    </tr>\n",
       "    <tr>\n",
       "      <th>4</th>\n",
       "      <td>33</td>\n",
       "      <td>20</td>\n",
       "      <td>24</td>\n",
       "      <td>33</td>\n",
       "      <td>37</td>\n",
       "      <td>11365</td>\n",
       "    </tr>\n",
       "  </tbody>\n",
       "</table>\n",
       "</div>"
      ],
      "text/plain": [
       "   trip_10  trip_11  trip_12  trip_13  trip_14 zip_code\n",
       "0      120      167      142      391      468    11372\n",
       "1        0        7        0        1        0    11004\n",
       "2        2        0        0        1        0    11040\n",
       "3        6        8        4        7        5    11426\n",
       "4       33       20       24       33       37    11365"
      ]
     },
     "execution_count": 23,
     "metadata": {},
     "output_type": "execute_result"
    }
   ],
   "source": [
    "# create a dataframe\n",
    "df_tripQN = pd.DataFrame({'zip_code':QN.postalCode,\n",
    "                          'trip_11':loc_sum_trip11,\n",
    "                          'trip_12':loc_sum_trip12,\n",
    "                          'trip_13':loc_sum_trip13,\n",
    "                          'trip_14':loc_sum_trip14})\n",
    "df_tripQN.head()"
   ]
  },
  {
   "cell_type": "code",
   "execution_count": 24,
   "metadata": {
    "collapsed": false
   },
   "outputs": [
    {
     "data": {
      "text/plain": [
       "array([[<matplotlib.axes._subplots.AxesSubplot object at 0x12f4a5358>,\n",
       "        <matplotlib.axes._subplots.AxesSubplot object at 0x12f6ad7f0>],\n",
       "       [<matplotlib.axes._subplots.AxesSubplot object at 0x12f56fef0>,\n",
       "        <matplotlib.axes._subplots.AxesSubplot object at 0x12f7370b8>],\n",
       "       [<matplotlib.axes._subplots.AxesSubplot object at 0x1337ffa90>,\n",
       "        <matplotlib.axes._subplots.AxesSubplot object at 0x133839be0>]], dtype=object)"
      ]
     },
     "execution_count": 24,
     "metadata": {},
     "output_type": "execute_result"
    },
    {
     "data": {
      "image/png": "[encoded data removed]",
      "text/plain": [
       "<matplotlib.figure.Figure at 0x12f4b7978>"
      ]
     },
     "metadata": {},
     "output_type": "display_data"
    }
   ],
   "source": [
    "#df_tripQN.index\n",
    "#df_tripQN.trip_10\n",
    "df_tripQN.hist(orientation='horizontal') # <========================================= try 1"
   ]
  },
  {
   "cell_type": "code",
   "execution_count": 25,
   "metadata": {
    "collapsed": false
   },
   "outputs": [
    {
     "data": {
      "text/plain": [
       "[<matplotlib.text.Text at 0x138a4c1d0>,\n",
       " <matplotlib.text.Text at 0x1383c6fd0>,\n",
       " <matplotlib.text.Text at 0x139187e10>,\n",
       " <matplotlib.text.Text at 0x13918e860>,\n",
       " <matplotlib.text.Text at 0x1391912b0>,\n",
       " <matplotlib.text.Text at 0x139191cc0>,\n",
       " <matplotlib.text.Text at 0x139193710>,\n",
       " <matplotlib.text.Text at 0x139198160>,\n",
       " <matplotlib.text.Text at 0x139198b70>,\n",
       " <matplotlib.text.Text at 0x13919b5c0>,\n",
       " <matplotlib.text.Text at 0x13919bfd0>,\n",
       " <matplotlib.text.Text at 0x1391a2a20>,\n",
       " <matplotlib.text.Text at 0x1391a5470>,\n",
       " <matplotlib.text.Text at 0x1391a5e80>,\n",
       " <matplotlib.text.Text at 0x1391a78d0>,\n",
       " <matplotlib.text.Text at 0x1391ad320>,\n",
       " <matplotlib.text.Text at 0x1391add30>,\n",
       " <matplotlib.text.Text at 0x1391af780>,\n",
       " <matplotlib.text.Text at 0x1391b51d0>,\n",
       " <matplotlib.text.Text at 0x1391b5be0>,\n",
       " <matplotlib.text.Text at 0x1391b9630>,\n",
       " <matplotlib.text.Text at 0x1391bc080>,\n",
       " <matplotlib.text.Text at 0x1391bca90>,\n",
       " <matplotlib.text.Text at 0x1396694e0>,\n",
       " <matplotlib.text.Text at 0x139669ef0>,\n",
       " <matplotlib.text.Text at 0x13966c940>,\n",
       " <matplotlib.text.Text at 0x139670390>,\n",
       " <matplotlib.text.Text at 0x139670da0>,\n",
       " <matplotlib.text.Text at 0x1396757f0>,\n",
       " <matplotlib.text.Text at 0x139678240>,\n",
       " <matplotlib.text.Text at 0x139678c50>,\n",
       " <matplotlib.text.Text at 0x13967c6a0>,\n",
       " <matplotlib.text.Text at 0x1396810f0>,\n",
       " <matplotlib.text.Text at 0x139681b00>,\n",
       " <matplotlib.text.Text at 0x139685550>,\n",
       " <matplotlib.text.Text at 0x139685f60>,\n",
       " <matplotlib.text.Text at 0x13968a9b0>,\n",
       " <matplotlib.text.Text at 0x13968d400>,\n",
       " <matplotlib.text.Text at 0x13968de10>,\n",
       " <matplotlib.text.Text at 0x139690860>,\n",
       " <matplotlib.text.Text at 0x1396952b0>,\n",
       " <matplotlib.text.Text at 0x139695cc0>,\n",
       " <matplotlib.text.Text at 0x139699710>,\n",
       " <matplotlib.text.Text at 0x13969c160>,\n",
       " <matplotlib.text.Text at 0x13969cb70>,\n",
       " <matplotlib.text.Text at 0x1396a15c0>,\n",
       " <matplotlib.text.Text at 0x1396a1fd0>,\n",
       " <matplotlib.text.Text at 0x1396a4a20>,\n",
       " <matplotlib.text.Text at 0x1396a9470>,\n",
       " <matplotlib.text.Text at 0x1396a9e80>,\n",
       " <matplotlib.text.Text at 0x1396ad8d0>,\n",
       " <matplotlib.text.Text at 0x1396b1320>,\n",
       " <matplotlib.text.Text at 0x1396b1d30>,\n",
       " <matplotlib.text.Text at 0x1396b6780>,\n",
       " <matplotlib.text.Text at 0x1396b91d0>,\n",
       " <matplotlib.text.Text at 0x1396b9be0>,\n",
       " <matplotlib.text.Text at 0x1396bc630>,\n",
       " <matplotlib.text.Text at 0x1396c2080>,\n",
       " <matplotlib.text.Text at 0x1396c2a90>,\n",
       " <matplotlib.text.Text at 0x1396c64e0>,\n",
       " <matplotlib.text.Text at 0x1396c6ef0>,\n",
       " <matplotlib.text.Text at 0x1396cb940>,\n",
       " <matplotlib.text.Text at 0x1396ce390>,\n",
       " <matplotlib.text.Text at 0x1396ceda0>,\n",
       " <matplotlib.text.Text at 0x1396d27f0>,\n",
       " <matplotlib.text.Text at 0x1396d7240>,\n",
       " <matplotlib.text.Text at 0x1396d7c50>,\n",
       " <matplotlib.text.Text at 0x1396da6a0>,\n",
       " <matplotlib.text.Text at 0x1396df0f0>,\n",
       " <matplotlib.text.Text at 0x1396dfb00>]"
      ]
     },
     "execution_count": 25,
     "metadata": {},
     "output_type": "execute_result"
    },
    {
     "data": {
      "image/png": "[encoded data removed]",
      "text/plain": [
       "<matplotlib.figure.Figure at 0x13389b9b0>"
      ]
     },
     "metadata": {},
     "output_type": "display_data"
    }
   ],
   "source": [
    "# draw a bar graph                   # <========================================= try 2\n",
    "fig = plt.figure()\n",
    "ax = fig.add_subplot(111)\n",
    "\n",
    "ind = np.arange(70)  # the x locations for the groups\n",
    "#width = 0.3             # the width of the bars\n",
    "\n",
    "#x_val = df_tripQN.index\n",
    "y_val = df_tripQN.trip_10\n",
    "p1 = ax.barh(y_val, ind, align='center', edgecolor='b')\n",
    "\n",
    "ax.set_frame_on(False)\n",
    "\n",
    "ax.set_title('Number of Taxi Trips in Subarea of Queens')\n",
    "ax.set_xlabel('Zip Codes')\n",
    "ax.set_ylabel('Pickups and Dropoffs in Queens')\n",
    "\n",
    "ax.set_xticks(ind)\n",
    "ax.set_xticklabels(df_tripQN.zip_code)\n",
    "\n",
    "#plt.xticks(rotate=90)\n",
    "#plt.xticks(rotation='vertical')"
   ]
  },
  {
   "cell_type": "markdown",
   "metadata": {},
   "source": [
    "** 5) Gentrification suspected area with statistical method. **"
   ]
  },
  {
   "cell_type": "code",
   "execution_count": 42,
   "metadata": {
    "collapsed": false
   },
   "outputs": [
    {
     "name": "stdout",
     "output_type": "stream",
     "text": [
      "Int64Index([7, 43, 40, 5], dtype='int64')\n"
     ]
    }
   ],
   "source": [
    "# suspect the area where taxi trip increased drastically \n",
    "# between 2010 and 2014 as a gentrification area\n",
    "\n",
    "# gentrification suspected area in Queens\n",
    "gen_susp_area_series = df_tripQN.iloc[:,0:4].transpose().describe().loc['std', :].sort_values(ascending=False)\n",
    "#print(gen_susp_area_series.head(4))\n",
    "\n",
    "gen_susp_area = gen_susp_area_series.head(4).keys()\n",
    "print(gen_susp_area)"
   ]
  },
  {
   "cell_type": "code",
   "execution_count": 44,
   "metadata": {
    "collapsed": false
   },
   "outputs": [
    {
     "data": {
      "image/png": "[encoded data removed]",
      "text/plain": [
       "<matplotlib.figure.Figure at 0x13e891c18>"
      ]
     },
     "metadata": {},
     "output_type": "display_data"
    }
   ],
   "source": [
    "# bar graph - the number of taxi pickups in Queens\n",
    "ind = np.arange(4) # the x locations for the groups\n",
    "width = 0.35       # the width of the bars\n",
    "\n",
    "fig = plt.figure()\n",
    "\n",
    "def get_y(sub_area_num):\n",
    "    y_val =  [loc_sum_trip11[sub_area_num], \n",
    "             loc_sum_trip12[sub_area_num], \n",
    "             loc_sum_trip13[sub_area_num], \n",
    "             loc_sum_trip14[sub_area_num]]\n",
    "    return y_val\n",
    "\n",
    "#for area in gen_susp_area:   \n",
    "ax1 = fig.add_subplot(221)\n",
    "ax1.bar(ind, get_y(gen_susp_area[0]), width, edgecolor='b')\n",
    "ax1.set_title(QN.PO_NAME.iloc[gen_susp_area[0]])\n",
    "ax1.set_xlabel('Years')\n",
    "ax1.set_ylabel('Trips')\n",
    "ax1.set_xticks(ind + width/2.)\n",
    "ax1.set_xticklabels(('2011', '2012', '2013', '2014'))\n",
    "\n",
    "ax2 = fig.add_subplot(222)\n",
    "ax2.bar(ind, get_y(gen_susp_area[1]), width, edgecolor='b')\n",
    "ax2.set_title(QN.PO_NAME.iloc[gen_susp_area[1]])\n",
    "ax2.set_xlabel('Years')\n",
    "ax2.set_ylabel('Trips')\n",
    "ax2.set_xticks(ind + width/2.)\n",
    "ax2.set_xticklabels(('2011', '2012', '2013', '2014'))\n",
    "\n",
    "ax3 = fig.add_subplot(223)\n",
    "ax3.bar(ind, get_y(gen_susp_area[2]), width, edgecolor='b')\n",
    "ax3.set_title(QN.PO_NAME.iloc[gen_susp_area[2]])\n",
    "ax3.set_xlabel('Years')\n",
    "ax3.set_ylabel('Trips')\n",
    "ax3.set_xticks(ind + width/2.)\n",
    "ax3.set_xticklabels(('2011', '2012', '2013', '2014'))\n",
    "\n",
    "ax4 = fig.add_subplot(224)\n",
    "ax4.bar(ind, get_y(gen_susp_area[3]), width, edgecolor='b')\n",
    "ax4.set_title(QN.PO_NAME.iloc[gen_susp_area[3]])\n",
    "ax4.set_xlabel('Years')\n",
    "ax4.set_ylabel('Trips')\n",
    "ax4.set_xticks(ind + width/2.)\n",
    "ax4.set_xticklabels(('2011', '2012', '2013', '2014'))\n",
    "\n",
    "plt.tight_layout()"
   ]
  },
  {
   "cell_type": "markdown",
   "metadata": {},
   "source": [
    "As an example, taxi trips in Forest Hills and Elmhurst increased drastically between 2012 and 2013.\n",
    "We suspect gentrification happened in Forest Hills and Elmhurst between 2012 and 2013."
   ]
  },
  {
   "cell_type": "code",
   "execution_count": 45,
   "metadata": {
    "collapsed": false
   },
   "outputs": [
    {
     "data": {
      "image/svg+xml": [
       "<svg xmlns=\"http://www.w3.org/2000/svg\" xmlns:xlink=\"http://www.w3.org/1999/xlink\" width=\"100.0\" height=\"100.0\" viewBox=\"-73.85963819629092 40.704977330616835 0.03492003283234624 0.036217864514554776\" preserveAspectRatio=\"xMinYMin meet\"><g transform=\"matrix(1,0,0,-1,0,81.44617252574822)\"><path fill-rule=\"evenodd\" fill=\"#66cc99\" stroke=\"#555555\" stroke-width=\"0.0007243572902910955\" opacity=\"0.6\" d=\"M -73.8562474640478,40.7367227854824 L -73.85204757285209,40.737682072495076 L -73.8518276243295,40.73726308011072 L -73.85133905665742,40.737401235090374 L -73.85003821245904,40.73780618589446 L -73.84557652842895,40.73985379274196 L -73.84499322324764,40.735759248696155 L -73.84414209694592,40.73373151627504 L -73.84266375345989,40.73163143828195 L -73.84047653383794,40.72965476436148 L -73.83917827504315,40.7280441124345 L -73.83683096310948,40.72360293637922 L -73.8349526347774,40.72103987666236 L -73.83265130466872,40.71851582785142 L -73.83130160259337,40.71737570949788 L -73.82982582052485,40.71674399877134 L -73.82703051189961,40.715966173441835 L -73.826059565848,40.71539860277048 L -73.83079050446555,40.71419918262998 L -73.83110716179297,40.71436797674794 L -73.83161238302384,40.71421350097403 L -73.83611475734719,40.711825159426965 L -73.83590072158415,40.71164139044931 L -73.83679454887908,40.71078049260416 L -73.83755319770243,40.710714920557464 L -73.83977727129911,40.70988060339857 L -73.84295309927836,40.708381070038115 L -73.84484515183327,40.70807421160143 L -73.84899408100613,40.70788948767476 L -73.85020974498151,40.70753151846665 L -73.85108303705115,40.70700735736896 L -73.8528170570701,40.70737811335201 L -73.85618301210704,40.70631873300626 L -73.85667371274072,40.70745383048999 L -73.85829679390149,40.7196061063076 L -73.85665221822215,40.719868893587744 L -73.85726816108651,40.72150392480519 L -73.8539545710824,40.72675259273689 L -73.853486850262,40.72718211639958 L -73.85177766186219,40.727697171091506 L -73.85166931363642,40.72834581932929 L -73.85401087192687,40.73265476104367 L -73.85434400063964,40.73297013875461 L -73.85470034726998,40.73282936655362 L -73.8564480269758,40.73625356975941 L -73.8562474640478,40.7367227854824 z\" /></g></svg>"
      ],
      "text/plain": [
       "<shapely.geometry.polygon.Polygon at 0x11714c278>"
      ]
     },
     "execution_count": 45,
     "metadata": {},
     "output_type": "execute_result"
    },
    {
     "data": {
      "image/png": "[encoded data removed]",
      "text/plain": [
       "<matplotlib.figure.Figure at 0x13e886da0>"
      ]
     },
     "metadata": {},
     "output_type": "display_data"
    }
   ],
   "source": [
    "# 2011\n",
    "ForestHills11 = GeoTrip11[GeoTrip11.geometry.within(QN.geometry[gen_susp_area[0]])]\n",
    "ForestHills11.plot(marker='o', color='red', alpha=0.3, markersize=2, figsize=(14,7))\n",
    "plt.title(\"2011 Taxi Trips in \" + QN.PO_NAME.iloc[gen_susp_area[0]] + \" - zip code: \" + str(QN.postalCode.iloc[gen_susp_area[0]]))\n",
    "plt.xlabel(\"Longitudes\")\n",
    "plt.ylabel(\"Latitudes\")\n",
    "QN.geometry[gen_susp_area[0]]"
   ]
  },
  {
   "cell_type": "code",
   "execution_count": 46,
   "metadata": {
    "collapsed": false
   },
   "outputs": [
    {
     "data": {
      "image/svg+xml": [
       "<svg xmlns=\"http://www.w3.org/2000/svg\" xmlns:xlink=\"http://www.w3.org/1999/xlink\" width=\"100.0\" height=\"100.0\" viewBox=\"-73.85963819629092 40.704977330616835 0.03492003283234624 0.036217864514554776\" preserveAspectRatio=\"xMinYMin meet\"><g transform=\"matrix(1,0,0,-1,0,81.44617252574822)\"><path fill-rule=\"evenodd\" fill=\"#66cc99\" stroke=\"#555555\" stroke-width=\"0.0007243572902910955\" opacity=\"0.6\" d=\"M -73.8562474640478,40.7367227854824 L -73.85204757285209,40.737682072495076 L -73.8518276243295,40.73726308011072 L -73.85133905665742,40.737401235090374 L -73.85003821245904,40.73780618589446 L -73.84557652842895,40.73985379274196 L -73.84499322324764,40.735759248696155 L -73.84414209694592,40.73373151627504 L -73.84266375345989,40.73163143828195 L -73.84047653383794,40.72965476436148 L -73.83917827504315,40.7280441124345 L -73.83683096310948,40.72360293637922 L -73.8349526347774,40.72103987666236 L -73.83265130466872,40.71851582785142 L -73.83130160259337,40.71737570949788 L -73.82982582052485,40.71674399877134 L -73.82703051189961,40.715966173441835 L -73.826059565848,40.71539860277048 L -73.83079050446555,40.71419918262998 L -73.83110716179297,40.71436797674794 L -73.83161238302384,40.71421350097403 L -73.83611475734719,40.711825159426965 L -73.83590072158415,40.71164139044931 L -73.83679454887908,40.71078049260416 L -73.83755319770243,40.710714920557464 L -73.83977727129911,40.70988060339857 L -73.84295309927836,40.708381070038115 L -73.84484515183327,40.70807421160143 L -73.84899408100613,40.70788948767476 L -73.85020974498151,40.70753151846665 L -73.85108303705115,40.70700735736896 L -73.8528170570701,40.70737811335201 L -73.85618301210704,40.70631873300626 L -73.85667371274072,40.70745383048999 L -73.85829679390149,40.7196061063076 L -73.85665221822215,40.719868893587744 L -73.85726816108651,40.72150392480519 L -73.8539545710824,40.72675259273689 L -73.853486850262,40.72718211639958 L -73.85177766186219,40.727697171091506 L -73.85166931363642,40.72834581932929 L -73.85401087192687,40.73265476104367 L -73.85434400063964,40.73297013875461 L -73.85470034726998,40.73282936655362 L -73.8564480269758,40.73625356975941 L -73.8562474640478,40.7367227854824 z\" /></g></svg>"
      ],
      "text/plain": [
       "<shapely.geometry.polygon.Polygon at 0x11714c278>"
      ]
     },
     "execution_count": 46,
     "metadata": {},
     "output_type": "execute_result"
    },
    {
     "data": {
      "image/png": "[encoded data removed]",
      "text/plain": [
       "<matplotlib.figure.Figure at 0x13ceb1ba8>"
      ]
     },
     "metadata": {},
     "output_type": "display_data"
    }
   ],
   "source": [
    "# 2012\n",
    "ForestHills12 = GeoTrip12[GeoTrip12.geometry.within(QN.geometry[gen_susp_area[0]])]\n",
    "ForestHills12.plot(marker='o', color='red', alpha=0.3, markersize=2, figsize=(14,7))\n",
    "plt.title(\"2012 Taxi Trips in \" + QN.PO_NAME.iloc[gen_susp_area[0]] + \" - zip code: \" + str(QN.postalCode.iloc[gen_susp_area[0]]))\n",
    "plt.xlabel(\"Longitudes\")\n",
    "plt.ylabel(\"Latitudes\")\n",
    "QN.geometry[gen_susp_area[0]]"
   ]
  },
  {
   "cell_type": "code",
   "execution_count": 47,
   "metadata": {
    "collapsed": false
   },
   "outputs": [
    {
     "data": {
      "image/svg+xml": [
       "<svg xmlns=\"http://www.w3.org/2000/svg\" xmlns:xlink=\"http://www.w3.org/1999/xlink\" width=\"100.0\" height=\"100.0\" viewBox=\"-73.85963819629092 40.704977330616835 0.03492003283234624 0.036217864514554776\" preserveAspectRatio=\"xMinYMin meet\"><g transform=\"matrix(1,0,0,-1,0,81.44617252574822)\"><path fill-rule=\"evenodd\" fill=\"#66cc99\" stroke=\"#555555\" stroke-width=\"0.0007243572902910955\" opacity=\"0.6\" d=\"M -73.8562474640478,40.7367227854824 L -73.85204757285209,40.737682072495076 L -73.8518276243295,40.73726308011072 L -73.85133905665742,40.737401235090374 L -73.85003821245904,40.73780618589446 L -73.84557652842895,40.73985379274196 L -73.84499322324764,40.735759248696155 L -73.84414209694592,40.73373151627504 L -73.84266375345989,40.73163143828195 L -73.84047653383794,40.72965476436148 L -73.83917827504315,40.7280441124345 L -73.83683096310948,40.72360293637922 L -73.8349526347774,40.72103987666236 L -73.83265130466872,40.71851582785142 L -73.83130160259337,40.71737570949788 L -73.82982582052485,40.71674399877134 L -73.82703051189961,40.715966173441835 L -73.826059565848,40.71539860277048 L -73.83079050446555,40.71419918262998 L -73.83110716179297,40.71436797674794 L -73.83161238302384,40.71421350097403 L -73.83611475734719,40.711825159426965 L -73.83590072158415,40.71164139044931 L -73.83679454887908,40.71078049260416 L -73.83755319770243,40.710714920557464 L -73.83977727129911,40.70988060339857 L -73.84295309927836,40.708381070038115 L -73.84484515183327,40.70807421160143 L -73.84899408100613,40.70788948767476 L -73.85020974498151,40.70753151846665 L -73.85108303705115,40.70700735736896 L -73.8528170570701,40.70737811335201 L -73.85618301210704,40.70631873300626 L -73.85667371274072,40.70745383048999 L -73.85829679390149,40.7196061063076 L -73.85665221822215,40.719868893587744 L -73.85726816108651,40.72150392480519 L -73.8539545710824,40.72675259273689 L -73.853486850262,40.72718211639958 L -73.85177766186219,40.727697171091506 L -73.85166931363642,40.72834581932929 L -73.85401087192687,40.73265476104367 L -73.85434400063964,40.73297013875461 L -73.85470034726998,40.73282936655362 L -73.8564480269758,40.73625356975941 L -73.8562474640478,40.7367227854824 z\" /></g></svg>"
      ],
      "text/plain": [
       "<shapely.geometry.polygon.Polygon at 0x11714c278>"
      ]
     },
     "execution_count": 47,
     "metadata": {},
     "output_type": "execute_result"
    },
    {
     "data": {
      "image/png": "[encoded data removed]",
      "text/plain": [
       "<matplotlib.figure.Figure at 0x13d8fd128>"
      ]
     },
     "metadata": {},
     "output_type": "display_data"
    }
   ],
   "source": [
    "# 2013\n",
    "ForestHills13 = GeoTrip13[GeoTrip13.geometry.within(QN.geometry[gen_susp_area[0]])]\n",
    "ForestHills13.plot(marker='o', color='red', alpha=0.3, markersize=2, figsize=(14,7))\n",
    "plt.title(\"2013 Taxi Trips in \" + QN.PO_NAME.iloc[gen_susp_area[0]] + \" - zip code: \" + str(QN.postalCode.iloc[gen_susp_area[0]]))\n",
    "plt.xlabel(\"Longitudes\")\n",
    "plt.ylabel(\"Latitudes\")\n",
    "QN.geometry[gen_susp_area[0]]"
   ]
  },
  {
   "cell_type": "code",
   "execution_count": 48,
   "metadata": {
    "collapsed": false
   },
   "outputs": [
    {
     "data": {
      "image/svg+xml": [
       "<svg xmlns=\"http://www.w3.org/2000/svg\" xmlns:xlink=\"http://www.w3.org/1999/xlink\" width=\"100.0\" height=\"100.0\" viewBox=\"-73.85963819629092 40.704977330616835 0.03492003283234624 0.036217864514554776\" preserveAspectRatio=\"xMinYMin meet\"><g transform=\"matrix(1,0,0,-1,0,81.44617252574822)\"><path fill-rule=\"evenodd\" fill=\"#66cc99\" stroke=\"#555555\" stroke-width=\"0.0007243572902910955\" opacity=\"0.6\" d=\"M -73.8562474640478,40.7367227854824 L -73.85204757285209,40.737682072495076 L -73.8518276243295,40.73726308011072 L -73.85133905665742,40.737401235090374 L -73.85003821245904,40.73780618589446 L -73.84557652842895,40.73985379274196 L -73.84499322324764,40.735759248696155 L -73.84414209694592,40.73373151627504 L -73.84266375345989,40.73163143828195 L -73.84047653383794,40.72965476436148 L -73.83917827504315,40.7280441124345 L -73.83683096310948,40.72360293637922 L -73.8349526347774,40.72103987666236 L -73.83265130466872,40.71851582785142 L -73.83130160259337,40.71737570949788 L -73.82982582052485,40.71674399877134 L -73.82703051189961,40.715966173441835 L -73.826059565848,40.71539860277048 L -73.83079050446555,40.71419918262998 L -73.83110716179297,40.71436797674794 L -73.83161238302384,40.71421350097403 L -73.83611475734719,40.711825159426965 L -73.83590072158415,40.71164139044931 L -73.83679454887908,40.71078049260416 L -73.83755319770243,40.710714920557464 L -73.83977727129911,40.70988060339857 L -73.84295309927836,40.708381070038115 L -73.84484515183327,40.70807421160143 L -73.84899408100613,40.70788948767476 L -73.85020974498151,40.70753151846665 L -73.85108303705115,40.70700735736896 L -73.8528170570701,40.70737811335201 L -73.85618301210704,40.70631873300626 L -73.85667371274072,40.70745383048999 L -73.85829679390149,40.7196061063076 L -73.85665221822215,40.719868893587744 L -73.85726816108651,40.72150392480519 L -73.8539545710824,40.72675259273689 L -73.853486850262,40.72718211639958 L -73.85177766186219,40.727697171091506 L -73.85166931363642,40.72834581932929 L -73.85401087192687,40.73265476104367 L -73.85434400063964,40.73297013875461 L -73.85470034726998,40.73282936655362 L -73.8564480269758,40.73625356975941 L -73.8562474640478,40.7367227854824 z\" /></g></svg>"
      ],
      "text/plain": [
       "<shapely.geometry.polygon.Polygon at 0x11714c278>"
      ]
     },
     "execution_count": 48,
     "metadata": {},
     "output_type": "execute_result"
    },
    {
     "data": {
      "image/png": "[encoded data removed]",
      "text/plain": [
       "<matplotlib.figure.Figure at 0x13e81a6d8>"
      ]
     },
     "metadata": {},
     "output_type": "display_data"
    }
   ],
   "source": [
    "# 2014\n",
    "ForestHills14 = GeoTrip14[GeoTrip14.geometry.within(QN.geometry[gen_susp_area[0]])]\n",
    "ForestHills14.plot(marker='o', color='red', alpha=0.3, markersize=2, figsize=(14,7))\n",
    "plt.title(\"2014 Taxi Trips in \" + QN.PO_NAME.iloc[gen_susp_area[0]] + \" - zip code: \" + str(QN.postalCode.iloc[gen_susp_area[0]]))\n",
    "plt.xlabel(\"Longitudes\")\n",
    "plt.ylabel(\"Latitudes\")\n",
    "QN.geometry[gen_susp_area[0]]"
   ]
  },
  {
   "cell_type": "markdown",
   "metadata": {
    "collapsed": true
   },
   "source": [
    "**6) visualize trips in subarea of Queens where the most trips happened.**"
   ]
  },
  {
   "cell_type": "code",
   "execution_count": 49,
   "metadata": {
    "collapsed": true
   },
   "outputs": [],
   "source": [
    "# sort the pickup points for each subarea in Queens based on zip code\n",
    "def sort_points(points):\n",
    "    points_per_zipcode = {}\n",
    "    for i in range(len(points)):\n",
    "        points_per_zipcode[i] = len(points[i])\n",
    "    return points_per_zipcode"
   ]
  },
  {
   "cell_type": "code",
   "execution_count": 50,
   "metadata": {
    "collapsed": true
   },
   "outputs": [],
   "source": [
    "# sort pickup points for each year\n",
    "trip_per_zipcode11 = sort_points(trip_in_QN11)\n",
    "trip_per_zipcode12 = sort_points(trip_in_QN12)\n",
    "trip_per_zipcode13 = sort_points(trip_in_QN13)\n",
    "trip_per_zipcode14 = sort_points(trip_in_QN14)"
   ]
  },
  {
   "cell_type": "code",
   "execution_count": 67,
   "metadata": {
    "collapsed": false
   },
   "outputs": [
    {
     "data": {
      "text/html": [
       "<div>\n",
       "<table border=\"1\" class=\"dataframe\">\n",
       "  <thead>\n",
       "    <tr style=\"text-align: right;\">\n",
       "      <th></th>\n",
       "      <th>trips</th>\n",
       "      <th>ZIP</th>\n",
       "      <th>year</th>\n",
       "    </tr>\n",
       "  </thead>\n",
       "  <tbody>\n",
       "    <tr>\n",
       "      <th>0</th>\n",
       "      <td>167</td>\n",
       "      <td>11372</td>\n",
       "      <td>2011</td>\n",
       "    </tr>\n",
       "    <tr>\n",
       "      <th>1</th>\n",
       "      <td>7</td>\n",
       "      <td>11004</td>\n",
       "      <td>2011</td>\n",
       "    </tr>\n",
       "    <tr>\n",
       "      <th>2</th>\n",
       "      <td>0</td>\n",
       "      <td>11040</td>\n",
       "      <td>2011</td>\n",
       "    </tr>\n",
       "    <tr>\n",
       "      <th>3</th>\n",
       "      <td>8</td>\n",
       "      <td>11426</td>\n",
       "      <td>2011</td>\n",
       "    </tr>\n",
       "    <tr>\n",
       "      <th>4</th>\n",
       "      <td>20</td>\n",
       "      <td>11365</td>\n",
       "      <td>2011</td>\n",
       "    </tr>\n",
       "  </tbody>\n",
       "</table>\n",
       "</div>"
      ],
      "text/plain": [
       "   trips    ZIP  year\n",
       "0    167  11372  2011\n",
       "1      7  11004  2011\n",
       "2      0  11040  2011\n",
       "3      8  11426  2011\n",
       "4     20  11365  2011"
      ]
     },
     "execution_count": 67,
     "metadata": {},
     "output_type": "execute_result"
    }
   ],
   "source": [
    "# make a dataframe for pickup points per zip code in Queens\n",
    "QN_per_Zip_df11 = pd.DataFrame.from_dict(trip_per_zipcode11, orient='index')\n",
    "QN_per_Zip_df11.rename(columns={0: 'trips'}, inplace = True)\n",
    "QN_per_Zip_df11['ZIP'] = QN.postalCode.values\n",
    "QN_per_Zip_df11['year'] = 2011\n",
    "QN_per_Zip_df11.head()"
   ]
  },
  {
   "cell_type": "code",
   "execution_count": 68,
   "metadata": {
    "collapsed": false
   },
   "outputs": [
    {
     "data": {
      "text/html": [
       "<div>\n",
       "<table border=\"1\" class=\"dataframe\">\n",
       "  <thead>\n",
       "    <tr style=\"text-align: right;\">\n",
       "      <th></th>\n",
       "      <th>trips</th>\n",
       "      <th>ZIP</th>\n",
       "      <th>year</th>\n",
       "    </tr>\n",
       "  </thead>\n",
       "  <tbody>\n",
       "    <tr>\n",
       "      <th>31</th>\n",
       "      <td>3298</td>\n",
       "      <td>11371</td>\n",
       "      <td>2011</td>\n",
       "    </tr>\n",
       "    <tr>\n",
       "      <th>60</th>\n",
       "      <td>2426</td>\n",
       "      <td>11430</td>\n",
       "      <td>2011</td>\n",
       "    </tr>\n",
       "    <tr>\n",
       "      <th>45</th>\n",
       "      <td>1077</td>\n",
       "      <td>11101</td>\n",
       "      <td>2011</td>\n",
       "    </tr>\n",
       "    <tr>\n",
       "      <th>41</th>\n",
       "      <td>450</td>\n",
       "      <td>11106</td>\n",
       "      <td>2011</td>\n",
       "    </tr>\n",
       "    <tr>\n",
       "      <th>43</th>\n",
       "      <td>417</td>\n",
       "      <td>11377</td>\n",
       "      <td>2011</td>\n",
       "    </tr>\n",
       "  </tbody>\n",
       "</table>\n",
       "</div>"
      ],
      "text/plain": [
       "    trips    ZIP  year\n",
       "31   3298  11371  2011\n",
       "60   2426  11430  2011\n",
       "45   1077  11101  2011\n",
       "41    450  11106  2011\n",
       "43    417  11377  2011"
      ]
     },
     "execution_count": 68,
     "metadata": {},
     "output_type": "execute_result"
    }
   ],
   "source": [
    "# sort the pickup data in decending order based on number of pickups\n",
    "max_trip = QN_per_Zip_df11.sort_values('trips', ascending = False)\n",
    "max_trip.head()\n",
    "QN_per_Zip_df11.to_csv('data/QN_Trips11.csv')"
   ]
  },
  {
   "cell_type": "code",
   "execution_count": 69,
   "metadata": {
    "collapsed": false
   },
   "outputs": [
    {
     "data": {
      "text/html": [
       "<div>\n",
       "<table border=\"1\" class=\"dataframe\">\n",
       "  <thead>\n",
       "    <tr style=\"text-align: right;\">\n",
       "      <th></th>\n",
       "      <th>trips</th>\n",
       "      <th>ZIP</th>\n",
       "      <th>year</th>\n",
       "    </tr>\n",
       "  </thead>\n",
       "  <tbody>\n",
       "    <tr>\n",
       "      <th>0</th>\n",
       "      <td>142</td>\n",
       "      <td>11372</td>\n",
       "      <td>2012</td>\n",
       "    </tr>\n",
       "    <tr>\n",
       "      <th>1</th>\n",
       "      <td>0</td>\n",
       "      <td>11004</td>\n",
       "      <td>2012</td>\n",
       "    </tr>\n",
       "    <tr>\n",
       "      <th>2</th>\n",
       "      <td>0</td>\n",
       "      <td>11040</td>\n",
       "      <td>2012</td>\n",
       "    </tr>\n",
       "    <tr>\n",
       "      <th>3</th>\n",
       "      <td>4</td>\n",
       "      <td>11426</td>\n",
       "      <td>2012</td>\n",
       "    </tr>\n",
       "    <tr>\n",
       "      <th>4</th>\n",
       "      <td>24</td>\n",
       "      <td>11365</td>\n",
       "      <td>2012</td>\n",
       "    </tr>\n",
       "  </tbody>\n",
       "</table>\n",
       "</div>"
      ],
      "text/plain": [
       "   trips    ZIP  year\n",
       "0    142  11372  2012\n",
       "1      0  11004  2012\n",
       "2      0  11040  2012\n",
       "3      4  11426  2012\n",
       "4     24  11365  2012"
      ]
     },
     "execution_count": 69,
     "metadata": {},
     "output_type": "execute_result"
    }
   ],
   "source": [
    "# make a dataframe for pickup points per zip code in Queens\n",
    "QN_per_Zip_df12 = pd.DataFrame.from_dict(trip_per_zipcode12, orient='index')\n",
    "QN_per_Zip_df12.rename(columns={0: 'trips'}, inplace = True)\n",
    "QN_per_Zip_df12['ZIP'] = QN.postalCode.values\n",
    "QN_per_Zip_df12['year'] = 2012\n",
    "QN_per_Zip_df12.head()"
   ]
  },
  {
   "cell_type": "code",
   "execution_count": 70,
   "metadata": {
    "collapsed": false
   },
   "outputs": [
    {
     "data": {
      "text/html": [
       "<div>\n",
       "<table border=\"1\" class=\"dataframe\">\n",
       "  <thead>\n",
       "    <tr style=\"text-align: right;\">\n",
       "      <th></th>\n",
       "      <th>trips</th>\n",
       "      <th>ZIP</th>\n",
       "      <th>year</th>\n",
       "    </tr>\n",
       "  </thead>\n",
       "  <tbody>\n",
       "    <tr>\n",
       "      <th>31</th>\n",
       "      <td>3126</td>\n",
       "      <td>11371</td>\n",
       "      <td>2012</td>\n",
       "    </tr>\n",
       "    <tr>\n",
       "      <th>60</th>\n",
       "      <td>2422</td>\n",
       "      <td>11430</td>\n",
       "      <td>2012</td>\n",
       "    </tr>\n",
       "    <tr>\n",
       "      <th>45</th>\n",
       "      <td>873</td>\n",
       "      <td>11101</td>\n",
       "      <td>2012</td>\n",
       "    </tr>\n",
       "    <tr>\n",
       "      <th>43</th>\n",
       "      <td>405</td>\n",
       "      <td>11377</td>\n",
       "      <td>2012</td>\n",
       "    </tr>\n",
       "    <tr>\n",
       "      <th>41</th>\n",
       "      <td>396</td>\n",
       "      <td>11106</td>\n",
       "      <td>2012</td>\n",
       "    </tr>\n",
       "  </tbody>\n",
       "</table>\n",
       "</div>"
      ],
      "text/plain": [
       "    trips    ZIP  year\n",
       "31   3126  11371  2012\n",
       "60   2422  11430  2012\n",
       "45    873  11101  2012\n",
       "43    405  11377  2012\n",
       "41    396  11106  2012"
      ]
     },
     "execution_count": 70,
     "metadata": {},
     "output_type": "execute_result"
    }
   ],
   "source": [
    "# sort the pickup data in decending order based on number of pickups\n",
    "max_trip = QN_per_Zip_df12.sort_values('trips', ascending = False)\n",
    "max_trip.head()\n",
    "QN_per_Zip_df12.to_csv('data/QN_Trips12.csv')"
   ]
  },
  {
   "cell_type": "code",
   "execution_count": 71,
   "metadata": {
    "collapsed": false
   },
   "outputs": [
    {
     "data": {
      "text/html": [
       "<div>\n",
       "<table border=\"1\" class=\"dataframe\">\n",
       "  <thead>\n",
       "    <tr style=\"text-align: right;\">\n",
       "      <th></th>\n",
       "      <th>trips</th>\n",
       "      <th>ZIP</th>\n",
       "      <th>year</th>\n",
       "    </tr>\n",
       "  </thead>\n",
       "  <tbody>\n",
       "    <tr>\n",
       "      <th>0</th>\n",
       "      <td>391</td>\n",
       "      <td>11372</td>\n",
       "      <td>2013</td>\n",
       "    </tr>\n",
       "    <tr>\n",
       "      <th>1</th>\n",
       "      <td>1</td>\n",
       "      <td>11004</td>\n",
       "      <td>2013</td>\n",
       "    </tr>\n",
       "    <tr>\n",
       "      <th>2</th>\n",
       "      <td>1</td>\n",
       "      <td>11040</td>\n",
       "      <td>2013</td>\n",
       "    </tr>\n",
       "    <tr>\n",
       "      <th>3</th>\n",
       "      <td>7</td>\n",
       "      <td>11426</td>\n",
       "      <td>2013</td>\n",
       "    </tr>\n",
       "    <tr>\n",
       "      <th>4</th>\n",
       "      <td>33</td>\n",
       "      <td>11365</td>\n",
       "      <td>2013</td>\n",
       "    </tr>\n",
       "  </tbody>\n",
       "</table>\n",
       "</div>"
      ],
      "text/plain": [
       "   trips    ZIP  year\n",
       "0    391  11372  2013\n",
       "1      1  11004  2013\n",
       "2      1  11040  2013\n",
       "3      7  11426  2013\n",
       "4     33  11365  2013"
      ]
     },
     "execution_count": 71,
     "metadata": {},
     "output_type": "execute_result"
    }
   ],
   "source": [
    "# make a dataframe for pickup points per zip code in Queens\n",
    "QN_per_Zip_df13 = pd.DataFrame.from_dict(trip_per_zipcode13, orient='index')\n",
    "QN_per_Zip_df13.rename(columns={0: 'trips'}, inplace = True)\n",
    "QN_per_Zip_df13['ZIP'] = QN.postalCode.values\n",
    "QN_per_Zip_df13['year'] = 2013\n",
    "QN_per_Zip_df13.head()"
   ]
  },
  {
   "cell_type": "code",
   "execution_count": 72,
   "metadata": {
    "collapsed": false
   },
   "outputs": [
    {
     "data": {
      "text/html": [
       "<div>\n",
       "<table border=\"1\" class=\"dataframe\">\n",
       "  <thead>\n",
       "    <tr style=\"text-align: right;\">\n",
       "      <th></th>\n",
       "      <th>trips</th>\n",
       "      <th>ZIP</th>\n",
       "      <th>year</th>\n",
       "    </tr>\n",
       "  </thead>\n",
       "  <tbody>\n",
       "    <tr>\n",
       "      <th>31</th>\n",
       "      <td>3208</td>\n",
       "      <td>11371</td>\n",
       "      <td>2013</td>\n",
       "    </tr>\n",
       "    <tr>\n",
       "      <th>60</th>\n",
       "      <td>2531</td>\n",
       "      <td>11430</td>\n",
       "      <td>2013</td>\n",
       "    </tr>\n",
       "    <tr>\n",
       "      <th>45</th>\n",
       "      <td>1070</td>\n",
       "      <td>11101</td>\n",
       "      <td>2013</td>\n",
       "    </tr>\n",
       "    <tr>\n",
       "      <th>43</th>\n",
       "      <td>769</td>\n",
       "      <td>11377</td>\n",
       "      <td>2013</td>\n",
       "    </tr>\n",
       "    <tr>\n",
       "      <th>40</th>\n",
       "      <td>647</td>\n",
       "      <td>11103</td>\n",
       "      <td>2013</td>\n",
       "    </tr>\n",
       "  </tbody>\n",
       "</table>\n",
       "</div>"
      ],
      "text/plain": [
       "    trips    ZIP  year\n",
       "31   3208  11371  2013\n",
       "60   2531  11430  2013\n",
       "45   1070  11101  2013\n",
       "43    769  11377  2013\n",
       "40    647  11103  2013"
      ]
     },
     "execution_count": 72,
     "metadata": {},
     "output_type": "execute_result"
    }
   ],
   "source": [
    "# sort the pickup data in decending order based on number of pickups\n",
    "max_trip = QN_per_Zip_df13.sort_values('trips', ascending = False)\n",
    "max_trip.head()\n",
    "QN_per_Zip_df13.to_csv('data/QN_Trips13.csv')"
   ]
  },
  {
   "cell_type": "code",
   "execution_count": 73,
   "metadata": {
    "collapsed": false
   },
   "outputs": [
    {
     "data": {
      "text/html": [
       "<div>\n",
       "<table border=\"1\" class=\"dataframe\">\n",
       "  <thead>\n",
       "    <tr style=\"text-align: right;\">\n",
       "      <th></th>\n",
       "      <th>trips</th>\n",
       "      <th>ZIP</th>\n",
       "      <th>year</th>\n",
       "    </tr>\n",
       "  </thead>\n",
       "  <tbody>\n",
       "    <tr>\n",
       "      <th>0</th>\n",
       "      <td>468</td>\n",
       "      <td>11372</td>\n",
       "      <td>2014</td>\n",
       "    </tr>\n",
       "    <tr>\n",
       "      <th>1</th>\n",
       "      <td>0</td>\n",
       "      <td>11004</td>\n",
       "      <td>2014</td>\n",
       "    </tr>\n",
       "    <tr>\n",
       "      <th>2</th>\n",
       "      <td>0</td>\n",
       "      <td>11040</td>\n",
       "      <td>2014</td>\n",
       "    </tr>\n",
       "    <tr>\n",
       "      <th>3</th>\n",
       "      <td>5</td>\n",
       "      <td>11426</td>\n",
       "      <td>2014</td>\n",
       "    </tr>\n",
       "    <tr>\n",
       "      <th>4</th>\n",
       "      <td>37</td>\n",
       "      <td>11365</td>\n",
       "      <td>2014</td>\n",
       "    </tr>\n",
       "  </tbody>\n",
       "</table>\n",
       "</div>"
      ],
      "text/plain": [
       "   trips    ZIP  year\n",
       "0    468  11372  2014\n",
       "1      0  11004  2014\n",
       "2      0  11040  2014\n",
       "3      5  11426  2014\n",
       "4     37  11365  2014"
      ]
     },
     "execution_count": 73,
     "metadata": {},
     "output_type": "execute_result"
    }
   ],
   "source": [
    "# make a dataframe for pickup points per zip code in Queens\n",
    "QN_per_Zip_df14 = pd.DataFrame.from_dict(trip_per_zipcode14, orient='index')\n",
    "QN_per_Zip_df14.rename(columns={0: 'trips'}, inplace = True)\n",
    "QN_per_Zip_df14['ZIP'] = QN.postalCode.values\n",
    "QN_per_Zip_df14['year'] = 2014\n",
    "QN_per_Zip_df14.head()"
   ]
  },
  {
   "cell_type": "code",
   "execution_count": 74,
   "metadata": {
    "collapsed": false
   },
   "outputs": [
    {
     "data": {
      "text/html": [
       "<div>\n",
       "<table border=\"1\" class=\"dataframe\">\n",
       "  <thead>\n",
       "    <tr style=\"text-align: right;\">\n",
       "      <th></th>\n",
       "      <th>trips</th>\n",
       "      <th>ZIP</th>\n",
       "      <th>year</th>\n",
       "    </tr>\n",
       "  </thead>\n",
       "  <tbody>\n",
       "    <tr>\n",
       "      <th>31</th>\n",
       "      <td>3153</td>\n",
       "      <td>11371</td>\n",
       "      <td>2014</td>\n",
       "    </tr>\n",
       "    <tr>\n",
       "      <th>60</th>\n",
       "      <td>2572</td>\n",
       "      <td>11430</td>\n",
       "      <td>2014</td>\n",
       "    </tr>\n",
       "    <tr>\n",
       "      <th>45</th>\n",
       "      <td>1245</td>\n",
       "      <td>11101</td>\n",
       "      <td>2014</td>\n",
       "    </tr>\n",
       "    <tr>\n",
       "      <th>43</th>\n",
       "      <td>802</td>\n",
       "      <td>11377</td>\n",
       "      <td>2014</td>\n",
       "    </tr>\n",
       "    <tr>\n",
       "      <th>40</th>\n",
       "      <td>678</td>\n",
       "      <td>11103</td>\n",
       "      <td>2014</td>\n",
       "    </tr>\n",
       "  </tbody>\n",
       "</table>\n",
       "</div>"
      ],
      "text/plain": [
       "    trips    ZIP  year\n",
       "31   3153  11371  2014\n",
       "60   2572  11430  2014\n",
       "45   1245  11101  2014\n",
       "43    802  11377  2014\n",
       "40    678  11103  2014"
      ]
     },
     "execution_count": 74,
     "metadata": {},
     "output_type": "execute_result"
    }
   ],
   "source": [
    "# sort the pickup data in decending order based on number of pickups\n",
    "max_trip = QN_per_Zip_df14.sort_values('trips', ascending = False)\n",
    "max_trip.head()\n",
    "QN_per_Zip_df14.to_csv('data/QN_Trips14.csv')"
   ]
  },
  {
   "cell_type": "code",
   "execution_count": 75,
   "metadata": {
    "collapsed": false
   },
   "outputs": [
    {
     "name": "stdout",
     "output_type": "stream",
     "text": [
      "The max trips made per Zip-Code is:  3153\n",
      "The ZipCode that it Corresponds to is:  11371\n",
      "The area is Flushing\n"
     ]
    }
   ],
   "source": [
    "# find the area with max trips\n",
    "max_val = max_trip.reset_index()\n",
    "print (\"The max trips made per Zip-Code is: \", max_val.loc[0]['trips'])\n",
    "print (\"The ZipCode that it Corresponds to is: \", max_val.loc[0].ZIP)\n",
    "print(\"The area is\", QN.PO_NAME.iloc[31])"
   ]
  },
  {
   "cell_type": "code",
   "execution_count": 76,
   "metadata": {
    "collapsed": false
   },
   "outputs": [
    {
     "data": {
      "image/svg+xml": [
       "<svg xmlns=\"http://www.w3.org/2000/svg\" xmlns:xlink=\"http://www.w3.org/1999/xlink\" width=\"100.0\" height=\"100.0\" viewBox=\"-73.8910330013949 40.765419261586445 0.03736586426884969 0.022002825896542788\" preserveAspectRatio=\"xMinYMin meet\"><g transform=\"matrix(1,0,0,-1,0,81.55284134906944)\"><path fill-rule=\"evenodd\" fill=\"#66cc99\" stroke=\"#555555\" stroke-width=\"0.0007473172853769938\" opacity=\"0.6\" d=\"M -73.88509634340522,40.778464378189874 L -73.88525027297052,40.77861292455439 L -73.88505675867148,40.77872912439612 L -73.884957683433,40.77989809163281 L -73.88459956335223,40.78010828190893 L -73.88378471948639,40.78027061071096 L -73.88276326376062,40.78021936402642 L -73.88136069710298,40.78060560582215 L -73.88084352724645,40.780520949963744 L -73.87921304731877,40.78076742835572 L -73.87870562612476,40.780585932155375 L -73.87905115884051,40.7817305487606 L -73.87930867963256,40.781853676118736 L -73.87833922541869,40.78302594034657 L -73.87515754548245,40.78150946448842 L -73.87484527165489,40.781684946213744 L -73.87124856462145,40.78603816658414 L -73.86969325793733,40.785296177831384 L -73.86987006863271,40.78508592483502 L -73.86942486116146,40.78358959948301 L -73.87048029622788,40.7823061299672 L -73.87148513325384,40.78211198273248 L -73.87255731884947,40.780821137535305 L -73.86920445767223,40.77897538754327 L -73.86503977708887,40.77706375957368 L -73.86471066543393,40.77673320134785 L -73.86379730543253,40.776278069885095 L -73.85538469833895,40.772375638280764 L -73.8550510580249,40.77219541176435 L -73.85505987545623,40.77189771253759 L -73.85647904959252,40.77030983310253 L -73.85738091400107,40.77057082323894 L -73.85752974674328,40.77038633011256 L -73.85820510246914,40.770323473236104 L -73.85621267189862,40.76919581906385 L -73.85623303868604,40.76889230416587 L -73.8570479052775,40.769139576373746 L -73.85767799729528,40.76827628344102 L -73.85805262108593,40.76809067969499 L -73.85877376608747,40.76735001820008 L -73.85998650256361,40.766957957012856 L -73.86092883900189,40.76694197072834 L -73.86110277036967,40.76727196162895 L -73.86131385711917,40.766940650928156 L -73.86226565060359,40.76680318248529 L -73.86398256632174,40.76724056585999 L -73.86556020096782,40.76876064678917 L -73.86785924170405,40.770365622587676 L -73.86817470789389,40.77010491244036 L -73.87084027130952,40.77132869627052 L -73.87356715417765,40.771666977512616 L -73.87551232135269,40.77151603594751 L -73.8771857066443,40.771163319519886 L -73.87826967179801,40.77076783019437 L -73.88226144249427,40.76863444886461 L -73.88435083557918,40.7677350115958 L -73.88522838425882,40.7674159074654 L -73.88538812525111,40.76763336270306 L -73.8858908796651,40.76761725102351 L -73.88781936012126,40.76721021499059 L -73.88827314224882,40.768669088442046 L -73.88872550665945,40.76891625896795 L -73.88941440286017,40.77298367626598 L -73.88964908049606,40.77365034055387 L -73.88947115107906,40.77350863967088 L -73.88648511166751,40.773977991345795 L -73.88391627515385,40.77413262843418 L -73.88454235833387,40.77435355215657 L -73.88483366230608,40.774935184407546 L -73.8847867655315,40.77531954802538 L -73.8842873782926,40.775472078267214 L -73.8844200885962,40.77557886887766 L -73.88509634340522,40.778464378189874 z\" /></g></svg>"
      ],
      "text/plain": [
       "<shapely.geometry.polygon.Polygon at 0x11716f860>"
      ]
     },
     "execution_count": 76,
     "metadata": {},
     "output_type": "execute_result"
    },
    {
     "data": {
      "image/png": "[encoded data removed]",
      "text/plain": [
       "<matplotlib.figure.Figure at 0x141ccde10>"
      ]
     },
     "metadata": {},
     "output_type": "display_data"
    }
   ],
   "source": [
    "# visualize flushing pickups \n",
    "Plot_11371 = GeoTrip14[GeoTrip14.geometry.within(QN.geometry[31])]\n",
    "QN.geometry[31]\n",
    "Plot_11371.plot(marker='o', color='red', alpha=0.3, markersize=2, figsize=(14,7))\n",
    "plt.title(\"2014 Taxi Trips in \" + QN.PO_NAME.iloc[31] + \" - zip code: \" + str(max_trip.ZIP[0]))\n",
    "plt.xlabel(\"Longitudes\")\n",
    "plt.ylabel(\"Latitudes\")\n",
    "QN.geometry[31]"
   ]
  },
  {
   "cell_type": "markdown",
   "metadata": {},
   "source": []
  },
  {
   "cell_type": "code",
   "execution_count": null,
   "metadata": {
    "collapsed": true
   },
   "outputs": [],
   "source": []
  }
 ],
 "metadata": {
  "anaconda-cloud": {},
  "kernelspec": {
   "display_name": "Python [conda env:DataScience-Project]",
   "language": "python",
   "name": "conda-env-DataScience-Project-py"
  },
  "language_info": {
   "codemirror_mode": {
    "name": "ipython",
    "version": 3
   },
   "file_extension": ".py",
   "mimetype": "text/x-python",
   "name": "python",
   "nbconvert_exporter": "python",
   "pygments_lexer": "ipython3",
   "version": "3.5.2"
  }
 },
 "nbformat": 4,
 "nbformat_minor": 0
}
