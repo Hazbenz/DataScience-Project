{
 "cells": [
  {
   "cell_type": "markdown",
   "metadata": {},
   "source": [
    "# INSTRUCTIONS:\n",
    "#### Install plotly you would need in Geo Map subplots as part of our presentation \n",
    "*you can read on it via this link*  https://plot.ly/api/\n",
    "\n",
    "\n",
    "# URLS for the project\n",
    "\n",
    "## Neighborhood Data-Set:\n",
    "\n",
    "#### https://www.huduser.gov/portal/datasets/fmr/smallarea/index.html\n",
    "\n",
    "## Taxi Data-Set:\n",
    "\n",
    "#### https://data.cityofnewyork.us/resource/74wj-s5ij.json (2010)  Yellow taxi\n",
    "#### https://data.cityofnewyork.us/resource/uwyp-dntv.json (2011) Yellow taxi\n",
    "#### https://data.cityofnewyork.us/resource/kerk-3eby.json (2012) Yellow taxi\n",
    "#### https://data.cityofnewyork.us/resource/t7ny-aygi.json (2013) Yellow taxi\n",
    "#### https://data.cityofnewyork.us/resource/gkne-dk5s.json (2014) Yellow taxi\n",
    "#### https://data.cityofnewyork.us/resource/7j25-xd5y.json (2014) Green taxi\n",
    "\n",
    "\n"
   ]
  },
  {
   "cell_type": "code",
   "execution_count": 1,
   "metadata": {
    "collapsed": false
   },
   "outputs": [
    {
     "data": {
      "text/html": [
       "\n",
       "        <iframe\n",
       "            width=\"1000\"\n",
       "            height=\"480\"\n",
       "            src=\"https://www.google.com/maps/d/embed?mid=1VYN-6Vkk01byUCF7P13rT6ORT5g&hl=en_US\"\n",
       "            frameborder=\"0\"\n",
       "            allowfullscreen\n",
       "        ></iframe>\n",
       "        "
      ],
      "text/plain": [
<<<<<<< HEAD
       "<IPython.lib.display.IFrame at 0x7f32f0184e10>"
=======
       "<IPython.lib.display.IFrame at 0x7f2e18377518>"
>>>>>>> f16ac3e5616a601db17b82e31913065929d7fa7e
      ]
     },
     "execution_count": 1,
     "metadata": {},
     "output_type": "execute_result"
    }
   ],
   "source": [
    "from IPython.display import IFrame\n",
    "IFrame('https://www.google.com/maps/d/embed?mid=1VYN-6Vkk01byUCF7P13rT6ORT5g&hl=en_US', width=1000, height=480)\n",
    "\n",
    "#<iframe src=\"https://www.google.com/maps/d/embed?mid=1VYN-6Vkk01byUCF7P13rT6ORT5g&hl=en_US\" width=\"640\" height=\"480\"></iframe>\n"
   ]
  },
  {
   "cell_type": "code",
   "execution_count": 2,
   "metadata": {
    "collapsed": false
   },
   "outputs": [
    {
     "ename": "ImportError",
     "evalue": "No module named 'sjoin'",
     "output_type": "error",
     "traceback": [
      "\u001b[1;31m---------------------------------------------------------------------------\u001b[0m",
      "\u001b[1;31mImportError\u001b[0m                               Traceback (most recent call last)",
      "\u001b[1;32m<ipython-input-2-9407c8de9dbf>\u001b[0m in \u001b[0;36m<module>\u001b[1;34m()\u001b[0m\n\u001b[0;32m     12\u001b[0m \u001b[1;32mimport\u001b[0m \u001b[0mos\u001b[0m\u001b[1;33m\u001b[0m\u001b[0m\n\u001b[0;32m     13\u001b[0m \u001b[1;32mimport\u001b[0m \u001b[0murllib\u001b[0m\u001b[1;33m\u001b[0m\u001b[0m\n\u001b[1;32m---> 14\u001b[1;33m \u001b[1;32mfrom\u001b[0m \u001b[0msjoin\u001b[0m \u001b[1;32mimport\u001b[0m \u001b[0msjoin\u001b[0m\u001b[1;33m\u001b[0m\u001b[0m\n\u001b[0m\u001b[0;32m     15\u001b[0m \u001b[0mget_ipython\u001b[0m\u001b[1;33m(\u001b[0m\u001b[1;33m)\u001b[0m\u001b[1;33m.\u001b[0m\u001b[0mmagic\u001b[0m\u001b[1;33m(\u001b[0m\u001b[1;34m'matplotlib inline'\u001b[0m\u001b[1;33m)\u001b[0m\u001b[1;33m\u001b[0m\u001b[0m\n",
      "\u001b[1;31mImportError\u001b[0m: No module named 'sjoin'"
     ]
    }
   ],
   "source": [
    "%matplotlib inline \n",
    "import pandas as pd\n",
    "import requests \n",
    "from io import StringIO\n",
    "from io import BytesIO\n",
    "import numpy as np\n",
    "import matplotlib.pyplot as plt\n",
    "import plotly.plotly as py\n",
    "import geopandas as gpd\n",
    "from shapely import ops\n",
    "from shapely import geometry as geom\n",
    "import os\n",
    "import urllib\n",
    "from sjoin import sjoin\n",
    "%matplotlib inline\n"
   ]
  },
  {
   "cell_type": "code",
<<<<<<< HEAD
   "execution_count": 3,
=======
   "execution_count": null,
>>>>>>> f16ac3e5616a601db17b82e31913065929d7fa7e
   "metadata": {
    "collapsed": false
   },
   "outputs": [],
   "source": [
<<<<<<< HEAD
    "urls = ['https://data.cityofnewyork.us/resource/74wj-s5ij.json', # 2010 yellow taxi\n",
    "        'https://data.cityofnewyork.us/resource/uwyp-dntv.json', # 2011 yellow taxi\n",
    "        'https://data.cityofnewyork.us/resource/kerk-3eby.json', # 2012 yellow taxi\n",
    "        'https://data.cityofnewyork.us/resource/t7ny-aygi.json', # 2013 yellow taxi\n",
    "        'https://data.cityofnewyork.us/resource/gkne-dk5s.json']#, # 2014 yellow taxi\n",
    "        #'https://data.cityofnewyork.us/resource/7j25-xd5y.json'] # 2014 green taxi"
=======
    "urls  = [        'https://data.cityofnewyork.us/resource/7j25-xd5y.json',\n",
    "                 'https://data.cityofnewyork.us/resource/uwyp-dntv.json',\n",
    "                 'https://data.cityofnewyork.us/resource/kerk-3eby.json',\n",
    "                 'https://data.cityofnewyork.us/resource/t7ny-aygi.json',\n",
    "                 'https://data.cityofnewyork.us/resource/gkne-dk5s.json',\n",
    "                 'https://data.cityofnewyork.us/resource/7j25-xd5y.json ']\n",
    "\n",
    "def year_url(url):\n",
    "    query    = (url)\n",
    "    raw_data = pd.read_json(query)\n",
    "    return (raw_data)\n",
    "\n",
    "data_010 = year_url(urls[0])\n",
    "data_011 = year_url(urls[1])\n",
    "data_012 = year_url(urls[2])\n",
    "data_013 = year_url(urls[3])\n",
    "data_014 = year_url(urls[4])\n",
    "\n",
    "#cleaning the data-set for the green-taxi 2014 since its diff attributes with the yellow taxi\n",
    "cols = ['dropoff_latitude', 'dropoff_longitude','lpep_dropoff_datetime','lpep_pickup_datetime','pickup_latitude',\n",
    "        'pickup_longitude','tip_amount','trip_distance']\n",
    "\n",
    "green_014 = pd.DataFrame(year_url(urls[5]), columns = cols)\n",
    "green_014.head()"
>>>>>>> f16ac3e5616a601db17b82e31913065929d7fa7e
   ]
  },
  {
   "cell_type": "code",
<<<<<<< HEAD
   "execution_count": 5,
=======
   "execution_count": 3,
>>>>>>> f16ac3e5616a601db17b82e31913065929d7fa7e
   "metadata": {
    "collapsed": false
   },
<<<<<<< HEAD
   "outputs": [],
   "source": [
    "#def year_url(url):\n",
    "#    query    = (url)\n",
    "#    raw_data = pd.read_json(query)\n",
    "#    return (raw_data)\n",
    "#cleaning the data-set for the green-taxi 2014 since its diff attributes from the yellow taxi\n",
    "#cols = ['dropoff_latitude', 'dropoff_longitude','lpep_dropoff_datetime','lpep_pickup_datetime','pickup_latitude',\n",
    "#        'pickup_longitude','tip_amount','trip_distance']\n",
    "\n",
    "# 2014 green taxi\n",
    "#green_014 = pd.DataFrame(year_url(urls[5]), columns = cols)\n",
    "#green_014.head()"
=======
   "outputs": [
    {
     "data": {
      "text/plain": [
       "(50000, 17)"
      ]
     },
     "execution_count": 3,
     "metadata": {},
     "output_type": "execute_result"
    }
   ],
   "source": [
    "#EJ check what i did here and replicate it for 2010 - 2013\n",
    "#copy and paste the urls above and add this : \"?vendor_id=VTS&payment_type=CRD&$limit=50000\" at \n",
    "#the end of the url run it for payment_type = CRD and payment_type = CSH (2 RUNS PER URL)\n",
    "Y_14_ur ='https://data.cityofnewyork.us/resource/gkne-dk5s.json?vendor_id=VTS&payment_type=CRD&$limit=50000'\n",
    "raw_data_14 = pd.read_json(Y_14_ur)\n",
    "raw_data_14.head()\n",
    "raw_data_14.to_csv('raw_data_14_crd_vts.csv', sep='\\t')\n",
    "Y_14_ur_CSH ='https://data.cityofnewyork.us/resource/gkne-dk5s.json?vendor_id=VTS&payment_type=CSH&$limit=50000'\n",
    "raw_data_14_CSH = pd.read_json(Y_14_ur_CSH)\n",
    "raw_data_14_CSH.shape"
   ]
  },
  {
   "cell_type": "code",
   "execution_count": null,
   "metadata": {
    "collapsed": false
   },
   "outputs": [],
   "source": [
    "\"\"\"url = 'https://data.cityofnewyork.us/resource/t7ny-aygi.geojson?vendorid=VTS&payment_type=CRD&$limit=500'\n",
    "response = requests.get(url)\n",
    "data = response.json()\n",
    "df = pd.io.json.json_normalize(data['features'])\n",
    "k = gpd.GeoDataFrame(df)\n",
    "k.columns.values\"\"\""
   ]
  },
  {
   "cell_type": "code",
   "execution_count": 4,
   "metadata": {
    "collapsed": false
   },
   "outputs": [],
   "source": [
    "#save the data in array inorder to modify some attributes \n",
    "#processed_data = [data_010,data_011,data_012,data_013,data_014,green_014]\n",
    "\n",
    "#there some columns in our yellow taxi data-set that contains the same data we need but diff column name\n",
    "#fix for it\n",
    "\"\"\"for i in range(len(processed_data)):\n",
    "    for j in processed_data[i].columns.values:\n",
    "        if j == 'lpep_dropoff_datetime' or j == 'tpep_dropoff_datetime':\n",
    "            processed_data[i].rename(columns={j: 'dropoff_datetime' }, inplace=True)\n",
    "            \n",
    "        if j == 'lpep_pickup_datetime'   or j == 'tpep_pickup_datetime':\n",
    "            processed_data[i].rename(columns={j: 'pickup_datetime' }, inplace=True)\"\"\"\n",
    "\n",
    "#cleaning other yellow taxi data-set so that it only contains the columns we need\n",
    "def needed_col(data):\n",
    "    cols_y = ['dropoff_latitude', 'dropoff_longitude','dropoff_datetime' , 'pickup_datetime',\n",
    "              'pickup_latitude','pickup_longitude','tip_amount','trip_distance']\n",
    "    refine_data = pd.DataFrame(data, columns = cols_y)\n",
    "    return (refine_data)\n",
    "\n",
    "#y_data_010 = needed_col(data_010)\n",
    "#y_data_011 = needed_col(data_011)\n",
    "#y_data_012 = needed_col(data_012)\n",
    "#y_data_013 = needed_col(data_013)\n",
    "#y_data_014 = needed_col(data_014)"
>>>>>>> f16ac3e5616a601db17b82e31913065929d7fa7e
   ]
  },
  {
   "cell_type": "code",
<<<<<<< HEAD
   "execution_count": 7,
=======
   "execution_count": 5,
   "metadata": {
    "collapsed": false
   },
   "outputs": [],
   "source": [
    "raw_data_14_trim = needed_col(raw_data_14)\n",
    "raw_data_14_trim.head()\n",
    "raw_data_14_trim.shape\n",
    "raw_data_14_trimCS = needed_col(raw_data_14_CSH)\n",
    "fineshed_data_14 =raw_data_14_trim.append(raw_data_14_trimCS)\n",
    "fineshed_data_14.to_csv('fineshed_data_14.csv', sep='\\t')"
   ]
  },
  {
   "cell_type": "code",
   "execution_count": 9,
>>>>>>> f16ac3e5616a601db17b82e31913065929d7fa7e
   "metadata": {
    "collapsed": false
   },
   "outputs": [
    {
<<<<<<< HEAD
     "name": "stdout",
     "output_type": "stream",
     "text": [
      "(100000, 19)\n"
     ]
    }
   ],
   "source": [
    "#2010 taxi data ==============================================\n",
    "# read 50000 rows for vendorsid=VTS && payment_type=CRD\n",
    "vender_type1 = \"?vendorid=VTS&payment_type=CRD&$limit=50000\"\n",
    "Y_10_url_1 = urls[0] + vender_type1\n",
    "raw_data_10_1 = pd.read_json(Y_10_url_1)\n",
    "\n",
    "# read 50000 rows for vendors_id=VTS && payment_type=CSH\n",
    "vender_type2 = \"?vendorid=VTS&payment_type=CSH&$limit=50000\"\n",
    "Y_10_url_2 = urls[0] + vender_type2\n",
    "raw_data_10_2 = pd.read_json(Y_10_url_2)\n",
    "\n",
    "raw_data_10 = raw_data_10_1.append(raw_data_10_2, ignore_index=True)\n",
    "# confirm the data\n",
    "#print(raw_data_10.head())\n",
    "#print(raw_data_10.tail())\n",
    "print(raw_data_10.shape)\n",
    "# write the data into csv file\n",
    "#raw_data_10.to_csv('raw_data_10_vts.csv', sep='\\t') # <-- to write\n"
=======
     "data": {
      "text/plain": [
       "(262, 12)"
      ]
     },
     "execution_count": 9,
     "metadata": {},
     "output_type": "execute_result"
    }
   ],
   "source": [
    "zipgeojson = \"https://github.com/YuHuaCheng/Map/raw/master/data/nyc-zip-code-tabulation-areas-polygons.geojson\"\n",
    "#zipgeojson = \"https://github.com/dwillis/nyc-maps/raw/master/boroughs.geojson\"\n",
    "zipsfile = os.path.join(\"data\",zipgeojson.split(\"/\")[-1])\n",
    "\n",
    "try:\n",
    "    bb = gpd.read_file(zipsfile)\n",
    "except OSError as e:\n",
    "    urllib.request.urlretrieve(zipgeojson, zipsfile)\n",
    "    \n",
    "    #zips geojson had a var assignment that caused problems\n",
    "    fin = open(zipsfile)\n",
    "    \n",
    "    lines = [line for line in fin]\n",
    "    lines[0] = lines[0].replace(\"var nycdata = \", \"\")\n",
    "    \n",
    "    fin.close()\n",
    "    \n",
    "    fout = open(zipsfile, \"w\")\n",
    "    for line in lines:\n",
    "        fout.write(line)\n",
    "    fout.flush()\n",
    "    fout.close()\n",
    "    \n",
    "    bb = gpd.read_file(zipsfile)\n",
    "bb.shape"
>>>>>>> f16ac3e5616a601db17b82e31913065929d7fa7e
   ]
  },
  {
   "cell_type": "code",
   "execution_count": 10,
   "metadata": {
    "collapsed": false
   },
   "outputs": [
    {
<<<<<<< HEAD
     "name": "stdout",
     "output_type": "stream",
     "text": [
      "(100000, 19)\n"
     ]
    }
   ],
   "source": [
    "#2011 taxi data ==============================================\n",
    "# read 50000 rows for vendorsid=VTS && payment_type=CRD\n",
    "vender_type1 = \"?vendorid=VTS&payment_type=CRD&$limit=50000\"\n",
    "Y_11_url_1 = urls[1] + vender_type1\n",
    "raw_data_11_1 = pd.read_json(Y_11_url_1)\n",
    "\n",
    "# read 50000 rows for vendors_id=VTS && payment_type=CSH\n",
    "vender_type2 = \"?vendorid=VTS&payment_type=CSH&$limit=50000\"\n",
    "Y_11_url_2 = urls[1] + vender_type2\n",
    "raw_data_11_2 = pd.read_json(Y_11_url_2)\n",
    "\n",
    "raw_data_11 = raw_data_11_1.append(raw_data_11_2, ignore_index=True)\n",
    "# confirm the data\n",
    "#print(raw_data_11.head())\n",
    "#print(raw_data_11.tail())\n",
    "print(raw_data_11.shape)\n",
    "\n",
    "# write the data into csv file\n",
    "#raw_data_11.to_csv('raw_data_11_vts.csv', sep='\\t') # <-- to write"
=======
     "data": {
      "text/plain": [
       "(40,)"
      ]
     },
     "execution_count": 10,
     "metadata": {},
     "output_type": "execute_result"
    }
   ],
   "source": [
    "a = bb.geometry[1]\n",
    "b = bb[bb.CTY_FIPS == '047']\n",
    "reseted_idx_b = b.reset_index()\n",
    "reseted_idx_b.geometry.shape"
>>>>>>> f16ac3e5616a601db17b82e31913065929d7fa7e
   ]
  },
  {
   "cell_type": "code",
<<<<<<< HEAD
   "execution_count": 8,
=======
   "execution_count": null,
   "metadata": {
    "collapsed": false
   },
   "outputs": [],
   "source": [
    "reseted_idx_b.geometry.plot(figsize = (14,7))"
   ]
  },
  {
   "cell_type": "code",
   "execution_count": 11,
>>>>>>> f16ac3e5616a601db17b82e31913065929d7fa7e
   "metadata": {
    "collapsed": false
   },
   "outputs": [
    {
<<<<<<< HEAD
     "name": "stdout",
     "output_type": "stream",
     "text": [
      "(100000, 19)\n"
     ]
    }
   ],
   "source": [
    "#2012 taxi data ==============================================\n",
    "# read 50000 rows for vendorsid=VTS && payment_type=CRD\n",
    "vender_type1 = \"?vendorid=VTS&payment_type=CRD&$limit=50000\"\n",
    "Y_12_url_1 = urls[2] + vender_type1\n",
    "\n",
    "raw_data_12_1 = pd.read_json(Y_12_url_1)\n",
    "\n",
    "# read 50000 rows for vendors_id=VTS && payment_type=CSH\n",
    "vender_type2 = \"?vendorid=VTS&payment_type=CSH&$limit=50000\"\n",
    "Y_12_url_2 = urls[2] + vender_type2\n",
    "\n",
    "raw_data_12_2 = pd.read_json(Y_12_url_2)\n",
    "\n",
    "raw_data_12 = raw_data_12_1.append(raw_data_12_2, ignore_index=True)\n",
    "# confirm the data\n",
    "#print(raw_data_12.head())\n",
    "#print(raw_data_12.tail())\n",
    "print(raw_data_12.shape)\n",
    "# write the data into csv file\n",
    "#raw_data_12.to_csv('raw_data_12_vts.csv', sep='\\t') # <-- to write"
=======
     "data": {
      "text/plain": [
       "100000"
      ]
     },
     "execution_count": 11,
     "metadata": {},
     "output_type": "execute_result"
    }
   ],
   "source": [
    "pick_points = []\n",
    "for i in range (len(fineshed_data_14)):\n",
    "    pick_points.append(geom.Point(fineshed_data_14.pickup_longitude.iloc[i],\n",
    "                                  fineshed_data_14.pickup_latitude.iloc[i]))\n",
    "len(pick_points)"
>>>>>>> f16ac3e5616a601db17b82e31913065929d7fa7e
   ]
  },
  {
   "cell_type": "code",
<<<<<<< HEAD
   "execution_count": 9,
=======
   "execution_count": 15,
>>>>>>> f16ac3e5616a601db17b82e31913065929d7fa7e
   "metadata": {
    "collapsed": false
   },
   "outputs": [
    {
<<<<<<< HEAD
     "name": "stdout",
     "output_type": "stream",
     "text": [
      "(100000, 19)\n"
     ]
    }
   ],
   "source": [
    "#2013 taxi data ==============================================\n",
    "# read 50000 rows for vendorsid=VTS && payment_type=CRD\n",
    "vender_type1 = \"?vendorid=VTS&payment_type=CRD&$limit=50000\"\n",
    "Y_13_url_1 = urls[3] + vender_type1\n",
    "raw_data_13_1 = pd.read_json(Y_13_url_1)\n",
    "\n",
    "# read 50000 rows for vendors_id=VTS && payment_type=CSH\n",
    "vender_type2 = \"?vendorid=VTS&payment_type=CSH&$limit=50000\"\n",
    "Y_13_url_2 = urls[3] + vender_type2\n",
    "raw_data_13_2 = pd.read_json(Y_13_url_2)\n",
    "raw_data_13 = raw_data_13_1.append(raw_data_13_2, ignore_index=True)\n",
    "\n",
    "# confirm the data\n",
    "#print(raw_data_13.head())\n",
    "#print(raw_data_13.tail())\n",
    "print(raw_data_13.shape)\n",
    "# write the data into csv file\n",
    "#raw_data_13.to_csv('raw_data_13_vts.csv', sep='\\t') # <-- to write"
=======
     "data": {
      "text/plain": [
       "(100000,)"
      ]
     },
     "execution_count": 15,
     "metadata": {},
     "output_type": "execute_result"
    }
   ],
   "source": [
    "pick_points_df = gpd.GeoSeries(pick_points)\n",
    "pick_points_df.shape"
>>>>>>> f16ac3e5616a601db17b82e31913065929d7fa7e
   ]
  },
  {
   "cell_type": "code",
<<<<<<< HEAD
   "execution_count": null,
   "metadata": {
    "collapsed": false
   },
   "outputs": [],
   "source": [
    "#2014 taxi data ==============================================\n",
    "# read 50000 rows for vendors_id=VTS && payment_type=CRD\n",
    "vender_type1 = \"?vendor_id=VTS&payment_type=CRD&$limit=50000\"\n",
    "Y_14_url_1 = urls[4] + vender_type1\n",
    "\n",
    "raw_data_14_1 = pd.read_json(Y_14_url_1)\n",
    "#raw_data_14_1.to_csv(\"checker.csv\", sep = '\\t') \n",
    "\n",
    "# read 50000 rows for vendors_id=VTS && payment_type=CSH\n",
    "vender_type2 = \"?vendor_id=VTS&payment_type=CSH&$limit=50000\"\n",
    "Y_14_url_2 = urls[4] + vender_type2\n",
    "\n",
    "raw_data_14_2 = pd.read_json(Y_14_url_2)\n",
    "\n",
    "raw_data_14 = raw_data_14_1.append(raw_data_14_2, ignore_index=True)\n",
    "#raw_data_14.drop('colum_name', axis=1)\n",
    "print(raw_data_14.shape)\n",
    "# confirm the data\n",
    "print(raw_data_14.head())\n",
    "print(raw_data_14.tail())\n",
    "\n",
    "# write the data into csv file\n",
    "raw_data_14.to_csv('raw_data_14_vts.csv', sep='\\t') # <-- to write"
=======
   "execution_count": 17,
   "metadata": {
    "collapsed": false
   },
   "outputs": [
    {
     "data": {
      "text/plain": [
       "(100000,)"
      ]
     },
     "execution_count": 17,
     "metadata": {},
     "output_type": "execute_result"
    }
   ],
   "source": [
    "#sg_roads = df[df.geometry.within(sg_boundary)]\n",
    "#for i, pt in enumerate(pick_points_df):\n",
    "    #pick_points_df_BK = pick_points_df[reseted_idx_b.geometry.contains(pt)]\n",
    "    #pick_points_df_BK = pick_points_df[shape(pt).within(reseted_idx_b.geometry) == True]\n",
    "#g = loads('POINT (0.0 0.0)')\n",
    "#for i, pt in enumerate(pick_points_df):\n",
    "    #pick_points_df_BK = pick_points_df[reseted_idx_b.geometry.contains(pt)]\n",
    "    #pick_points_df_BK = pick_points_df[pt.within(reseted_idx_b.geometry) == True]\n",
    "#shape(reseted_idx_b.geometry[0]).within(shape(multi(reseted_idx_b.geometry)))\n",
    "pick_points_df = pick_points_df[pick_points_df.values != 'POINT (0.0 0.0)']\n",
    "pick_points_df.shape"
>>>>>>> f16ac3e5616a601db17b82e31913065929d7fa7e
   ]
  },
  {
   "cell_type": "code",
   "execution_count": null,
   "metadata": {
    "collapsed": false
   },
   "outputs": [],
   "source": [
    "#Dont Delete this, it is very important; it could be use for a backup; incase url breaks\n",
    "\"\"\"import urllib.request\n",
    "u = 'https://data.cityofnewyork.us/resource/t7ny-aygi.geojson?vendorid=VTS&payment_type=CRD&$limit=50000'\n",
    "#page = urllib.request.urlopen(u)\n",
    "#page = requests.get(u).content\n",
    "f = open(\"map.geojson\", \"w\")\n",
    "response = urllib.request.urlopen(u)\n",
    "data = response.read()      # a `bytes` object\n",
    "text = data.decode('utf-8')\n",
    "f.write(text)\n",
    "f.close()\n",
    "k = gpd.read_file(\"map.geojson\")\n",
    "len(k)\"\"\"\"\"\""
   ]
  },
  {
   "cell_type": "code",
   "execution_count": null,
   "metadata": {
    "collapsed": false
   },
   "outputs": [],
   "source": [
<<<<<<< HEAD
    "#save the data in array inorder to modify some attributes \n",
    "processed_data = [raw_data_10,raw_data_11,raw_data_12,raw_data_13,raw_data_14,green_014]\n",
    "\n",
    "#there some columns in our yellow taxi data-set that contains the same data we need but diff column name\n",
    "#fix for it\n",
    "for i in range(len(processed_data)):\n",
    "    for j in processed_data[i].columns.values:\n",
    "        if j == 'lpep_dropoff_datetime' or j == 'tpep_dropoff_datetime':\n",
    "            processed_data[i].rename(columns={j: 'dropoff_datetime' }, inplace=True)\n",
    "            \n",
    "        if j == 'lpep_pickup_datetime'   or j == 'tpep_pickup_datetime':\n",
    "            processed_data[i].rename(columns={j: 'pickup_datetime' }, inplace=True)\n",
    "\n",
    "#cleaning other yellow taxi data-set so that it only contains the columns we need\n",
    "def needed_col(data):\n",
    "    cols_y = ['dropoff_latitude', 'dropoff_longitude','dropoff_datetime' , 'pickup_datetime',\n",
    "              'pickup_latitude','pickup_longitude','tip_amount','trip_distance']\n",
    "    refine_data = pd.DataFrame(data, columns = cols_y)\n",
    "    return (refine_data)\n",
    "\n",
    "y_data_010 = needed_col(data_010)\n",
    "y_data_011 = needed_col(data_011)\n",
    "y_data_012 = needed_col(data_012)\n",
    "y_data_013 = needed_col(data_013)\n",
    "y_data_014 = needed_col(data_014)"
=======
    "\"\"\"for i in range(40):\n",
    "    m=k[k.geometry.within(reseted_idx_b.geometry[i])] \n",
    "    m.plot(figsize=(14,7))\"\"\""
>>>>>>> f16ac3e5616a601db17b82e31913065929d7fa7e
   ]
  },
  {
   "cell_type": "code",
   "execution_count": 38,
   "metadata": {
    "collapsed": false
   },
   "outputs": [
    {
     "data": {
      "text/plain": [
       "'11221'"
      ]
     },
     "execution_count": 38,
     "metadata": {},
     "output_type": "execute_result"
    }
   ],
   "source": [
    "gs = gpd.GeoSeries(pick_points_df.values)\n",
    "gd_pick = gpd.GeoDataFrame(geometry=gs)\n",
    "ngb = reseted_idx_b\n",
    "ngb.postalCode.iloc[0]"
   ]
  },
  {
   "cell_type": "code",
   "execution_count": 66,
   "metadata": {
    "collapsed": false
   },
   "outputs": [
    {
     "data": {
      "text/plain": [
       "<matplotlib.text.Text at 0x7f2dd13c3c88>"
      ]
     },
     "execution_count": 66,
     "metadata": {},
     "output_type": "execute_result"
    },
    {
     "data": {
      "image/png": "iVBORw0KGgoAAAANSUhEUgAAA04AAAFwCAYAAACPTyt1AAAABHNCSVQICAgIfAhkiAAAAAlwSFlz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\n8f8Dx1u5CmavqLwAAAAASUVORK5CYII=\n",
      "text/plain": [
       "<matplotlib.figure.Figure at 0x7f2dd02ab358>"
      ]
     },
     "metadata": {},
     "output_type": "display_data"
    }
   ],
   "source": [
    "check = gd_pick[gd_pick.geometry.within(reseted_idx_b.iloc[0].geometry)]\n",
    "check.plot(marker='o', color='red', markersize=10, figsize=(14,7))\n",
    "plt.title(\"Zip-Code: \" + str(ngb.postalCode.iloc[0]))\n",
    "plt.xlabel(\"\")\n",
    "#amegeo.convex_hull\n",
    "\n"
   ]
  },
  {
   "cell_type": "code",
   "execution_count": 35,
   "metadata": {
    "collapsed": false
   },
   "outputs": [
    {
     "data": {
      "text/plain": [
       "100000"
      ]
     },
     "execution_count": 35,
     "metadata": {},
     "output_type": "execute_result"
    }
   ],
   "source": [
    "drop_points = []\n",
    "for i in range (len(fineshed_data_14)):\n",
    "    drop_points.append(geom.Point(fineshed_data_14.dropoff_longitude.iloc[i],\n",
    "                                  fineshed_data_14.dropoff_latitude.iloc[i]))\n",
    "len(drop_points)"
   ]
  },
  {
   "cell_type": "code",
   "execution_count": 42,
   "metadata": {
    "collapsed": false
   },
   "outputs": [
    {
     "data": {
      "text/plain": [
       "0"
      ]
     },
     "execution_count": 42,
     "metadata": {},
     "output_type": "execute_result"
    }
   ],
   "source": [
    "drop_points_df = gpd.GeoSeries(drop_points)\n",
    "drop_points_df_BK = drop_points_df[drop_points_df.geometry.within(reseted_idx_b.geometry) == True]\n",
    "len(drop_points_df_BK)"
   ]
  },
  {
   "cell_type": "code",
   "execution_count": 197,
   "metadata": {
    "collapsed": false
   },
   "outputs": [
    {
     "ename": "KeyError",
     "evalue": "0",
     "output_type": "error",
     "traceback": [
      "\u001b[1;31m---------------------------------------------------------------------------\u001b[0m",
      "\u001b[1;31mKeyError\u001b[0m                                  Traceback (most recent call last)",
      "\u001b[1;32m/home/cherno/anaconda3/lib/python3.5/site-packages/pandas/indexes/base.py\u001b[0m in \u001b[0;36mget_loc\u001b[1;34m(self, key, method, tolerance)\u001b[0m\n\u001b[0;32m   1944\u001b[0m             \u001b[1;32mtry\u001b[0m\u001b[1;33m:\u001b[0m\u001b[1;33m\u001b[0m\u001b[0m\n\u001b[1;32m-> 1945\u001b[1;33m                 \u001b[1;32mreturn\u001b[0m \u001b[0mself\u001b[0m\u001b[1;33m.\u001b[0m\u001b[0m_engine\u001b[0m\u001b[1;33m.\u001b[0m\u001b[0mget_loc\u001b[0m\u001b[1;33m(\u001b[0m\u001b[0mkey\u001b[0m\u001b[1;33m)\u001b[0m\u001b[1;33m\u001b[0m\u001b[0m\n\u001b[0m\u001b[0;32m   1946\u001b[0m             \u001b[1;32mexcept\u001b[0m \u001b[0mKeyError\u001b[0m\u001b[1;33m:\u001b[0m\u001b[1;33m\u001b[0m\u001b[0m\n",
      "\u001b[1;32mpandas/index.pyx\u001b[0m in \u001b[0;36mpandas.index.IndexEngine.get_loc (pandas/index.c:4154)\u001b[1;34m()\u001b[0m\n",
      "\u001b[1;32mpandas/index.pyx\u001b[0m in \u001b[0;36mpandas.index.IndexEngine.get_loc (pandas/index.c:4018)\u001b[1;34m()\u001b[0m\n",
      "\u001b[1;32mpandas/hashtable.pyx\u001b[0m in \u001b[0;36mpandas.hashtable.PyObjectHashTable.get_item (pandas/hashtable.c:12368)\u001b[1;34m()\u001b[0m\n",
      "\u001b[1;32mpandas/hashtable.pyx\u001b[0m in \u001b[0;36mpandas.hashtable.PyObjectHashTable.get_item (pandas/hashtable.c:12322)\u001b[1;34m()\u001b[0m\n",
      "\u001b[1;31mKeyError\u001b[0m: 0",
      "\nDuring handling of the above exception, another exception occurred:\n",
      "\u001b[1;31mKeyError\u001b[0m                                  Traceback (most recent call last)",
      "\u001b[1;32m<ipython-input-197-abb2a2404a64>\u001b[0m in \u001b[0;36m<module>\u001b[1;34m()\u001b[0m\n\u001b[0;32m      1\u001b[0m \u001b[0mkdg\u001b[0m \u001b[1;33m=\u001b[0m \u001b[0mgpd\u001b[0m\u001b[1;33m.\u001b[0m\u001b[0mGeoDataFrame\u001b[0m\u001b[1;33m(\u001b[0m\u001b[0mgeometry\u001b[0m\u001b[1;33m=\u001b[0m\u001b[0mpick_points_df\u001b[0m\u001b[1;33m.\u001b[0m\u001b[0mvalues\u001b[0m\u001b[1;33m)\u001b[0m\u001b[1;33m\u001b[0m\u001b[0m\n\u001b[0;32m      2\u001b[0m \u001b[1;31m#kdg = kdg[kdg.geometry.within(reseted_idx_b.geometry)==True]\u001b[0m\u001b[1;33m\u001b[0m\u001b[1;33m\u001b[0m\u001b[0m\n\u001b[1;32m----> 3\u001b[1;33m \u001b[0mreseted_idx_b\u001b[0m\u001b[1;33m[\u001b[0m\u001b[1;34m'geometry'\u001b[0m\u001b[1;33m]\u001b[0m\u001b[1;33m[\u001b[0m\u001b[1;36m0\u001b[0m\u001b[1;33m]\u001b[0m\u001b[1;33m.\u001b[0m\u001b[0mcontains\u001b[0m\u001b[1;33m(\u001b[0m\u001b[0mkdg\u001b[0m\u001b[1;33m[\u001b[0m\u001b[1;36m0\u001b[0m\u001b[1;33m]\u001b[0m\u001b[1;33m)\u001b[0m\u001b[1;33m\u001b[0m\u001b[0m\n\u001b[0m",
      "\u001b[1;32m/home/cherno/anaconda3/lib/python3.5/site-packages/geopandas/geodataframe.py\u001b[0m in \u001b[0;36m__getitem__\u001b[1;34m(self, key)\u001b[0m\n\u001b[0;32m    374\u001b[0m         \u001b[0mGeoDataFrame\u001b[0m\u001b[1;33m.\u001b[0m\u001b[1;33m\u001b[0m\u001b[0m\n\u001b[0;32m    375\u001b[0m         \"\"\"\n\u001b[1;32m--> 376\u001b[1;33m         \u001b[0mresult\u001b[0m \u001b[1;33m=\u001b[0m \u001b[0msuper\u001b[0m\u001b[1;33m(\u001b[0m\u001b[0mGeoDataFrame\u001b[0m\u001b[1;33m,\u001b[0m \u001b[0mself\u001b[0m\u001b[1;33m)\u001b[0m\u001b[1;33m.\u001b[0m\u001b[0m__getitem__\u001b[0m\u001b[1;33m(\u001b[0m\u001b[0mkey\u001b[0m\u001b[1;33m)\u001b[0m\u001b[1;33m\u001b[0m\u001b[0m\n\u001b[0m\u001b[0;32m    377\u001b[0m         \u001b[0mgeo_col\u001b[0m \u001b[1;33m=\u001b[0m \u001b[0mself\u001b[0m\u001b[1;33m.\u001b[0m\u001b[0m_geometry_column_name\u001b[0m\u001b[1;33m\u001b[0m\u001b[0m\n\u001b[0;32m    378\u001b[0m         \u001b[1;32mif\u001b[0m \u001b[0misinstance\u001b[0m\u001b[1;33m(\u001b[0m\u001b[0mkey\u001b[0m\u001b[1;33m,\u001b[0m \u001b[0mstring_types\u001b[0m\u001b[1;33m)\u001b[0m \u001b[1;32mand\u001b[0m \u001b[0mkey\u001b[0m \u001b[1;33m==\u001b[0m \u001b[0mgeo_col\u001b[0m\u001b[1;33m:\u001b[0m\u001b[1;33m\u001b[0m\u001b[0m\n",
      "\u001b[1;32m/home/cherno/anaconda3/lib/python3.5/site-packages/pandas/core/frame.py\u001b[0m in \u001b[0;36m__getitem__\u001b[1;34m(self, key)\u001b[0m\n\u001b[0;32m   1995\u001b[0m             \u001b[1;32mreturn\u001b[0m \u001b[0mself\u001b[0m\u001b[1;33m.\u001b[0m\u001b[0m_getitem_multilevel\u001b[0m\u001b[1;33m(\u001b[0m\u001b[0mkey\u001b[0m\u001b[1;33m)\u001b[0m\u001b[1;33m\u001b[0m\u001b[0m\n\u001b[0;32m   1996\u001b[0m         \u001b[1;32melse\u001b[0m\u001b[1;33m:\u001b[0m\u001b[1;33m\u001b[0m\u001b[0m\n\u001b[1;32m-> 1997\u001b[1;33m             \u001b[1;32mreturn\u001b[0m \u001b[0mself\u001b[0m\u001b[1;33m.\u001b[0m\u001b[0m_getitem_column\u001b[0m\u001b[1;33m(\u001b[0m\u001b[0mkey\u001b[0m\u001b[1;33m)\u001b[0m\u001b[1;33m\u001b[0m\u001b[0m\n\u001b[0m\u001b[0;32m   1998\u001b[0m \u001b[1;33m\u001b[0m\u001b[0m\n\u001b[0;32m   1999\u001b[0m     \u001b[1;32mdef\u001b[0m \u001b[0m_getitem_column\u001b[0m\u001b[1;33m(\u001b[0m\u001b[0mself\u001b[0m\u001b[1;33m,\u001b[0m \u001b[0mkey\u001b[0m\u001b[1;33m)\u001b[0m\u001b[1;33m:\u001b[0m\u001b[1;33m\u001b[0m\u001b[0m\n",
      "\u001b[1;32m/home/cherno/anaconda3/lib/python3.5/site-packages/pandas/core/frame.py\u001b[0m in \u001b[0;36m_getitem_column\u001b[1;34m(self, key)\u001b[0m\n\u001b[0;32m   2002\u001b[0m         \u001b[1;31m# get column\u001b[0m\u001b[1;33m\u001b[0m\u001b[1;33m\u001b[0m\u001b[0m\n\u001b[0;32m   2003\u001b[0m         \u001b[1;32mif\u001b[0m \u001b[0mself\u001b[0m\u001b[1;33m.\u001b[0m\u001b[0mcolumns\u001b[0m\u001b[1;33m.\u001b[0m\u001b[0mis_unique\u001b[0m\u001b[1;33m:\u001b[0m\u001b[1;33m\u001b[0m\u001b[0m\n\u001b[1;32m-> 2004\u001b[1;33m             \u001b[1;32mreturn\u001b[0m \u001b[0mself\u001b[0m\u001b[1;33m.\u001b[0m\u001b[0m_get_item_cache\u001b[0m\u001b[1;33m(\u001b[0m\u001b[0mkey\u001b[0m\u001b[1;33m)\u001b[0m\u001b[1;33m\u001b[0m\u001b[0m\n\u001b[0m\u001b[0;32m   2005\u001b[0m \u001b[1;33m\u001b[0m\u001b[0m\n\u001b[0;32m   2006\u001b[0m         \u001b[1;31m# duplicate columns & possible reduce dimensionality\u001b[0m\u001b[1;33m\u001b[0m\u001b[1;33m\u001b[0m\u001b[0m\n",
      "\u001b[1;32m/home/cherno/anaconda3/lib/python3.5/site-packages/pandas/core/generic.py\u001b[0m in \u001b[0;36m_get_item_cache\u001b[1;34m(self, item)\u001b[0m\n\u001b[0;32m   1348\u001b[0m         \u001b[0mres\u001b[0m \u001b[1;33m=\u001b[0m \u001b[0mcache\u001b[0m\u001b[1;33m.\u001b[0m\u001b[0mget\u001b[0m\u001b[1;33m(\u001b[0m\u001b[0mitem\u001b[0m\u001b[1;33m)\u001b[0m\u001b[1;33m\u001b[0m\u001b[0m\n\u001b[0;32m   1349\u001b[0m         \u001b[1;32mif\u001b[0m \u001b[0mres\u001b[0m \u001b[1;32mis\u001b[0m \u001b[1;32mNone\u001b[0m\u001b[1;33m:\u001b[0m\u001b[1;33m\u001b[0m\u001b[0m\n\u001b[1;32m-> 1350\u001b[1;33m             \u001b[0mvalues\u001b[0m \u001b[1;33m=\u001b[0m \u001b[0mself\u001b[0m\u001b[1;33m.\u001b[0m\u001b[0m_data\u001b[0m\u001b[1;33m.\u001b[0m\u001b[0mget\u001b[0m\u001b[1;33m(\u001b[0m\u001b[0mitem\u001b[0m\u001b[1;33m)\u001b[0m\u001b[1;33m\u001b[0m\u001b[0m\n\u001b[0m\u001b[0;32m   1351\u001b[0m             \u001b[0mres\u001b[0m \u001b[1;33m=\u001b[0m \u001b[0mself\u001b[0m\u001b[1;33m.\u001b[0m\u001b[0m_box_item_values\u001b[0m\u001b[1;33m(\u001b[0m\u001b[0mitem\u001b[0m\u001b[1;33m,\u001b[0m \u001b[0mvalues\u001b[0m\u001b[1;33m)\u001b[0m\u001b[1;33m\u001b[0m\u001b[0m\n\u001b[0;32m   1352\u001b[0m             \u001b[0mcache\u001b[0m\u001b[1;33m[\u001b[0m\u001b[0mitem\u001b[0m\u001b[1;33m]\u001b[0m \u001b[1;33m=\u001b[0m \u001b[0mres\u001b[0m\u001b[1;33m\u001b[0m\u001b[0m\n",
      "\u001b[1;32m/home/cherno/anaconda3/lib/python3.5/site-packages/pandas/core/internals.py\u001b[0m in \u001b[0;36mget\u001b[1;34m(self, item, fastpath)\u001b[0m\n\u001b[0;32m   3288\u001b[0m \u001b[1;33m\u001b[0m\u001b[0m\n\u001b[0;32m   3289\u001b[0m             \u001b[1;32mif\u001b[0m \u001b[1;32mnot\u001b[0m \u001b[0misnull\u001b[0m\u001b[1;33m(\u001b[0m\u001b[0mitem\u001b[0m\u001b[1;33m)\u001b[0m\u001b[1;33m:\u001b[0m\u001b[1;33m\u001b[0m\u001b[0m\n\u001b[1;32m-> 3290\u001b[1;33m                 \u001b[0mloc\u001b[0m \u001b[1;33m=\u001b[0m \u001b[0mself\u001b[0m\u001b[1;33m.\u001b[0m\u001b[0mitems\u001b[0m\u001b[1;33m.\u001b[0m\u001b[0mget_loc\u001b[0m\u001b[1;33m(\u001b[0m\u001b[0mitem\u001b[0m\u001b[1;33m)\u001b[0m\u001b[1;33m\u001b[0m\u001b[0m\n\u001b[0m\u001b[0;32m   3291\u001b[0m             \u001b[1;32melse\u001b[0m\u001b[1;33m:\u001b[0m\u001b[1;33m\u001b[0m\u001b[0m\n\u001b[0;32m   3292\u001b[0m                 \u001b[0mindexer\u001b[0m \u001b[1;33m=\u001b[0m \u001b[0mnp\u001b[0m\u001b[1;33m.\u001b[0m\u001b[0marange\u001b[0m\u001b[1;33m(\u001b[0m\u001b[0mlen\u001b[0m\u001b[1;33m(\u001b[0m\u001b[0mself\u001b[0m\u001b[1;33m.\u001b[0m\u001b[0mitems\u001b[0m\u001b[1;33m)\u001b[0m\u001b[1;33m)\u001b[0m\u001b[1;33m[\u001b[0m\u001b[0misnull\u001b[0m\u001b[1;33m(\u001b[0m\u001b[0mself\u001b[0m\u001b[1;33m.\u001b[0m\u001b[0mitems\u001b[0m\u001b[1;33m)\u001b[0m\u001b[1;33m]\u001b[0m\u001b[1;33m\u001b[0m\u001b[0m\n",
      "\u001b[1;32m/home/cherno/anaconda3/lib/python3.5/site-packages/pandas/indexes/base.py\u001b[0m in \u001b[0;36mget_loc\u001b[1;34m(self, key, method, tolerance)\u001b[0m\n\u001b[0;32m   1945\u001b[0m                 \u001b[1;32mreturn\u001b[0m \u001b[0mself\u001b[0m\u001b[1;33m.\u001b[0m\u001b[0m_engine\u001b[0m\u001b[1;33m.\u001b[0m\u001b[0mget_loc\u001b[0m\u001b[1;33m(\u001b[0m\u001b[0mkey\u001b[0m\u001b[1;33m)\u001b[0m\u001b[1;33m\u001b[0m\u001b[0m\n\u001b[0;32m   1946\u001b[0m             \u001b[1;32mexcept\u001b[0m \u001b[0mKeyError\u001b[0m\u001b[1;33m:\u001b[0m\u001b[1;33m\u001b[0m\u001b[0m\n\u001b[1;32m-> 1947\u001b[1;33m                 \u001b[1;32mreturn\u001b[0m \u001b[0mself\u001b[0m\u001b[1;33m.\u001b[0m\u001b[0m_engine\u001b[0m\u001b[1;33m.\u001b[0m\u001b[0mget_loc\u001b[0m\u001b[1;33m(\u001b[0m\u001b[0mself\u001b[0m\u001b[1;33m.\u001b[0m\u001b[0m_maybe_cast_indexer\u001b[0m\u001b[1;33m(\u001b[0m\u001b[0mkey\u001b[0m\u001b[1;33m)\u001b[0m\u001b[1;33m)\u001b[0m\u001b[1;33m\u001b[0m\u001b[0m\n\u001b[0m\u001b[0;32m   1948\u001b[0m \u001b[1;33m\u001b[0m\u001b[0m\n\u001b[0;32m   1949\u001b[0m         \u001b[0mindexer\u001b[0m \u001b[1;33m=\u001b[0m \u001b[0mself\u001b[0m\u001b[1;33m.\u001b[0m\u001b[0mget_indexer\u001b[0m\u001b[1;33m(\u001b[0m\u001b[1;33m[\u001b[0m\u001b[0mkey\u001b[0m\u001b[1;33m]\u001b[0m\u001b[1;33m,\u001b[0m \u001b[0mmethod\u001b[0m\u001b[1;33m=\u001b[0m\u001b[0mmethod\u001b[0m\u001b[1;33m,\u001b[0m \u001b[0mtolerance\u001b[0m\u001b[1;33m=\u001b[0m\u001b[0mtolerance\u001b[0m\u001b[1;33m)\u001b[0m\u001b[1;33m\u001b[0m\u001b[0m\n",
      "\u001b[1;32mpandas/index.pyx\u001b[0m in \u001b[0;36mpandas.index.IndexEngine.get_loc (pandas/index.c:4154)\u001b[1;34m()\u001b[0m\n",
      "\u001b[1;32mpandas/index.pyx\u001b[0m in \u001b[0;36mpandas.index.IndexEngine.get_loc (pandas/index.c:4018)\u001b[1;34m()\u001b[0m\n",
      "\u001b[1;32mpandas/hashtable.pyx\u001b[0m in \u001b[0;36mpandas.hashtable.PyObjectHashTable.get_item (pandas/hashtable.c:12368)\u001b[1;34m()\u001b[0m\n",
      "\u001b[1;32mpandas/hashtable.pyx\u001b[0m in \u001b[0;36mpandas.hashtable.PyObjectHashTable.get_item (pandas/hashtable.c:12322)\u001b[1;34m()\u001b[0m\n",
      "\u001b[1;31mKeyError\u001b[0m: 0"
     ]
    }
   ],
   "source": [
    "\n"
   ]
  },
  {
   "cell_type": "code",
   "execution_count": 185,
   "metadata": {
    "collapsed": false
   },
   "outputs": [
    {
     "data": {
      "text/plain": [
       "0     False\n",
       "1     False\n",
       "2     False\n",
       "3     False\n",
       "4     False\n",
       "5     False\n",
       "6     False\n",
       "7     False\n",
       "8     False\n",
       "9     False\n",
       "10    False\n",
       "11    False\n",
       "12    False\n",
       "13    False\n",
       "14    False\n",
       "15    False\n",
       "16    False\n",
       "17    False\n",
       "18    False\n",
       "19    False\n",
       "20    False\n",
       "21    False\n",
       "22    False\n",
       "23    False\n",
       "24    False\n",
       "25    False\n",
       "26    False\n",
       "27    False\n",
       "28    False\n",
       "29    False\n",
       "30    False\n",
       "31    False\n",
       "32    False\n",
       "33    False\n",
       "34    False\n",
       "35    False\n",
       "36    False\n",
       "37    False\n",
       "38    False\n",
       "39    False\n",
       "dtype: bool"
      ]
     },
     "execution_count": 185,
     "metadata": {},
     "output_type": "execute_result"
    }
   ],
   "source": [
    "points = [geom.Point(-73.94650690661533, 40.68857526610002)]\n",
    "gs = gpd.GeoSeries(points)\n",
    "gd = gpd.GeoDataFrame(geometry=gs)\n",
    "gd.within(reseted_idx_b)"
   ]
  },
  {
   "cell_type": "markdown",
   "metadata": {
    "collapsed": true
   },
   "source": [
    "E                \n",
    "-73.964212\n",
    "40.725870\n",
    "\n",
    "N\n",
    "-73.954141\n",
    "40.739439\n",
    "\n",
    "S\n",
    "40.569736\n",
    "-73.99999\n",
    "\n",
    "W\n",
    "40.626839\n",
    "-73.847699\n",
    "\n",
    "Mid = 40.638583 -73.954122"
   ]
  },
  {
   "cell_type": "code",
   "execution_count": 36,
   "metadata": {
    "collapsed": false
   },
   "outputs": [],
   "source": [
    "x_y = [40.638583, -73.954122]\n",
    "radius = np.sqrt((-73.954141 + 73.954122 )**2 + (40.739439 - 40.638583)**2)\n",
    "\n",
    "#check = ReWeek1tb2[ReWeek1tb2.DROPTIME <= '2016-11-1 05:00']"
   ]
  },
  {
   "cell_type": "code",
   "execution_count": 37,
   "metadata": {
    "collapsed": false
   },
   "outputs": [
    {
     "ename": "NameError",
     "evalue": "name 'y_data_010' is not defined",
     "output_type": "error",
     "traceback": [
      "\u001b[1;31m---------------------------------------------------------------------------\u001b[0m",
      "\u001b[1;31mNameError\u001b[0m                                 Traceback (most recent call last)",
      "\u001b[1;32m<ipython-input-37-8157ae9f273b>\u001b[0m in \u001b[0;36m<module>\u001b[1;34m()\u001b[0m\n\u001b[1;32m----> 1\u001b[1;33m dropoff_brooklyn_10 = y_data_010[np.sqrt((y_data_010.dropoff_latitude - x_y[0])**2 \n\u001b[0m\u001b[0;32m      2\u001b[0m                                      +(y_data_010.dropoff_longitude - x_y[1])**2) <= radius] \n\u001b[0;32m      3\u001b[0m \u001b[1;33m\u001b[0m\u001b[0m\n\u001b[0;32m      4\u001b[0m pickup_brooklyn_10  = y_data_010[np.sqrt((y_data_010.pickup_latitude - x_y[0])**2 \n\u001b[0;32m      5\u001b[0m                                      +(y_data_010.pickup_longitude - x_y[1])**2) <= radius] \n",
      "\u001b[1;31mNameError\u001b[0m: name 'y_data_010' is not defined"
     ]
    }
   ],
   "source": [
    "dropoff_brooklyn_10 = y_data_010[np.sqrt((y_data_010.dropoff_latitude - x_y[0])**2 \n",
    "                                     +(y_data_010.dropoff_longitude - x_y[1])**2) <= radius] \n",
    "\n",
    "pickup_brooklyn_10  = y_data_010[np.sqrt((y_data_010.pickup_latitude - x_y[0])**2 \n",
    "                                     +(y_data_010.pickup_longitude - x_y[1])**2) <= radius] \n",
    "\n",
    "trips_in_Bk_10 = pickup_brooklyn_10.append(dropoff_brooklyn_10)\n",
    "\n",
    "#trips_in_Bk.to_csv('trips_in_BK.CSV', sep='\\t')\n",
    "print (pickup_brooklyn_10.shape)\n",
    "print (dropoff_brooklyn_10.shape)\n",
    "print (trips_in_Bk_10.shape)"
   ]
  },
  {
   "cell_type": "code",
   "execution_count": null,
   "metadata": {
    "collapsed": false
   },
   "outputs": [],
   "source": [
    "dropoff_brooklyn_11 = y_data_011[np.sqrt((y_data_011.dropoff_latitude - x_y[0])**2 \n",
    "                                     +(y_data_011.dropoff_longitude - x_y[1])**2) <= radius] \n",
    "\n",
    "pickup_brooklyn_11  = y_data_011[np.sqrt((y_data_011.pickup_latitude - x_y[0])**2 \n",
    "                                     +(y_data_011.pickup_longitude - x_y[1])**2) <= radius] \n",
    "\n",
    "trips_in_Bk_11 = pickup_brooklyn_11.append(dropoff_brooklyn_11)\n",
    "\n",
    "trips_in_Bk_11.to_csv('trips_in_BK_11.CSV', sep='\\t')\n",
    "print (pickup_brooklyn_11.shape)\n",
    "print (dropoff_brooklyn_11.shape)\n",
    "print (trips_in_Bk_11.shape)"
   ]
  },
  {
   "cell_type": "code",
   "execution_count": null,
   "metadata": {
    "collapsed": false
   },
   "outputs": [],
   "source": [
    "dropoff_brooklyn_12 = y_data_012[np.sqrt((y_data_012.dropoff_latitude - x_y[0])**2 \n",
    "                                     +(y_data_012.dropoff_longitude - x_y[1])**2) <= radius] \n",
    "\n",
    "pickup_brooklyn_12  = y_data_012[np.sqrt((y_data_012.pickup_latitude - x_y[0])**2 \n",
    "                                     +(y_data_012.pickup_longitude - x_y[1])**2) <= radius] \n",
    "\n",
    "trips_in_Bk_12 = pickup_brooklyn_12.append(dropoff_brooklyn_12)\n",
    "\n",
    "trips_in_Bk_12.to_csv('trips_in_BK_12.CSV', sep='\\t')\n",
    "print (pickup_brooklyn_12.shape)\n",
    "print (dropoff_brooklyn_12.shape)\n",
    "print (trips_in_Bk_12.shape)"
   ]
  },
  {
   "cell_type": "code",
   "execution_count": null,
   "metadata": {
    "collapsed": false
   },
   "outputs": [],
   "source": [
    "dropoff_brooklyn_13 = y_data_013[np.sqrt((y_data_013.dropoff_latitude - x_y[0])**2 \n",
    "                                     +(y_data_013.dropoff_longitude - x_y[1])**2) <= radius] \n",
    "\n",
    "pickup_brooklyn_13  = y_data_013[np.sqrt((y_data_013.pickup_latitude - x_y[0])**2 \n",
    "                                     +(y_data_013.pickup_longitude - x_y[1])**2) <= radius] \n",
    "\n",
    "trips_in_Bk_13 = pickup_brooklyn_13.append(dropoff_brooklyn_13)\n",
    "\n",
    "trips_in_Bk_13.to_csv('trips_in_BK_13.CSV', sep='\\t')\n",
    "print (pickup_brooklyn_13.shape)\n",
    "print (dropoff_brooklyn_13.shape)\n",
    "print (trips_in_Bk_13.shape)"
   ]
  },
  {
   "cell_type": "code",
   "execution_count": null,
   "metadata": {
    "collapsed": false
   },
   "outputs": [],
   "source": [
    "dropoff_brooklyn_14 = y_data_013[np.sqrt((y_data_014.dropoff_latitude - x_y[0])**2 \n",
    "                                     +(y_data_014.dropoff_longitude - x_y[1])**2) <= radius] \n",
    "\n",
    "pickup_brooklyn_14  = y_data_013[np.sqrt((y_data_014.pickup_latitude - x_y[0])**2 \n",
    "                                     +(y_data_014.pickup_longitude - x_y[1])**2) <= radius] \n",
    "\n",
    "trips_in_Bk_14 = pickup_brooklyn_14.append(dropoff_brooklyn_14)\n",
    "\n",
    "trips_in_Bk_14.to_csv('trips_in_BK_14.CSV', sep='\\t')\n",
    "print (pickup_brooklyn_14.shape)\n",
    "print (dropoff_brooklyn_14.shape)\n",
    "print (trips_in_Bk_14.shape)"
   ]
  },
  {
   "cell_type": "code",
   "execution_count": null,
   "metadata": {
    "collapsed": false
   },
   "outputs": [],
   "source": [
    "tb = {'2010': trips_in_Bk_10.count().iloc[0], \n",
    "      '2011': trips_in_Bk_11.count().iloc[0],\n",
    "      '2012': trips_in_Bk_12.count().iloc[0],\n",
    "      '2013': trips_in_Bk_13.count().iloc[0],\n",
    "      '2014': trips_in_Bk_14.count().iloc[0],}\n",
    "trips_in_Bk = pd.Series(tb)\n",
    "trips_in_Bk\n"
   ]
  },
  {
   "cell_type": "code",
   "execution_count": null,
   "metadata": {
    "collapsed": false
   },
   "outputs": [],
   "source": [
    "ax = trips_in_Bk.plot(kind='bar', title =\"Distribution of trips over time\", figsize=(14, 7), legend=True, fontsize=12)\n",
    "ax.set_xlabel(\"Years\", fontsize=12)\n",
    "ax.set_ylabel(\"Trips\", fontsize=12)\n",
    "plt.grid(True)\n",
    "plt.show()\n"
   ]
  },
  {
   "cell_type": "markdown",
   "metadata": {
    "collapsed": true
   },
   "source": [
    "[All_trips](https://smallchey.carto.com/builder/a8044a82-b7ff-11e6-8171-0ef7f98ade21/embed)\n",
    "\n",
    "[Brooklyn_Trips_2010](https://smallchey.carto.com/builder/a50b51d0-b7e2-11e6-a982-0ecd1babdde5/embed)\n",
    "\n",
    "[Brooklyn_Trips_2011](https://smallchey.carto.com/builder/4451bc96-b7ea-11e6-8dc3-0e98b61680bf/embed)\n",
    "\n",
    "[Brooklyn_Trips_2012](https://smallchey.carto.com/builder/7bba8d9a-b7ed-11e6-8c80-0e3a376473ab/embed)\n",
    "\n",
    "[Brooklyn_Trips_2013](https://smallchey.carto.com/builder/9e96c2d8-b7ee-11e6-af99-0ef24382571b/embed)\n",
    "\n",
    "[Brooklyn_Trips_2014](https://smallchey.carto.com/builder/67c3d06a-b7ef-11e6-b61c-0ef24382571b/embed)\n",
    "\n"
   ]
  },
  {
   "cell_type": "code",
   "execution_count": null,
   "metadata": {
    "collapsed": false
   },
   "outputs": [],
   "source": [
    "\n",
    "\n",
    "scl = [ [0,\"rgb(5, 10, 172)\"],[0.35,\"rgb(40, 60, 190)\"],[0.5,\"rgb(70, 100, 245)\"],\\\n",
    "    [0.6,\"rgb(90, 120, 245)\"],[0.7,\"rgb(106, 137, 247)\"],[1,\"rgb(220, 220, 220)\"] ]\n",
    "\n",
    "data = [ dict(\n",
    "        type = 'scattergeo',\n",
    "        locationmode = 'USA-states',\n",
    "        lon = y_data_014['pickup_longitude'],\n",
    "        lat = y_data_014['pickup_latitude'],\n",
    "        #text = df['text'],\n",
    "        mode = 'markers',\n",
    "        marker = dict( \n",
    "            size = 8, \n",
    "            opacity = 0.8,\n",
    "            reversescale = True,\n",
    "            autocolorscale = True,\n",
    "            symbol = 'circle',\n",
    "            line = dict(\n",
    "                width=1,\n",
    "                color='rgba(102, 102, 102)'\n",
    "            ),\n",
    "            colorscale = scl,\n",
    "            cmin = 0,\n",
    "            #color = df_sum_arrivals['cnt'],\n",
    "            #cmax = df_sum_arrivals['cnt'].max(),\n",
    "            #colorbar=dict(\n",
    "               # title=\"Trips in BK\"\n",
    "            #)\n",
    "        ))]\n",
    "\n",
    "layout = dict(\n",
    "        title = 'Most trafficked US airports<br>(Hover for airport names)',\n",
    "        #colorbar = True,   \n",
    "        geo = dict(\n",
    "            scope='usa',\n",
    "            projection=dict( type='albers usa' ),\n",
    "            showland = True,\n",
    "            landcolor = \"rgb(250, 250, 250)\",\n",
    "            subunitcolor = \"rgb(217, 217, 217)\",\n",
    "            countrycolor = \"rgb(217, 217, 217)\",\n",
    "            countrywidth = 0.5,\n",
    "            subunitwidth = 1    \n",
    "        ),\n",
    "    )\n",
    "\n",
    "#fig = dict( data=data, layout=layout )\n",
    "#url = py.plot( fig, validate=False, filename='d3-airports' )\n",
    "fig = Figure( data=data, layout=layout )\n",
    "py.iplot(fig, filename='k')\n"
   ]
  },
  {
   "cell_type": "code",
   "execution_count": null,
   "metadata": {
    "collapsed": false
   },
   "outputs": [],
   "source": [
    "from mpl_toolkits.basemap import Basemap\n",
    "import matplotlib.pyplot as plt\n",
    "from mpl_toolkits.axes_grid1.inset_locator import zoomed_inset_axes\n",
    "from mpl_toolkits.axes_grid1.inset_locator import mark_inset\n",
    "import numpy as np\n",
    "\n",
    "fig = plt.figure()\n",
    "ax = fig.add_subplot(111)\n",
    "\n",
    "map = Basemap(projection='cyl', \n",
    "              lat_0=0, lon_0=0)\n",
    "map.drawmapboundary(fill_color='#7777ff')\n",
    "map.fillcontinents(color='#ddaa66', lake_color='#7777ff', zorder=0)\n",
    "map.drawcoastlines()\n",
    "\n",
    "lons = y_data_014.pickup_longitude.values\n",
    "lats = y_data_014.pickup_latitude.values\n",
    "#cases = np.array([1971, 7069, 6073, 4, 6, 20, 1, 1])\n",
    "#deaths = np.array([1192, 2964, 1250, 1, 5, 8, 0, 0])\n",
    "#places = np.array(['Guinea', 'Liberia', 'Sierra Leone','United States', 'Mali', 'Nigeria', 'Senegal', 'Spain'])\n",
    "\n",
    "x, y = map(lons, lats)\n",
    "\n",
    "map.scatter(x, y, c='r', alpha=0.5)\n",
    "\n",
    "axins = zoomed_inset_axes(ax, 7, loc=1)\n",
    "axins.set_xlim(-20, 0)\n",
    "axins.set_ylim(3, 18)\n",
    "\n",
    "plt.xticks(visible=False)\n",
    "plt.yticks(visible=False)\n",
    "\n",
    "map2 = Basemap(llcrnrlon=-74.260380,llcrnrlat=40.485808,\n",
    "               urcrnrlon=-73.699206,urcrnrlat=40.917691, ax=axins, ellps='WGS84',\n",
    "            resolution='h', area_thresh=0.6)\n",
    "\n",
    "map2.drawmapboundary(fill_color='#7777ff')\n",
    "map2.fillcontinents(color='#ddaa66', lake_color='#7777ff', zorder=0)\n",
    "map2.drawcoastlines()\n",
    "map2.drawcountries()\n",
    "map2.drawstates()\n",
    "\n",
    "map2.scatter(x, y, c='r', alpha=0.5)\n",
    "\n",
    "mark_inset(ax, axins, loc1=2, loc2=4, fc=\"none\", ec=\"0.5\")\n",
    "\n",
    "plt.show()"
   ]
  },
  {
   "cell_type": "code",
   "execution_count": null,
   "metadata": {
    "collapsed": false
   },
   "outputs": [],
   "source": [
    "\n",
    "import matplotlib.pyplot as plt\n",
    "from matplotlib.patches import Polygon\n",
    "from mpl_toolkits.basemap import Basemap\n",
    "\n",
    "# create the map\n",
    "map = Basemap(llcrnrlon=-74.260380,llcrnrlat=40.485808,\n",
    "               urcrnrlon=-73.699206,urcrnrlat=40.917691, ax=axins, ellps='WGS84',\n",
    "            resolution='h', area_thresh=0.6)\n",
    "# load the shape file with \"states\"\n",
    "map.readshapefile('shapefiles/geo_export_7e54be64-4015-4221-9615-1045aa077da2',name = 'Brooklyn',drawbounds=True)\n",
    "\n",
    "# set a geo coordinate (for example, new york)\n",
    "lat = 0\n",
    "lon = 0\n",
    "x,y = map(lat, lon)\n",
    "\n",
    "# place it on the map\n",
    "map.plot(x, y, 'ro', markersize=4)\n",
    "map.drawmapboundary(fill_color='#7777ff')\n",
    "map.fillcontinents(color='#ddaa66', lake_color='#7777ff', zorder=0)\n",
    "map.drawcoastlines()\n",
    "\n",
    "plt.show()\n"
   ]
  },
  {
   "cell_type": "code",
   "execution_count": null,
   "metadata": {
    "collapsed": false
   },
   "outputs": [],
   "source": [
    "from mpl_toolkits.basemap import Basemap\n",
    "import matplotlib.pyplot as plt\n",
    "\n",
    "map = Basemap(llcrnrlon=-0.5,llcrnrlat=39.8,urcrnrlon=4.,urcrnrlat=43.,\n",
    "             resolution='i', projection='tmerc', lat_0 = 39.5, lon_0 = 1)\n",
    "\n",
    "map.drawmapboundary()\n",
    "map.fillcontinents(color='#ddaa66',lake_color='aqua')\n",
    "map.drawcoastlines()\n",
    "\n",
    "map.readshapefile('shapefiles/geo_export_7e54be64-4015-4221-9615-1045aa077da2', 'geo_export_7e54be64-4015-4221-9615-1045aa077da2', \n",
    "                 drawbounds=True)\n",
    "\n",
    "plt.show()"
   ]
  },
  {
   "cell_type": "code",
   "execution_count": null,
   "metadata": {
    "collapsed": false
   },
   "outputs": [],
   "source": [
    "y_data_014.to_csv('y_data_014.CSV', sep='\\t')\n",
    "y_data_014.shape"
   ]
  },
  {
   "cell_type": "code",
   "execution_count": null,
   "metadata": {
    "collapsed": false
   },
   "outputs": [],
   "source": [
    "\"\"\"\"y =y_data_014.append(y_data_013)\n",
    "x =y_data_012.append(y_data_011)\n",
    "f1 = x.append(y)\n",
    "f2 = f1.append(y_data_010)\n",
    "f2.to_csv('all.CSV', sep='\\t')\n",
    "f2.shape\"\"\""
   ]
  },
  {
   "cell_type": "code",
   "execution_count": null,
   "metadata": {
    "collapsed": true
   },
   "outputs": [],
   "source": []
  }
 ],
 "metadata": {
  "anaconda-cloud": {},
  "kernelspec": {
   "display_name": "Python [Root]",
   "language": "python",
   "name": "Python [Root]"
  },
  "language_info": {
   "codemirror_mode": {
    "name": "ipython",
    "version": 3
   },
   "file_extension": ".py",
   "mimetype": "text/x-python",
   "name": "python",
   "nbconvert_exporter": "python",
   "pygments_lexer": "ipython3",
   "version": "3.5.2"
  }
 },
 "nbformat": 4,
 "nbformat_minor": 0
}
