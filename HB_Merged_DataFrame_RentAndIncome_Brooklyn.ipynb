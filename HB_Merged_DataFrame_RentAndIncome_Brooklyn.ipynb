{
 "cells": [
  {
   "cell_type": "markdown",
   "metadata": {},
   "source": [
    "# Brooklyn Rent And Income Of 5 Years Period (2010-2014) By Zip Codes"
   ]
  },
  {
   "cell_type": "code",
   "execution_count": 1,
   "metadata": {
    "collapsed": false
   },
   "outputs": [
    {
     "name": "stderr",
     "output_type": "stream",
     "text": [
      "//anaconda/lib/python3.5/site-packages/IPython/core/interactiveshell.py:2881: FutureWarning: \n",
      "mpl_style had been deprecated and will be removed in a future version.\n",
      "Use `matplotlib.pyplot.style.use` instead.\n",
      "\n",
      "  exec(code_obj, self.user_global_ns, self.user_ns)\n"
     ]
    }
   ],
   "source": [
    "# special IPython command to prepare the notebook for matplotlib\n",
    "# Render our plots inline\n",
    "%matplotlib inline\n",
    "\n",
    "%matplotlib inline \n",
    "import numpy as np\n",
    "import pandas as pd\n",
    "import matplotlib.pyplot as plt\n",
    "\n",
    "#added this because it's indicated as useful but not imported\n",
    "import urllib\n",
    "from zipfile import ZipFile\n",
    "from io import BytesIO\n",
    "import os\n",
    "import json\n",
    "from bs4 import BeautifulSoup as bs\n",
    "import re\n",
    "\n",
    "from matplotlib import animation, rc\n",
    "from IPython.display import display, HTML\n",
    "import sys\n",
    "import urllib\n",
    "import urllib.request\n",
    "from urllib.request import urlretrieve\n",
    "\n",
    "pd.set_option('display.mpl_style', 'default') # Make the graphs a bit prettier\n",
    "plt.rcParams['figure.figsize'] = (15, 5)"
   ]
  },
  {
   "cell_type": "markdown",
   "metadata": {},
   "source": [
    "Reading Income file from data files"
   ]
  },
  {
   "cell_type": "code",
   "execution_count": 2,
   "metadata": {
    "collapsed": true
   },
   "outputs": [],
   "source": [
    "income_df = pd.read_csv('data/incomeDF.csv',keep_default_na=False, na_values=[\"\"])"
   ]
  },
  {
   "cell_type": "code",
   "execution_count": 3,
   "metadata": {
    "collapsed": false
   },
   "outputs": [],
   "source": [
    "#income_df.head()"
   ]
  },
  {
   "cell_type": "code",
   "execution_count": 4,
   "metadata": {
    "collapsed": false
   },
   "outputs": [],
   "source": [
    "#income_df.drop(income_df.columns[0], axis=1, inplace=True)"
   ]
  },
  {
   "cell_type": "code",
   "execution_count": 5,
   "metadata": {
    "collapsed": false
   },
   "outputs": [
    {
     "data": {
      "text/html": [
       "<div>\n",
       "<table border=\"1\" class=\"dataframe\">\n",
       "  <thead>\n",
       "    <tr style=\"text-align: right;\">\n",
       "      <th></th>\n",
       "      <th>Unnamed: 0</th>\n",
       "      <th>total</th>\n",
       "      <th>0</th>\n",
       "      <th>10</th>\n",
       "      <th>15</th>\n",
       "      <th>20</th>\n",
       "      <th>25</th>\n",
       "      <th>30</th>\n",
       "      <th>35</th>\n",
       "      <th>40</th>\n",
       "      <th>45</th>\n",
       "      <th>50</th>\n",
       "      <th>60</th>\n",
       "      <th>75</th>\n",
       "      <th>100</th>\n",
       "      <th>125</th>\n",
       "      <th>150</th>\n",
       "      <th>200</th>\n",
       "      <th>ZIP</th>\n",
       "      <th>year</th>\n",
       "    </tr>\n",
       "  </thead>\n",
       "  <tbody>\n",
       "    <tr>\n",
       "      <th>0</th>\n",
       "      <td>2694</td>\n",
       "      <td>23254</td>\n",
       "      <td>1656</td>\n",
       "      <td>706</td>\n",
       "      <td>618</td>\n",
       "      <td>710</td>\n",
       "      <td>403</td>\n",
       "      <td>643</td>\n",
       "      <td>596</td>\n",
       "      <td>686</td>\n",
       "      <td>547</td>\n",
       "      <td>1303</td>\n",
       "      <td>1853</td>\n",
       "      <td>2929</td>\n",
       "      <td>1954</td>\n",
       "      <td>1456</td>\n",
       "      <td>2219</td>\n",
       "      <td>4975</td>\n",
       "      <td>11201</td>\n",
       "      <td>2011</td>\n",
       "    </tr>\n",
       "    <tr>\n",
       "      <th>1</th>\n",
       "      <td>2695</td>\n",
       "      <td>27145</td>\n",
       "      <td>2740</td>\n",
       "      <td>1244</td>\n",
       "      <td>1525</td>\n",
       "      <td>1486</td>\n",
       "      <td>1352</td>\n",
       "      <td>1158</td>\n",
       "      <td>1397</td>\n",
       "      <td>1453</td>\n",
       "      <td>1449</td>\n",
       "      <td>1876</td>\n",
       "      <td>2761</td>\n",
       "      <td>3418</td>\n",
       "      <td>2316</td>\n",
       "      <td>1410</td>\n",
       "      <td>994</td>\n",
       "      <td>566</td>\n",
       "      <td>11203</td>\n",
       "      <td>2011</td>\n",
       "    </tr>\n",
       "    <tr>\n",
       "      <th>2</th>\n",
       "      <td>2696</td>\n",
       "      <td>24979</td>\n",
       "      <td>1939</td>\n",
       "      <td>1920</td>\n",
       "      <td>1705</td>\n",
       "      <td>1564</td>\n",
       "      <td>1580</td>\n",
       "      <td>1373</td>\n",
       "      <td>1333</td>\n",
       "      <td>1223</td>\n",
       "      <td>1038</td>\n",
       "      <td>2025</td>\n",
       "      <td>2536</td>\n",
       "      <td>2655</td>\n",
       "      <td>1572</td>\n",
       "      <td>900</td>\n",
       "      <td>1043</td>\n",
       "      <td>573</td>\n",
       "      <td>11204</td>\n",
       "      <td>2011</td>\n",
       "    </tr>\n",
       "    <tr>\n",
       "      <th>3</th>\n",
       "      <td>2697</td>\n",
       "      <td>14033</td>\n",
       "      <td>2131</td>\n",
       "      <td>1017</td>\n",
       "      <td>874</td>\n",
       "      <td>866</td>\n",
       "      <td>659</td>\n",
       "      <td>614</td>\n",
       "      <td>488</td>\n",
       "      <td>570</td>\n",
       "      <td>324</td>\n",
       "      <td>889</td>\n",
       "      <td>1193</td>\n",
       "      <td>1255</td>\n",
       "      <td>1160</td>\n",
       "      <td>581</td>\n",
       "      <td>640</td>\n",
       "      <td>772</td>\n",
       "      <td>11205</td>\n",
       "      <td>2011</td>\n",
       "    </tr>\n",
       "    <tr>\n",
       "      <th>4</th>\n",
       "      <td>2698</td>\n",
       "      <td>27668</td>\n",
       "      <td>5551</td>\n",
       "      <td>2800</td>\n",
       "      <td>2612</td>\n",
       "      <td>1950</td>\n",
       "      <td>1551</td>\n",
       "      <td>1643</td>\n",
       "      <td>1079</td>\n",
       "      <td>1405</td>\n",
       "      <td>1172</td>\n",
       "      <td>1669</td>\n",
       "      <td>1675</td>\n",
       "      <td>1911</td>\n",
       "      <td>1170</td>\n",
       "      <td>753</td>\n",
       "      <td>478</td>\n",
       "      <td>249</td>\n",
       "      <td>11206</td>\n",
       "      <td>2011</td>\n",
       "    </tr>\n",
       "  </tbody>\n",
       "</table>\n",
       "</div>"
      ],
      "text/plain": [
       "   Unnamed: 0  total     0    10    15    20    25    30    35    40    45  \\\n",
       "0        2694  23254  1656   706   618   710   403   643   596   686   547   \n",
       "1        2695  27145  2740  1244  1525  1486  1352  1158  1397  1453  1449   \n",
       "2        2696  24979  1939  1920  1705  1564  1580  1373  1333  1223  1038   \n",
       "3        2697  14033  2131  1017   874   866   659   614   488   570   324   \n",
       "4        2698  27668  5551  2800  2612  1950  1551  1643  1079  1405  1172   \n",
       "\n",
       "     50    60    75   100   125   150   200    ZIP  year  \n",
       "0  1303  1853  2929  1954  1456  2219  4975  11201  2011  \n",
       "1  1876  2761  3418  2316  1410   994   566  11203  2011  \n",
       "2  2025  2536  2655  1572   900  1043   573  11204  2011  \n",
       "3   889  1193  1255  1160   581   640   772  11205  2011  \n",
       "4  1669  1675  1911  1170   753   478   249  11206  2011  "
      ]
     },
     "execution_count": 5,
     "metadata": {},
     "output_type": "execute_result"
    }
   ],
   "source": [
    "income_df.head()"
   ]
  },
  {
   "cell_type": "code",
   "execution_count": 6,
   "metadata": {
    "collapsed": false
   },
   "outputs": [],
   "source": [
    "# place the DataFrames side by side\n",
    "#horizontal_stack = pd.concat([income_df, ], axis=1)"
   ]
  },
  {
   "cell_type": "code",
   "execution_count": null,
   "metadata": {
    "collapsed": true
   },
   "outputs": [],
   "source": []
  },
  {
   "cell_type": "code",
   "execution_count": null,
   "metadata": {
    "collapsed": true
   },
   "outputs": [],
   "source": []
  }
 ],
 "metadata": {
  "anaconda-cloud": {},
  "kernelspec": {
   "display_name": "Python [conda root]",
   "language": "python",
   "name": "conda-root-py"
  },
  "language_info": {
   "codemirror_mode": {
    "name": "ipython",
    "version": 3
   },
   "file_extension": ".py",
   "mimetype": "text/x-python",
   "name": "python",
   "nbconvert_exporter": "python",
   "pygments_lexer": "ipython3",
   "version": "3.5.2"
  }
 },
 "nbformat": 4,
 "nbformat_minor": 1
}
