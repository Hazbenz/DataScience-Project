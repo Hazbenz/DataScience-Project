{
 "cells": [
  {
   "cell_type": "markdown",
   "metadata": {},
   "source": [
    "# Brooklyn Rent And Income Of 4 Years Period (2011-2014) By Zip Codes"
   ]
  },
  {
   "cell_type": "code",
   "execution_count": 217,
   "metadata": {
    "collapsed": false
   },
   "outputs": [
    {
     "name": "stderr",
     "output_type": "stream",
     "text": [
      "//anaconda/lib/python3.5/site-packages/IPython/core/interactiveshell.py:2881: FutureWarning: \n",
      "mpl_style had been deprecated and will be removed in a future version.\n",
      "Use `matplotlib.pyplot.style.use` instead.\n",
      "\n",
      "  exec(code_obj, self.user_global_ns, self.user_ns)\n"
     ]
    }
   ],
   "source": [
    "# special IPython command to prepare the notebook for matplotlib\n",
    "# Render our plots inline\n",
    "%matplotlib inline\n",
    "\n",
    "%matplotlib inline \n",
    "import numpy as np\n",
    "import pandas as pd\n",
    "import matplotlib.pyplot as plt\n",
    "\n",
    "#added this because it's indicated as useful but not imported\n",
    "import urllib\n",
    "from zipfile import ZipFile\n",
    "from io import BytesIO\n",
    "import os\n",
    "import json\n",
    "from bs4 import BeautifulSoup as bs\n",
    "import re\n",
    "\n",
    "from matplotlib import animation, rc\n",
    "from IPython.display import display, HTML\n",
    "import sys\n",
    "import urllib\n",
    "import urllib.request\n",
    "from urllib.request import urlretrieve\n",
    "\n",
    "pd.set_option('display.mpl_style', 'default') # Make the graphs a bit prettier\n",
    "plt.rcParams['figure.figsize'] = (15, 5)"
   ]
  },
  {
   "cell_type": "markdown",
   "metadata": {},
   "source": [
    "Reading Income file from data files"
   ]
  },
  {
   "cell_type": "code",
   "execution_count": 218,
   "metadata": {
    "collapsed": false
   },
   "outputs": [],
   "source": [
    "income_df = pd.read_csv('data/incomeDF.csv',index_col=0, keep_default_na=False, na_values=[\"\"])\n",
    "\n",
    "bk_rent_14 = pd.read_csv('data/Brooklyn_Rent_14.csv',keep_default_na=False, na_values=[\"\"],index_col=0)\n",
    "bk_rent_14.reset_index(drop=True, inplace=True)\n",
    "\n",
    "bk_rent_13 = pd.read_csv('data/Brooklyn_Rent13.csv',keep_default_na=False, na_values=[\"\"],index_col=0)\n",
    "bk_rent_13.reset_index(drop=True, inplace=True)\n",
    "\n",
    "bk_rent_12 = pd.read_csv('data/Brooklyn_Rent12.csv',keep_default_na=False, na_values=[\"\"],index_col=0)\n",
    "bk_rent_12.reset_index(drop=True, inplace=True)\n",
    "\n",
    "bk_rent_11 = pd.read_csv('data/Brooklyn_Rent11.csv',keep_default_na=False, na_values=[\"\"],index_col=0)\n",
    "bk_rent_11.reset_index(drop=True, inplace=True)\n",
    "\n",
    "income_df.reset_index(drop=True, inplace=True)"
   ]
  },
  {
   "cell_type": "code",
   "execution_count": 219,
   "metadata": {
    "collapsed": false
   },
   "outputs": [
    {
     "data": {
      "text/html": [
       "<div>\n",
       "<table border=\"1\" class=\"dataframe\">\n",
       "  <thead>\n",
       "    <tr style=\"text-align: right;\">\n",
       "      <th></th>\n",
       "      <th>StateName</th>\n",
       "      <th>CountyName</th>\n",
       "      <th>rent0</th>\n",
       "      <th>rent1</th>\n",
       "      <th>rent2</th>\n",
       "      <th>rent3</th>\n",
       "      <th>rent4</th>\n",
       "      <th>ZIP</th>\n",
       "      <th>Rent_Mean</th>\n",
       "      <th>year</th>\n",
       "    </tr>\n",
       "  </thead>\n",
       "  <tbody>\n",
       "    <tr>\n",
       "      <th>0</th>\n",
       "      <td>New York</td>\n",
       "      <td>Kings County</td>\n",
       "      <td>1540</td>\n",
       "      <td>1610</td>\n",
       "      <td>1910</td>\n",
       "      <td>2480</td>\n",
       "      <td>2930</td>\n",
       "      <td>11201</td>\n",
       "      <td>2094.0</td>\n",
       "      <td>2014</td>\n",
       "    </tr>\n",
       "    <tr>\n",
       "      <th>1</th>\n",
       "      <td>New York</td>\n",
       "      <td>Kings County</td>\n",
       "      <td>1070</td>\n",
       "      <td>1110</td>\n",
       "      <td>1320</td>\n",
       "      <td>1720</td>\n",
       "      <td>2020</td>\n",
       "      <td>11202</td>\n",
       "      <td>1448.0</td>\n",
       "      <td>2014</td>\n",
       "    </tr>\n",
       "    <tr>\n",
       "      <th>2</th>\n",
       "      <td>New York</td>\n",
       "      <td>Kings County</td>\n",
       "      <td>1000</td>\n",
       "      <td>1050</td>\n",
       "      <td>1240</td>\n",
       "      <td>1610</td>\n",
       "      <td>1900</td>\n",
       "      <td>11203</td>\n",
       "      <td>1360.0</td>\n",
       "      <td>2014</td>\n",
       "    </tr>\n",
       "    <tr>\n",
       "      <th>3</th>\n",
       "      <td>New York</td>\n",
       "      <td>Kings County</td>\n",
       "      <td>1070</td>\n",
       "      <td>1110</td>\n",
       "      <td>1320</td>\n",
       "      <td>1720</td>\n",
       "      <td>2020</td>\n",
       "      <td>11204</td>\n",
       "      <td>1448.0</td>\n",
       "      <td>2014</td>\n",
       "    </tr>\n",
       "    <tr>\n",
       "      <th>4</th>\n",
       "      <td>New York</td>\n",
       "      <td>Kings County</td>\n",
       "      <td>1260</td>\n",
       "      <td>1320</td>\n",
       "      <td>1560</td>\n",
       "      <td>2030</td>\n",
       "      <td>2390</td>\n",
       "      <td>11205</td>\n",
       "      <td>1712.0</td>\n",
       "      <td>2014</td>\n",
       "    </tr>\n",
       "  </tbody>\n",
       "</table>\n",
       "</div>"
      ],
      "text/plain": [
       "  StateName    CountyName  rent0  rent1  rent2  rent3  rent4    ZIP  \\\n",
       "0  New York  Kings County   1540   1610   1910   2480   2930  11201   \n",
       "1  New York  Kings County   1070   1110   1320   1720   2020  11202   \n",
       "2  New York  Kings County   1000   1050   1240   1610   1900  11203   \n",
       "3  New York  Kings County   1070   1110   1320   1720   2020  11204   \n",
       "4  New York  Kings County   1260   1320   1560   2030   2390  11205   \n",
       "\n",
       "   Rent_Mean  year  \n",
       "0     2094.0  2014  \n",
       "1     1448.0  2014  \n",
       "2     1360.0  2014  \n",
       "3     1448.0  2014  \n",
       "4     1712.0  2014  "
      ]
     },
     "execution_count": 219,
     "metadata": {},
     "output_type": "execute_result"
    }
   ],
   "source": [
    "bk_rent_14.head()"
   ]
  },
  {
   "cell_type": "markdown",
   "metadata": {},
   "source": [
    "Function test_function gets the income per year"
   ]
  },
  {
   "cell_type": "code",
   "execution_count": 227,
   "metadata": {
    "collapsed": false
   },
   "outputs": [],
   "source": [
    "def test_function(df,year):\n",
    "    if year == 2011:  \n",
    "        df['year'] = 2011\n",
    "    if year == 2012:\n",
    "        df['year'] = 2012\n",
    "    if year == 2013:\n",
    "        df['year'] = 2013\n",
    "    if year == 2014:\n",
    "        df['year'] = 2014    \n",
    "    return df"
   ]
  },
  {
   "cell_type": "code",
   "execution_count": 228,
   "metadata": {
    "collapsed": false
   },
   "outputs": [],
   "source": [
    "# place the DataFrames side by side\n",
    "#merging income and rent for 2014\n",
    "income_rent_14 = pd.merge(test_function(income_df,2014),bk_rent_14,how = \"inner\", on =['ZIP', 'year'])"
   ]
  },
  {
   "cell_type": "code",
   "execution_count": 229,
   "metadata": {
    "collapsed": false
   },
   "outputs": [
    {
     "data": {
      "text/html": [
       "<div>\n",
       "<table border=\"1\" class=\"dataframe\">\n",
       "  <thead>\n",
       "    <tr style=\"text-align: right;\">\n",
       "      <th></th>\n",
       "      <th>total</th>\n",
       "      <th>0</th>\n",
       "      <th>10</th>\n",
       "      <th>15</th>\n",
       "      <th>20</th>\n",
       "      <th>25</th>\n",
       "      <th>30</th>\n",
       "      <th>35</th>\n",
       "      <th>40</th>\n",
       "      <th>45</th>\n",
       "      <th>...</th>\n",
       "      <th>ZIP</th>\n",
       "      <th>year</th>\n",
       "      <th>StateName</th>\n",
       "      <th>CountyName</th>\n",
       "      <th>rent0</th>\n",
       "      <th>rent1</th>\n",
       "      <th>rent2</th>\n",
       "      <th>rent3</th>\n",
       "      <th>rent4</th>\n",
       "      <th>Rent_Mean</th>\n",
       "    </tr>\n",
       "  </thead>\n",
       "  <tbody>\n",
       "    <tr>\n",
       "      <th>0</th>\n",
       "      <td>23254</td>\n",
       "      <td>1656</td>\n",
       "      <td>706</td>\n",
       "      <td>618</td>\n",
       "      <td>710</td>\n",
       "      <td>403</td>\n",
       "      <td>643</td>\n",
       "      <td>596</td>\n",
       "      <td>686</td>\n",
       "      <td>547</td>\n",
       "      <td>...</td>\n",
       "      <td>11201</td>\n",
       "      <td>2014</td>\n",
       "      <td>New York</td>\n",
       "      <td>Kings County</td>\n",
       "      <td>1540</td>\n",
       "      <td>1610</td>\n",
       "      <td>1910</td>\n",
       "      <td>2480</td>\n",
       "      <td>2930</td>\n",
       "      <td>2094.0</td>\n",
       "    </tr>\n",
       "    <tr>\n",
       "      <th>1</th>\n",
       "      <td>23739</td>\n",
       "      <td>1590</td>\n",
       "      <td>795</td>\n",
       "      <td>671</td>\n",
       "      <td>714</td>\n",
       "      <td>529</td>\n",
       "      <td>725</td>\n",
       "      <td>561</td>\n",
       "      <td>593</td>\n",
       "      <td>642</td>\n",
       "      <td>...</td>\n",
       "      <td>11201</td>\n",
       "      <td>2014</td>\n",
       "      <td>New York</td>\n",
       "      <td>Kings County</td>\n",
       "      <td>1540</td>\n",
       "      <td>1610</td>\n",
       "      <td>1910</td>\n",
       "      <td>2480</td>\n",
       "      <td>2930</td>\n",
       "      <td>2094.0</td>\n",
       "    </tr>\n",
       "    <tr>\n",
       "      <th>2</th>\n",
       "      <td>24389</td>\n",
       "      <td>1542</td>\n",
       "      <td>867</td>\n",
       "      <td>733</td>\n",
       "      <td>790</td>\n",
       "      <td>545</td>\n",
       "      <td>774</td>\n",
       "      <td>605</td>\n",
       "      <td>569</td>\n",
       "      <td>621</td>\n",
       "      <td>...</td>\n",
       "      <td>11201</td>\n",
       "      <td>2014</td>\n",
       "      <td>New York</td>\n",
       "      <td>Kings County</td>\n",
       "      <td>1540</td>\n",
       "      <td>1610</td>\n",
       "      <td>1910</td>\n",
       "      <td>2480</td>\n",
       "      <td>2930</td>\n",
       "      <td>2094.0</td>\n",
       "    </tr>\n",
       "    <tr>\n",
       "      <th>3</th>\n",
       "      <td>24889</td>\n",
       "      <td>1419</td>\n",
       "      <td>901</td>\n",
       "      <td>650</td>\n",
       "      <td>899</td>\n",
       "      <td>571</td>\n",
       "      <td>700</td>\n",
       "      <td>686</td>\n",
       "      <td>671</td>\n",
       "      <td>551</td>\n",
       "      <td>...</td>\n",
       "      <td>11201</td>\n",
       "      <td>2014</td>\n",
       "      <td>New York</td>\n",
       "      <td>Kings County</td>\n",
       "      <td>1540</td>\n",
       "      <td>1610</td>\n",
       "      <td>1910</td>\n",
       "      <td>2480</td>\n",
       "      <td>2930</td>\n",
       "      <td>2094.0</td>\n",
       "    </tr>\n",
       "    <tr>\n",
       "      <th>4</th>\n",
       "      <td>27145</td>\n",
       "      <td>2740</td>\n",
       "      <td>1244</td>\n",
       "      <td>1525</td>\n",
       "      <td>1486</td>\n",
       "      <td>1352</td>\n",
       "      <td>1158</td>\n",
       "      <td>1397</td>\n",
       "      <td>1453</td>\n",
       "      <td>1449</td>\n",
       "      <td>...</td>\n",
       "      <td>11203</td>\n",
       "      <td>2014</td>\n",
       "      <td>New York</td>\n",
       "      <td>Kings County</td>\n",
       "      <td>1000</td>\n",
       "      <td>1050</td>\n",
       "      <td>1240</td>\n",
       "      <td>1610</td>\n",
       "      <td>1900</td>\n",
       "      <td>1360.0</td>\n",
       "    </tr>\n",
       "  </tbody>\n",
       "</table>\n",
       "<p>5 rows × 27 columns</p>\n",
       "</div>"
      ],
      "text/plain": [
       "   total     0    10    15    20    25    30    35    40    45    ...     \\\n",
       "0  23254  1656   706   618   710   403   643   596   686   547    ...      \n",
       "1  23739  1590   795   671   714   529   725   561   593   642    ...      \n",
       "2  24389  1542   867   733   790   545   774   605   569   621    ...      \n",
       "3  24889  1419   901   650   899   571   700   686   671   551    ...      \n",
       "4  27145  2740  1244  1525  1486  1352  1158  1397  1453  1449    ...      \n",
       "\n",
       "     ZIP  year  StateName    CountyName  rent0  rent1  rent2  rent3  rent4  \\\n",
       "0  11201  2014   New York  Kings County   1540   1610   1910   2480   2930   \n",
       "1  11201  2014   New York  Kings County   1540   1610   1910   2480   2930   \n",
       "2  11201  2014   New York  Kings County   1540   1610   1910   2480   2930   \n",
       "3  11201  2014   New York  Kings County   1540   1610   1910   2480   2930   \n",
       "4  11203  2014   New York  Kings County   1000   1050   1240   1610   1900   \n",
       "\n",
       "  Rent_Mean  \n",
       "0    2094.0  \n",
       "1    2094.0  \n",
       "2    2094.0  \n",
       "3    2094.0  \n",
       "4    1360.0  \n",
       "\n",
       "[5 rows x 27 columns]"
      ]
     },
     "execution_count": 229,
     "metadata": {},
     "output_type": "execute_result"
    }
   ],
   "source": [
    "income_rent_14.head()"
   ]
  },
  {
   "cell_type": "code",
   "execution_count": 230,
   "metadata": {
    "collapsed": false
   },
   "outputs": [],
   "source": [
    "income_rent_14.to_csv('data/BK_merged_14.csv')"
   ]
  },
  {
   "cell_type": "code",
   "execution_count": 231,
   "metadata": {
    "collapsed": false
   },
   "outputs": [],
   "source": [
    "income_rent_13 = pd.merge(test_function(income_df,2013),bk_rent_13,how = \"inner\", on =['ZIP', 'year'])\n",
    "income_rent_13.to_csv('data/BK_merged_13.csv')"
   ]
  },
  {
   "cell_type": "code",
   "execution_count": 232,
   "metadata": {
    "collapsed": false
   },
   "outputs": [],
   "source": [
    "income_rent_12 = pd.merge(test_function(income_df,2012),bk_rent_12,how = \"inner\", on =['ZIP', 'year'])\n",
    "income_rent_12.to_csv('data/BK_merged_12.csv')"
   ]
  },
  {
   "cell_type": "code",
   "execution_count": 233,
   "metadata": {
    "collapsed": false
   },
   "outputs": [],
   "source": [
    "income_rent_11 = pd.merge(test_function(income_df,2011),bk_rent_11,how = \"inner\", on =['ZIP', 'year'])\n",
    "income_rent_11.to_csv('data/BK_merged_11.csv')"
   ]
  },
  {
   "cell_type": "code",
   "execution_count": null,
   "metadata": {
    "collapsed": true
   },
   "outputs": [],
   "source": []
  },
  {
   "cell_type": "code",
   "execution_count": null,
   "metadata": {
    "collapsed": true
   },
   "outputs": [],
   "source": []
  }
 ],
 "metadata": {
  "anaconda-cloud": {},
  "kernelspec": {
   "display_name": "Python [conda root]",
   "language": "python",
   "name": "conda-root-py"
  },
  "language_info": {
   "codemirror_mode": {
    "name": "ipython",
    "version": 3
   },
   "file_extension": ".py",
   "mimetype": "text/x-python",
   "name": "python",
   "nbconvert_exporter": "python",
   "pygments_lexer": "ipython3",
   "version": "3.5.2"
  }
 },
 "nbformat": 4,
 "nbformat_minor": 1
}
