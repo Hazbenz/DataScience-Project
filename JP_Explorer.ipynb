{
 "cells": [
  {
   "cell_type": "markdown",
   "metadata": {},
   "source": [
    "![](http://mymommyology.com/wp-content/uploads/2011/06/dora-the-explorer-logo1.jpg)"
   ]
  },
  {
   "cell_type": "code",
   "execution_count": 1,
   "metadata": {
    "collapsed": true
   },
   "outputs": [],
   "source": [
    "# special IPython command to prepare the notebook for matplotlib\n",
    "%matplotlib inline \n",
    "\n",
    "import numpy as np\n",
    "import pandas as pd\n",
    "import matplotlib.pyplot as plt\n",
    "\n",
    "#added this because it's indicated as useful but not imported\n",
    "import urllib\n",
    "from zipfile import ZipFile\n",
    "from io import BytesIO\n",
    "import os"
   ]
  },
  {
   "cell_type": "markdown",
   "metadata": {},
   "source": [
    "I Definitely copy and pasted this next piece. I found it here:\n",
    "http://stackoverflow.com/a/13895723"
   ]
  },
  {
   "cell_type": "code",
   "execution_count": 2,
   "metadata": {
    "collapsed": true
   },
   "outputs": [],
   "source": [
    "def reporthook(blocknum, blocksize, totalsize):\n",
    "    readsofar = blocknum * blocksize\n",
    "    if totalsize > 0:\n",
    "        percent = readsofar * 1e2 / totalsize\n",
    "        s = \"\\r%5.1f%% %*d / %d\" % (\n",
    "            percent, len(str(totalsize)), readsofar, totalsize)\n",
    "        os.sys.stderr.write(s)\n",
    "        if readsofar >= totalsize: # near the end\n",
    "            os.sys.stderr.write(\"\\n\")\n",
    "    else: # total size is unknown\n",
    "        os.sys.stderr.write(\"read %d\\n\" % (readsofar,))"
   ]
  },
  {
   "cell_type": "code",
   "execution_count": 3,
   "metadata": {
    "collapsed": false
   },
   "outputs": [],
   "source": [
    "datadir = \"data\"\n",
    "try:\n",
    "    os.makedirs(datadir)\n",
    "except:\n",
    "    pass #directory already exists. :P"
   ]
  },
  {
   "cell_type": "markdown",
   "metadata": {},
   "source": [
    "## Q1: Is gentrification the cause of rent hikes in Crown Heights, Brooklyn?"
   ]
  },
  {
   "cell_type": "code",
   "execution_count": 4,
   "metadata": {
    "collapsed": true
   },
   "outputs": [],
   "source": [
    "#how do we answer this?"
   ]
  },
  {
   "cell_type": "markdown",
   "metadata": {},
   "source": [
    "## Q2: Are new people moving in below the median income?"
   ]
  },
  {
   "cell_type": "code",
   "execution_count": 13,
   "metadata": {
    "collapsed": true
   },
   "outputs": [],
   "source": [
    "some_zip_files = [\"https://www.huduser.gov/portal/datasets/fmr/fmr2016p/asq_zctadata_2013_00000to19999.zip\",\n",
    "                 \"https://www.huduser.gov/portal/datasets/fmr/fmr2017/FY2017_hypothetical_safmrs.xlsx\"]"
   ]
  },
  {
   "cell_type": "code",
   "execution_count": 14,
   "metadata": {
    "collapsed": false
   },
   "outputs": [
    {
     "name": "stdout",
     "output_type": "stream",
     "text": [
      "['asq_zctadata_2013_00000to19999.xlsx']\n"
     ]
    },
    {
     "name": "stderr",
     "output_type": "stream",
     "text": [
      " 97.5% 1064960 / 1092364"
     ]
    },
    {
     "name": "stdout",
     "output_type": "stream",
     "text": [
      "['[Content_Types].xml', '_rels/.rels', 'xl/_rels/workbook.xml.rels', 'xl/styles.xml', 'xl/theme/theme1.xml', 'docProps/thumbnail.wmf', 'docProps/core.xml', 'docProps/app.xml', 'xl/workbook.xml', 'xl/worksheets/sheet1.xml']\n"
     ]
    },
    {
     "name": "stderr",
     "output_type": "stream",
     "text": [
      "\r",
      " 98.2% 1073152 / 1092364\r",
      " 99.0% 1081344 / 1092364\r",
      " 99.7% 1089536 / 1092364\r",
      "100.5% 1097728 / 1092364\n"
     ]
    }
   ],
   "source": [
    "#my attempt at data caching\n",
    "for some_zip_file in some_zip_files:\n",
    "    try:\n",
    "        zipF = ZipFile(os.path.join(datadir,some_zip_file.split(\"/\")[-1]))\n",
    "    except FileNotFoundError as e:\n",
    "        #if zip doesn't exist, download it and try opening it again\n",
    "        urllib.request.urlretrieve(some_zip_file, os.path.join(datadir,some_zip_file.split(\"/\")[-1]), reporthook)\n",
    "        zipF = ZipFile(os.path.join(datadir,some_zip_file.split(\"/\")[-1]))\n",
    "    print(zipF.namelist())"
   ]
  },
  {
   "cell_type": "markdown",
   "metadata": {},
   "source": [
    "Extracting is extra slow too"
   ]
  },
  {
   "cell_type": "code",
   "execution_count": 16,
   "metadata": {
    "collapsed": false
   },
   "outputs": [],
   "source": [
    "some_df = pd.read_excel(os.path.join(datadir,some_zip_files[1].split(\"/\")[-1]))"
   ]
  },
  {
   "cell_type": "code",
   "execution_count": 17,
   "metadata": {
    "collapsed": false,
    "scrolled": true
   },
   "outputs": [
    {
     "data": {
      "text/html": [
       "<div>\n",
       "<table border=\"1\" class=\"dataframe\">\n",
       "  <thead>\n",
       "    <tr style=\"text-align: right;\">\n",
       "      <th></th>\n",
       "      <th>zip_code</th>\n",
       "      <th>metro_code</th>\n",
       "      <th>metro_name</th>\n",
       "      <th>area_rent_br0</th>\n",
       "      <th>area_rent_br1</th>\n",
       "      <th>area_rent_br2</th>\n",
       "      <th>area_rent_br3</th>\n",
       "      <th>area_rent_br4</th>\n",
       "    </tr>\n",
       "  </thead>\n",
       "  <tbody>\n",
       "    <tr>\n",
       "      <th>0</th>\n",
       "      <td>76437</td>\n",
       "      <td>10180</td>\n",
       "      <td>Abilene, TX MSA</td>\n",
       "      <td>470</td>\n",
       "      <td>510</td>\n",
       "      <td>680</td>\n",
       "      <td>850</td>\n",
       "      <td>1130</td>\n",
       "    </tr>\n",
       "    <tr>\n",
       "      <th>1</th>\n",
       "      <td>76443</td>\n",
       "      <td>10180</td>\n",
       "      <td>Abilene, TX MSA</td>\n",
       "      <td>470</td>\n",
       "      <td>510</td>\n",
       "      <td>680</td>\n",
       "      <td>850</td>\n",
       "      <td>1130</td>\n",
       "    </tr>\n",
       "    <tr>\n",
       "      <th>2</th>\n",
       "      <td>76464</td>\n",
       "      <td>10180</td>\n",
       "      <td>Abilene, TX MSA</td>\n",
       "      <td>470</td>\n",
       "      <td>510</td>\n",
       "      <td>680</td>\n",
       "      <td>850</td>\n",
       "      <td>1130</td>\n",
       "    </tr>\n",
       "    <tr>\n",
       "      <th>3</th>\n",
       "      <td>76469</td>\n",
       "      <td>10180</td>\n",
       "      <td>Abilene, TX MSA</td>\n",
       "      <td>500</td>\n",
       "      <td>550</td>\n",
       "      <td>730</td>\n",
       "      <td>910</td>\n",
       "      <td>1220</td>\n",
       "    </tr>\n",
       "    <tr>\n",
       "      <th>4</th>\n",
       "      <td>79501</td>\n",
       "      <td>10180</td>\n",
       "      <td>Abilene, TX MSA</td>\n",
       "      <td>470</td>\n",
       "      <td>510</td>\n",
       "      <td>680</td>\n",
       "      <td>850</td>\n",
       "      <td>1130</td>\n",
       "    </tr>\n",
       "  </tbody>\n",
       "</table>\n",
       "</div>"
      ],
      "text/plain": [
       "   zip_code  metro_code       metro_name  area_rent_br0  area_rent_br1  \\\n",
       "0     76437       10180  Abilene, TX MSA            470            510   \n",
       "1     76443       10180  Abilene, TX MSA            470            510   \n",
       "2     76464       10180  Abilene, TX MSA            470            510   \n",
       "3     76469       10180  Abilene, TX MSA            500            550   \n",
       "4     79501       10180  Abilene, TX MSA            470            510   \n",
       "\n",
       "   area_rent_br2  area_rent_br3  area_rent_br4  \n",
       "0            680            850           1130  \n",
       "1            680            850           1130  \n",
       "2            680            850           1130  \n",
       "3            730            910           1220  \n",
       "4            680            850           1130  "
      ]
     },
     "execution_count": 17,
     "metadata": {},
     "output_type": "execute_result"
    }
   ],
   "source": [
    "some_df.head()"
   ]
  },
  {
   "cell_type": "code",
   "execution_count": null,
   "metadata": {
    "collapsed": true
   },
   "outputs": [],
   "source": [
    "\"https://factfinder.census.gov/faces/tableservices/jsf/pages/productview.xhtml?pid=ACS_14_5YR_S1901&prodType=table\""
   ]
  },
  {
   "cell_type": "markdown",
   "metadata": {},
   "source": [
    "rent prices"
   ]
  },
  {
   "cell_type": "markdown",
   "metadata": {},
   "source": [
    "## Q3: How much do they contribute to the taxi industry?\n",
    "#### Let's make this more specific, maybe?"
   ]
  },
  {
   "cell_type": "code",
   "execution_count": 3,
   "metadata": {
    "collapsed": true
   },
   "outputs": [],
   "source": [
    "taxi_url=\"https://data.cityofnewyork.us/resource/2yzn-sicd.json\""
   ]
  },
  {
   "cell_type": "code",
   "execution_count": 4,
   "metadata": {
    "collapsed": true
   },
   "outputs": [],
   "source": [
    "taxi_df = pd.read_json(taxi_url)"
   ]
  },
  {
   "cell_type": "markdown",
   "metadata": {},
   "source": [
    "### What does the data look like?"
   ]
  },
  {
   "cell_type": "code",
   "execution_count": 5,
   "metadata": {
    "collapsed": false
   },
   "outputs": [
    {
     "data": {
      "text/html": [
       "<div>\n",
       "<table border=\"1\" class=\"dataframe\">\n",
       "  <thead>\n",
       "    <tr style=\"text-align: right;\">\n",
       "      <th></th>\n",
       "      <th>dropoff_datetime</th>\n",
       "      <th>dropoff_latitude</th>\n",
       "      <th>dropoff_longitude</th>\n",
       "      <th>extra</th>\n",
       "      <th>fare_amount</th>\n",
       "      <th>mta_tax</th>\n",
       "      <th>passenger_count</th>\n",
       "      <th>payment_type</th>\n",
       "      <th>pickup_datetime</th>\n",
       "      <th>pickup_latitude</th>\n",
       "      <th>pickup_longitude</th>\n",
       "      <th>rate_code</th>\n",
       "      <th>store_and_fwd_flag</th>\n",
       "      <th>tip_amount</th>\n",
       "      <th>tolls_amount</th>\n",
       "      <th>total_amount</th>\n",
       "      <th>trip_distance</th>\n",
       "      <th>vendor_id</th>\n",
       "    </tr>\n",
       "  </thead>\n",
       "  <tbody>\n",
       "    <tr>\n",
       "      <th>0</th>\n",
       "      <td>2015-01-06T19:06:32.000</td>\n",
       "      <td>40.727608</td>\n",
       "      <td>-73.991150</td>\n",
       "      <td>1.0</td>\n",
       "      <td>8.0</td>\n",
       "      <td>0.5</td>\n",
       "      <td>1</td>\n",
       "      <td>2</td>\n",
       "      <td>2015-01-06T18:58:18.000</td>\n",
       "      <td>40.707218</td>\n",
       "      <td>-74.004639</td>\n",
       "      <td>1</td>\n",
       "      <td>N</td>\n",
       "      <td>0.00</td>\n",
       "      <td>0.0</td>\n",
       "      <td>9.80</td>\n",
       "      <td>1.60</td>\n",
       "      <td>1</td>\n",
       "    </tr>\n",
       "    <tr>\n",
       "      <th>1</th>\n",
       "      <td>2015-03-10T22:43:36.000</td>\n",
       "      <td>40.759827</td>\n",
       "      <td>-73.972092</td>\n",
       "      <td>0.5</td>\n",
       "      <td>6.5</td>\n",
       "      <td>0.5</td>\n",
       "      <td>1</td>\n",
       "      <td>1</td>\n",
       "      <td>2015-03-10T22:37:24.000</td>\n",
       "      <td>40.770870</td>\n",
       "      <td>-73.962952</td>\n",
       "      <td>1</td>\n",
       "      <td>N</td>\n",
       "      <td>1.55</td>\n",
       "      <td>0.0</td>\n",
       "      <td>9.35</td>\n",
       "      <td>1.00</td>\n",
       "      <td>1</td>\n",
       "    </tr>\n",
       "    <tr>\n",
       "      <th>2</th>\n",
       "      <td>2015-04-21T14:36:54.000</td>\n",
       "      <td>40.754753</td>\n",
       "      <td>-73.977829</td>\n",
       "      <td>0.0</td>\n",
       "      <td>8.5</td>\n",
       "      <td>0.5</td>\n",
       "      <td>1</td>\n",
       "      <td>1</td>\n",
       "      <td>2015-04-21T14:25:29.000</td>\n",
       "      <td>40.749969</td>\n",
       "      <td>-73.991432</td>\n",
       "      <td>1</td>\n",
       "      <td>N</td>\n",
       "      <td>2.75</td>\n",
       "      <td>0.0</td>\n",
       "      <td>12.05</td>\n",
       "      <td>1.30</td>\n",
       "      <td>1</td>\n",
       "    </tr>\n",
       "    <tr>\n",
       "      <th>3</th>\n",
       "      <td>2015-03-02T18:13:08.000</td>\n",
       "      <td>40.746220</td>\n",
       "      <td>-73.985039</td>\n",
       "      <td>1.0</td>\n",
       "      <td>13.0</td>\n",
       "      <td>0.5</td>\n",
       "      <td>1</td>\n",
       "      <td>2</td>\n",
       "      <td>2015-03-02T17:55:05.000</td>\n",
       "      <td>40.769695</td>\n",
       "      <td>-73.964905</td>\n",
       "      <td>1</td>\n",
       "      <td>N</td>\n",
       "      <td>0.00</td>\n",
       "      <td>0.0</td>\n",
       "      <td>14.80</td>\n",
       "      <td>2.20</td>\n",
       "      <td>1</td>\n",
       "    </tr>\n",
       "    <tr>\n",
       "      <th>4</th>\n",
       "      <td>2015-01-26T12:02:13.000</td>\n",
       "      <td>40.735851</td>\n",
       "      <td>-73.993103</td>\n",
       "      <td>0.0</td>\n",
       "      <td>8.5</td>\n",
       "      <td>0.5</td>\n",
       "      <td>4</td>\n",
       "      <td>1</td>\n",
       "      <td>2015-01-26T11:52:13.000</td>\n",
       "      <td>40.733055</td>\n",
       "      <td>-73.975365</td>\n",
       "      <td>1</td>\n",
       "      <td>N</td>\n",
       "      <td>1.86</td>\n",
       "      <td>0.0</td>\n",
       "      <td>11.16</td>\n",
       "      <td>1.42</td>\n",
       "      <td>2</td>\n",
       "    </tr>\n",
       "  </tbody>\n",
       "</table>\n",
       "</div>"
      ],
      "text/plain": [
       "          dropoff_datetime  dropoff_latitude  dropoff_longitude  extra  \\\n",
       "0  2015-01-06T19:06:32.000         40.727608         -73.991150    1.0   \n",
       "1  2015-03-10T22:43:36.000         40.759827         -73.972092    0.5   \n",
       "2  2015-04-21T14:36:54.000         40.754753         -73.977829    0.0   \n",
       "3  2015-03-02T18:13:08.000         40.746220         -73.985039    1.0   \n",
       "4  2015-01-26T12:02:13.000         40.735851         -73.993103    0.0   \n",
       "\n",
       "   fare_amount  mta_tax  passenger_count  payment_type  \\\n",
       "0          8.0      0.5                1             2   \n",
       "1          6.5      0.5                1             1   \n",
       "2          8.5      0.5                1             1   \n",
       "3         13.0      0.5                1             2   \n",
       "4          8.5      0.5                4             1   \n",
       "\n",
       "           pickup_datetime  pickup_latitude  pickup_longitude  rate_code  \\\n",
       "0  2015-01-06T18:58:18.000        40.707218        -74.004639          1   \n",
       "1  2015-03-10T22:37:24.000        40.770870        -73.962952          1   \n",
       "2  2015-04-21T14:25:29.000        40.749969        -73.991432          1   \n",
       "3  2015-03-02T17:55:05.000        40.769695        -73.964905          1   \n",
       "4  2015-01-26T11:52:13.000        40.733055        -73.975365          1   \n",
       "\n",
       "  store_and_fwd_flag  tip_amount  tolls_amount  total_amount  trip_distance  \\\n",
       "0                  N        0.00           0.0          9.80           1.60   \n",
       "1                  N        1.55           0.0          9.35           1.00   \n",
       "2                  N        2.75           0.0         12.05           1.30   \n",
       "3                  N        0.00           0.0         14.80           2.20   \n",
       "4                  N        1.86           0.0         11.16           1.42   \n",
       "\n",
       "   vendor_id  \n",
       "0          1  \n",
       "1          1  \n",
       "2          1  \n",
       "3          1  \n",
       "4          2  "
      ]
     },
     "execution_count": 5,
     "metadata": {},
     "output_type": "execute_result"
    }
   ],
   "source": [
    "taxi_df.head()"
   ]
  },
  {
   "cell_type": "code",
   "execution_count": null,
   "metadata": {
    "collapsed": true
   },
   "outputs": [],
   "source": []
  }
 ],
 "metadata": {
  "anaconda-cloud": {},
  "kernelspec": {
   "display_name": "Python [Root]",
   "language": "python",
   "name": "Python [Root]"
  },
  "language_info": {
   "codemirror_mode": {
    "name": "ipython",
    "version": 3
   },
   "file_extension": ".py",
   "mimetype": "text/x-python",
   "name": "python",
   "nbconvert_exporter": "python",
   "pygments_lexer": "ipython3",
   "version": "3.5.2"
  }
 },
 "nbformat": 4,
 "nbformat_minor": 0
}
