{
 "cells": [
  {
   "cell_type": "markdown",
   "metadata": {},
   "source": [
    "![](http://mymommyology.com/wp-content/uploads/2011/06/dora-the-explorer-logo1.jpg)"
   ]
  },
  {
   "cell_type": "code",
   "execution_count": 1,
   "metadata": {
    "collapsed": false
   },
   "outputs": [],
   "source": [
    "# special IPython command to prepare the notebook for matplotlib\n",
    "%matplotlib inline \n",
    "\n",
    "import numpy as np\n",
    "import pandas as pd\n",
    "import matplotlib.pyplot as plt\n",
    "\n",
    "#added this because it's indicated as useful but not imported\n",
    "import urllib\n",
    "from zipfile import ZipFile\n",
    "from io import BytesIO\n",
    "import os\n",
    "import json\n",
    "from bs4 import BeautifulSoup as bs\n",
    "import re\n",
    "\n",
    "from matplotlib import animation, rc\n",
    "from IPython.display import display, HTML"
   ]
  },
  {
   "cell_type": "markdown",
   "metadata": {},
   "source": [
    "I Definitely copy and pasted this next piece. I found it here:\n",
    "http://stackoverflow.com/a/13895723"
   ]
  },
  {
   "cell_type": "code",
   "execution_count": 2,
   "metadata": {
    "collapsed": true
   },
   "outputs": [],
   "source": [
    "def reporthook(blocknum, blocksize, totalsize):\n",
    "    readsofar = blocknum * blocksize\n",
    "    if totalsize > 0:\n",
    "        percent = readsofar * 1e2 / totalsize\n",
    "        s = \"\\r%5.1f%% %*d / %d\" % (\n",
    "            percent, len(str(totalsize)), readsofar, totalsize)\n",
    "        os.sys.stderr.write(s)\n",
    "        if readsofar >= totalsize: # near the end\n",
    "            os.sys.stderr.write(\"\\n\")\n",
    "    else: # total size is unknown\n",
    "        os.sys.stderr.write(\"read %d\\n\" % (readsofar,))"
   ]
  },
  {
   "cell_type": "code",
   "execution_count": 3,
   "metadata": {
    "collapsed": false
   },
   "outputs": [],
   "source": [
    "datadir = \"data\"\n",
    "try:\n",
    "    os.makedirs(datadir)\n",
    "except:\n",
    "    pass #directory already exists. :P"
   ]
  },
  {
   "cell_type": "markdown",
   "metadata": {},
   "source": [
    "## Q1: Is gentrification the cause of rent hikes in Crown Heights, Brooklyn?"
   ]
  },
  {
   "cell_type": "code",
   "execution_count": 4,
   "metadata": {
    "collapsed": true
   },
   "outputs": [],
   "source": [
    "#how do we answer this?"
   ]
  },
  {
   "cell_type": "markdown",
   "metadata": {},
   "source": [
    "## Q2: Are new people moving in below the median income?"
   ]
  },
  {
   "cell_type": "code",
   "execution_count": 5,
   "metadata": {
    "collapsed": true
   },
   "outputs": [],
   "source": [
    "%%script false\n",
    "some_zip_files = [\"https://www.huduser.gov/portal/datasets/fmr/fmr2016p/asq_zctadata_2013_00000to19999.zip\",\n",
    "                 \"https://www.huduser.gov/portal/datasets/fmr/fmr2017/FY2017_hypothetical_safmrs.xlsx\"]"
   ]
  },
  {
   "cell_type": "code",
   "execution_count": 6,
   "metadata": {
    "collapsed": false
   },
   "outputs": [],
   "source": [
    "%%script false\n",
    "#my attempt at data caching\n",
    "for some_zip_file in some_zip_files:\n",
    "    try:\n",
    "        zipF = ZipFile(os.path.join(datadir,some_zip_file.split(\"/\")[-1]))\n",
    "    except FileNotFoundError as e:\n",
    "        #if zip doesn't exist, download it and try opening it again\n",
    "        urllib.request.urlretrieve(some_zip_file, os.path.join(datadir,some_zip_file.split(\"/\")[-1]), reporthook)\n",
    "        zipF = ZipFile(os.path.join(datadir,some_zip_file.split(\"/\")[-1]))\n",
    "    print(zipF.namelist())"
   ]
  },
  {
   "cell_type": "markdown",
   "metadata": {},
   "source": [
    "Extracting is extra slow too"
   ]
  },
  {
   "cell_type": "code",
   "execution_count": 7,
   "metadata": {
    "collapsed": false
   },
   "outputs": [],
   "source": [
    "#some_df = pd.read_excel(os.path.join(datadir,some_zip_files[1].split(\"/\")[-1]))"
   ]
  },
  {
   "cell_type": "code",
   "execution_count": 8,
   "metadata": {
    "collapsed": false,
    "scrolled": true
   },
   "outputs": [],
   "source": [
    "#some_df.head()"
   ]
  },
  {
   "cell_type": "code",
   "execution_count": 9,
   "metadata": {
    "collapsed": true
   },
   "outputs": [],
   "source": [
    "#\"https://factfinder.census.gov/faces/tableservices/jsf/pages/productview.xhtml?pid=ACS_14_5YR_S1901&prodType=table\""
   ]
  },
  {
   "cell_type": "markdown",
   "metadata": {},
   "source": [
    "Use the Census wrapper"
   ]
  },
  {
   "cell_type": "code",
   "execution_count": 10,
   "metadata": {
    "collapsed": false
   },
   "outputs": [
    {
     "ename": "FileNotFoundError",
     "evalue": "[Errno 2] No such file or directory: 'keys.json'",
     "output_type": "error",
     "traceback": [
      "\u001b[1;31m---------------------------------------------------------------------------\u001b[0m",
      "\u001b[1;31mFileNotFoundError\u001b[0m                         Traceback (most recent call last)",
      "\u001b[1;32m<ipython-input-10-755b64cb220a>\u001b[0m in \u001b[0;36m<module>\u001b[1;34m()\u001b[0m\n\u001b[1;32m----> 1\u001b[1;33m \u001b[1;32mwith\u001b[0m \u001b[0mopen\u001b[0m\u001b[1;33m(\u001b[0m\u001b[1;34m\"keys.json\"\u001b[0m\u001b[1;33m)\u001b[0m \u001b[1;32mas\u001b[0m \u001b[0mjson_file\u001b[0m\u001b[1;33m:\u001b[0m\u001b[1;33m\u001b[0m\u001b[0m\n\u001b[0m\u001b[0;32m      2\u001b[0m     \u001b[0mkeys\u001b[0m \u001b[1;33m=\u001b[0m \u001b[0mjson\u001b[0m\u001b[1;33m.\u001b[0m\u001b[0mload\u001b[0m\u001b[1;33m(\u001b[0m\u001b[0mjson_file\u001b[0m\u001b[1;33m)\u001b[0m\u001b[1;33m\u001b[0m\u001b[0m\n\u001b[0;32m      3\u001b[0m \u001b[0mcensus_key\u001b[0m \u001b[1;33m=\u001b[0m \u001b[0mkeys\u001b[0m\u001b[1;33m[\u001b[0m\u001b[1;34m\"census\"\u001b[0m\u001b[1;33m]\u001b[0m\u001b[1;33m[\u001b[0m\u001b[1;34m\"api_key\"\u001b[0m\u001b[1;33m]\u001b[0m\u001b[1;33m\u001b[0m\u001b[0m\n",
      "\u001b[1;31mFileNotFoundError\u001b[0m: [Errno 2] No such file or directory: 'keys.json'"
     ]
    }
   ],
   "source": [
    "with open(\"keys.json\") as json_file:    \n",
    "    keys = json.load(json_file)\n",
    "census_key = keys[\"census\"][\"api_key\"]"
   ]
  },
  {
   "cell_type": "code",
   "execution_count": null,
   "metadata": {
    "collapsed": false
   },
   "outputs": [],
   "source": []
  },
  {
   "cell_type": "markdown",
   "metadata": {},
   "source": [
    "### Get zipcodes into dataframe"
   ]
  },
  {
   "cell_type": "code",
   "execution_count": null,
   "metadata": {
    "collapsed": false,
    "scrolled": false
   },
   "outputs": [],
   "source": [
    "%%script false\n",
    "ziphtml = urllib.request.urlopen(\"https://www.health.ny.gov/statistics/cancer/registry/appendix/neighborhoods.htm\").read().decode('utf-8')\n",
    "soup = bs(ziphtml, 'html.parser')\n",
    "borough = \"\"\n",
    "zipcodes = []\n",
    "for row in soup.find_all('tr'):\n",
    "    cols = row.find_all('td')\n",
    "    if len(cols) == 3:\n",
    "        borough = cols[0].text\n",
    "        neighborhood = cols[1].text\n",
    "        for zipcode in re.compile(\"\\s*,\\s*\").split(cols[2].text):\n",
    "            zipcodes.append({\"borough\": borough, \"neighborhood\": neighborhood, \"zipcode\": zipcode})\n",
    "    elif len(cols) == 2:\n",
    "        neighborhood = cols[0].text\n",
    "        for zipcode in re.compile(\"\\s*,\\s*\").split(cols[1].text):\n",
    "            zipcodes.append({\"borough\": borough, \"neighborhood\": neighborhood, \"zipcode\": zipcode})\n",
    "    else:\n",
    "        print(cols)\n",
    "zipDF = pd.DataFrame(zipcodes)\n",
    "zipDF.head()"
   ]
  },
  {
   "cell_type": "code",
   "execution_count": null,
   "metadata": {
    "collapsed": false
   },
   "outputs": [],
   "source": [
    "bkzips = \"http://www.brooklyn.com/zipcodes.php\"\n",
    "ziphtml = urllib.request.urlopen(bkzips).read().decode('utf-8')\n",
    "soup = bs(ziphtml, 'html.parser')\n",
    "borough = \"\"\n",
    "zipcodes = []\n",
    "for row in soup.find_all('tr'):\n",
    "    cols = row.find_all('td')\n",
    "    if len(cols) >= 2:\n",
    "        neighborhood = cols[0].text.replace(\"\\n\", \"\")\n",
    "        for zipcode in re.compile(\"\\s*,\\s*\").split(cols[1].text):\n",
    "            zipcodes.append({\"neighborhood\": neighborhood, \"zipcode\": zipcode})\n",
    "    else:\n",
    "        print(cols)\n",
    "zipDF = pd.DataFrame(zipcodes)\n",
    "zipDF.head()"
   ]
  },
  {
   "cell_type": "code",
   "execution_count": null,
   "metadata": {
    "collapsed": false
   },
   "outputs": [],
   "source": [
    "#zipDF[zipDF.borough == \"Brooklyn\"].zipcode.values"
   ]
  },
  {
   "cell_type": "markdown",
   "metadata": {},
   "source": [
    "### WTF is this newb stuff?!"
   ]
  },
  {
   "cell_type": "raw",
   "metadata": {
    "collapsed": true
   },
   "source": [
    "income_brackets = {\n",
    "    'B19001_002E': '<10k',\n",
    "    'B19001_003E': '10k-14k',\n",
    "    'B19001_004E': '15k-19k',\n",
    "    'B19001_005E': '20k-24k',\n",
    "    'B19001_006E': '25k-29k',\n",
    "    'B19001_007E': '30k-34k',\n",
    "    'B19001_008E': '35k-39k',\n",
    "    'B19001_009E': '40k-44k',\n",
    "    'B19001_001E': 'Total'\n",
    "}"
   ]
  },
  {
   "cell_type": "code",
   "execution_count": null,
   "metadata": {
    "collapsed": false
   },
   "outputs": [],
   "source": [
    "census_vars = json.loads(urllib.request.urlopen(\"http://api.census.gov/data/2014/acs5/variables.json\").read().decode('utf-8'))[\"variables\"]\n",
    "income_brackets = dict([(key, value[\"label\"]) for key, value in census_vars.items() if \"B19001_\" in key and key[-1] == \"E\"])"
   ]
  },
  {
   "cell_type": "code",
   "execution_count": null,
   "metadata": {
    "collapsed": false
   },
   "outputs": [],
   "source": [
    "from us import states\n",
    "from census import Census\n",
    "\n",
    "def getincome20xx(income_brackets, years, census_key, zips):\n",
    "    c = Census(census_key)\n",
    "    df = pd.DataFrame()\n",
    "    for year in years:\n",
    "        tempget = c.acs5.zipcode((tuple([key[0] for key in income_brackets.items()])), Census.ALL, year=year)\n",
    "        tempDF = pd.DataFrame(tempget)\n",
    "        tempDF.columns = [income_brackets[tempDF.columns[i]] if i < len(income_brackets) else tempDF.columns[i] for i in range(len(tempDF.columns))]\n",
    "        tempDF = tempDF[tempDF[tempDF.columns[-1]].isin(zips)]\n",
    "        tempDF[\"year\"] = year\n",
    "        df = df.append(tempDF)\n",
    "    return df"
   ]
  },
  {
   "cell_type": "code",
   "execution_count": null,
   "metadata": {
    "collapsed": false
   },
   "outputs": [],
   "source": [
    "#let's just get Brooklyn zips for now\n",
    "#theDF = getincome20xx(income_brackets,range(2011,2015), census_key, zipDF[\"zipcode\"].values)\n",
    "theDF = getincome20xx(income_brackets,range(2011,2015), census_key, zipDF[\"zipcode\"].unique())"
   ]
  },
  {
   "cell_type": "code",
   "execution_count": null,
   "metadata": {
    "collapsed": false,
    "scrolled": true
   },
   "outputs": [],
   "source": [
    "newcols = [\"total\", \"0\", \"10\", \"15\", \"20\", \"25\", \"30\", \"35\", \"40\", \"45\", \"50\", \"60\", \"75\", \"100\", \"125\", \"150\", \"200\", \"ZIP\", \"year\"]\n",
    "theDF.columns = newcols\n",
    "theDF.to_csv(os.path.join(datadir, \"incomeDF.csv\"))\n",
    "theDF.head()"
   ]
  },
  {
   "cell_type": "raw",
   "metadata": {
    "collapsed": false
   },
   "source": [
    "tempget = c.acs5.zipcode((tuple([key[0] for key in income_brackets.items()])), Census.ALL, year=2011)\n",
    "tempDF = pd.DataFrame(tempget)\n",
    "tempDF.columns = [income_brackets[tempDF.columns[i]] if i < len(income_brackets) else tempDF.columns[i] for i in range(len(tempDF.columns))]\n",
    "tempDF[tempDF[tempDF.columns[-1]].isin([\"00601\", \"00602\", \"00603\"])]"
   ]
  },
  {
   "cell_type": "code",
   "execution_count": null,
   "metadata": {
    "collapsed": false,
    "scrolled": true
   },
   "outputs": [],
   "source": [
    "%%script false\n",
    "testDF = theDF[theDF.zipcode == \"11214\"]\n",
    "for year in range(2011, 2015):\n",
    "    yearDF = testDF[testDF.year==year]\n",
    "    X = [int(val) for val in yearDF.columns[1:-2]]\n",
    "    Y = [int(val) for val in yearDF.values[0][1:-2]]\n",
    "    plt.figure()\n",
    "    #plt.xticks(range(0,200,20))\n",
    "    plt.bar(X, Y, linewidth=5, color='b')\n",
    "#testDF[testDF.year == 2011].hist()"
   ]
  },
  {
   "cell_type": "code",
   "execution_count": null,
   "metadata": {
    "collapsed": false
   },
   "outputs": [],
   "source": [
    "def maxVal(theDF):\n",
    "    return max([max([int(v) for v in row[1:-2]]) for row in theDF.values])\n",
    "    \n",
    "def animateZipcode(hoodDF):\n",
    "    # First set up the figure, the axis, and the plot element we want to animate\n",
    "    fig = plt.figure()\n",
    "    upperBound = maxVal(hoodDF) + 500\n",
    "    ax = plt.axes(xlim=(0, 200), ylim=(0, upperBound))\n",
    "    plt.xlabel(\"Houshold income (x 1000)\")\n",
    "    plt.ylabel(\"# of Housholds\")\n",
    "    #get zipcode\n",
    "    zipcode = hoodDF.ZIP.values[0]\n",
    "    #neighborhood = zipDF[zipDF.zipcode == zipcode].neighborhood.values[0]\n",
    "    plt.title(\"Income changes over time in \" + zipcode)\n",
    "    line, = ax.plot([], [], lw=2)\n",
    "    year_text = ax.text(0.02, 0.95, '', transform=ax.transAxes)\n",
    "    \n",
    "    # initialization function: plot the background of each frame\n",
    "    def init():\n",
    "        line.set_data([], [])\n",
    "        year_text.set_text('')\n",
    "        return line,\n",
    "\n",
    "    # animation function.  This is called sequentially\n",
    "    def animate(i):\n",
    "        yearDF = hoodDF[hoodDF.year==(2011+i)]\n",
    "        X = [int(val) for val in yearDF.columns[1:-2]]\n",
    "        Y = [int(val) for val in yearDF.values[0][1:-2]]\n",
    "        line.set_data(X, Y)\n",
    "        year_text.set_text(str(2011+i))\n",
    "        return line,\n",
    "\n",
    "    # call the animator.  blit=True means only re-draw the parts that have changed.\n",
    "    anim = animation.FuncAnimation(fig, animate, init_func=init,\n",
    "                               frames=4, interval=1000, blit=True)\n",
    "    display(HTML(anim.to_html5_video()))\n",
    "    \n",
    "    return anim"
   ]
  },
  {
   "cell_type": "code",
   "execution_count": null,
   "metadata": {
    "collapsed": false,
    "scrolled": true
   },
   "outputs": [],
   "source": [
    "allzips = set(theDF.ZIP.values)\n",
    "print(\"Number of animations: \" + str(len(allzips)))\n",
    "for zipcode in allzips:\n",
    "    anim = animateZipcode(theDF[theDF.ZIP == zipcode])\n",
    "    anim.save(\"data/\"+str(zipcode)+\".mp4\")\n",
    "print(\"==================================\")\n",
    "print(\"Why these still images?\")\n",
    "print(\"==================================\")"
   ]
  },
  {
   "cell_type": "code",
   "execution_count": null,
   "metadata": {
    "collapsed": false
   },
   "outputs": [],
   "source": []
  },
  {
   "cell_type": "markdown",
   "metadata": {},
   "source": [
    "## Q3: How much do they contribute to the taxi industry?\n",
    "#### Let's make this more specific, maybe?"
   ]
  },
  {
   "cell_type": "code",
   "execution_count": null,
   "metadata": {
    "collapsed": true
   },
   "outputs": [],
   "source": []
  },
  {
   "cell_type": "code",
   "execution_count": null,
   "metadata": {
    "collapsed": true
   },
   "outputs": [],
   "source": [
    "#taxi_url=\"https://data.cityofnewyork.us/resource/2yzn-sicd.json\""
   ]
  },
  {
   "cell_type": "code",
   "execution_count": null,
   "metadata": {
    "collapsed": true
   },
   "outputs": [],
   "source": [
    "#taxi_df = pd.read_json(taxi_url)"
   ]
  },
  {
   "cell_type": "markdown",
   "metadata": {},
   "source": [
    "### What does the data look like?"
   ]
  },
  {
   "cell_type": "code",
   "execution_count": null,
   "metadata": {
    "collapsed": false
   },
   "outputs": [],
   "source": [
    "#taxi_df.head()"
   ]
  },
  {
   "cell_type": "code",
   "execution_count": null,
   "metadata": {
    "collapsed": true
   },
   "outputs": [],
   "source": []
  }
 ],
 "metadata": {
  "anaconda-cloud": {},
  "kernelspec": {
   "display_name": "Python [Root]",
   "language": "python",
   "name": "Python [Root]"
  },
  "language_info": {
   "codemirror_mode": {
    "name": "ipython",
    "version": 3
   },
   "file_extension": ".py",
   "mimetype": "text/x-python",
   "name": "python",
   "nbconvert_exporter": "python",
   "pygments_lexer": "ipython3",
   "version": "3.5.2"
  }
 },
 "nbformat": 4,
 "nbformat_minor": 0
}
