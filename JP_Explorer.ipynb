{
 "cells": [
  {
   "cell_type": "markdown",
   "metadata": {},
   "source": [
    "![](http://mymommyology.com/wp-content/uploads/2011/06/dora-the-explorer-logo1.jpg)"
   ]
  },
  {
   "cell_type": "code",
   "execution_count": 24,
   "metadata": {
    "collapsed": false
   },
   "outputs": [],
   "source": [
    "# special IPython command to prepare the notebook for matplotlib\n",
    "%matplotlib inline \n",
    "\n",
    "import numpy as np\n",
    "import pandas as pd\n",
    "import matplotlib.pyplot as plt\n",
    "\n",
    "#added this because it's indicated as useful but not imported\n",
    "import urllib\n",
    "from zipfile import ZipFile\n",
    "from io import BytesIO\n",
    "import os\n",
    "import json\n",
    "from bs4 import BeautifulSoup as bs\n",
    "import re\n",
    "\n",
    "from matplotlib import animation, rc\n",
    "from IPython.display import display, HTML"
   ]
  },
  {
   "cell_type": "markdown",
   "metadata": {},
   "source": [
    "I Definitely copy and pasted this next piece. I found it here:\n",
    "http://stackoverflow.com/a/13895723"
   ]
  },
  {
   "cell_type": "code",
   "execution_count": 25,
   "metadata": {
    "collapsed": true
   },
   "outputs": [],
   "source": [
    "def reporthook(blocknum, blocksize, totalsize):\n",
    "    readsofar = blocknum * blocksize\n",
    "    if totalsize > 0:\n",
    "        percent = readsofar * 1e2 / totalsize\n",
    "        s = \"\\r%5.1f%% %*d / %d\" % (\n",
    "            percent, len(str(totalsize)), readsofar, totalsize)\n",
    "        os.sys.stderr.write(s)\n",
    "        if readsofar >= totalsize: # near the end\n",
    "            os.sys.stderr.write(\"\\n\")\n",
    "    else: # total size is unknown\n",
    "        os.sys.stderr.write(\"read %d\\n\" % (readsofar,))"
   ]
  },
  {
   "cell_type": "code",
   "execution_count": 26,
   "metadata": {
    "collapsed": false
   },
   "outputs": [],
   "source": [
    "datadir = \"data\"\n",
    "try:\n",
    "    os.makedirs(datadir)\n",
    "except:\n",
    "    pass #directory already exists. :P"
   ]
  },
  {
   "cell_type": "markdown",
   "metadata": {},
   "source": [
    "## Q1: Is gentrification the cause of rent hikes in Crown Heights, Brooklyn?"
   ]
  },
  {
   "cell_type": "code",
   "execution_count": 27,
   "metadata": {
    "collapsed": true
   },
   "outputs": [],
   "source": [
    "#how do we answer this?"
   ]
  },
  {
   "cell_type": "markdown",
   "metadata": {},
   "source": [
    "## Q2: Are new people moving in below the median income?"
   ]
  },
  {
   "cell_type": "code",
   "execution_count": 28,
   "metadata": {
    "collapsed": true
   },
   "outputs": [],
   "source": [
    "%%script false\n",
    "some_zip_files = [\"https://www.huduser.gov/portal/datasets/fmr/fmr2016p/asq_zctadata_2013_00000to19999.zip\",\n",
    "                 \"https://www.huduser.gov/portal/datasets/fmr/fmr2017/FY2017_hypothetical_safmrs.xlsx\"]"
   ]
  },
  {
   "cell_type": "code",
   "execution_count": 29,
   "metadata": {
    "collapsed": false
   },
   "outputs": [],
   "source": [
    "%%script false\n",
    "#my attempt at data caching\n",
    "for some_zip_file in some_zip_files:\n",
    "    try:\n",
    "        zipF = ZipFile(os.path.join(datadir,some_zip_file.split(\"/\")[-1]))\n",
    "    except FileNotFoundError as e:\n",
    "        #if zip doesn't exist, download it and try opening it again\n",
    "        urllib.request.urlretrieve(some_zip_file, os.path.join(datadir,some_zip_file.split(\"/\")[-1]), reporthook)\n",
    "        zipF = ZipFile(os.path.join(datadir,some_zip_file.split(\"/\")[-1]))\n",
    "    print(zipF.namelist())"
   ]
  },
  {
   "cell_type": "markdown",
   "metadata": {},
   "source": [
    "Extracting is extra slow too"
   ]
  },
  {
   "cell_type": "code",
   "execution_count": 30,
   "metadata": {
    "collapsed": false
   },
   "outputs": [],
   "source": [
    "#some_df = pd.read_excel(os.path.join(datadir,some_zip_files[1].split(\"/\")[-1]))"
   ]
  },
  {
   "cell_type": "code",
   "execution_count": 31,
   "metadata": {
    "collapsed": false,
    "scrolled": true
   },
   "outputs": [],
   "source": [
    "#some_df.head()"
   ]
  },
  {
   "cell_type": "code",
   "execution_count": 32,
   "metadata": {
    "collapsed": true
   },
   "outputs": [],
   "source": [
    "#\"https://factfinder.census.gov/faces/tableservices/jsf/pages/productview.xhtml?pid=ACS_14_5YR_S1901&prodType=table\""
   ]
  },
  {
   "cell_type": "markdown",
   "metadata": {},
   "source": [
    "Use the Census wrapper"
   ]
  },
  {
   "cell_type": "code",
   "execution_count": 33,
   "metadata": {
    "collapsed": false
   },
   "outputs": [],
   "source": [
    "with open(\"keys.json\") as json_file:    \n",
    "    keys = json.load(json_file)\n",
    "census_key = keys[\"census\"][\"api_key\"]"
   ]
  },
  {
   "cell_type": "code",
   "execution_count": null,
   "metadata": {
    "collapsed": false
   },
   "outputs": [],
   "source": []
  },
  {
   "cell_type": "markdown",
   "metadata": {},
   "source": [
    "### Get zipcodes into dataframe"
   ]
  },
  {
   "cell_type": "code",
   "execution_count": 34,
   "metadata": {
    "collapsed": false,
    "scrolled": false
   },
   "outputs": [],
   "source": [
    "%%script false\n",
    "ziphtml = urllib.request.urlopen(\"https://www.health.ny.gov/statistics/cancer/registry/appendix/neighborhoods.htm\").read().decode('utf-8')\n",
    "soup = bs(ziphtml, 'html.parser')\n",
    "borough = \"\"\n",
    "zipcodes = []\n",
    "for row in soup.find_all('tr'):\n",
    "    cols = row.find_all('td')\n",
    "    if len(cols) == 3:\n",
    "        borough = cols[0].text\n",
    "        neighborhood = cols[1].text\n",
    "        for zipcode in re.compile(\"\\s*,\\s*\").split(cols[2].text):\n",
    "            zipcodes.append({\"borough\": borough, \"neighborhood\": neighborhood, \"zipcode\": zipcode})\n",
    "    elif len(cols) == 2:\n",
    "        neighborhood = cols[0].text\n",
    "        for zipcode in re.compile(\"\\s*,\\s*\").split(cols[1].text):\n",
    "            zipcodes.append({\"borough\": borough, \"neighborhood\": neighborhood, \"zipcode\": zipcode})\n",
    "    else:\n",
    "        print(cols)\n",
    "zipDF = pd.DataFrame(zipcodes)\n",
    "zipDF.head()"
   ]
  },
  {
   "cell_type": "code",
   "execution_count": 35,
   "metadata": {
    "collapsed": false
   },
   "outputs": [
    {
     "name": "stdout",
     "output_type": "stream",
     "text": [
      "[]\n"
     ]
    },
    {
     "data": {
      "text/html": [
       "<div>\n",
       "<table border=\"1\" class=\"dataframe\">\n",
       "  <thead>\n",
       "    <tr style=\"text-align: right;\">\n",
       "      <th></th>\n",
       "      <th>neighborhood</th>\n",
       "      <th>zipcode</th>\n",
       "    </tr>\n",
       "  </thead>\n",
       "  <tbody>\n",
       "    <tr>\n",
       "      <th>0</th>\n",
       "      <td>Albemarle-Kenmore Terrace</td>\n",
       "      <td>11226</td>\n",
       "    </tr>\n",
       "    <tr>\n",
       "      <th>1</th>\n",
       "      <td>Bath Beach</td>\n",
       "      <td>11214</td>\n",
       "    </tr>\n",
       "    <tr>\n",
       "      <th>2</th>\n",
       "      <td>Bay Ridge</td>\n",
       "      <td>11209</td>\n",
       "    </tr>\n",
       "    <tr>\n",
       "      <th>3</th>\n",
       "      <td>Bedford Stuyvesant</td>\n",
       "      <td>11216</td>\n",
       "    </tr>\n",
       "    <tr>\n",
       "      <th>4</th>\n",
       "      <td>Bensonhurst</td>\n",
       "      <td>11214</td>\n",
       "    </tr>\n",
       "  </tbody>\n",
       "</table>\n",
       "</div>"
      ],
      "text/plain": [
       "                neighborhood zipcode\n",
       "0  Albemarle-Kenmore Terrace   11226\n",
       "1                 Bath Beach   11214\n",
       "2                  Bay Ridge   11209\n",
       "3         Bedford Stuyvesant   11216\n",
       "4                Bensonhurst   11214"
      ]
     },
     "execution_count": 35,
     "metadata": {},
     "output_type": "execute_result"
    }
   ],
   "source": [
    "bkzips = \"http://www.brooklyn.com/zipcodes.php\"\n",
    "ziphtml = urllib.request.urlopen(bkzips).read().decode('utf-8')\n",
    "soup = bs(ziphtml, 'html.parser')\n",
    "borough = \"\"\n",
    "zipcodes = []\n",
    "for row in soup.find_all('tr'):\n",
    "    cols = row.find_all('td')\n",
    "    if len(cols) >= 2:\n",
    "        neighborhood = cols[0].text.replace(\"\\n\", \"\")\n",
    "        for zipcode in re.compile(\"\\s*,\\s*\").split(cols[1].text):\n",
    "            zipcodes.append({\"neighborhood\": neighborhood, \"zipcode\": zipcode})\n",
    "    else:\n",
    "        print(cols)\n",
    "zipDF = pd.DataFrame(zipcodes)\n",
    "zipDF.head()"
   ]
  },
  {
   "cell_type": "code",
   "execution_count": 36,
   "metadata": {
    "collapsed": false
   },
   "outputs": [],
   "source": [
    "#zipDF[zipDF.borough == \"Brooklyn\"].zipcode.values"
   ]
  },
  {
   "cell_type": "markdown",
   "metadata": {},
   "source": [
    "### WTF is this newb stuff?!"
   ]
  },
  {
   "cell_type": "raw",
   "metadata": {
    "collapsed": true
   },
   "source": [
    "income_brackets = {\n",
    "    'B19001_002E': '<10k',\n",
    "    'B19001_003E': '10k-14k',\n",
    "    'B19001_004E': '15k-19k',\n",
    "    'B19001_005E': '20k-24k',\n",
    "    'B19001_006E': '25k-29k',\n",
    "    'B19001_007E': '30k-34k',\n",
    "    'B19001_008E': '35k-39k',\n",
    "    'B19001_009E': '40k-44k',\n",
    "    'B19001_001E': 'Total'\n",
    "}"
   ]
  },
  {
   "cell_type": "code",
   "execution_count": 37,
   "metadata": {
    "collapsed": false
   },
   "outputs": [],
   "source": [
    "census_vars = json.loads(urllib.request.urlopen(\"http://api.census.gov/data/2014/acs5/variables.json\").read().decode('utf-8'))[\"variables\"]\n",
    "income_brackets = dict([(key, value[\"label\"]) for key, value in census_vars.items() if \"B19001_\" in key and key[-1] == \"E\"])"
   ]
  },
  {
   "cell_type": "code",
   "execution_count": 38,
   "metadata": {
    "collapsed": false
   },
   "outputs": [],
   "source": [
    "from us import states\n",
    "from census import Census\n",
    "\n",
    "def getincome20xx(income_brackets, years, census_key, zips):\n",
    "    c = Census(census_key)\n",
    "    df = pd.DataFrame()\n",
    "    for year in years:\n",
    "        tempget = c.acs5.zipcode((tuple([key[0] for key in income_brackets.items()])), Census.ALL, year=year)\n",
    "        tempDF = pd.DataFrame(tempget)\n",
    "        tempDF.columns = [income_brackets[tempDF.columns[i]] if i < len(income_brackets) else tempDF.columns[i] for i in range(len(tempDF.columns))]\n",
    "        tempDF = tempDF[tempDF[tempDF.columns[-1]].isin(zips)]\n",
    "        tempDF[\"year\"] = year\n",
    "        df = df.append(tempDF)\n",
    "    return df"
   ]
  },
  {
   "cell_type": "code",
   "execution_count": 39,
   "metadata": {
    "collapsed": false
   },
   "outputs": [],
   "source": [
    "#let's just get Brooklyn zips for now\n",
    "#theDF = getincome20xx(income_brackets,range(2011,2015), census_key, zipDF[\"zipcode\"].values)\n",
    "theDF = getincome20xx(income_brackets,range(2011,2015), census_key, zipDF[\"zipcode\"].unique())"
   ]
  },
  {
   "cell_type": "code",
   "execution_count": 40,
   "metadata": {
    "collapsed": false,
    "scrolled": true
   },
   "outputs": [
    {
     "data": {
      "text/html": [
       "<div>\n",
       "<table border=\"1\" class=\"dataframe\">\n",
       "  <thead>\n",
       "    <tr style=\"text-align: right;\">\n",
       "      <th></th>\n",
       "      <th>total</th>\n",
       "      <th>0</th>\n",
       "      <th>10</th>\n",
       "      <th>15</th>\n",
       "      <th>20</th>\n",
       "      <th>25</th>\n",
       "      <th>30</th>\n",
       "      <th>35</th>\n",
       "      <th>40</th>\n",
       "      <th>45</th>\n",
       "      <th>50</th>\n",
       "      <th>60</th>\n",
       "      <th>75</th>\n",
       "      <th>100</th>\n",
       "      <th>125</th>\n",
       "      <th>150</th>\n",
       "      <th>200</th>\n",
       "      <th>ZIP</th>\n",
       "      <th>year</th>\n",
       "    </tr>\n",
       "  </thead>\n",
       "  <tbody>\n",
       "    <tr>\n",
       "      <th>2694</th>\n",
       "      <td>23254</td>\n",
       "      <td>1656</td>\n",
       "      <td>706</td>\n",
       "      <td>618</td>\n",
       "      <td>710</td>\n",
       "      <td>403</td>\n",
       "      <td>643</td>\n",
       "      <td>596</td>\n",
       "      <td>686</td>\n",
       "      <td>547</td>\n",
       "      <td>1303</td>\n",
       "      <td>1853</td>\n",
       "      <td>2929</td>\n",
       "      <td>1954</td>\n",
       "      <td>1456</td>\n",
       "      <td>2219</td>\n",
       "      <td>4975</td>\n",
       "      <td>11201</td>\n",
       "      <td>2011</td>\n",
       "    </tr>\n",
       "    <tr>\n",
       "      <th>2695</th>\n",
       "      <td>27145</td>\n",
       "      <td>2740</td>\n",
       "      <td>1244</td>\n",
       "      <td>1525</td>\n",
       "      <td>1486</td>\n",
       "      <td>1352</td>\n",
       "      <td>1158</td>\n",
       "      <td>1397</td>\n",
       "      <td>1453</td>\n",
       "      <td>1449</td>\n",
       "      <td>1876</td>\n",
       "      <td>2761</td>\n",
       "      <td>3418</td>\n",
       "      <td>2316</td>\n",
       "      <td>1410</td>\n",
       "      <td>994</td>\n",
       "      <td>566</td>\n",
       "      <td>11203</td>\n",
       "      <td>2011</td>\n",
       "    </tr>\n",
       "    <tr>\n",
       "      <th>2696</th>\n",
       "      <td>24979</td>\n",
       "      <td>1939</td>\n",
       "      <td>1920</td>\n",
       "      <td>1705</td>\n",
       "      <td>1564</td>\n",
       "      <td>1580</td>\n",
       "      <td>1373</td>\n",
       "      <td>1333</td>\n",
       "      <td>1223</td>\n",
       "      <td>1038</td>\n",
       "      <td>2025</td>\n",
       "      <td>2536</td>\n",
       "      <td>2655</td>\n",
       "      <td>1572</td>\n",
       "      <td>900</td>\n",
       "      <td>1043</td>\n",
       "      <td>573</td>\n",
       "      <td>11204</td>\n",
       "      <td>2011</td>\n",
       "    </tr>\n",
       "    <tr>\n",
       "      <th>2697</th>\n",
       "      <td>14033</td>\n",
       "      <td>2131</td>\n",
       "      <td>1017</td>\n",
       "      <td>874</td>\n",
       "      <td>866</td>\n",
       "      <td>659</td>\n",
       "      <td>614</td>\n",
       "      <td>488</td>\n",
       "      <td>570</td>\n",
       "      <td>324</td>\n",
       "      <td>889</td>\n",
       "      <td>1193</td>\n",
       "      <td>1255</td>\n",
       "      <td>1160</td>\n",
       "      <td>581</td>\n",
       "      <td>640</td>\n",
       "      <td>772</td>\n",
       "      <td>11205</td>\n",
       "      <td>2011</td>\n",
       "    </tr>\n",
       "    <tr>\n",
       "      <th>2698</th>\n",
       "      <td>27668</td>\n",
       "      <td>5551</td>\n",
       "      <td>2800</td>\n",
       "      <td>2612</td>\n",
       "      <td>1950</td>\n",
       "      <td>1551</td>\n",
       "      <td>1643</td>\n",
       "      <td>1079</td>\n",
       "      <td>1405</td>\n",
       "      <td>1172</td>\n",
       "      <td>1669</td>\n",
       "      <td>1675</td>\n",
       "      <td>1911</td>\n",
       "      <td>1170</td>\n",
       "      <td>753</td>\n",
       "      <td>478</td>\n",
       "      <td>249</td>\n",
       "      <td>11206</td>\n",
       "      <td>2011</td>\n",
       "    </tr>\n",
       "  </tbody>\n",
       "</table>\n",
       "</div>"
      ],
      "text/plain": [
       "      total     0    10    15    20    25    30    35    40    45    50    60  \\\n",
       "2694  23254  1656   706   618   710   403   643   596   686   547  1303  1853   \n",
       "2695  27145  2740  1244  1525  1486  1352  1158  1397  1453  1449  1876  2761   \n",
       "2696  24979  1939  1920  1705  1564  1580  1373  1333  1223  1038  2025  2536   \n",
       "2697  14033  2131  1017   874   866   659   614   488   570   324   889  1193   \n",
       "2698  27668  5551  2800  2612  1950  1551  1643  1079  1405  1172  1669  1675   \n",
       "\n",
       "        75   100   125   150   200    ZIP  year  \n",
       "2694  2929  1954  1456  2219  4975  11201  2011  \n",
       "2695  3418  2316  1410   994   566  11203  2011  \n",
       "2696  2655  1572   900  1043   573  11204  2011  \n",
       "2697  1255  1160   581   640   772  11205  2011  \n",
       "2698  1911  1170   753   478   249  11206  2011  "
      ]
     },
     "execution_count": 40,
     "metadata": {},
     "output_type": "execute_result"
    }
   ],
   "source": [
    "newcols = [\"total\", \"0\", \"10\", \"15\", \"20\", \"25\", \"30\", \"35\", \"40\", \"45\", \"50\", \"60\", \"75\", \"100\", \"125\", \"150\", \"200\", \"ZIP\", \"year\"]\n",
    "theDF.columns = newcols\n",
    "theDF.to_csv(os.path.join(datadir, \"incomeDF.csv\"))\n",
    "theDF.head()"
   ]
  },
  {
   "cell_type": "raw",
   "metadata": {
    "collapsed": false
   },
   "source": [
    "tempget = c.acs5.zipcode((tuple([key[0] for key in income_brackets.items()])), Census.ALL, year=2011)\n",
    "tempDF = pd.DataFrame(tempget)\n",
    "tempDF.columns = [income_brackets[tempDF.columns[i]] if i < len(income_brackets) else tempDF.columns[i] for i in range(len(tempDF.columns))]\n",
    "tempDF[tempDF[tempDF.columns[-1]].isin([\"00601\", \"00602\", \"00603\"])]"
   ]
  },
  {
   "cell_type": "code",
   "execution_count": 41,
   "metadata": {
    "collapsed": false,
    "scrolled": true
   },
   "outputs": [],
   "source": [
    "%%script false\n",
    "testDF = theDF[theDF.zipcode == \"11214\"]\n",
    "for year in range(2011, 2015):\n",
    "    yearDF = testDF[testDF.year==year]\n",
    "    X = [int(val) for val in yearDF.columns[1:-2]]\n",
    "    Y = [int(val) for val in yearDF.values[0][1:-2]]\n",
    "    plt.figure()\n",
    "    #plt.xticks(range(0,200,20))\n",
    "    plt.bar(X, Y, linewidth=5, color='b')\n",
    "#testDF[testDF.year == 2011].hist()"
   ]
  },
  {
   "cell_type": "code",
   "execution_count": 42,
   "metadata": {
    "collapsed": false
   },
   "outputs": [],
   "source": [
    "def maxVal(theDF):\n",
    "    return max([max([int(v) for v in row[1:-2]]) for row in theDF.values])\n",
    "    \n",
    "def animateZipcode(hoodDF):\n",
    "    # First set up the figure, the axis, and the plot element we want to animate\n",
    "    fig = plt.figure()\n",
    "    upperBound = maxVal(hoodDF) + 500\n",
    "    ax = plt.axes(xlim=(0, 200), ylim=(0, upperBound))\n",
    "    plt.xlabel(\"Houshold income (x 1000)\")\n",
    "    plt.ylabel(\"# of Housholds\")\n",
    "    #get zipcode\n",
    "    zipcode = hoodDF.ZIP.values[0]\n",
    "    #neighborhood = zipDF[zipDF.zipcode == zipcode].neighborhood.values[0]\n",
    "    plt.title(\"Income changes over time in \" + zipcode)\n",
    "    line, = ax.plot([], [], lw=2)\n",
    "    year_text = ax.text(0.02, 0.95, '', transform=ax.transAxes)\n",
    "    \n",
    "    # initialization function: plot the background of each frame\n",
    "    def init():\n",
    "        line.set_data([], [])\n",
    "        year_text.set_text('')\n",
    "        return line,\n",
    "\n",
    "    # animation function.  This is called sequentially\n",
    "    def animate(i):\n",
    "        yearDF = hoodDF[hoodDF.year==(2011+i)]\n",
    "        X = [int(val) for val in yearDF.columns[1:-2]]\n",
    "        Y = [int(val) for val in yearDF.values[0][1:-2]]\n",
    "        line.set_data(X, Y)\n",
    "        year_text.set_text(str(2011+i))\n",
    "        return line,\n",
    "\n",
    "    # call the animator.  blit=True means only re-draw the parts that have changed.\n",
    "    anim = animation.FuncAnimation(fig, animate, init_func=init,\n",
    "                               frames=4, interval=1000, blit=True)\n",
    "    display(HTML(anim.to_html5_video()))\n",
    "    \n",
    "    return anim"
   ]
  },
  {
   "cell_type": "code",
   "execution_count": 43,
   "metadata": {
    "collapsed": false,
    "scrolled": true
   },
   "outputs": [
    {
     "name": "stdout",
     "output_type": "stream",
     "text": [
      "Number of animations: 36\n"
     ]
    },
    {
     "ename": "RuntimeError",
     "evalue": "No MovieWriters available!",
     "output_type": "error",
     "traceback": [
      "\u001b[0;31m---------------------------------------------------------------------------\u001b[0m",
      "\u001b[0;31mRuntimeError\u001b[0m                              Traceback (most recent call last)",
      "\u001b[0;32m<ipython-input-43-27d251acf478>\u001b[0m in \u001b[0;36m<module>\u001b[0;34m()\u001b[0m\n\u001b[1;32m      2\u001b[0m \u001b[0mprint\u001b[0m\u001b[0;34m(\u001b[0m\u001b[0;34m\"Number of animations: \"\u001b[0m \u001b[0;34m+\u001b[0m \u001b[0mstr\u001b[0m\u001b[0;34m(\u001b[0m\u001b[0mlen\u001b[0m\u001b[0;34m(\u001b[0m\u001b[0mallzips\u001b[0m\u001b[0;34m)\u001b[0m\u001b[0;34m)\u001b[0m\u001b[0;34m)\u001b[0m\u001b[0;34m\u001b[0m\u001b[0m\n\u001b[1;32m      3\u001b[0m \u001b[0;32mfor\u001b[0m \u001b[0mzipcode\u001b[0m \u001b[0;32min\u001b[0m \u001b[0mallzips\u001b[0m\u001b[0;34m:\u001b[0m\u001b[0;34m\u001b[0m\u001b[0m\n\u001b[0;32m----> 4\u001b[0;31m     \u001b[0manim\u001b[0m \u001b[0;34m=\u001b[0m \u001b[0manimateZipcode\u001b[0m\u001b[0;34m(\u001b[0m\u001b[0mtheDF\u001b[0m\u001b[0;34m[\u001b[0m\u001b[0mtheDF\u001b[0m\u001b[0;34m.\u001b[0m\u001b[0mZIP\u001b[0m \u001b[0;34m==\u001b[0m \u001b[0mzipcode\u001b[0m\u001b[0;34m]\u001b[0m\u001b[0;34m)\u001b[0m\u001b[0;34m\u001b[0m\u001b[0m\n\u001b[0m\u001b[1;32m      5\u001b[0m     \u001b[0manim\u001b[0m\u001b[0;34m.\u001b[0m\u001b[0msave\u001b[0m\u001b[0;34m(\u001b[0m\u001b[0;34m\"data/\"\u001b[0m\u001b[0;34m+\u001b[0m\u001b[0mstr\u001b[0m\u001b[0;34m(\u001b[0m\u001b[0mzipcode\u001b[0m\u001b[0;34m)\u001b[0m\u001b[0;34m+\u001b[0m\u001b[0;34m\".mp4\"\u001b[0m\u001b[0;34m)\u001b[0m\u001b[0;34m\u001b[0m\u001b[0m\n\u001b[1;32m      6\u001b[0m \u001b[0mprint\u001b[0m\u001b[0;34m(\u001b[0m\u001b[0;34m\"==================================\"\u001b[0m\u001b[0;34m)\u001b[0m\u001b[0;34m\u001b[0m\u001b[0m\n",
      "\u001b[0;32m<ipython-input-42-2a0aa4f56de6>\u001b[0m in \u001b[0;36manimateZipcode\u001b[0;34m(hoodDF)\u001b[0m\n\u001b[1;32m     34\u001b[0m     anim = animation.FuncAnimation(fig, animate, init_func=init,\n\u001b[1;32m     35\u001b[0m                                frames=4, interval=1000, blit=True)\n\u001b[0;32m---> 36\u001b[0;31m     \u001b[0mdisplay\u001b[0m\u001b[0;34m(\u001b[0m\u001b[0mHTML\u001b[0m\u001b[0;34m(\u001b[0m\u001b[0manim\u001b[0m\u001b[0;34m.\u001b[0m\u001b[0mto_html5_video\u001b[0m\u001b[0;34m(\u001b[0m\u001b[0;34m)\u001b[0m\u001b[0;34m)\u001b[0m\u001b[0;34m)\u001b[0m\u001b[0;34m\u001b[0m\u001b[0m\n\u001b[0m\u001b[1;32m     37\u001b[0m \u001b[0;34m\u001b[0m\u001b[0m\n\u001b[1;32m     38\u001b[0m     \u001b[0;32mreturn\u001b[0m \u001b[0manim\u001b[0m\u001b[0;34m\u001b[0m\u001b[0m\n",
      "\u001b[0;32m//anaconda/lib/python3.5/site-packages/matplotlib/animation.py\u001b[0m in \u001b[0;36mto_html5_video\u001b[0;34m(self)\u001b[0m\n\u001b[1;32m    977\u001b[0m                 \u001b[0;31m# We create a writer manually so that we can get the\u001b[0m\u001b[0;34m\u001b[0m\u001b[0;34m\u001b[0m\u001b[0m\n\u001b[1;32m    978\u001b[0m                 \u001b[0;31m# appropriate size for the tag\u001b[0m\u001b[0;34m\u001b[0m\u001b[0;34m\u001b[0m\u001b[0m\n\u001b[0;32m--> 979\u001b[0;31m                 \u001b[0mWriter\u001b[0m \u001b[0;34m=\u001b[0m \u001b[0mwriters\u001b[0m\u001b[0;34m[\u001b[0m\u001b[0mrcParams\u001b[0m\u001b[0;34m[\u001b[0m\u001b[0;34m'animation.writer'\u001b[0m\u001b[0;34m]\u001b[0m\u001b[0;34m]\u001b[0m\u001b[0;34m\u001b[0m\u001b[0m\n\u001b[0m\u001b[1;32m    980\u001b[0m                 writer = Writer(codec='h264',\n\u001b[1;32m    981\u001b[0m                                 \u001b[0mbitrate\u001b[0m\u001b[0;34m=\u001b[0m\u001b[0mrcParams\u001b[0m\u001b[0;34m[\u001b[0m\u001b[0;34m'animation.bitrate'\u001b[0m\u001b[0;34m]\u001b[0m\u001b[0;34m,\u001b[0m\u001b[0;34m\u001b[0m\u001b[0m\n",
      "\u001b[0;32m//anaconda/lib/python3.5/site-packages/matplotlib/animation.py\u001b[0m in \u001b[0;36m__getitem__\u001b[0;34m(self, name)\u001b[0m\n\u001b[1;32m     87\u001b[0m     \u001b[0;32mdef\u001b[0m \u001b[0m__getitem__\u001b[0m\u001b[0;34m(\u001b[0m\u001b[0mself\u001b[0m\u001b[0;34m,\u001b[0m \u001b[0mname\u001b[0m\u001b[0;34m)\u001b[0m\u001b[0;34m:\u001b[0m\u001b[0;34m\u001b[0m\u001b[0m\n\u001b[1;32m     88\u001b[0m         \u001b[0;32mif\u001b[0m \u001b[0;32mnot\u001b[0m \u001b[0mself\u001b[0m\u001b[0;34m.\u001b[0m\u001b[0mavail\u001b[0m\u001b[0;34m:\u001b[0m\u001b[0;34m\u001b[0m\u001b[0m\n\u001b[0;32m---> 89\u001b[0;31m             \u001b[0;32mraise\u001b[0m \u001b[0mRuntimeError\u001b[0m\u001b[0;34m(\u001b[0m\u001b[0;34m\"No MovieWriters available!\"\u001b[0m\u001b[0;34m)\u001b[0m\u001b[0;34m\u001b[0m\u001b[0m\n\u001b[0m\u001b[1;32m     90\u001b[0m         \u001b[0;32mreturn\u001b[0m \u001b[0mself\u001b[0m\u001b[0;34m.\u001b[0m\u001b[0mavail\u001b[0m\u001b[0;34m[\u001b[0m\u001b[0mname\u001b[0m\u001b[0;34m]\u001b[0m\u001b[0;34m\u001b[0m\u001b[0m\n\u001b[1;32m     91\u001b[0m \u001b[0;34m\u001b[0m\u001b[0m\n",
      "\u001b[0;31mRuntimeError\u001b[0m: No MovieWriters available!"
     ]
    },
    {
     "data": {
      "image/png": "[encoded data removed]",
      "text/plain": [
       "<matplotlib.figure.Figure at 0x1136997f0>"
      ]
     },
     "metadata": {},
     "output_type": "display_data"
    }
   ],
   "source": [
    "allzips = set(theDF.ZIP.values)\n",
    "print(\"Number of animations: \" + str(len(allzips)))\n",
    "for zipcode in allzips:\n",
    "    anim = animateZipcode(theDF[theDF.ZIP == zipcode])\n",
    "    anim.save(\"data/\"+str(zipcode)+\".mp4\")\n",
    "print(\"==================================\")\n",
    "print(\"Why these still images?\")\n",
    "print(\"==================================\")"
   ]
  },
  {
   "cell_type": "code",
   "execution_count": null,
   "metadata": {
    "collapsed": false
   },
   "outputs": [],
   "source": []
  },
  {
   "cell_type": "markdown",
   "metadata": {},
   "source": [
    "## Q3: How much do they contribute to the taxi industry?\n",
    "#### Let's make this more specific, maybe?"
   ]
  },
  {
   "cell_type": "code",
   "execution_count": null,
   "metadata": {
    "collapsed": true
   },
   "outputs": [],
   "source": []
  },
  {
   "cell_type": "code",
   "execution_count": null,
   "metadata": {
    "collapsed": true
   },
   "outputs": [],
   "source": [
    "#taxi_url=\"https://data.cityofnewyork.us/resource/2yzn-sicd.json\""
   ]
  },
  {
   "cell_type": "code",
   "execution_count": null,
   "metadata": {
    "collapsed": true
   },
   "outputs": [],
   "source": [
    "#taxi_df = pd.read_json(taxi_url)"
   ]
  },
  {
   "cell_type": "markdown",
   "metadata": {},
   "source": [
    "### What does the data look like?"
   ]
  },
  {
   "cell_type": "code",
   "execution_count": null,
   "metadata": {
    "collapsed": false
   },
   "outputs": [],
   "source": [
    "#taxi_df.head()"
   ]
  },
  {
   "cell_type": "code",
   "execution_count": null,
   "metadata": {
    "collapsed": true
   },
   "outputs": [],
   "source": []
  }
 ],
 "metadata": {
  "anaconda-cloud": {},
  "kernelspec": {
   "display_name": "Python [conda root]",
   "language": "python",
   "name": "conda-root-py"
  },
  "language_info": {
   "codemirror_mode": {
    "name": "ipython",
    "version": 3
   },
   "file_extension": ".py",
   "mimetype": "text/x-python",
   "name": "python",
   "nbconvert_exporter": "python",
   "pygments_lexer": "ipython3",
   "version": "3.5.2"
  }
 },
 "nbformat": 4,
 "nbformat_minor": 0
}
