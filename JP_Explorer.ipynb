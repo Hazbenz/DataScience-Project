{
 "cells": [
  {
   "cell_type": "markdown",
   "metadata": {},
   "source": [
    "![](http://mymommyology.com/wp-content/uploads/2011/06/dora-the-explorer-logo1.jpg)"
   ]
  },
  {
   "cell_type": "code",
   "execution_count": 1,
   "metadata": {
    "collapsed": false
   },
   "outputs": [],
   "source": [
    "# special IPython command to prepare the notebook for matplotlib\n",
    "#%matplotlib inline \n",
    "\n",
    "import numpy as np\n",
    "import pandas as pd\n",
    "import matplotlib.pyplot as plt\n",
    "\n",
    "#added this because it's indicated as useful but not imported\n",
    "import urllib\n",
    "from zipfile import ZipFile\n",
    "from io import BytesIO\n",
    "import os\n",
    "import json"
   ]
  },
  {
   "cell_type": "markdown",
   "metadata": {},
   "source": [
    "I Definitely copy and pasted this next piece. I found it here:\n",
    "http://stackoverflow.com/a/13895723"
   ]
  },
  {
   "cell_type": "code",
   "execution_count": 2,
   "metadata": {
    "collapsed": true
   },
   "outputs": [],
   "source": [
    "def reporthook(blocknum, blocksize, totalsize):\n",
    "    readsofar = blocknum * blocksize\n",
    "    if totalsize > 0:\n",
    "        percent = readsofar * 1e2 / totalsize\n",
    "        s = \"\\r%5.1f%% %*d / %d\" % (\n",
    "            percent, len(str(totalsize)), readsofar, totalsize)\n",
    "        os.sys.stderr.write(s)\n",
    "        if readsofar >= totalsize: # near the end\n",
    "            os.sys.stderr.write(\"\\n\")\n",
    "    else: # total size is unknown\n",
    "        os.sys.stderr.write(\"read %d\\n\" % (readsofar,))"
   ]
  },
  {
   "cell_type": "code",
   "execution_count": 3,
   "metadata": {
    "collapsed": false
   },
   "outputs": [],
   "source": [
    "datadir = \"data\"\n",
    "try:\n",
    "    os.makedirs(datadir)\n",
    "except:\n",
    "    pass #directory already exists. :P"
   ]
  },
  {
   "cell_type": "markdown",
   "metadata": {},
   "source": [
    "## Q1: Is gentrification the cause of rent hikes in Crown Heights, Brooklyn?"
   ]
  },
  {
   "cell_type": "code",
   "execution_count": 4,
   "metadata": {
    "collapsed": true
   },
   "outputs": [],
   "source": [
    "#how do we answer this?"
   ]
  },
  {
   "cell_type": "markdown",
   "metadata": {},
   "source": [
    "## Q2: Are new people moving in below the median income?"
   ]
  },
  {
   "cell_type": "code",
   "execution_count": 13,
   "metadata": {
    "collapsed": true
   },
   "outputs": [],
   "source": [
    "some_zip_files = [\"https://www.huduser.gov/portal/datasets/fmr/fmr2016p/asq_zctadata_2013_00000to19999.zip\",\n",
    "                 \"https://www.huduser.gov/portal/datasets/fmr/fmr2017/FY2017_hypothetical_safmrs.xlsx\"]"
   ]
  },
  {
   "cell_type": "code",
   "execution_count": 14,
   "metadata": {
    "collapsed": false
   },
   "outputs": [
    {
     "name": "stdout",
     "output_type": "stream",
     "text": [
      "['asq_zctadata_2013_00000to19999.xlsx']\n"
     ]
    },
    {
     "name": "stderr",
     "output_type": "stream",
     "text": [
      " 97.5% 1064960 / 1092364"
     ]
    },
    {
     "name": "stdout",
     "output_type": "stream",
     "text": [
      "['[Content_Types].xml', '_rels/.rels', 'xl/_rels/workbook.xml.rels', 'xl/styles.xml', 'xl/theme/theme1.xml', 'docProps/thumbnail.wmf', 'docProps/core.xml', 'docProps/app.xml', 'xl/workbook.xml', 'xl/worksheets/sheet1.xml']\n"
     ]
    },
    {
     "name": "stderr",
     "output_type": "stream",
     "text": [
      "\r",
      " 98.2% 1073152 / 1092364\r",
      " 99.0% 1081344 / 1092364\r",
      " 99.7% 1089536 / 1092364\r",
      "100.5% 1097728 / 1092364\n"
     ]
    }
   ],
   "source": [
    "#my attempt at data caching\n",
    "for some_zip_file in some_zip_files:\n",
    "    try:\n",
    "        zipF = ZipFile(os.path.join(datadir,some_zip_file.split(\"/\")[-1]))\n",
    "    except FileNotFoundError as e:\n",
    "        #if zip doesn't exist, download it and try opening it again\n",
    "        urllib.request.urlretrieve(some_zip_file, os.path.join(datadir,some_zip_file.split(\"/\")[-1]), reporthook)\n",
    "        zipF = ZipFile(os.path.join(datadir,some_zip_file.split(\"/\")[-1]))\n",
    "    print(zipF.namelist())"
   ]
  },
  {
   "cell_type": "markdown",
   "metadata": {},
   "source": [
    "Extracting is extra slow too"
   ]
  },
  {
   "cell_type": "code",
   "execution_count": 16,
   "metadata": {
    "collapsed": false
   },
   "outputs": [],
   "source": [
    "some_df = pd.read_excel(os.path.join(datadir,some_zip_files[1].split(\"/\")[-1]))"
   ]
  },
  {
   "cell_type": "code",
   "execution_count": 17,
   "metadata": {
    "collapsed": false,
    "scrolled": true
   },
   "outputs": [
    {
     "data": {
      "text/html": [
       "<div>\n",
       "<table border=\"1\" class=\"dataframe\">\n",
       "  <thead>\n",
       "    <tr style=\"text-align: right;\">\n",
       "      <th></th>\n",
       "      <th>zip_code</th>\n",
       "      <th>metro_code</th>\n",
       "      <th>metro_name</th>\n",
       "      <th>area_rent_br0</th>\n",
       "      <th>area_rent_br1</th>\n",
       "      <th>area_rent_br2</th>\n",
       "      <th>area_rent_br3</th>\n",
       "      <th>area_rent_br4</th>\n",
       "    </tr>\n",
       "  </thead>\n",
       "  <tbody>\n",
       "    <tr>\n",
       "      <th>0</th>\n",
       "      <td>76437</td>\n",
       "      <td>10180</td>\n",
       "      <td>Abilene, TX MSA</td>\n",
       "      <td>470</td>\n",
       "      <td>510</td>\n",
       "      <td>680</td>\n",
       "      <td>850</td>\n",
       "      <td>1130</td>\n",
       "    </tr>\n",
       "    <tr>\n",
       "      <th>1</th>\n",
       "      <td>76443</td>\n",
       "      <td>10180</td>\n",
       "      <td>Abilene, TX MSA</td>\n",
       "      <td>470</td>\n",
       "      <td>510</td>\n",
       "      <td>680</td>\n",
       "      <td>850</td>\n",
       "      <td>1130</td>\n",
       "    </tr>\n",
       "    <tr>\n",
       "      <th>2</th>\n",
       "      <td>76464</td>\n",
       "      <td>10180</td>\n",
       "      <td>Abilene, TX MSA</td>\n",
       "      <td>470</td>\n",
       "      <td>510</td>\n",
       "      <td>680</td>\n",
       "      <td>850</td>\n",
       "      <td>1130</td>\n",
       "    </tr>\n",
       "    <tr>\n",
       "      <th>3</th>\n",
       "      <td>76469</td>\n",
       "      <td>10180</td>\n",
       "      <td>Abilene, TX MSA</td>\n",
       "      <td>500</td>\n",
       "      <td>550</td>\n",
       "      <td>730</td>\n",
       "      <td>910</td>\n",
       "      <td>1220</td>\n",
       "    </tr>\n",
       "    <tr>\n",
       "      <th>4</th>\n",
       "      <td>79501</td>\n",
       "      <td>10180</td>\n",
       "      <td>Abilene, TX MSA</td>\n",
       "      <td>470</td>\n",
       "      <td>510</td>\n",
       "      <td>680</td>\n",
       "      <td>850</td>\n",
       "      <td>1130</td>\n",
       "    </tr>\n",
       "  </tbody>\n",
       "</table>\n",
       "</div>"
      ],
      "text/plain": [
       "   zip_code  metro_code       metro_name  area_rent_br0  area_rent_br1  \\\n",
       "0     76437       10180  Abilene, TX MSA            470            510   \n",
       "1     76443       10180  Abilene, TX MSA            470            510   \n",
       "2     76464       10180  Abilene, TX MSA            470            510   \n",
       "3     76469       10180  Abilene, TX MSA            500            550   \n",
       "4     79501       10180  Abilene, TX MSA            470            510   \n",
       "\n",
       "   area_rent_br2  area_rent_br3  area_rent_br4  \n",
       "0            680            850           1130  \n",
       "1            680            850           1130  \n",
       "2            680            850           1130  \n",
       "3            730            910           1220  \n",
       "4            680            850           1130  "
      ]
     },
     "execution_count": 17,
     "metadata": {},
     "output_type": "execute_result"
    }
   ],
   "source": [
    "some_df.head()"
   ]
  },
  {
   "cell_type": "code",
   "execution_count": null,
   "metadata": {
    "collapsed": true
   },
   "outputs": [],
   "source": [
    "\"https://factfinder.census.gov/faces/tableservices/jsf/pages/productview.xhtml?pid=ACS_14_5YR_S1901&prodType=table\""
   ]
  },
  {
   "cell_type": "markdown",
   "metadata": {},
   "source": [
    "Use the Census wrapper"
   ]
  },
  {
   "cell_type": "code",
   "execution_count": 2,
   "metadata": {
    "collapsed": false
   },
   "outputs": [],
   "source": [
    "debugMode=True\n",
    "path2keys = os.environ.setdefault(\"PATHTOKEYS\", os.path.expanduser(\"~\")+\"/keys.json\")\n",
    "with open(path2keys) as json_file:    \n",
    "    if debugMode:\n",
    "        keys = json.load(json_file)[\"debug\"]\n",
    "    else:\n",
    "        keys = json.load(json_file)[\"release\"]\n",
    "census_key = keys[\"census\"][\"api_key\"]"
   ]
  },
  {
   "cell_type": "code",
   "execution_count": 3,
   "metadata": {
    "collapsed": false
   },
   "outputs": [],
   "source": [
    "from us import states\n",
    "from census import Census\n",
    "\n",
    "c = Census(census_key)"
   ]
  },
  {
   "cell_type": "markdown",
   "metadata": {},
   "source": [
    "### WTF is this newb stuff?!"
   ]
  },
  {
   "cell_type": "raw",
   "metadata": {
    "collapsed": true
   },
   "source": [
    "income_brackets = {\n",
    "    'B19001_002E': '<10k',\n",
    "    'B19001_003E': '10k-14k',\n",
    "    'B19001_004E': '15k-19k',\n",
    "    'B19001_005E': '20k-24k',\n",
    "    'B19001_006E': '25k-29k',\n",
    "    'B19001_007E': '30k-34k',\n",
    "    'B19001_008E': '35k-39k',\n",
    "    'B19001_009E': '40k-44k',\n",
    "    'B19001_001E': 'Total'\n",
    "}"
   ]
  },
  {
   "cell_type": "code",
   "execution_count": 65,
   "metadata": {
    "collapsed": false
   },
   "outputs": [],
   "source": [
    "census_vars = json.loads(urllib.request.urlopen(\"http://api.census.gov/data/2014/acs5/variables.json\").read().decode('utf-8'))[\"variables\"]"
   ]
  },
  {
   "cell_type": "code",
   "execution_count": 72,
   "metadata": {
    "collapsed": false
   },
   "outputs": [],
   "source": [
    "income_brackets = dict([(key, value[\"label\"]) for key, value in census_vars.items() if \"B19001_\" in key and key[-1] == \"E\"])"
   ]
  },
  {
   "cell_type": "code",
   "execution_count": 73,
   "metadata": {
    "collapsed": false
   },
   "outputs": [],
   "source": [
    "tempget = c.acs5.state_county_subdivision((tuple([key[0] for key in income_brackets.items()])), states.NY.fips, Census.ALL, Census.ALL)"
   ]
  },
  {
   "cell_type": "code",
   "execution_count": 74,
   "metadata": {
    "collapsed": false
   },
   "outputs": [
    {
     "data": {
      "text/html": [
       "<div>\n",
       "<table border=\"1\" class=\"dataframe\">\n",
       "  <thead>\n",
       "    <tr style=\"text-align: right;\">\n",
       "      <th></th>\n",
       "      <th>B19001_001E</th>\n",
       "      <th>B19001_002E</th>\n",
       "      <th>B19001_003E</th>\n",
       "      <th>B19001_004E</th>\n",
       "      <th>B19001_005E</th>\n",
       "      <th>B19001_006E</th>\n",
       "      <th>B19001_007E</th>\n",
       "      <th>B19001_008E</th>\n",
       "      <th>B19001_009E</th>\n",
       "      <th>B19001_010E</th>\n",
       "      <th>B19001_011E</th>\n",
       "      <th>B19001_012E</th>\n",
       "      <th>B19001_013E</th>\n",
       "      <th>B19001_014E</th>\n",
       "      <th>B19001_015E</th>\n",
       "      <th>B19001_016E</th>\n",
       "      <th>B19001_017E</th>\n",
       "      <th>county</th>\n",
       "      <th>county subdivision</th>\n",
       "      <th>state</th>\n",
       "    </tr>\n",
       "  </thead>\n",
       "  <tbody>\n",
       "    <tr>\n",
       "      <th>0</th>\n",
       "      <td>39903</td>\n",
       "      <td>4813</td>\n",
       "      <td>3554</td>\n",
       "      <td>2818</td>\n",
       "      <td>2371</td>\n",
       "      <td>2186</td>\n",
       "      <td>1909</td>\n",
       "      <td>1838</td>\n",
       "      <td>1871</td>\n",
       "      <td>1049</td>\n",
       "      <td>3161</td>\n",
       "      <td>3770</td>\n",
       "      <td>4390</td>\n",
       "      <td>2609</td>\n",
       "      <td>1483</td>\n",
       "      <td>1437</td>\n",
       "      <td>644</td>\n",
       "      <td>001</td>\n",
       "      <td>01000</td>\n",
       "      <td>36</td>\n",
       "    </tr>\n",
       "    <tr>\n",
       "      <th>1</th>\n",
       "      <td>1214</td>\n",
       "      <td>24</td>\n",
       "      <td>35</td>\n",
       "      <td>25</td>\n",
       "      <td>75</td>\n",
       "      <td>56</td>\n",
       "      <td>34</td>\n",
       "      <td>66</td>\n",
       "      <td>85</td>\n",
       "      <td>40</td>\n",
       "      <td>121</td>\n",
       "      <td>135</td>\n",
       "      <td>139</td>\n",
       "      <td>166</td>\n",
       "      <td>81</td>\n",
       "      <td>84</td>\n",
       "      <td>48</td>\n",
       "      <td>001</td>\n",
       "      <td>06211</td>\n",
       "      <td>36</td>\n",
       "    </tr>\n",
       "    <tr>\n",
       "      <th>2</th>\n",
       "      <td>13178</td>\n",
       "      <td>310</td>\n",
       "      <td>189</td>\n",
       "      <td>322</td>\n",
       "      <td>332</td>\n",
       "      <td>355</td>\n",
       "      <td>244</td>\n",
       "      <td>332</td>\n",
       "      <td>586</td>\n",
       "      <td>343</td>\n",
       "      <td>847</td>\n",
       "      <td>1460</td>\n",
       "      <td>1936</td>\n",
       "      <td>1818</td>\n",
       "      <td>1141</td>\n",
       "      <td>1502</td>\n",
       "      <td>1461</td>\n",
       "      <td>001</td>\n",
       "      <td>06354</td>\n",
       "      <td>36</td>\n",
       "    </tr>\n",
       "    <tr>\n",
       "      <th>3</th>\n",
       "      <td>3017</td>\n",
       "      <td>189</td>\n",
       "      <td>94</td>\n",
       "      <td>135</td>\n",
       "      <td>114</td>\n",
       "      <td>111</td>\n",
       "      <td>253</td>\n",
       "      <td>74</td>\n",
       "      <td>129</td>\n",
       "      <td>286</td>\n",
       "      <td>353</td>\n",
       "      <td>320</td>\n",
       "      <td>446</td>\n",
       "      <td>196</td>\n",
       "      <td>152</td>\n",
       "      <td>101</td>\n",
       "      <td>64</td>\n",
       "      <td>001</td>\n",
       "      <td>16694</td>\n",
       "      <td>36</td>\n",
       "    </tr>\n",
       "    <tr>\n",
       "      <th>4</th>\n",
       "      <td>7139</td>\n",
       "      <td>671</td>\n",
       "      <td>345</td>\n",
       "      <td>585</td>\n",
       "      <td>370</td>\n",
       "      <td>329</td>\n",
       "      <td>479</td>\n",
       "      <td>288</td>\n",
       "      <td>554</td>\n",
       "      <td>381</td>\n",
       "      <td>725</td>\n",
       "      <td>664</td>\n",
       "      <td>837</td>\n",
       "      <td>389</td>\n",
       "      <td>260</td>\n",
       "      <td>172</td>\n",
       "      <td>90</td>\n",
       "      <td>001</td>\n",
       "      <td>16749</td>\n",
       "      <td>36</td>\n",
       "    </tr>\n",
       "  </tbody>\n",
       "</table>\n",
       "</div>"
      ],
      "text/plain": [
       "  B19001_001E B19001_002E B19001_003E B19001_004E B19001_005E B19001_006E  \\\n",
       "0       39903        4813        3554        2818        2371        2186   \n",
       "1        1214          24          35          25          75          56   \n",
       "2       13178         310         189         322         332         355   \n",
       "3        3017         189          94         135         114         111   \n",
       "4        7139         671         345         585         370         329   \n",
       "\n",
       "  B19001_007E B19001_008E B19001_009E B19001_010E B19001_011E B19001_012E  \\\n",
       "0        1909        1838        1871        1049        3161        3770   \n",
       "1          34          66          85          40         121         135   \n",
       "2         244         332         586         343         847        1460   \n",
       "3         253          74         129         286         353         320   \n",
       "4         479         288         554         381         725         664   \n",
       "\n",
       "  B19001_013E B19001_014E B19001_015E B19001_016E B19001_017E county  \\\n",
       "0        4390        2609        1483        1437         644    001   \n",
       "1         139         166          81          84          48    001   \n",
       "2        1936        1818        1141        1502        1461    001   \n",
       "3         446         196         152         101          64    001   \n",
       "4         837         389         260         172          90    001   \n",
       "\n",
       "  county subdivision state  \n",
       "0              01000    36  \n",
       "1              06211    36  \n",
       "2              06354    36  \n",
       "3              16694    36  \n",
       "4              16749    36  "
      ]
     },
     "execution_count": 74,
     "metadata": {},
     "output_type": "execute_result"
    }
   ],
   "source": [
    "tempDF = pd.DataFrame(tempget)\n",
    "tempDF.head()"
   ]
  },
  {
   "cell_type": "code",
   "execution_count": 75,
   "metadata": {
    "collapsed": false
   },
   "outputs": [],
   "source": [
    "tempDF.columns = [income_brackets[tempDF.columns[i]] if i < len(income_brackets) else tempDF.columns[i] for i in range(len(tempDF.columns))]"
   ]
  },
  {
   "cell_type": "code",
   "execution_count": 76,
   "metadata": {
    "collapsed": false
   },
   "outputs": [
    {
     "data": {
      "text/html": [
       "<div>\n",
       "<table border=\"1\" class=\"dataframe\">\n",
       "  <thead>\n",
       "    <tr style=\"text-align: right;\">\n",
       "      <th></th>\n",
       "      <th>Total:</th>\n",
       "      <th>Less than $10,000</th>\n",
       "      <th>$10,000 to $14,999</th>\n",
       "      <th>$15,000 to $19,999</th>\n",
       "      <th>$20,000 to $24,999</th>\n",
       "      <th>$25,000 to $29,999</th>\n",
       "      <th>$30,000 to $34,999</th>\n",
       "      <th>$35,000 to $39,999</th>\n",
       "      <th>$40,000 to $44,999</th>\n",
       "      <th>$45,000 to $49,999</th>\n",
       "      <th>$50,000 to $59,999</th>\n",
       "      <th>$60,000 to $74,999</th>\n",
       "      <th>$75,000 to $99,999</th>\n",
       "      <th>$100,000 to $124,999</th>\n",
       "      <th>$125,000 to $149,999</th>\n",
       "      <th>$150,000 to $199,999</th>\n",
       "      <th>$200,000 or more</th>\n",
       "      <th>county</th>\n",
       "      <th>county subdivision</th>\n",
       "      <th>state</th>\n",
       "    </tr>\n",
       "  </thead>\n",
       "  <tbody>\n",
       "    <tr>\n",
       "      <th>0</th>\n",
       "      <td>39903</td>\n",
       "      <td>4813</td>\n",
       "      <td>3554</td>\n",
       "      <td>2818</td>\n",
       "      <td>2371</td>\n",
       "      <td>2186</td>\n",
       "      <td>1909</td>\n",
       "      <td>1838</td>\n",
       "      <td>1871</td>\n",
       "      <td>1049</td>\n",
       "      <td>3161</td>\n",
       "      <td>3770</td>\n",
       "      <td>4390</td>\n",
       "      <td>2609</td>\n",
       "      <td>1483</td>\n",
       "      <td>1437</td>\n",
       "      <td>644</td>\n",
       "      <td>001</td>\n",
       "      <td>01000</td>\n",
       "      <td>36</td>\n",
       "    </tr>\n",
       "    <tr>\n",
       "      <th>1</th>\n",
       "      <td>1214</td>\n",
       "      <td>24</td>\n",
       "      <td>35</td>\n",
       "      <td>25</td>\n",
       "      <td>75</td>\n",
       "      <td>56</td>\n",
       "      <td>34</td>\n",
       "      <td>66</td>\n",
       "      <td>85</td>\n",
       "      <td>40</td>\n",
       "      <td>121</td>\n",
       "      <td>135</td>\n",
       "      <td>139</td>\n",
       "      <td>166</td>\n",
       "      <td>81</td>\n",
       "      <td>84</td>\n",
       "      <td>48</td>\n",
       "      <td>001</td>\n",
       "      <td>06211</td>\n",
       "      <td>36</td>\n",
       "    </tr>\n",
       "    <tr>\n",
       "      <th>2</th>\n",
       "      <td>13178</td>\n",
       "      <td>310</td>\n",
       "      <td>189</td>\n",
       "      <td>322</td>\n",
       "      <td>332</td>\n",
       "      <td>355</td>\n",
       "      <td>244</td>\n",
       "      <td>332</td>\n",
       "      <td>586</td>\n",
       "      <td>343</td>\n",
       "      <td>847</td>\n",
       "      <td>1460</td>\n",
       "      <td>1936</td>\n",
       "      <td>1818</td>\n",
       "      <td>1141</td>\n",
       "      <td>1502</td>\n",
       "      <td>1461</td>\n",
       "      <td>001</td>\n",
       "      <td>06354</td>\n",
       "      <td>36</td>\n",
       "    </tr>\n",
       "    <tr>\n",
       "      <th>3</th>\n",
       "      <td>3017</td>\n",
       "      <td>189</td>\n",
       "      <td>94</td>\n",
       "      <td>135</td>\n",
       "      <td>114</td>\n",
       "      <td>111</td>\n",
       "      <td>253</td>\n",
       "      <td>74</td>\n",
       "      <td>129</td>\n",
       "      <td>286</td>\n",
       "      <td>353</td>\n",
       "      <td>320</td>\n",
       "      <td>446</td>\n",
       "      <td>196</td>\n",
       "      <td>152</td>\n",
       "      <td>101</td>\n",
       "      <td>64</td>\n",
       "      <td>001</td>\n",
       "      <td>16694</td>\n",
       "      <td>36</td>\n",
       "    </tr>\n",
       "    <tr>\n",
       "      <th>4</th>\n",
       "      <td>7139</td>\n",
       "      <td>671</td>\n",
       "      <td>345</td>\n",
       "      <td>585</td>\n",
       "      <td>370</td>\n",
       "      <td>329</td>\n",
       "      <td>479</td>\n",
       "      <td>288</td>\n",
       "      <td>554</td>\n",
       "      <td>381</td>\n",
       "      <td>725</td>\n",
       "      <td>664</td>\n",
       "      <td>837</td>\n",
       "      <td>389</td>\n",
       "      <td>260</td>\n",
       "      <td>172</td>\n",
       "      <td>90</td>\n",
       "      <td>001</td>\n",
       "      <td>16749</td>\n",
       "      <td>36</td>\n",
       "    </tr>\n",
       "  </tbody>\n",
       "</table>\n",
       "</div>"
      ],
      "text/plain": [
       "  Total: Less than $10,000 $10,000 to $14,999 $15,000 to $19,999  \\\n",
       "0  39903              4813               3554               2818   \n",
       "1   1214                24                 35                 25   \n",
       "2  13178               310                189                322   \n",
       "3   3017               189                 94                135   \n",
       "4   7139               671                345                585   \n",
       "\n",
       "  $20,000 to $24,999 $25,000 to $29,999 $30,000 to $34,999 $35,000 to $39,999  \\\n",
       "0               2371               2186               1909               1838   \n",
       "1                 75                 56                 34                 66   \n",
       "2                332                355                244                332   \n",
       "3                114                111                253                 74   \n",
       "4                370                329                479                288   \n",
       "\n",
       "  $40,000 to $44,999 $45,000 to $49,999 $50,000 to $59,999 $60,000 to $74,999  \\\n",
       "0               1871               1049               3161               3770   \n",
       "1                 85                 40                121                135   \n",
       "2                586                343                847               1460   \n",
       "3                129                286                353                320   \n",
       "4                554                381                725                664   \n",
       "\n",
       "  $75,000 to $99,999 $100,000 to $124,999 $125,000 to $149,999  \\\n",
       "0               4390                 2609                 1483   \n",
       "1                139                  166                   81   \n",
       "2               1936                 1818                 1141   \n",
       "3                446                  196                  152   \n",
       "4                837                  389                  260   \n",
       "\n",
       "  $150,000 to $199,999 $200,000 or more county county subdivision state  \n",
       "0                 1437              644    001              01000    36  \n",
       "1                   84               48    001              06211    36  \n",
       "2                 1502             1461    001              06354    36  \n",
       "3                  101               64    001              16694    36  \n",
       "4                  172               90    001              16749    36  "
      ]
     },
     "execution_count": 76,
     "metadata": {},
     "output_type": "execute_result"
    }
   ],
   "source": [
    "tempDF.head()"
   ]
  },
  {
   "cell_type": "markdown",
   "metadata": {},
   "source": [
    "## Q3: How much do they contribute to the taxi industry?\n",
    "#### Let's make this more specific, maybe?"
   ]
  },
  {
   "cell_type": "code",
   "execution_count": null,
   "metadata": {
    "collapsed": true
   },
   "outputs": [],
   "source": []
  },
  {
   "cell_type": "code",
   "execution_count": 3,
   "metadata": {
    "collapsed": true
   },
   "outputs": [],
   "source": [
    "taxi_url=\"https://data.cityofnewyork.us/resource/2yzn-sicd.json\""
   ]
  },
  {
   "cell_type": "code",
   "execution_count": 4,
   "metadata": {
    "collapsed": true
   },
   "outputs": [],
   "source": [
    "taxi_df = pd.read_json(taxi_url)"
   ]
  },
  {
   "cell_type": "markdown",
   "metadata": {},
   "source": [
    "### What does the data look like?"
   ]
  },
  {
   "cell_type": "code",
   "execution_count": 5,
   "metadata": {
    "collapsed": false
   },
   "outputs": [
    {
     "data": {
      "text/html": [
       "<div>\n",
       "<table border=\"1\" class=\"dataframe\">\n",
       "  <thead>\n",
       "    <tr style=\"text-align: right;\">\n",
       "      <th></th>\n",
       "      <th>dropoff_datetime</th>\n",
       "      <th>dropoff_latitude</th>\n",
       "      <th>dropoff_longitude</th>\n",
       "      <th>extra</th>\n",
       "      <th>fare_amount</th>\n",
       "      <th>mta_tax</th>\n",
       "      <th>passenger_count</th>\n",
       "      <th>payment_type</th>\n",
       "      <th>pickup_datetime</th>\n",
       "      <th>pickup_latitude</th>\n",
       "      <th>pickup_longitude</th>\n",
       "      <th>rate_code</th>\n",
       "      <th>store_and_fwd_flag</th>\n",
       "      <th>tip_amount</th>\n",
       "      <th>tolls_amount</th>\n",
       "      <th>total_amount</th>\n",
       "      <th>trip_distance</th>\n",
       "      <th>vendor_id</th>\n",
       "    </tr>\n",
       "  </thead>\n",
       "  <tbody>\n",
       "    <tr>\n",
       "      <th>0</th>\n",
       "      <td>2015-01-06T19:06:32.000</td>\n",
       "      <td>40.727608</td>\n",
       "      <td>-73.991150</td>\n",
       "      <td>1.0</td>\n",
       "      <td>8.0</td>\n",
       "      <td>0.5</td>\n",
       "      <td>1</td>\n",
       "      <td>2</td>\n",
       "      <td>2015-01-06T18:58:18.000</td>\n",
       "      <td>40.707218</td>\n",
       "      <td>-74.004639</td>\n",
       "      <td>1</td>\n",
       "      <td>N</td>\n",
       "      <td>0.00</td>\n",
       "      <td>0.0</td>\n",
       "      <td>9.80</td>\n",
       "      <td>1.60</td>\n",
       "      <td>1</td>\n",
       "    </tr>\n",
       "    <tr>\n",
       "      <th>1</th>\n",
       "      <td>2015-03-10T22:43:36.000</td>\n",
       "      <td>40.759827</td>\n",
       "      <td>-73.972092</td>\n",
       "      <td>0.5</td>\n",
       "      <td>6.5</td>\n",
       "      <td>0.5</td>\n",
       "      <td>1</td>\n",
       "      <td>1</td>\n",
       "      <td>2015-03-10T22:37:24.000</td>\n",
       "      <td>40.770870</td>\n",
       "      <td>-73.962952</td>\n",
       "      <td>1</td>\n",
       "      <td>N</td>\n",
       "      <td>1.55</td>\n",
       "      <td>0.0</td>\n",
       "      <td>9.35</td>\n",
       "      <td>1.00</td>\n",
       "      <td>1</td>\n",
       "    </tr>\n",
       "    <tr>\n",
       "      <th>2</th>\n",
       "      <td>2015-04-21T14:36:54.000</td>\n",
       "      <td>40.754753</td>\n",
       "      <td>-73.977829</td>\n",
       "      <td>0.0</td>\n",
       "      <td>8.5</td>\n",
       "      <td>0.5</td>\n",
       "      <td>1</td>\n",
       "      <td>1</td>\n",
       "      <td>2015-04-21T14:25:29.000</td>\n",
       "      <td>40.749969</td>\n",
       "      <td>-73.991432</td>\n",
       "      <td>1</td>\n",
       "      <td>N</td>\n",
       "      <td>2.75</td>\n",
       "      <td>0.0</td>\n",
       "      <td>12.05</td>\n",
       "      <td>1.30</td>\n",
       "      <td>1</td>\n",
       "    </tr>\n",
       "    <tr>\n",
       "      <th>3</th>\n",
       "      <td>2015-03-02T18:13:08.000</td>\n",
       "      <td>40.746220</td>\n",
       "      <td>-73.985039</td>\n",
       "      <td>1.0</td>\n",
       "      <td>13.0</td>\n",
       "      <td>0.5</td>\n",
       "      <td>1</td>\n",
       "      <td>2</td>\n",
       "      <td>2015-03-02T17:55:05.000</td>\n",
       "      <td>40.769695</td>\n",
       "      <td>-73.964905</td>\n",
       "      <td>1</td>\n",
       "      <td>N</td>\n",
       "      <td>0.00</td>\n",
       "      <td>0.0</td>\n",
       "      <td>14.80</td>\n",
       "      <td>2.20</td>\n",
       "      <td>1</td>\n",
       "    </tr>\n",
       "    <tr>\n",
       "      <th>4</th>\n",
       "      <td>2015-01-26T12:02:13.000</td>\n",
       "      <td>40.735851</td>\n",
       "      <td>-73.993103</td>\n",
       "      <td>0.0</td>\n",
       "      <td>8.5</td>\n",
       "      <td>0.5</td>\n",
       "      <td>4</td>\n",
       "      <td>1</td>\n",
       "      <td>2015-01-26T11:52:13.000</td>\n",
       "      <td>40.733055</td>\n",
       "      <td>-73.975365</td>\n",
       "      <td>1</td>\n",
       "      <td>N</td>\n",
       "      <td>1.86</td>\n",
       "      <td>0.0</td>\n",
       "      <td>11.16</td>\n",
       "      <td>1.42</td>\n",
       "      <td>2</td>\n",
       "    </tr>\n",
       "  </tbody>\n",
       "</table>\n",
       "</div>"
      ],
      "text/plain": [
       "          dropoff_datetime  dropoff_latitude  dropoff_longitude  extra  \\\n",
       "0  2015-01-06T19:06:32.000         40.727608         -73.991150    1.0   \n",
       "1  2015-03-10T22:43:36.000         40.759827         -73.972092    0.5   \n",
       "2  2015-04-21T14:36:54.000         40.754753         -73.977829    0.0   \n",
       "3  2015-03-02T18:13:08.000         40.746220         -73.985039    1.0   \n",
       "4  2015-01-26T12:02:13.000         40.735851         -73.993103    0.0   \n",
       "\n",
       "   fare_amount  mta_tax  passenger_count  payment_type  \\\n",
       "0          8.0      0.5                1             2   \n",
       "1          6.5      0.5                1             1   \n",
       "2          8.5      0.5                1             1   \n",
       "3         13.0      0.5                1             2   \n",
       "4          8.5      0.5                4             1   \n",
       "\n",
       "           pickup_datetime  pickup_latitude  pickup_longitude  rate_code  \\\n",
       "0  2015-01-06T18:58:18.000        40.707218        -74.004639          1   \n",
       "1  2015-03-10T22:37:24.000        40.770870        -73.962952          1   \n",
       "2  2015-04-21T14:25:29.000        40.749969        -73.991432          1   \n",
       "3  2015-03-02T17:55:05.000        40.769695        -73.964905          1   \n",
       "4  2015-01-26T11:52:13.000        40.733055        -73.975365          1   \n",
       "\n",
       "  store_and_fwd_flag  tip_amount  tolls_amount  total_amount  trip_distance  \\\n",
       "0                  N        0.00           0.0          9.80           1.60   \n",
       "1                  N        1.55           0.0          9.35           1.00   \n",
       "2                  N        2.75           0.0         12.05           1.30   \n",
       "3                  N        0.00           0.0         14.80           2.20   \n",
       "4                  N        1.86           0.0         11.16           1.42   \n",
       "\n",
       "   vendor_id  \n",
       "0          1  \n",
       "1          1  \n",
       "2          1  \n",
       "3          1  \n",
       "4          2  "
      ]
     },
     "execution_count": 5,
     "metadata": {},
     "output_type": "execute_result"
    }
   ],
   "source": [
    "taxi_df.head()"
   ]
  },
  {
   "cell_type": "code",
   "execution_count": 1,
   "metadata": {
    "collapsed": false
   },
   "outputs": [
    {
     "name": "stdout",
     "output_type": "stream",
     "text": [
      "/home/stuff/anaconda3/envs/rentistoodamnhigh/bin/python\r\n"
     ]
    }
   ],
   "source": []
  },
  {
   "cell_type": "code",
   "execution_count": 3,
   "metadata": {
    "collapsed": false,
    "scrolled": false
   },
   "outputs": [
    {
     "name": "stdout",
     "output_type": "stream",
     "text": [
      "Collecting git+https://github.com/CommerceDataService/census-wrapper.git\n",
      "  Cloning https://github.com/CommerceDataService/census-wrapper.git to /tmp/pip-nlrvh24j-build\n",
      "Requirement already satisfied: requests>=1.1.0 in /home/stuff/anaconda3/envs/rentistoodamnhigh/lib/python3.5/site-packages (from census==0.8.1)\n",
      "Collecting us>=0.7 (from census==0.8.1)\n",
      "  Downloading us-0.9.1.tar.gz\n",
      "Collecting jellyfish==0.5.1 (from us>=0.7->census==0.8.1)\n",
      "  Downloading jellyfish-0.5.1.tar.gz\n",
      "Building wheels for collected packages: us, jellyfish\n",
      "  Running setup.py bdist_wheel for us ... \u001b[?25l-\b \b\\\b \b|\b \bdone\n",
      "\u001b[?25h  Stored in directory: /home/stuff/.cache/pip/wheels/1c/18/a6/f0a1651888a6c980d14ce6c68ae0bff4419e20bce4f2473a96\n",
      "  Running setup.py bdist_wheel for jellyfish ... \u001b[?25l-\b \b\\\b \b|\b \b/\b \b-\b \b\\\b \b|\b \b/\b \b-\b \b\\\b \b|\b \b/\b \b-\b \b\\\b \bdone\n",
      "\u001b[?25h  Stored in directory: /home/stuff/.cache/pip/wheels/a5/d1/70/3ee3c2bed592a55e2be58210ac6d6618ada7df353e3621e42c\n",
      "Successfully built us jellyfish\n",
      "Installing collected packages: jellyfish, us, census\n",
      "  Running setup.py install for census ... \u001b[?25l-\b \b\\\b \b|\b \bdone\n",
      "\u001b[?25hSuccessfully installed census-0.8.1 jellyfish-0.5.1 us-0.9.1\n"
     ]
    }
   ],
   "source": [
    "#!pip install git+https://github.com/CommerceDataService/census-wrapper.git"
   ]
  },
  {
   "cell_type": "code",
   "execution_count": 4,
   "metadata": {
    "collapsed": false
   },
   "outputs": [
    {
     "name": "stdout",
     "output_type": "stream",
     "text": [
      "Collecting census_area\n",
      "  Downloading census_area-0.2-py2.py3-none-any.whl\n",
      "Requirement already satisfied: census in /home/stuff/anaconda3/envs/rentistoodamnhigh/lib/python3.5/site-packages (from census_area)\n",
      "Collecting shapely (from census_area)\n",
      "  Downloading Shapely-1.5.17.tar.gz (180kB)\n",
      "\u001b[K    100% |████████████████████████████████| 184kB 43kB/s \n",
      "\u001b[?25h    Complete output from command python setup.py egg_info:\n",
      "    Failed `CDLL(libgeos_c.so.1)`\n",
      "    Failed `CDLL(libgeos_c.so)`\n",
      "    Traceback (most recent call last):\n",
      "      File \"<string>\", line 1, in <module>\n",
      "      File \"/tmp/pip-build-_b8go_w7/shapely/setup.py\", line 38, in <module>\n",
      "        from shapely._buildcfg import geos_version_string, geos_version, \\\n",
      "      File \"/tmp/pip-build-_b8go_w7/shapely/shapely/_buildcfg.py\", line 167, in <module>\n",
      "        fallbacks=['libgeos_c.so.1', 'libgeos_c.so'])\n",
      "      File \"/tmp/pip-build-_b8go_w7/shapely/shapely/_buildcfg.py\", line 161, in load_dll\n",
      "        libname, fallbacks or []))\n",
      "    OSError: Could not find library geos_c or load any of its variants ['libgeos_c.so.1', 'libgeos_c.so']\n",
      "    \n",
      "    ----------------------------------------\n",
      "\u001b[31mCommand \"python setup.py egg_info\" failed with error code 1 in /tmp/pip-build-_b8go_w7/shapely/\u001b[0m\n"
     ]
    }
   ],
   "source": [
    "!pip install census_area"
   ]
  },
  {
   "cell_type": "code",
   "execution_count": null,
   "metadata": {
    "collapsed": true
   },
   "outputs": [],
   "source": []
  }
 ],
 "metadata": {
  "anaconda-cloud": {},
  "kernelspec": {
   "display_name": "Python 3",
   "language": "python",
   "name": "python3"
  },
  "language_info": {
   "codemirror_mode": {
    "name": "ipython",
    "version": 3
   },
   "file_extension": ".py",
   "mimetype": "text/x-python",
   "name": "python",
   "nbconvert_exporter": "python",
   "pygments_lexer": "ipython3",
   "version": "3.5.2"
  }
 },
 "nbformat": 4,
 "nbformat_minor": 0
}
