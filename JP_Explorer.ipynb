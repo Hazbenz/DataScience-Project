{
 "cells": [
  {
   "cell_type": "markdown",
   "metadata": {},
   "source": [
    "![](http://mymommyology.com/wp-content/uploads/2011/06/dora-the-explorer-logo1.jpg)"
   ]
  },
  {
   "cell_type": "code",
   "execution_count": 13,
   "metadata": {
    "collapsed": false
   },
   "outputs": [],
   "source": [
    "# special IPython command to prepare the notebook for matplotlib\n",
    "%matplotlib inline \n",
    "\n",
    "import numpy as np\n",
    "import pandas as pd\n",
    "import matplotlib.pyplot as plt\n",
    "\n",
    "#added this because it's indicated as useful but not imported\n",
    "import urllib\n",
    "from zipfile import ZipFile\n",
    "from io import BytesIO\n",
    "import os\n",
    "import json\n",
    "from bs4 import BeautifulSoup as bs\n",
    "import re"
   ]
  },
  {
   "cell_type": "markdown",
   "metadata": {},
   "source": [
    "I Definitely copy and pasted this next piece. I found it here:\n",
    "http://stackoverflow.com/a/13895723"
   ]
  },
  {
   "cell_type": "code",
   "execution_count": 2,
   "metadata": {
    "collapsed": true
   },
   "outputs": [],
   "source": [
    "def reporthook(blocknum, blocksize, totalsize):\n",
    "    readsofar = blocknum * blocksize\n",
    "    if totalsize > 0:\n",
    "        percent = readsofar * 1e2 / totalsize\n",
    "        s = \"\\r%5.1f%% %*d / %d\" % (\n",
    "            percent, len(str(totalsize)), readsofar, totalsize)\n",
    "        os.sys.stderr.write(s)\n",
    "        if readsofar >= totalsize: # near the end\n",
    "            os.sys.stderr.write(\"\\n\")\n",
    "    else: # total size is unknown\n",
    "        os.sys.stderr.write(\"read %d\\n\" % (readsofar,))"
   ]
  },
  {
   "cell_type": "code",
   "execution_count": 3,
   "metadata": {
    "collapsed": false
   },
   "outputs": [],
   "source": [
    "datadir = \"data\"\n",
    "try:\n",
    "    os.makedirs(datadir)\n",
    "except:\n",
    "    pass #directory already exists. :P"
   ]
  },
  {
   "cell_type": "markdown",
   "metadata": {},
   "source": [
    "## Q1: Is gentrification the cause of rent hikes in Crown Heights, Brooklyn?"
   ]
  },
  {
   "cell_type": "code",
   "execution_count": 4,
   "metadata": {
    "collapsed": true
   },
   "outputs": [],
   "source": [
    "#how do we answer this?"
   ]
  },
  {
   "cell_type": "markdown",
   "metadata": {},
   "source": [
    "## Q2: Are new people moving in below the median income?"
   ]
  },
  {
   "cell_type": "code",
   "execution_count": 13,
   "metadata": {
    "collapsed": true
   },
   "outputs": [],
   "source": [
    "some_zip_files = [\"https://www.huduser.gov/portal/datasets/fmr/fmr2016p/asq_zctadata_2013_00000to19999.zip\",\n",
    "                 \"https://www.huduser.gov/portal/datasets/fmr/fmr2017/FY2017_hypothetical_safmrs.xlsx\"]"
   ]
  },
  {
   "cell_type": "code",
   "execution_count": 14,
   "metadata": {
    "collapsed": false
   },
   "outputs": [
    {
     "name": "stdout",
     "output_type": "stream",
     "text": [
      "['asq_zctadata_2013_00000to19999.xlsx']\n"
     ]
    },
    {
     "name": "stderr",
     "output_type": "stream",
     "text": [
      " 97.5% 1064960 / 1092364"
     ]
    },
    {
     "name": "stdout",
     "output_type": "stream",
     "text": [
      "['[Content_Types].xml', '_rels/.rels', 'xl/_rels/workbook.xml.rels', 'xl/styles.xml', 'xl/theme/theme1.xml', 'docProps/thumbnail.wmf', 'docProps/core.xml', 'docProps/app.xml', 'xl/workbook.xml', 'xl/worksheets/sheet1.xml']\n"
     ]
    },
    {
     "name": "stderr",
     "output_type": "stream",
     "text": [
      "\r",
      " 98.2% 1073152 / 1092364\r",
      " 99.0% 1081344 / 1092364\r",
      " 99.7% 1089536 / 1092364\r",
      "100.5% 1097728 / 1092364\n"
     ]
    }
   ],
   "source": [
    "#my attempt at data caching\n",
    "for some_zip_file in some_zip_files:\n",
    "    try:\n",
    "        zipF = ZipFile(os.path.join(datadir,some_zip_file.split(\"/\")[-1]))\n",
    "    except FileNotFoundError as e:\n",
    "        #if zip doesn't exist, download it and try opening it again\n",
    "        urllib.request.urlretrieve(some_zip_file, os.path.join(datadir,some_zip_file.split(\"/\")[-1]), reporthook)\n",
    "        zipF = ZipFile(os.path.join(datadir,some_zip_file.split(\"/\")[-1]))\n",
    "    print(zipF.namelist())"
   ]
  },
  {
   "cell_type": "markdown",
   "metadata": {},
   "source": [
    "Extracting is extra slow too"
   ]
  },
  {
   "cell_type": "code",
   "execution_count": 16,
   "metadata": {
    "collapsed": false
   },
   "outputs": [],
   "source": [
    "some_df = pd.read_excel(os.path.join(datadir,some_zip_files[1].split(\"/\")[-1]))"
   ]
  },
  {
   "cell_type": "code",
   "execution_count": 17,
   "metadata": {
    "collapsed": false,
    "scrolled": true
   },
   "outputs": [
    {
     "data": {
      "text/html": [
       "<div>\n",
       "<table border=\"1\" class=\"dataframe\">\n",
       "  <thead>\n",
       "    <tr style=\"text-align: right;\">\n",
       "      <th></th>\n",
       "      <th>zip_code</th>\n",
       "      <th>metro_code</th>\n",
       "      <th>metro_name</th>\n",
       "      <th>area_rent_br0</th>\n",
       "      <th>area_rent_br1</th>\n",
       "      <th>area_rent_br2</th>\n",
       "      <th>area_rent_br3</th>\n",
       "      <th>area_rent_br4</th>\n",
       "    </tr>\n",
       "  </thead>\n",
       "  <tbody>\n",
       "    <tr>\n",
       "      <th>0</th>\n",
       "      <td>76437</td>\n",
       "      <td>10180</td>\n",
       "      <td>Abilene, TX MSA</td>\n",
       "      <td>470</td>\n",
       "      <td>510</td>\n",
       "      <td>680</td>\n",
       "      <td>850</td>\n",
       "      <td>1130</td>\n",
       "    </tr>\n",
       "    <tr>\n",
       "      <th>1</th>\n",
       "      <td>76443</td>\n",
       "      <td>10180</td>\n",
       "      <td>Abilene, TX MSA</td>\n",
       "      <td>470</td>\n",
       "      <td>510</td>\n",
       "      <td>680</td>\n",
       "      <td>850</td>\n",
       "      <td>1130</td>\n",
       "    </tr>\n",
       "    <tr>\n",
       "      <th>2</th>\n",
       "      <td>76464</td>\n",
       "      <td>10180</td>\n",
       "      <td>Abilene, TX MSA</td>\n",
       "      <td>470</td>\n",
       "      <td>510</td>\n",
       "      <td>680</td>\n",
       "      <td>850</td>\n",
       "      <td>1130</td>\n",
       "    </tr>\n",
       "    <tr>\n",
       "      <th>3</th>\n",
       "      <td>76469</td>\n",
       "      <td>10180</td>\n",
       "      <td>Abilene, TX MSA</td>\n",
       "      <td>500</td>\n",
       "      <td>550</td>\n",
       "      <td>730</td>\n",
       "      <td>910</td>\n",
       "      <td>1220</td>\n",
       "    </tr>\n",
       "    <tr>\n",
       "      <th>4</th>\n",
       "      <td>79501</td>\n",
       "      <td>10180</td>\n",
       "      <td>Abilene, TX MSA</td>\n",
       "      <td>470</td>\n",
       "      <td>510</td>\n",
       "      <td>680</td>\n",
       "      <td>850</td>\n",
       "      <td>1130</td>\n",
       "    </tr>\n",
       "  </tbody>\n",
       "</table>\n",
       "</div>"
      ],
      "text/plain": [
       "   zip_code  metro_code       metro_name  area_rent_br0  area_rent_br1  \\\n",
       "0     76437       10180  Abilene, TX MSA            470            510   \n",
       "1     76443       10180  Abilene, TX MSA            470            510   \n",
       "2     76464       10180  Abilene, TX MSA            470            510   \n",
       "3     76469       10180  Abilene, TX MSA            500            550   \n",
       "4     79501       10180  Abilene, TX MSA            470            510   \n",
       "\n",
       "   area_rent_br2  area_rent_br3  area_rent_br4  \n",
       "0            680            850           1130  \n",
       "1            680            850           1130  \n",
       "2            680            850           1130  \n",
       "3            730            910           1220  \n",
       "4            680            850           1130  "
      ]
     },
     "execution_count": 17,
     "metadata": {},
     "output_type": "execute_result"
    }
   ],
   "source": [
    "some_df.head()"
   ]
  },
  {
   "cell_type": "code",
   "execution_count": null,
   "metadata": {
    "collapsed": true
   },
   "outputs": [],
   "source": [
    "\"https://factfinder.census.gov/faces/tableservices/jsf/pages/productview.xhtml?pid=ACS_14_5YR_S1901&prodType=table\""
   ]
  },
  {
   "cell_type": "markdown",
   "metadata": {},
   "source": [
    "Use the Census wrapper"
   ]
  },
  {
   "cell_type": "code",
   "execution_count": 27,
   "metadata": {
    "collapsed": false
   },
   "outputs": [],
   "source": [
    "debugMode=True\n",
    "path2keys = os.environ.setdefault(\"PATHTOKEYS\", os.path.expanduser(\"~\")+\"/keys.json\")\n",
    "with open(path2keys) as json_file:    \n",
    "    if debugMode:\n",
    "        keys = json.load(json_file)[\"debug\"]\n",
    "    else:\n",
    "        keys = json.load(json_file)[\"release\"]\n",
    "census_key = keys[\"census\"][\"api_key\"]"
   ]
  },
  {
   "cell_type": "markdown",
   "metadata": {},
   "source": [
    "### Get zipcodes into dataframe"
   ]
  },
  {
   "cell_type": "code",
   "execution_count": 21,
   "metadata": {
    "collapsed": false
   },
   "outputs": [
    {
     "name": "stdout",
     "output_type": "stream",
     "text": [
      "[]\n"
     ]
    },
    {
     "data": {
      "text/plain": [
       "array([' 10453', '10457', '10460', ' 10458', '10467', '10468', ' 10451',\n",
       "       '10452', '10456', ' 10454', '10455', '10459', '10474', ' 10463',\n",
       "       '10471', ' 10466', '10469', '10470', '10475', ' 10461', '10462',\n",
       "       '10464', '10465', '10472', '10473', ' 11212', '11213', '11216',\n",
       "       '11233', '11238', ' 11209', '11214', '11228', ' 11204', '11218',\n",
       "       '11219', '11230', ' 11234', '11236', '11239', ' 11223', '11224',\n",
       "       '11229', '11235', ' 11201', '11205', '11215', '11217', '11231',\n",
       "       ' 11203', '11210', '11225', '11226', ' 11207', '11208', ' 11211',\n",
       "       '11222', ' 11220', '11232', ' 11206', '11221', '11237', ' 10026',\n",
       "       '10027', '10030', '10037', '10039', ' 10001', '10011', '10018',\n",
       "       '10019', '10020', '10036', ' 10029', '10035', ' 10010', '10016',\n",
       "       '10017', '10022', ' 10012', '10013', '10014', ' 10004', '10005',\n",
       "       '10006', '10007', '10038', '10280', ' 10002', '10003', '10009',\n",
       "       ' 10021', '10028', '10044', '10065', '10075', '10128', ' 10023',\n",
       "       '10024', '10025', ' 10031', '10032', '10033', '10034', '10040',\n",
       "       ' 11361', '11362', '11363', '11364', ' 11354', '11355', '11356',\n",
       "       '11357', '11358', '11359', '11360', ' 11365', '11366', '11367',\n",
       "       ' 11412', '11423', '11432', '11433', '11434', '11435', '11436',\n",
       "       ' 11101', '11102', '11103', '11104', '11105', '11106', ' 11374',\n",
       "       '11375', '11379', '11385', ' 11691', '11692', '11693', '11694',\n",
       "       '11695', '11697', ' 11004', '11005', '11411', '11413', '11422',\n",
       "       '11426', '11427', '11428', '11429', ' 11414', '11415', '11416',\n",
       "       '11417', '11418', '11419', '11420', '11421', ' 11368', '11369',\n",
       "       '11370', '11372', '11373', '11377', '11378', ' 10302', '10303',\n",
       "       '10310', ' 10306', '10307', '10308', '10309', '10312', ' 10301',\n",
       "       '10304', '10305', ' 10314'], dtype=object)"
      ]
     },
     "execution_count": 21,
     "metadata": {},
     "output_type": "execute_result"
    }
   ],
   "source": [
    "ziphtml = urllib.request.urlopen(\"https://www.health.ny.gov/statistics/cancer/registry/appendix/neighborhoods.htm\").read().decode('utf-8')\n",
    "soup = bs(ziphtml, 'html.parser')\n",
    "borough = \"\"\n",
    "zipcodes = []\n",
    "for row in soup.find_all('tr'):\n",
    "    cols = row.find_all('td')\n",
    "    if len(cols) == 3:\n",
    "        borough = cols[0].text\n",
    "        neighborhood = cols[1].text\n",
    "        for zipcode in re.compile(\"\\s*,\\s*\").split(cols[2].text):\n",
    "            zipcodes.append({\"borough\": borough, \"neighborhood\": neighborhood, \"zipcode\": zipcode})\n",
    "    elif len(cols) == 2:\n",
    "        neighborhood = cols[0].text\n",
    "        for zipcode in re.compile(\"\\s*,\\s*\").split(cols[1].text):\n",
    "            zipcodes.append({\"borough\": borough, \"neighborhood\": neighborhood, \"zipcode\": zipcode})\n",
    "    else:\n",
    "        print(cols)\n",
    "zipDF = pd.DataFrame(zipcodes)\n",
    "zipDF[\"zipcode\"].values"
   ]
  },
  {
   "cell_type": "markdown",
   "metadata": {},
   "source": [
    "### WTF is this newb stuff?!"
   ]
  },
  {
   "cell_type": "raw",
   "metadata": {
    "collapsed": true
   },
   "source": [
    "income_brackets = {\n",
    "    'B19001_002E': '<10k',\n",
    "    'B19001_003E': '10k-14k',\n",
    "    'B19001_004E': '15k-19k',\n",
    "    'B19001_005E': '20k-24k',\n",
    "    'B19001_006E': '25k-29k',\n",
    "    'B19001_007E': '30k-34k',\n",
    "    'B19001_008E': '35k-39k',\n",
    "    'B19001_009E': '40k-44k',\n",
    "    'B19001_001E': 'Total'\n",
    "}"
   ]
  },
  {
   "cell_type": "code",
   "execution_count": 24,
   "metadata": {
    "collapsed": false
   },
   "outputs": [],
   "source": [
    "census_vars = json.loads(urllib.request.urlopen(\"http://api.census.gov/data/2014/acs5/variables.json\").read().decode('utf-8'))[\"variables\"]\n",
    "income_brackets = dict([(key, value[\"label\"]) for key, value in census_vars.items() if \"B19001_\" in key and key[-1] == \"E\"])"
   ]
  },
  {
   "cell_type": "code",
   "execution_count": 25,
   "metadata": {
    "collapsed": false
   },
   "outputs": [],
   "source": [
    "from us import states\n",
    "from census import Census\n",
    "\n",
    "def getincome20xx(income_brackets, years, census_key, zips):\n",
    "    c = Census(census_key)\n",
    "    df = pd.DataFrame()\n",
    "    for year in years:\n",
    "        tempget = c.acs5.zipcode((tuple([key[0] for key in income_brackets.items()])), Census.ALL, year=year)\n",
    "        tempDF = pd.DataFrame(tempget)\n",
    "        tempDF.columns = [income_brackets[tempDF.columns[i]] if i < len(income_brackets) else tempDF.columns[i] for i in range(len(tempDF.columns))]\n",
    "        tempDF = tempDF[tempDF[tempDF.columns[-1]].isin(zips)]\n",
    "        tempDF[\"year\"] = year\n",
    "        df = df.append(tempDF)\n",
    "    return df"
   ]
  },
  {
   "cell_type": "code",
   "execution_count": 31,
   "metadata": {
    "collapsed": false
   },
   "outputs": [],
   "source": [
    "theDF = getincome20xx(income_brackets,range(2011,2015), census_key, zipDF[\"zipcode\"].values)"
   ]
  },
  {
   "cell_type": "code",
   "execution_count": 32,
   "metadata": {
    "collapsed": false,
    "scrolled": true
   },
   "outputs": [
    {
     "data": {
      "text/html": [
       "<div>\n",
       "<table border=\"1\" class=\"dataframe\">\n",
       "  <thead>\n",
       "    <tr style=\"text-align: right;\">\n",
       "      <th></th>\n",
       "      <th>Total:</th>\n",
       "      <th>Less than $10,000</th>\n",
       "      <th>$10,000 to $14,999</th>\n",
       "      <th>$15,000 to $19,999</th>\n",
       "      <th>$20,000 to $24,999</th>\n",
       "      <th>$25,000 to $29,999</th>\n",
       "      <th>$30,000 to $34,999</th>\n",
       "      <th>$35,000 to $39,999</th>\n",
       "      <th>$40,000 to $44,999</th>\n",
       "      <th>$45,000 to $49,999</th>\n",
       "      <th>$50,000 to $59,999</th>\n",
       "      <th>$60,000 to $74,999</th>\n",
       "      <th>$75,000 to $99,999</th>\n",
       "      <th>$100,000 to $124,999</th>\n",
       "      <th>$125,000 to $149,999</th>\n",
       "      <th>$150,000 to $199,999</th>\n",
       "      <th>$200,000 or more</th>\n",
       "      <th>zip code tabulation area</th>\n",
       "      <th>year</th>\n",
       "    </tr>\n",
       "  </thead>\n",
       "  <tbody>\n",
       "    <tr>\n",
       "      <th>2429</th>\n",
       "      <td>27326</td>\n",
       "      <td>2217</td>\n",
       "      <td>874</td>\n",
       "      <td>939</td>\n",
       "      <td>646</td>\n",
       "      <td>827</td>\n",
       "      <td>648</td>\n",
       "      <td>758</td>\n",
       "      <td>720</td>\n",
       "      <td>642</td>\n",
       "      <td>2017</td>\n",
       "      <td>1880</td>\n",
       "      <td>2745</td>\n",
       "      <td>2351</td>\n",
       "      <td>2078</td>\n",
       "      <td>2393</td>\n",
       "      <td>5591</td>\n",
       "      <td>10003</td>\n",
       "      <td>2011</td>\n",
       "    </tr>\n",
       "    <tr>\n",
       "      <th>2431</th>\n",
       "      <td>2772</td>\n",
       "      <td>156</td>\n",
       "      <td>9</td>\n",
       "      <td>97</td>\n",
       "      <td>45</td>\n",
       "      <td>36</td>\n",
       "      <td>57</td>\n",
       "      <td>35</td>\n",
       "      <td>21</td>\n",
       "      <td>59</td>\n",
       "      <td>156</td>\n",
       "      <td>164</td>\n",
       "      <td>270</td>\n",
       "      <td>357</td>\n",
       "      <td>219</td>\n",
       "      <td>378</td>\n",
       "      <td>713</td>\n",
       "      <td>10005</td>\n",
       "      <td>2011</td>\n",
       "    </tr>\n",
       "    <tr>\n",
       "      <th>2432</th>\n",
       "      <td>1597</td>\n",
       "      <td>83</td>\n",
       "      <td>49</td>\n",
       "      <td>26</td>\n",
       "      <td>0</td>\n",
       "      <td>33</td>\n",
       "      <td>51</td>\n",
       "      <td>14</td>\n",
       "      <td>22</td>\n",
       "      <td>74</td>\n",
       "      <td>28</td>\n",
       "      <td>86</td>\n",
       "      <td>178</td>\n",
       "      <td>223</td>\n",
       "      <td>147</td>\n",
       "      <td>135</td>\n",
       "      <td>448</td>\n",
       "      <td>10006</td>\n",
       "      <td>2011</td>\n",
       "    </tr>\n",
       "    <tr>\n",
       "      <th>2433</th>\n",
       "      <td>2266</td>\n",
       "      <td>42</td>\n",
       "      <td>13</td>\n",
       "      <td>29</td>\n",
       "      <td>9</td>\n",
       "      <td>27</td>\n",
       "      <td>14</td>\n",
       "      <td>0</td>\n",
       "      <td>29</td>\n",
       "      <td>30</td>\n",
       "      <td>60</td>\n",
       "      <td>146</td>\n",
       "      <td>99</td>\n",
       "      <td>71</td>\n",
       "      <td>247</td>\n",
       "      <td>345</td>\n",
       "      <td>1105</td>\n",
       "      <td>10007</td>\n",
       "      <td>2011</td>\n",
       "    </tr>\n",
       "    <tr>\n",
       "      <th>2434</th>\n",
       "      <td>29713</td>\n",
       "      <td>3640</td>\n",
       "      <td>2003</td>\n",
       "      <td>1433</td>\n",
       "      <td>1308</td>\n",
       "      <td>1147</td>\n",
       "      <td>1164</td>\n",
       "      <td>1107</td>\n",
       "      <td>1080</td>\n",
       "      <td>857</td>\n",
       "      <td>1825</td>\n",
       "      <td>2622</td>\n",
       "      <td>3200</td>\n",
       "      <td>2604</td>\n",
       "      <td>1271</td>\n",
       "      <td>2069</td>\n",
       "      <td>2383</td>\n",
       "      <td>10009</td>\n",
       "      <td>2011</td>\n",
       "    </tr>\n",
       "  </tbody>\n",
       "</table>\n",
       "</div>"
      ],
      "text/plain": [
       "     Total: Less than $10,000 $10,000 to $14,999 $15,000 to $19,999  \\\n",
       "2429  27326              2217                874                939   \n",
       "2431   2772               156                  9                 97   \n",
       "2432   1597                83                 49                 26   \n",
       "2433   2266                42                 13                 29   \n",
       "2434  29713              3640               2003               1433   \n",
       "\n",
       "     $20,000 to $24,999 $25,000 to $29,999 $30,000 to $34,999  \\\n",
       "2429                646                827                648   \n",
       "2431                 45                 36                 57   \n",
       "2432                  0                 33                 51   \n",
       "2433                  9                 27                 14   \n",
       "2434               1308               1147               1164   \n",
       "\n",
       "     $35,000 to $39,999 $40,000 to $44,999 $45,000 to $49,999  \\\n",
       "2429                758                720                642   \n",
       "2431                 35                 21                 59   \n",
       "2432                 14                 22                 74   \n",
       "2433                  0                 29                 30   \n",
       "2434               1107               1080                857   \n",
       "\n",
       "     $50,000 to $59,999 $60,000 to $74,999 $75,000 to $99,999  \\\n",
       "2429               2017               1880               2745   \n",
       "2431                156                164                270   \n",
       "2432                 28                 86                178   \n",
       "2433                 60                146                 99   \n",
       "2434               1825               2622               3200   \n",
       "\n",
       "     $100,000 to $124,999 $125,000 to $149,999 $150,000 to $199,999  \\\n",
       "2429                 2351                 2078                 2393   \n",
       "2431                  357                  219                  378   \n",
       "2432                  223                  147                  135   \n",
       "2433                   71                  247                  345   \n",
       "2434                 2604                 1271                 2069   \n",
       "\n",
       "     $200,000 or more zip code tabulation area  year  \n",
       "2429             5591                    10003  2011  \n",
       "2431              713                    10005  2011  \n",
       "2432              448                    10006  2011  \n",
       "2433             1105                    10007  2011  \n",
       "2434             2383                    10009  2011  "
      ]
     },
     "execution_count": 32,
     "metadata": {},
     "output_type": "execute_result"
    }
   ],
   "source": [
    "theDF.head()"
   ]
  },
  {
   "cell_type": "code",
   "execution_count": 118,
   "metadata": {
    "collapsed": false
   },
   "outputs": [
    {
     "data": {
      "text/html": [
       "<div>\n",
       "<table border=\"1\" class=\"dataframe\">\n",
       "  <thead>\n",
       "    <tr style=\"text-align: right;\">\n",
       "      <th></th>\n",
       "      <th>Total:</th>\n",
       "      <th>Less than $10,000</th>\n",
       "      <th>$10,000 to $14,999</th>\n",
       "      <th>$15,000 to $19,999</th>\n",
       "      <th>$20,000 to $24,999</th>\n",
       "      <th>$25,000 to $29,999</th>\n",
       "      <th>$30,000 to $34,999</th>\n",
       "      <th>$35,000 to $39,999</th>\n",
       "      <th>$40,000 to $44,999</th>\n",
       "      <th>$45,000 to $49,999</th>\n",
       "      <th>$50,000 to $59,999</th>\n",
       "      <th>$60,000 to $74,999</th>\n",
       "      <th>$75,000 to $99,999</th>\n",
       "      <th>$100,000 to $124,999</th>\n",
       "      <th>$125,000 to $149,999</th>\n",
       "      <th>$150,000 to $199,999</th>\n",
       "      <th>$200,000 or more</th>\n",
       "      <th>zip code tabulation area</th>\n",
       "    </tr>\n",
       "  </thead>\n",
       "  <tbody>\n",
       "    <tr>\n",
       "      <th>32989</th>\n",
       "      <td>5210</td>\n",
       "      <td>2232</td>\n",
       "      <td>589</td>\n",
       "      <td>408</td>\n",
       "      <td>422</td>\n",
       "      <td>302</td>\n",
       "      <td>278</td>\n",
       "      <td>219</td>\n",
       "      <td>185</td>\n",
       "      <td>162</td>\n",
       "      <td>134</td>\n",
       "      <td>113</td>\n",
       "      <td>122</td>\n",
       "      <td>9</td>\n",
       "      <td>6</td>\n",
       "      <td>12</td>\n",
       "      <td>17</td>\n",
       "      <td>00601</td>\n",
       "    </tr>\n",
       "    <tr>\n",
       "      <th>32990</th>\n",
       "      <td>13500</td>\n",
       "      <td>4474</td>\n",
       "      <td>2299</td>\n",
       "      <td>1587</td>\n",
       "      <td>920</td>\n",
       "      <td>995</td>\n",
       "      <td>713</td>\n",
       "      <td>463</td>\n",
       "      <td>457</td>\n",
       "      <td>381</td>\n",
       "      <td>491</td>\n",
       "      <td>347</td>\n",
       "      <td>163</td>\n",
       "      <td>107</td>\n",
       "      <td>17</td>\n",
       "      <td>31</td>\n",
       "      <td>55</td>\n",
       "      <td>00602</td>\n",
       "    </tr>\n",
       "    <tr>\n",
       "      <th>32991</th>\n",
       "      <td>17958</td>\n",
       "      <td>6939</td>\n",
       "      <td>2294</td>\n",
       "      <td>1955</td>\n",
       "      <td>1259</td>\n",
       "      <td>893</td>\n",
       "      <td>821</td>\n",
       "      <td>657</td>\n",
       "      <td>586</td>\n",
       "      <td>419</td>\n",
       "      <td>603</td>\n",
       "      <td>650</td>\n",
       "      <td>478</td>\n",
       "      <td>137</td>\n",
       "      <td>107</td>\n",
       "      <td>66</td>\n",
       "      <td>94</td>\n",
       "      <td>00603</td>\n",
       "    </tr>\n",
       "  </tbody>\n",
       "</table>\n",
       "</div>"
      ],
      "text/plain": [
       "      Total: Less than $10,000 $10,000 to $14,999 $15,000 to $19,999  \\\n",
       "32989   5210              2232                589                408   \n",
       "32990  13500              4474               2299               1587   \n",
       "32991  17958              6939               2294               1955   \n",
       "\n",
       "      $20,000 to $24,999 $25,000 to $29,999 $30,000 to $34,999  \\\n",
       "32989                422                302                278   \n",
       "32990                920                995                713   \n",
       "32991               1259                893                821   \n",
       "\n",
       "      $35,000 to $39,999 $40,000 to $44,999 $45,000 to $49,999  \\\n",
       "32989                219                185                162   \n",
       "32990                463                457                381   \n",
       "32991                657                586                419   \n",
       "\n",
       "      $50,000 to $59,999 $60,000 to $74,999 $75,000 to $99,999  \\\n",
       "32989                134                113                122   \n",
       "32990                491                347                163   \n",
       "32991                603                650                478   \n",
       "\n",
       "      $100,000 to $124,999 $125,000 to $149,999 $150,000 to $199,999  \\\n",
       "32989                    9                    6                   12   \n",
       "32990                  107                   17                   31   \n",
       "32991                  137                  107                   66   \n",
       "\n",
       "      $200,000 or more zip code tabulation area  \n",
       "32989               17                    00601  \n",
       "32990               55                    00602  \n",
       "32991               94                    00603  "
      ]
     },
     "execution_count": 118,
     "metadata": {},
     "output_type": "execute_result"
    }
   ],
   "source": [
    "tempget = c.acs5.zipcode((tuple([key[0] for key in income_brackets.items()])), Census.ALL, year=2011)\n",
    "tempDF = pd.DataFrame(tempget)\n",
    "tempDF.columns = [income_brackets[tempDF.columns[i]] if i < len(income_brackets) else tempDF.columns[i] for i in range(len(tempDF.columns))]\n",
    "tempDF[tempDF[tempDF.columns[-1]].isin([\"00601\", \"00602\", \"00603\"])]"
   ]
  },
  {
   "cell_type": "code",
   "execution_count": 157,
   "metadata": {
    "collapsed": false,
    "scrolled": true
   },
   "outputs": [
    {
     "data": {
      "text/plain": [
       "array([[<matplotlib.axes._subplots.AxesSubplot object at 0x7fed2010c198>,\n",
       "        <matplotlib.axes._subplots.AxesSubplot object at 0x7fed207cdbe0>],\n",
       "       [<matplotlib.axes._subplots.AxesSubplot object at 0x7fed20a71e48>,\n",
       "        <matplotlib.axes._subplots.AxesSubplot object at 0x7fed20aaa860>]], dtype=object)"
      ]
     },
     "execution_count": 157,
     "metadata": {},
     "output_type": "execute_result"
    },
    {
     "data": {
      "image/png": "[encoded data removed]",
      "text/plain": [
       "<matplotlib.figure.Figure at 0x7fed205dcef0>"
      ]
     },
     "metadata": {},
     "output_type": "display_data"
    }
   ],
   "source": [
    "testDF = theDF[theDF[theDF.columns[-2]] == \"00601\"]\n",
    "testDF.hist(by=testDF[\"year\"])\n",
    "#testDF[testDF.year == 2011].hist()"
   ]
  },
  {
   "cell_type": "code",
   "execution_count": 121,
   "metadata": {
    "collapsed": false
   },
   "outputs": [
    {
     "data": {
      "text/plain": [
       "array([[<matplotlib.axes._subplots.AxesSubplot object at 0x7fed1c565d68>]], dtype=object)"
      ]
     },
     "execution_count": 121,
     "metadata": {},
     "output_type": "execute_result"
    }
   ],
   "source": [
    "theDF.hist()"
   ]
  },
  {
   "cell_type": "markdown",
   "metadata": {},
   "source": [
    "## Q3: How much do they contribute to the taxi industry?\n",
    "#### Let's make this more specific, maybe?"
   ]
  },
  {
   "cell_type": "code",
   "execution_count": null,
   "metadata": {
    "collapsed": true
   },
   "outputs": [],
   "source": []
  },
  {
   "cell_type": "code",
   "execution_count": 3,
   "metadata": {
    "collapsed": true
   },
   "outputs": [],
   "source": [
    "taxi_url=\"https://data.cityofnewyork.us/resource/2yzn-sicd.json\""
   ]
  },
  {
   "cell_type": "code",
   "execution_count": 4,
   "metadata": {
    "collapsed": true
   },
   "outputs": [],
   "source": [
    "taxi_df = pd.read_json(taxi_url)"
   ]
  },
  {
   "cell_type": "markdown",
   "metadata": {},
   "source": [
    "### What does the data look like?"
   ]
  },
  {
   "cell_type": "code",
   "execution_count": 5,
   "metadata": {
    "collapsed": false
   },
   "outputs": [
    {
     "data": {
      "text/html": [
       "<div>\n",
       "<table border=\"1\" class=\"dataframe\">\n",
       "  <thead>\n",
       "    <tr style=\"text-align: right;\">\n",
       "      <th></th>\n",
       "      <th>dropoff_datetime</th>\n",
       "      <th>dropoff_latitude</th>\n",
       "      <th>dropoff_longitude</th>\n",
       "      <th>extra</th>\n",
       "      <th>fare_amount</th>\n",
       "      <th>mta_tax</th>\n",
       "      <th>passenger_count</th>\n",
       "      <th>payment_type</th>\n",
       "      <th>pickup_datetime</th>\n",
       "      <th>pickup_latitude</th>\n",
       "      <th>pickup_longitude</th>\n",
       "      <th>rate_code</th>\n",
       "      <th>store_and_fwd_flag</th>\n",
       "      <th>tip_amount</th>\n",
       "      <th>tolls_amount</th>\n",
       "      <th>total_amount</th>\n",
       "      <th>trip_distance</th>\n",
       "      <th>vendor_id</th>\n",
       "    </tr>\n",
       "  </thead>\n",
       "  <tbody>\n",
       "    <tr>\n",
       "      <th>0</th>\n",
       "      <td>2015-01-06T19:06:32.000</td>\n",
       "      <td>40.727608</td>\n",
       "      <td>-73.991150</td>\n",
       "      <td>1.0</td>\n",
       "      <td>8.0</td>\n",
       "      <td>0.5</td>\n",
       "      <td>1</td>\n",
       "      <td>2</td>\n",
       "      <td>2015-01-06T18:58:18.000</td>\n",
       "      <td>40.707218</td>\n",
       "      <td>-74.004639</td>\n",
       "      <td>1</td>\n",
       "      <td>N</td>\n",
       "      <td>0.00</td>\n",
       "      <td>0.0</td>\n",
       "      <td>9.80</td>\n",
       "      <td>1.60</td>\n",
       "      <td>1</td>\n",
       "    </tr>\n",
       "    <tr>\n",
       "      <th>1</th>\n",
       "      <td>2015-03-10T22:43:36.000</td>\n",
       "      <td>40.759827</td>\n",
       "      <td>-73.972092</td>\n",
       "      <td>0.5</td>\n",
       "      <td>6.5</td>\n",
       "      <td>0.5</td>\n",
       "      <td>1</td>\n",
       "      <td>1</td>\n",
       "      <td>2015-03-10T22:37:24.000</td>\n",
       "      <td>40.770870</td>\n",
       "      <td>-73.962952</td>\n",
       "      <td>1</td>\n",
       "      <td>N</td>\n",
       "      <td>1.55</td>\n",
       "      <td>0.0</td>\n",
       "      <td>9.35</td>\n",
       "      <td>1.00</td>\n",
       "      <td>1</td>\n",
       "    </tr>\n",
       "    <tr>\n",
       "      <th>2</th>\n",
       "      <td>2015-04-21T14:36:54.000</td>\n",
       "      <td>40.754753</td>\n",
       "      <td>-73.977829</td>\n",
       "      <td>0.0</td>\n",
       "      <td>8.5</td>\n",
       "      <td>0.5</td>\n",
       "      <td>1</td>\n",
       "      <td>1</td>\n",
       "      <td>2015-04-21T14:25:29.000</td>\n",
       "      <td>40.749969</td>\n",
       "      <td>-73.991432</td>\n",
       "      <td>1</td>\n",
       "      <td>N</td>\n",
       "      <td>2.75</td>\n",
       "      <td>0.0</td>\n",
       "      <td>12.05</td>\n",
       "      <td>1.30</td>\n",
       "      <td>1</td>\n",
       "    </tr>\n",
       "    <tr>\n",
       "      <th>3</th>\n",
       "      <td>2015-03-02T18:13:08.000</td>\n",
       "      <td>40.746220</td>\n",
       "      <td>-73.985039</td>\n",
       "      <td>1.0</td>\n",
       "      <td>13.0</td>\n",
       "      <td>0.5</td>\n",
       "      <td>1</td>\n",
       "      <td>2</td>\n",
       "      <td>2015-03-02T17:55:05.000</td>\n",
       "      <td>40.769695</td>\n",
       "      <td>-73.964905</td>\n",
       "      <td>1</td>\n",
       "      <td>N</td>\n",
       "      <td>0.00</td>\n",
       "      <td>0.0</td>\n",
       "      <td>14.80</td>\n",
       "      <td>2.20</td>\n",
       "      <td>1</td>\n",
       "    </tr>\n",
       "    <tr>\n",
       "      <th>4</th>\n",
       "      <td>2015-01-26T12:02:13.000</td>\n",
       "      <td>40.735851</td>\n",
       "      <td>-73.993103</td>\n",
       "      <td>0.0</td>\n",
       "      <td>8.5</td>\n",
       "      <td>0.5</td>\n",
       "      <td>4</td>\n",
       "      <td>1</td>\n",
       "      <td>2015-01-26T11:52:13.000</td>\n",
       "      <td>40.733055</td>\n",
       "      <td>-73.975365</td>\n",
       "      <td>1</td>\n",
       "      <td>N</td>\n",
       "      <td>1.86</td>\n",
       "      <td>0.0</td>\n",
       "      <td>11.16</td>\n",
       "      <td>1.42</td>\n",
       "      <td>2</td>\n",
       "    </tr>\n",
       "  </tbody>\n",
       "</table>\n",
       "</div>"
      ],
      "text/plain": [
       "          dropoff_datetime  dropoff_latitude  dropoff_longitude  extra  \\\n",
       "0  2015-01-06T19:06:32.000         40.727608         -73.991150    1.0   \n",
       "1  2015-03-10T22:43:36.000         40.759827         -73.972092    0.5   \n",
       "2  2015-04-21T14:36:54.000         40.754753         -73.977829    0.0   \n",
       "3  2015-03-02T18:13:08.000         40.746220         -73.985039    1.0   \n",
       "4  2015-01-26T12:02:13.000         40.735851         -73.993103    0.0   \n",
       "\n",
       "   fare_amount  mta_tax  passenger_count  payment_type  \\\n",
       "0          8.0      0.5                1             2   \n",
       "1          6.5      0.5                1             1   \n",
       "2          8.5      0.5                1             1   \n",
       "3         13.0      0.5                1             2   \n",
       "4          8.5      0.5                4             1   \n",
       "\n",
       "           pickup_datetime  pickup_latitude  pickup_longitude  rate_code  \\\n",
       "0  2015-01-06T18:58:18.000        40.707218        -74.004639          1   \n",
       "1  2015-03-10T22:37:24.000        40.770870        -73.962952          1   \n",
       "2  2015-04-21T14:25:29.000        40.749969        -73.991432          1   \n",
       "3  2015-03-02T17:55:05.000        40.769695        -73.964905          1   \n",
       "4  2015-01-26T11:52:13.000        40.733055        -73.975365          1   \n",
       "\n",
       "  store_and_fwd_flag  tip_amount  tolls_amount  total_amount  trip_distance  \\\n",
       "0                  N        0.00           0.0          9.80           1.60   \n",
       "1                  N        1.55           0.0          9.35           1.00   \n",
       "2                  N        2.75           0.0         12.05           1.30   \n",
       "3                  N        0.00           0.0         14.80           2.20   \n",
       "4                  N        1.86           0.0         11.16           1.42   \n",
       "\n",
       "   vendor_id  \n",
       "0          1  \n",
       "1          1  \n",
       "2          1  \n",
       "3          1  \n",
       "4          2  "
      ]
     },
     "execution_count": 5,
     "metadata": {},
     "output_type": "execute_result"
    }
   ],
   "source": [
    "taxi_df.head()"
   ]
  },
  {
   "cell_type": "code",
   "execution_count": 1,
   "metadata": {
    "collapsed": false
   },
   "outputs": [
    {
     "name": "stdout",
     "output_type": "stream",
     "text": [
      "/home/stuff/anaconda3/envs/rentistoodamnhigh/bin/python\r\n"
     ]
    }
   ],
   "source": []
  },
  {
   "cell_type": "code",
   "execution_count": 3,
   "metadata": {
    "collapsed": false,
    "scrolled": false
   },
   "outputs": [
    {
     "name": "stdout",
     "output_type": "stream",
     "text": [
      "Collecting git+https://github.com/CommerceDataService/census-wrapper.git\n",
      "  Cloning https://github.com/CommerceDataService/census-wrapper.git to /tmp/pip-nlrvh24j-build\n",
      "Requirement already satisfied: requests>=1.1.0 in /home/stuff/anaconda3/envs/rentistoodamnhigh/lib/python3.5/site-packages (from census==0.8.1)\n",
      "Collecting us>=0.7 (from census==0.8.1)\n",
      "  Downloading us-0.9.1.tar.gz\n",
      "Collecting jellyfish==0.5.1 (from us>=0.7->census==0.8.1)\n",
      "  Downloading jellyfish-0.5.1.tar.gz\n",
      "Building wheels for collected packages: us, jellyfish\n",
      "  Running setup.py bdist_wheel for us ... \u001b[?25l-\b \b\\\b \b|\b \bdone\n",
      "\u001b[?25h  Stored in directory: /home/stuff/.cache/pip/wheels/1c/18/a6/f0a1651888a6c980d14ce6c68ae0bff4419e20bce4f2473a96\n",
      "  Running setup.py bdist_wheel for jellyfish ... \u001b[?25l-\b \b\\\b \b|\b \b/\b \b-\b \b\\\b \b|\b \b/\b \b-\b \b\\\b \b|\b \b/\b \b-\b \b\\\b \bdone\n",
      "\u001b[?25h  Stored in directory: /home/stuff/.cache/pip/wheels/a5/d1/70/3ee3c2bed592a55e2be58210ac6d6618ada7df353e3621e42c\n",
      "Successfully built us jellyfish\n",
      "Installing collected packages: jellyfish, us, census\n",
      "  Running setup.py install for census ... \u001b[?25l-\b \b\\\b \b|\b \bdone\n",
      "\u001b[?25hSuccessfully installed census-0.8.1 jellyfish-0.5.1 us-0.9.1\n"
     ]
    }
   ],
   "source": [
    "#!pip install git+https://github.com/CommerceDataService/census-wrapper.git"
   ]
  },
  {
   "cell_type": "code",
   "execution_count": 4,
   "metadata": {
    "collapsed": false
   },
   "outputs": [
    {
     "name": "stdout",
     "output_type": "stream",
     "text": [
      "Collecting census_area\n",
      "  Downloading census_area-0.2-py2.py3-none-any.whl\n",
      "Requirement already satisfied: census in /home/stuff/anaconda3/envs/rentistoodamnhigh/lib/python3.5/site-packages (from census_area)\n",
      "Collecting shapely (from census_area)\n",
      "  Downloading Shapely-1.5.17.tar.gz (180kB)\n",
      "\u001b[K    100% |████████████████████████████████| 184kB 43kB/s \n",
      "\u001b[?25h    Complete output from command python setup.py egg_info:\n",
      "    Failed `CDLL(libgeos_c.so.1)`\n",
      "    Failed `CDLL(libgeos_c.so)`\n",
      "    Traceback (most recent call last):\n",
      "      File \"<string>\", line 1, in <module>\n",
      "      File \"/tmp/pip-build-_b8go_w7/shapely/setup.py\", line 38, in <module>\n",
      "        from shapely._buildcfg import geos_version_string, geos_version, \\\n",
      "      File \"/tmp/pip-build-_b8go_w7/shapely/shapely/_buildcfg.py\", line 167, in <module>\n",
      "        fallbacks=['libgeos_c.so.1', 'libgeos_c.so'])\n",
      "      File \"/tmp/pip-build-_b8go_w7/shapely/shapely/_buildcfg.py\", line 161, in load_dll\n",
      "        libname, fallbacks or []))\n",
      "    OSError: Could not find library geos_c or load any of its variants ['libgeos_c.so.1', 'libgeos_c.so']\n",
      "    \n",
      "    ----------------------------------------\n",
      "\u001b[31mCommand \"python setup.py egg_info\" failed with error code 1 in /tmp/pip-build-_b8go_w7/shapely/\u001b[0m\n"
     ]
    }
   ],
   "source": [
    "!pip install census_area"
   ]
  },
  {
   "cell_type": "code",
   "execution_count": 170,
   "metadata": {
    "collapsed": false
   },
   "outputs": [
    {
     "name": "stdout",
     "output_type": "stream",
     "text": [
      "Collecting bs4\n",
      "Collecting beautifulsoup4 (from bs4)\n",
      "  Using cached beautifulsoup4-4.5.1-py3-none-any.whl\n",
      "Installing collected packages: beautifulsoup4, bs4\n",
      "Successfully installed beautifulsoup4-4.5.1 bs4-0.0.1\n"
     ]
    }
   ],
   "source": []
  },
  {
   "cell_type": "code",
   "execution_count": null,
   "metadata": {
    "collapsed": true
   },
   "outputs": [],
   "source": []
  }
 ],
 "metadata": {
  "anaconda-cloud": {},
  "kernelspec": {
   "display_name": "Python 3",
   "language": "python",
   "name": "python3"
  },
  "language_info": {
   "codemirror_mode": {
    "name": "ipython",
    "version": 3
   },
   "file_extension": ".py",
   "mimetype": "text/x-python",
   "name": "python",
   "nbconvert_exporter": "python",
   "pygments_lexer": "ipython3",
   "version": "3.5.2"
  }
 },
 "nbformat": 4,
 "nbformat_minor": 0
}
