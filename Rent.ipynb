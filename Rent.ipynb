{
 "cells": [
  {
   "cell_type": "code",
   "execution_count": null,
   "metadata": {
    "collapsed": false
   },
   "outputs": [],
   "source": [
    "# special IPython command to prepare the notebook for matplotlib\n",
    "%matplotlib inline \n",
    "import numpy as np\n",
    "import pandas as pd\n",
    "import matplotlib.pyplot as plt\n",
    "\n",
    "#added this because it's indicated as useful but not imported\n",
    "import urllib\n",
    "from zipfile import ZipFile\n",
    "from io import BytesIO\n",
    "import os\n",
    "import json\n",
    "from bs4 import BeautifulSoup as bs\n",
    "import re\n",
    "\n",
    "from matplotlib import animation, rc\n",
    "from IPython.display import display, HTML\n",
    "import sys\n",
    "import urllib\n",
    "import urllib.request\n",
    "from urllib.request import urlretrieve\n",
    "\n",
    "import json\n",
    "from pprint import pprint\n",
    "\n",
    "import sklearn.cross_validation\n",
    "from sklearn.ensemble import RandomForestClassifier\n",
    "from sklearn.cross_validation import cross_val_score\n",
    "import openpyxl"
   ]
  },
  {
   "cell_type": "code",
   "execution_count": null,
   "metadata": {
    "collapsed": false
   },
   "outputs": [],
   "source": [
    "files = [\"https://www.huduser.gov/portal/datasets/fmr/fmr2010f/FY2010_4050_Final_PostRDDs.xls\",\n",
    "         \"https://www.huduser.gov/portal/datasets/fmr/fmr2011f/fy2011_equiv_zc_rents_acs.xls\",\n",
    "         \"https://www.huduser.gov/portal/datasets/fmr/fmr2012f/small_area_fmrs_fy2012.xls\",\n",
    "         \"https://www.huduser.gov/portal/datasets/fmr/fmr2013p/small_area_fmrs_fy2013.xls\",\n",
    "         \"https://www.huduser.gov/portal/datasets/fmr/fmr2014f/small_area_fmrs_fy2014.xls\"]\n",
    "print('1111111')        "
   ]
  },
  {
   "cell_type": "code",
   "execution_count": null,
   "metadata": {
    "collapsed": true
   },
   "outputs": [],
   "source": [
    "def yearly_spreedsheet(file):\n",
    "    f    = (file)\n",
    "    data = pd.read_excel(f)\n",
    "    return (data)\n",
    "df_10 = yearly_spreedsheet(files[0])\n",
    "df_11 = yearly_spreedsheet(files[1])\n",
    "df_12 = yearly_spreedsheet(files[2])\n",
    "df_13 = yearly_spreedsheet(files[3])\n",
    "df_14 = yearly_spreedsheet(files[4])"
   ]
  },
  {
   "cell_type": "code",
   "execution_count": null,
   "metadata": {
    "collapsed": false
   },
   "outputs": [],
   "source": [
    "#Simple package for dealing with zip codes in python.\n",
    "#you need to install it in your terminal as follows\n",
    "#pip install zipcode\n",
    "import zipcode\n",
    "myzip = zipcode.isequal('11205')\n",
    "myzip.state     \n",
    "myzip.city  \n",
    "print('222222')   "
   ]
  },
  {
   "cell_type": "code",
   "execution_count": null,
   "metadata": {
    "collapsed": false
   },
   "outputs": [],
   "source": [
    "#save the data in array inorder to modify some attributes \n",
    "rent_per_year = [df_10,df_11,df_12,df_13,df_14]\n",
    "for i in range(len(rent_per_year)):\n",
    "    for j in rent_per_year[i].columns.values:\n",
    "        if j == 'zip' or j == 'ZIP':\n",
    "            rent_per_year[i].rename(columns={j: 'ZIP' }, inplace=True)\n",
    "        if j == 'countyname' or j == 'County Name' or j == 'County_Name':\n",
    "            rent_per_year[i].rename(columns={j: 'CountyName' }, inplace=True)\n",
    "        if j == 'State Name' or j == 'state_alpha':\n",
    "            rent_per_year[i].rename(columns={j: 'StateName' }, inplace=True)\n",
    "        if j == 'area_rent_br0' or j == 'fmr0':\n",
    "            rent_per_year[i].rename(columns={j: 'rent0' }, inplace=True)\n",
    "        if j == 'area_rent_br1' or j == 'fmr1':\n",
    "            rent_per_year[i].rename(columns={j: 'rent1' }, inplace=True)\n",
    "        if j == 'area_rent_br2' or j == 'fmr2':\n",
    "            rent_per_year[i].rename(columns={j: 'rent2' }, inplace=True)\n",
    "        if j == 'area_rent_br3' or j == 'fmr3':\n",
    "            rent_per_year[i].rename(columns={j: 'rent3' }, inplace=True)\n",
    "        if j == 'area_rent_br4' or j == 'fmr4':\n",
    "            rent_per_year[i].rename(columns={j: 'rent4' }, inplace=True)\n",
    "print(rent_per_year)"
   ]
  },
  {
   "cell_type": "code",
   "execution_count": null,
   "metadata": {
    "collapsed": false
   },
   "outputs": [],
   "source": [
    "df_14 = df_14[(df_14.CountyName == 'Kings County') & (df_14.StateName == 'New York')]\n",
    "df_14 = df_14[['StateName','CountyName','rent0','rent1','rent2','rent3','rent4','ZIP']]\n",
    "df_14.head()"
   ]
  },
  {
   "cell_type": "code",
   "execution_count": null,
   "metadata": {
    "collapsed": false
   },
   "outputs": [],
   "source": [
    "df_14['Rent_Mean'] = df_14[[\"rent0\", \"rent1\",\"rent2\", \"rent3\",\"rent4\"]].mean(numeric_only=True,axis=1)\n",
    "df_14.head(30)"
   ]
  },
  {
   "cell_type": "code",
   "execution_count": null,
   "metadata": {
    "collapsed": false
   },
   "outputs": [],
   "source": [
    "year = 2014\n",
    "plt.plot(subplots=True)\n",
    "plt.hist(df_14['Rent_Mean'].values, bins = 20)\n",
    "plt.title('Year: %i' % year)\n",
    "plt.xlabel('Mean Rent Per Zip Code')\n",
    "plt.ylabel('Frequency')\n",
    "plt.show()"
   ]
  },
  {
   "cell_type": "code",
   "execution_count": null,
   "metadata": {
    "collapsed": false
   },
   "outputs": [],
   "source": [
    "df_13 = df_13[(df_13.CountyName == 'Kings County') & (df_13.StateName == 'New York')]\n",
    "df_13 = df_13[['StateName','CountyName','rent0','rent1','rent2','rent3','rent4','ZIP']]\n",
    "df_13['Rent_Mean'] = df_13[[\"rent0\", \"rent1\",\"rent2\", \"rent3\",\"rent4\"]].mean(numeric_only=True,axis=1)\n",
    "df_13.head()"
   ]
  },
  {
   "cell_type": "code",
   "execution_count": null,
   "metadata": {
    "collapsed": false
   },
   "outputs": [],
   "source": [
    "year = 2013\n",
    "plt.plot(subplots=True)\n",
    "plt.hist(df_13['Rent_Mean'].values, bins = 20)\n",
    "plt.title('Year: %i' % year)\n",
    "plt.xlabel('Mean Rent Per Zip Code')\n",
    "plt.ylabel('Frequency')\n",
    "plt.show()"
   ]
  },
  {
   "cell_type": "code",
   "execution_count": null,
   "metadata": {
    "collapsed": false
   },
   "outputs": [],
   "source": [
    "df_12 = df_12[(df_12.CountyName == 'Kings County') & (df_12.StateName == 'New York')]\n",
    "df_12 = df_12[['StateName','CountyName','rent0','rent1','rent2','rent3','rent4','ZIP']]\n",
    "df_12.head()"
   ]
  },
  {
   "cell_type": "code",
   "execution_count": null,
   "metadata": {
    "collapsed": false
   },
   "outputs": [],
   "source": [
    "df_12['Rent_Mean'] = df_12[[\"rent0\", \"rent1\",\"rent2\", \"rent3\",\"rent4\"]].mean(numeric_only=True, axis=1)\n",
    "df_12.head()"
   ]
  },
  {
   "cell_type": "code",
   "execution_count": null,
   "metadata": {
    "collapsed": false
   },
   "outputs": [],
   "source": [
    "year = 2012\n",
    "plt.plot(subplots=True)\n",
    "plt.hist(df_12['Rent_Mean'].values, bins = 20)\n",
    "plt.title('Year: %i' % year)\n",
    "plt.xlabel('Mean Rent Per Zip Code')\n",
    "plt.ylabel('Frequency')\n",
    "plt.show()"
   ]
  },
  {
   "cell_type": "code",
   "execution_count": null,
   "metadata": {
    "collapsed": false
   },
   "outputs": [],
   "source": [
    "df_11 = df_11[(df_11.CountyName == 'Kings County') & (df_11.state == 36)]\n",
    "df_11 = df_11[['state','CountyName','rent0','rent1','rent2','rent3','rent4','ZIP']]\n",
    "df_11['Rent_Mean'] = df_11[[\"rent0\", \"rent1\",\"rent2\", \"rent3\",\"rent4\"]].mean(numeric_only=True, axis=1)\n",
    "df_11.head()"
   ]
  },
  {
   "cell_type": "code",
   "execution_count": null,
   "metadata": {
    "collapsed": false
   },
   "outputs": [],
   "source": [
    "year = 2011\n",
    "plt.plot(subplots=True)\n",
    "plt.hist(df_11['Rent_Mean'].values, bins = 20)\n",
    "plt.title('Year: %i' % year)\n",
    "plt.xlabel('Mean Rent Per Zip Code')\n",
    "plt.ylabel('Frequency')\n",
    "plt.show()"
   ]
  },
  {
   "cell_type": "code",
   "execution_count": null,
   "metadata": {
    "collapsed": false
   },
   "outputs": [],
   "source": [
    "df_10 = df_10[(df_10.CountyName == 'Kings County') & (df_10.StateName == 'NY')]\n",
    "df_10 = df_10[['StateName','CountyName', 'rent0','rent1','rent2','rent3','rent4']]\n",
    "df_10['Rent_Mean'] = df_10[[\"rent0\", \"rent1\",\"rent2\", \"rent3\",\"rent4\"]].mean(numeric_only=True, axis=1)\n",
    "df_10.head()"
   ]
  },
  {
   "cell_type": "code",
   "execution_count": null,
   "metadata": {
    "collapsed": false
   },
   "outputs": [],
   "source": [
    "year = 2010\n",
    "plt.plot(subplots=True)\n",
    "plt.hist(df_10['Rent_Mean'].values)\n",
    "plt.title('Year: %i' % year)\n",
    "plt.xlabel('Mean Rent Per Zip Code')\n",
    "plt.ylabel('Frequency')\n",
    "plt.show()"
   ]
  },
  {
   "cell_type": "code",
   "execution_count": null,
   "metadata": {
    "collapsed": true
   },
   "outputs": [],
   "source": [
    "Y = df_11['Rent_Mean'].values\n",
    "df_11 = df_11.drop('Rent_Mean',1)\n",
    "Y = np.array([1 if y>=1502.0 else 0 for y in Y])"
   ]
  },
  {
   "cell_type": "code",
   "execution_count": null,
   "metadata": {
    "collapsed": true
   },
   "outputs": [],
   "source": [
    "X = df_11.as_matrix()"
   ]
  },
  {
   "cell_type": "code",
   "execution_count": null,
   "metadata": {
    "collapsed": false
   },
   "outputs": [],
   "source": [
    "scores = []\n",
    "for ne in range(1,41):\n",
    "    clf = RandomForestClassifier(n_estimators = ne)\n",
    "    score_list = cross_val_score(clf, X, Y, cv=10)\n",
    "    scores.append(score_list)\n",
    "\n",
    "sns.boxplot(scores)\n",
    "plt.xlabel('Number of trees')\n",
    "plt.ylabel('Classification score')\n",
    "plt.title('Classification score as a function of the number of trees')\n",
    "plt.show()"
   ]
  },
  {
   "cell_type": "code",
   "execution_count": null,
   "metadata": {
    "collapsed": true
   },
   "outputs": [],
   "source": []
  },
  {
   "cell_type": "code",
   "execution_count": null,
   "metadata": {
    "collapsed": true
   },
   "outputs": [],
   "source": []
  }
 ],
 "metadata": {
  "anaconda-cloud": {},
  "kernelspec": {
   "display_name": "Python [conda root]",
   "language": "python",
   "name": "conda-root-py"
  },
  "language_info": {
   "codemirror_mode": {
    "name": "ipython",
    "version": 3
   },
   "file_extension": ".py",
   "mimetype": "text/x-python",
   "name": "python",
   "nbconvert_exporter": "python",
   "pygments_lexer": "ipython3",
   "version": "3.5.2"
  }
 },
 "nbformat": 4,
 "nbformat_minor": 1
}
