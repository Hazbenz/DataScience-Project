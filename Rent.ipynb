{
 "cells": [
  {
   "cell_type": "code",
   "execution_count": 2,
   "metadata": {
    "collapsed": false
   },
   "outputs": [],
   "source": [
    "# special IPython command to prepare the notebook for matplotlib\n",
    "%matplotlib inline \n",
    "import numpy as np\n",
    "import pandas as pd\n",
    "import matplotlib.pyplot as plt\n",
    "\n",
    "#added this because it's indicated as useful but not imported\n",
    "import urllib\n",
    "from zipfile import ZipFile\n",
    "from io import BytesIO\n",
    "import os\n",
    "import json\n",
    "from bs4 import BeautifulSoup as bs\n",
    "import re\n",
    "\n",
    "from matplotlib import animation, rc\n",
    "from IPython.display import display, HTML\n",
    "from bs4 import BeautifulSoup\n",
    "import sys\n",
    "import urllib\n",
    "import urllib.request\n",
    "from urllib.request import urlretrieve\n",
    "from socket import timeout\n",
    "import logging\n",
    "import json\n",
    "from pprint import pprint\n",
    "import sys\n",
    "from threading import Event, Thread\n",
    "from tkinter import Tk, ttk\n",
    "from urllib.request import urlretrieve\n",
    "import sklearn.cross_validation\n",
    "from sklearn.ensemble import RandomForestClassifier\n",
    "from sklearn.cross_validation import cross_val_score\n",
    "import openpyxl"
   ]
  },
  {
   "cell_type": "code",
   "execution_count": 3,
   "metadata": {
    "collapsed": false
   },
   "outputs": [],
   "source": [
    "files = [\"https://www.huduser.gov/portal/datasets/fmr/fmr2010f/FY2010_4050_Final_PostRDDs.xls\",\n",
    "         \"https://www.huduser.gov/portal/datasets/fmr/fmr2011f/fy2011_equiv_zc_rents_acs.xls\",\n",
    "         \"https://www.huduser.gov/portal/datasets/fmr/fmr2012f/small_area_fmrs_fy2012.xls\",\n",
    "         \"https://www.huduser.gov/portal/datasets/fmr/fmr2013p/small_area_fmrs_fy2013.xls\",\n",
    "         \"https://www.huduser.gov/portal/datasets/fmr/fmr2014f/small_area_fmrs_fy2014.xls\"]\n",
    "        "
   ]
  },
  {
   "cell_type": "code",
   "execution_count": 4,
   "metadata": {
    "collapsed": true
   },
   "outputs": [],
   "source": [
    "def yearly_spreedsheet(file):\n",
    "    f    = (file)\n",
    "    data = pd.read_excel(f)\n",
    "    return (data)\n",
    "df_10 = yearly_spreedsheet(files[0])\n",
    "df_11 = yearly_spreedsheet(files[1])\n",
    "df_12 = yearly_spreedsheet(files[2])\n",
    "df_13 = yearly_spreedsheet(files[3])\n",
    "df_14 = yearly_spreedsheet(files[4])"
   ]
  },
  {
   "cell_type": "code",
   "execution_count": 5,
   "metadata": {
    "collapsed": false
   },
   "outputs": [
    {
     "data": {
      "text/plain": [
       "'BROOKLYN'"
      ]
     },
     "execution_count": 5,
     "metadata": {},
     "output_type": "execute_result"
    }
   ],
   "source": [
    "#Simple package for dealing with zip codes in python.\n",
    "#you need to install it in your terminal as follows\n",
    "#pip install zipcode\n",
    "import zipcode\n",
    "myzip = zipcode.isequal('11205')\n",
    "myzip.state     \n",
    "myzip.city      "
   ]
  },
  {
   "cell_type": "code",
   "execution_count": 6,
   "metadata": {
    "collapsed": false
   },
   "outputs": [],
   "source": [
    "#save the data in array inorder to modify some attributes \n",
    "rent_per_year = [df_10,df_11,df_12,df_13,df_14]\n",
    "for i in range(len(rent_per_year)):\n",
    "    for j in rent_per_year[i].columns.values:\n",
    "        if j == 'zip' or j == 'ZIP':\n",
    "            rent_per_year[i].rename(columns={j: 'ZIP' }, inplace=True)\n",
    "        if j == 'countyname' or j == 'County Name' or j == 'County_Name':\n",
    "            rent_per_year[i].rename(columns={j: 'CountyName' }, inplace=True)\n",
    "        if j == 'State Name' or j == 'state_alpha':\n",
    "            rent_per_year[i].rename(columns={j: 'StateName' }, inplace=True)\n",
    "        if j == 'area_rent_br0' or j == 'fmr0':\n",
    "            rent_per_year[i].rename(columns={j: 'rent0' }, inplace=True)\n",
    "        if j == 'area_rent_br1' or j == 'fmr1':\n",
    "            rent_per_year[i].rename(columns={j: 'rent1' }, inplace=True)\n",
    "        if j == 'area_rent_br2' or j == 'fmr2':\n",
    "            rent_per_year[i].rename(columns={j: 'rent2' }, inplace=True)\n",
    "        if j == 'area_rent_br3' or j == 'fmr3':\n",
    "            rent_per_year[i].rename(columns={j: 'rent3' }, inplace=True)\n",
    "        if j == 'area_rent_br4' or j == 'fmr4':\n",
    "            rent_per_year[i].rename(columns={j: 'rent4' }, inplace=True)\n",
    "#print(rent_per_year)"
   ]
  },
  {
   "cell_type": "code",
   "execution_count": 7,
   "metadata": {
    "collapsed": false
   },
   "outputs": [
    {
     "data": {
      "text/html": [
       "<div>\n",
       "<table border=\"1\" class=\"dataframe\">\n",
       "  <thead>\n",
       "    <tr style=\"text-align: right;\">\n",
       "      <th></th>\n",
       "      <th>StateName</th>\n",
       "      <th>CountyName</th>\n",
       "      <th>rent0</th>\n",
       "      <th>rent1</th>\n",
       "      <th>rent2</th>\n",
       "      <th>rent3</th>\n",
       "      <th>rent4</th>\n",
       "      <th>ZIP</th>\n",
       "    </tr>\n",
       "  </thead>\n",
       "  <tbody>\n",
       "    <tr>\n",
       "      <th>14328</th>\n",
       "      <td>New York</td>\n",
       "      <td>Kings County</td>\n",
       "      <td>1540</td>\n",
       "      <td>1610</td>\n",
       "      <td>1910</td>\n",
       "      <td>2480</td>\n",
       "      <td>2930</td>\n",
       "      <td>11201</td>\n",
       "    </tr>\n",
       "    <tr>\n",
       "      <th>14329</th>\n",
       "      <td>New York</td>\n",
       "      <td>Kings County</td>\n",
       "      <td>1070</td>\n",
       "      <td>1110</td>\n",
       "      <td>1320</td>\n",
       "      <td>1720</td>\n",
       "      <td>2020</td>\n",
       "      <td>11202</td>\n",
       "    </tr>\n",
       "    <tr>\n",
       "      <th>14330</th>\n",
       "      <td>New York</td>\n",
       "      <td>Kings County</td>\n",
       "      <td>1000</td>\n",
       "      <td>1050</td>\n",
       "      <td>1240</td>\n",
       "      <td>1610</td>\n",
       "      <td>1900</td>\n",
       "      <td>11203</td>\n",
       "    </tr>\n",
       "    <tr>\n",
       "      <th>14331</th>\n",
       "      <td>New York</td>\n",
       "      <td>Kings County</td>\n",
       "      <td>1070</td>\n",
       "      <td>1110</td>\n",
       "      <td>1320</td>\n",
       "      <td>1720</td>\n",
       "      <td>2020</td>\n",
       "      <td>11204</td>\n",
       "    </tr>\n",
       "    <tr>\n",
       "      <th>14332</th>\n",
       "      <td>New York</td>\n",
       "      <td>Kings County</td>\n",
       "      <td>1260</td>\n",
       "      <td>1320</td>\n",
       "      <td>1560</td>\n",
       "      <td>2030</td>\n",
       "      <td>2390</td>\n",
       "      <td>11205</td>\n",
       "    </tr>\n",
       "  </tbody>\n",
       "</table>\n",
       "</div>"
      ],
      "text/plain": [
       "      StateName    CountyName  rent0  rent1  rent2  rent3  rent4    ZIP\n",
       "14328  New York  Kings County   1540   1610   1910   2480   2930  11201\n",
       "14329  New York  Kings County   1070   1110   1320   1720   2020  11202\n",
       "14330  New York  Kings County   1000   1050   1240   1610   1900  11203\n",
       "14331  New York  Kings County   1070   1110   1320   1720   2020  11204\n",
       "14332  New York  Kings County   1260   1320   1560   2030   2390  11205"
      ]
     },
     "execution_count": 7,
     "metadata": {},
     "output_type": "execute_result"
    }
   ],
   "source": [
    "df_14 = df_14[(df_14.CountyName == 'Kings County') & (df_14.StateName == 'New York')]\n",
    "df_14 = df_14[['StateName','CountyName','rent0','rent1','rent2','rent3','rent4','ZIP']]\n",
    "df_14.head()"
   ]
  },
  {
   "cell_type": "code",
   "execution_count": 8,
   "metadata": {
    "collapsed": false
   },
   "outputs": [
    {
     "data": {
      "text/html": [
       "<div>\n",
       "<table border=\"1\" class=\"dataframe\">\n",
       "  <thead>\n",
       "    <tr style=\"text-align: right;\">\n",
       "      <th></th>\n",
       "      <th>StateName</th>\n",
       "      <th>CountyName</th>\n",
       "      <th>rent0</th>\n",
       "      <th>rent1</th>\n",
       "      <th>rent2</th>\n",
       "      <th>rent3</th>\n",
       "      <th>rent4</th>\n",
       "      <th>ZIP</th>\n",
       "      <th>Rent_Mean</th>\n",
       "    </tr>\n",
       "  </thead>\n",
       "  <tbody>\n",
       "    <tr>\n",
       "      <th>14328</th>\n",
       "      <td>New York</td>\n",
       "      <td>Kings County</td>\n",
       "      <td>1540</td>\n",
       "      <td>1610</td>\n",
       "      <td>1910</td>\n",
       "      <td>2480</td>\n",
       "      <td>2930</td>\n",
       "      <td>11201</td>\n",
       "      <td>2094.0</td>\n",
       "    </tr>\n",
       "    <tr>\n",
       "      <th>14329</th>\n",
       "      <td>New York</td>\n",
       "      <td>Kings County</td>\n",
       "      <td>1070</td>\n",
       "      <td>1110</td>\n",
       "      <td>1320</td>\n",
       "      <td>1720</td>\n",
       "      <td>2020</td>\n",
       "      <td>11202</td>\n",
       "      <td>1448.0</td>\n",
       "    </tr>\n",
       "    <tr>\n",
       "      <th>14330</th>\n",
       "      <td>New York</td>\n",
       "      <td>Kings County</td>\n",
       "      <td>1000</td>\n",
       "      <td>1050</td>\n",
       "      <td>1240</td>\n",
       "      <td>1610</td>\n",
       "      <td>1900</td>\n",
       "      <td>11203</td>\n",
       "      <td>1360.0</td>\n",
       "    </tr>\n",
       "    <tr>\n",
       "      <th>14331</th>\n",
       "      <td>New York</td>\n",
       "      <td>Kings County</td>\n",
       "      <td>1070</td>\n",
       "      <td>1110</td>\n",
       "      <td>1320</td>\n",
       "      <td>1720</td>\n",
       "      <td>2020</td>\n",
       "      <td>11204</td>\n",
       "      <td>1448.0</td>\n",
       "    </tr>\n",
       "    <tr>\n",
       "      <th>14332</th>\n",
       "      <td>New York</td>\n",
       "      <td>Kings County</td>\n",
       "      <td>1260</td>\n",
       "      <td>1320</td>\n",
       "      <td>1560</td>\n",
       "      <td>2030</td>\n",
       "      <td>2390</td>\n",
       "      <td>11205</td>\n",
       "      <td>1712.0</td>\n",
       "    </tr>\n",
       "  </tbody>\n",
       "</table>\n",
       "</div>"
      ],
      "text/plain": [
       "      StateName    CountyName  rent0  rent1  rent2  rent3  rent4    ZIP  \\\n",
       "14328  New York  Kings County   1540   1610   1910   2480   2930  11201   \n",
       "14329  New York  Kings County   1070   1110   1320   1720   2020  11202   \n",
       "14330  New York  Kings County   1000   1050   1240   1610   1900  11203   \n",
       "14331  New York  Kings County   1070   1110   1320   1720   2020  11204   \n",
       "14332  New York  Kings County   1260   1320   1560   2030   2390  11205   \n",
       "\n",
       "       Rent_Mean  \n",
       "14328     2094.0  \n",
       "14329     1448.0  \n",
       "14330     1360.0  \n",
       "14331     1448.0  \n",
       "14332     1712.0  "
      ]
     },
     "execution_count": 8,
     "metadata": {},
     "output_type": "execute_result"
    }
   ],
   "source": [
    "df_14['Rent_Mean'] = df_14[[\"rent0\", \"rent1\",\"rent2\", \"rent3\",\"rent4\"]].mean(numeric_only=True,axis=1)\n",
    "df_14.head()"
   ]
  },
  {
   "cell_type": "code",
   "execution_count": 9,
   "metadata": {
    "collapsed": false
   },
   "outputs": [
    {
     "data": {
      "image/png": "[encoded data removed]",
      "text/plain": [
       "<matplotlib.figure.Figure at 0x7fc675a0a080>"
      ]
     },
     "metadata": {},
     "output_type": "display_data"
    }
   ],
   "source": [
    "year = 2014\n",
    "plt.plot(subplots=True)\n",
    "plt.hist(df_14['Rent_Mean'].values, bins = 20)\n",
    "plt.title('Year: %i' % year)\n",
    "plt.xlabel('Income per person')\n",
    "plt.ylabel('Frequency')\n",
    "plt.show()"
   ]
  },
  {
   "cell_type": "code",
   "execution_count": 10,
   "metadata": {
    "collapsed": false
   },
   "outputs": [
    {
     "data": {
      "text/html": [
       "<div>\n",
       "<table border=\"1\" class=\"dataframe\">\n",
       "  <thead>\n",
       "    <tr style=\"text-align: right;\">\n",
       "      <th></th>\n",
       "      <th>StateName</th>\n",
       "      <th>CountyName</th>\n",
       "      <th>rent0</th>\n",
       "      <th>rent1</th>\n",
       "      <th>rent2</th>\n",
       "      <th>rent3</th>\n",
       "      <th>rent4</th>\n",
       "      <th>ZIP</th>\n",
       "      <th>Rent_Mean</th>\n",
       "    </tr>\n",
       "  </thead>\n",
       "  <tbody>\n",
       "    <tr>\n",
       "      <th>14293</th>\n",
       "      <td>New York</td>\n",
       "      <td>Kings County</td>\n",
       "      <td>1550</td>\n",
       "      <td>1620</td>\n",
       "      <td>1920</td>\n",
       "      <td>2500</td>\n",
       "      <td>2940</td>\n",
       "      <td>11201</td>\n",
       "      <td>2106.0</td>\n",
       "    </tr>\n",
       "    <tr>\n",
       "      <th>14294</th>\n",
       "      <td>New York</td>\n",
       "      <td>Kings County</td>\n",
       "      <td>1070</td>\n",
       "      <td>1120</td>\n",
       "      <td>1330</td>\n",
       "      <td>1730</td>\n",
       "      <td>2040</td>\n",
       "      <td>11202</td>\n",
       "      <td>1458.0</td>\n",
       "    </tr>\n",
       "    <tr>\n",
       "      <th>14295</th>\n",
       "      <td>New York</td>\n",
       "      <td>Kings County</td>\n",
       "      <td>1010</td>\n",
       "      <td>1050</td>\n",
       "      <td>1250</td>\n",
       "      <td>1630</td>\n",
       "      <td>1920</td>\n",
       "      <td>11203</td>\n",
       "      <td>1372.0</td>\n",
       "    </tr>\n",
       "    <tr>\n",
       "      <th>14296</th>\n",
       "      <td>New York</td>\n",
       "      <td>Kings County</td>\n",
       "      <td>1070</td>\n",
       "      <td>1120</td>\n",
       "      <td>1330</td>\n",
       "      <td>1730</td>\n",
       "      <td>2040</td>\n",
       "      <td>11204</td>\n",
       "      <td>1458.0</td>\n",
       "    </tr>\n",
       "    <tr>\n",
       "      <th>14297</th>\n",
       "      <td>New York</td>\n",
       "      <td>Kings County</td>\n",
       "      <td>1270</td>\n",
       "      <td>1320</td>\n",
       "      <td>1570</td>\n",
       "      <td>2040</td>\n",
       "      <td>2410</td>\n",
       "      <td>11205</td>\n",
       "      <td>1722.0</td>\n",
       "    </tr>\n",
       "  </tbody>\n",
       "</table>\n",
       "</div>"
      ],
      "text/plain": [
       "      StateName    CountyName  rent0  rent1  rent2  rent3  rent4    ZIP  \\\n",
       "14293  New York  Kings County   1550   1620   1920   2500   2940  11201   \n",
       "14294  New York  Kings County   1070   1120   1330   1730   2040  11202   \n",
       "14295  New York  Kings County   1010   1050   1250   1630   1920  11203   \n",
       "14296  New York  Kings County   1070   1120   1330   1730   2040  11204   \n",
       "14297  New York  Kings County   1270   1320   1570   2040   2410  11205   \n",
       "\n",
       "       Rent_Mean  \n",
       "14293     2106.0  \n",
       "14294     1458.0  \n",
       "14295     1372.0  \n",
       "14296     1458.0  \n",
       "14297     1722.0  "
      ]
     },
     "execution_count": 10,
     "metadata": {},
     "output_type": "execute_result"
    }
   ],
   "source": [
    "df_13 = df_13[(df_13.CountyName == 'Kings County') & (df_13.StateName == 'New York')]\n",
    "df_13 = df_13[['StateName','CountyName','rent0','rent1','rent2','rent3','rent4','ZIP']]\n",
    "df_13['Rent_Mean'] = df_13[[\"rent0\", \"rent1\",\"rent2\", \"rent3\",\"rent4\"]].mean(numeric_only=True,axis=1)\n",
    "df_13.head()"
   ]
  },
  {
   "cell_type": "code",
   "execution_count": 11,
   "metadata": {
    "collapsed": false
   },
   "outputs": [
    {
     "data": {
      "image/png": "[encoded data removed]",
      "text/plain": [
       "<matplotlib.figure.Figure at 0x7fc67528a550>"
      ]
     },
     "metadata": {},
     "output_type": "display_data"
    }
   ],
   "source": [
    "year = 2013\n",
    "plt.plot(subplots=True)\n",
    "plt.hist(df_13['Rent_Mean'].values, bins = 20)\n",
    "plt.title('Year: %i' % year)\n",
    "plt.xlabel('Income per person')\n",
    "plt.ylabel('Frequency')\n",
    "plt.show()"
   ]
  },
  {
   "cell_type": "code",
   "execution_count": 12,
   "metadata": {
    "collapsed": false
   },
   "outputs": [
    {
     "data": {
      "text/html": [
       "<div>\n",
       "<table border=\"1\" class=\"dataframe\">\n",
       "  <thead>\n",
       "    <tr style=\"text-align: right;\">\n",
       "      <th></th>\n",
       "      <th>StateName</th>\n",
       "      <th>CountyName</th>\n",
       "      <th>rent0</th>\n",
       "      <th>rent1</th>\n",
       "      <th>rent2</th>\n",
       "      <th>rent3</th>\n",
       "      <th>rent4</th>\n",
       "      <th>ZIP</th>\n",
       "    </tr>\n",
       "  </thead>\n",
       "  <tbody>\n",
       "    <tr>\n",
       "      <th>13751</th>\n",
       "      <td>New York</td>\n",
       "      <td>Kings County</td>\n",
       "      <td>1500</td>\n",
       "      <td>1640</td>\n",
       "      <td>1870</td>\n",
       "      <td>2360</td>\n",
       "      <td>2860</td>\n",
       "      <td>11201</td>\n",
       "    </tr>\n",
       "    <tr>\n",
       "      <th>13752</th>\n",
       "      <td>New York</td>\n",
       "      <td>Kings County</td>\n",
       "      <td>980</td>\n",
       "      <td>1070</td>\n",
       "      <td>1220</td>\n",
       "      <td>1540</td>\n",
       "      <td>1860</td>\n",
       "      <td>11203</td>\n",
       "    </tr>\n",
       "    <tr>\n",
       "      <th>13753</th>\n",
       "      <td>New York</td>\n",
       "      <td>Kings County</td>\n",
       "      <td>1050</td>\n",
       "      <td>1150</td>\n",
       "      <td>1310</td>\n",
       "      <td>1650</td>\n",
       "      <td>2000</td>\n",
       "      <td>11204</td>\n",
       "    </tr>\n",
       "    <tr>\n",
       "      <th>13754</th>\n",
       "      <td>New York</td>\n",
       "      <td>Kings County</td>\n",
       "      <td>1150</td>\n",
       "      <td>1260</td>\n",
       "      <td>1440</td>\n",
       "      <td>1820</td>\n",
       "      <td>2200</td>\n",
       "      <td>11205</td>\n",
       "    </tr>\n",
       "    <tr>\n",
       "      <th>13755</th>\n",
       "      <td>New York</td>\n",
       "      <td>Kings County</td>\n",
       "      <td>890</td>\n",
       "      <td>970</td>\n",
       "      <td>1110</td>\n",
       "      <td>1400</td>\n",
       "      <td>1690</td>\n",
       "      <td>11206</td>\n",
       "    </tr>\n",
       "  </tbody>\n",
       "</table>\n",
       "</div>"
      ],
      "text/plain": [
       "      StateName    CountyName  rent0  rent1  rent2  rent3  rent4    ZIP\n",
       "13751  New York  Kings County   1500   1640   1870   2360   2860  11201\n",
       "13752  New York  Kings County    980   1070   1220   1540   1860  11203\n",
       "13753  New York  Kings County   1050   1150   1310   1650   2000  11204\n",
       "13754  New York  Kings County   1150   1260   1440   1820   2200  11205\n",
       "13755  New York  Kings County    890    970   1110   1400   1690  11206"
      ]
     },
     "execution_count": 12,
     "metadata": {},
     "output_type": "execute_result"
    }
   ],
   "source": [
    "df_12 = df_12[(df_12.CountyName == 'Kings County') & (df_12.StateName == 'New York')]\n",
    "df_12 = df_12[['StateName','CountyName','rent0','rent1','rent2','rent3','rent4','ZIP']]\n",
    "df_12.head()"
   ]
  },
  {
   "cell_type": "code",
   "execution_count": 13,
   "metadata": {
    "collapsed": false
   },
   "outputs": [
    {
     "data": {
      "text/html": [
       "<div>\n",
       "<table border=\"1\" class=\"dataframe\">\n",
       "  <thead>\n",
       "    <tr style=\"text-align: right;\">\n",
       "      <th></th>\n",
       "      <th>StateName</th>\n",
       "      <th>CountyName</th>\n",
       "      <th>rent0</th>\n",
       "      <th>rent1</th>\n",
       "      <th>rent2</th>\n",
       "      <th>rent3</th>\n",
       "      <th>rent4</th>\n",
       "      <th>ZIP</th>\n",
       "      <th>Rent_Mean</th>\n",
       "    </tr>\n",
       "  </thead>\n",
       "  <tbody>\n",
       "    <tr>\n",
       "      <th>13751</th>\n",
       "      <td>New York</td>\n",
       "      <td>Kings County</td>\n",
       "      <td>1500</td>\n",
       "      <td>1640</td>\n",
       "      <td>1870</td>\n",
       "      <td>2360</td>\n",
       "      <td>2860</td>\n",
       "      <td>11201</td>\n",
       "      <td>2046.0</td>\n",
       "    </tr>\n",
       "    <tr>\n",
       "      <th>13752</th>\n",
       "      <td>New York</td>\n",
       "      <td>Kings County</td>\n",
       "      <td>980</td>\n",
       "      <td>1070</td>\n",
       "      <td>1220</td>\n",
       "      <td>1540</td>\n",
       "      <td>1860</td>\n",
       "      <td>11203</td>\n",
       "      <td>1334.0</td>\n",
       "    </tr>\n",
       "    <tr>\n",
       "      <th>13753</th>\n",
       "      <td>New York</td>\n",
       "      <td>Kings County</td>\n",
       "      <td>1050</td>\n",
       "      <td>1150</td>\n",
       "      <td>1310</td>\n",
       "      <td>1650</td>\n",
       "      <td>2000</td>\n",
       "      <td>11204</td>\n",
       "      <td>1432.0</td>\n",
       "    </tr>\n",
       "    <tr>\n",
       "      <th>13754</th>\n",
       "      <td>New York</td>\n",
       "      <td>Kings County</td>\n",
       "      <td>1150</td>\n",
       "      <td>1260</td>\n",
       "      <td>1440</td>\n",
       "      <td>1820</td>\n",
       "      <td>2200</td>\n",
       "      <td>11205</td>\n",
       "      <td>1574.0</td>\n",
       "    </tr>\n",
       "    <tr>\n",
       "      <th>13755</th>\n",
       "      <td>New York</td>\n",
       "      <td>Kings County</td>\n",
       "      <td>890</td>\n",
       "      <td>970</td>\n",
       "      <td>1110</td>\n",
       "      <td>1400</td>\n",
       "      <td>1690</td>\n",
       "      <td>11206</td>\n",
       "      <td>1212.0</td>\n",
       "    </tr>\n",
       "  </tbody>\n",
       "</table>\n",
       "</div>"
      ],
      "text/plain": [
       "      StateName    CountyName  rent0  rent1  rent2  rent3  rent4    ZIP  \\\n",
       "13751  New York  Kings County   1500   1640   1870   2360   2860  11201   \n",
       "13752  New York  Kings County    980   1070   1220   1540   1860  11203   \n",
       "13753  New York  Kings County   1050   1150   1310   1650   2000  11204   \n",
       "13754  New York  Kings County   1150   1260   1440   1820   2200  11205   \n",
       "13755  New York  Kings County    890    970   1110   1400   1690  11206   \n",
       "\n",
       "       Rent_Mean  \n",
       "13751     2046.0  \n",
       "13752     1334.0  \n",
       "13753     1432.0  \n",
       "13754     1574.0  \n",
       "13755     1212.0  "
      ]
     },
     "execution_count": 13,
     "metadata": {},
     "output_type": "execute_result"
    }
   ],
   "source": [
    "df_12['Rent_Mean'] = df_12[[\"rent0\", \"rent1\",\"rent2\", \"rent3\",\"rent4\"]].mean(numeric_only=True, axis=1)\n",
    "df_12.head()"
   ]
  },
  {
   "cell_type": "code",
   "execution_count": 14,
   "metadata": {
    "collapsed": false
   },
   "outputs": [
    {
     "data": {
      "image/png": "[encoded data removed]",
      "text/plain": [
       "<matplotlib.figure.Figure at 0x7fc675484a58>"
      ]
     },
     "metadata": {},
     "output_type": "display_data"
    }
   ],
   "source": [
    "year = 2012\n",
    "plt.plot(subplots=True)\n",
    "plt.hist(df_12['Rent_Mean'].values, bins = 20)\n",
    "plt.title('Year: %i' % year)\n",
    "plt.xlabel('Income per person')\n",
    "plt.ylabel('Frequency')\n",
    "plt.show()"
   ]
  },
  {
   "cell_type": "code",
   "execution_count": 15,
   "metadata": {
    "collapsed": false
   },
   "outputs": [
    {
     "data": {
      "text/html": [
       "<div>\n",
       "<table border=\"1\" class=\"dataframe\">\n",
       "  <thead>\n",
       "    <tr style=\"text-align: right;\">\n",
       "      <th></th>\n",
       "      <th>state</th>\n",
       "      <th>CountyName</th>\n",
       "      <th>rent0</th>\n",
       "      <th>rent1</th>\n",
       "      <th>rent2</th>\n",
       "      <th>rent3</th>\n",
       "      <th>rent4</th>\n",
       "      <th>ZIP</th>\n",
       "      <th>Rent_Mean</th>\n",
       "    </tr>\n",
       "  </thead>\n",
       "  <tbody>\n",
       "    <tr>\n",
       "      <th>12321</th>\n",
       "      <td>36</td>\n",
       "      <td>Kings County</td>\n",
       "      <td>1060</td>\n",
       "      <td>1130</td>\n",
       "      <td>1280</td>\n",
       "      <td>1590</td>\n",
       "      <td>1760</td>\n",
       "      <td>10016</td>\n",
       "      <td>1364.0</td>\n",
       "    </tr>\n",
       "    <tr>\n",
       "      <th>12322</th>\n",
       "      <td>36</td>\n",
       "      <td>Kings County</td>\n",
       "      <td>1530</td>\n",
       "      <td>1630</td>\n",
       "      <td>1840</td>\n",
       "      <td>2280</td>\n",
       "      <td>2520</td>\n",
       "      <td>11201</td>\n",
       "      <td>1960.0</td>\n",
       "    </tr>\n",
       "    <tr>\n",
       "      <th>12323</th>\n",
       "      <td>36</td>\n",
       "      <td>Kings County</td>\n",
       "      <td>1040</td>\n",
       "      <td>1110</td>\n",
       "      <td>1250</td>\n",
       "      <td>1550</td>\n",
       "      <td>1720</td>\n",
       "      <td>11203</td>\n",
       "      <td>1334.0</td>\n",
       "    </tr>\n",
       "    <tr>\n",
       "      <th>12324</th>\n",
       "      <td>36</td>\n",
       "      <td>Kings County</td>\n",
       "      <td>1070</td>\n",
       "      <td>1140</td>\n",
       "      <td>1290</td>\n",
       "      <td>1600</td>\n",
       "      <td>1770</td>\n",
       "      <td>11204</td>\n",
       "      <td>1374.0</td>\n",
       "    </tr>\n",
       "    <tr>\n",
       "      <th>12325</th>\n",
       "      <td>36</td>\n",
       "      <td>Kings County</td>\n",
       "      <td>1170</td>\n",
       "      <td>1250</td>\n",
       "      <td>1410</td>\n",
       "      <td>1750</td>\n",
       "      <td>1930</td>\n",
       "      <td>11205</td>\n",
       "      <td>1502.0</td>\n",
       "    </tr>\n",
       "  </tbody>\n",
       "</table>\n",
       "</div>"
      ],
      "text/plain": [
       "       state    CountyName  rent0  rent1  rent2  rent3  rent4    ZIP  \\\n",
       "12321     36  Kings County   1060   1130   1280   1590   1760  10016   \n",
       "12322     36  Kings County   1530   1630   1840   2280   2520  11201   \n",
       "12323     36  Kings County   1040   1110   1250   1550   1720  11203   \n",
       "12324     36  Kings County   1070   1140   1290   1600   1770  11204   \n",
       "12325     36  Kings County   1170   1250   1410   1750   1930  11205   \n",
       "\n",
       "       Rent_Mean  \n",
       "12321     1364.0  \n",
       "12322     1960.0  \n",
       "12323     1334.0  \n",
       "12324     1374.0  \n",
       "12325     1502.0  "
      ]
     },
     "execution_count": 15,
     "metadata": {},
     "output_type": "execute_result"
    }
   ],
   "source": [
    "df_11 = df_11[(df_11.CountyName == 'Kings County') & (df_11.state == 36)]\n",
    "df_11 = df_11[['state','CountyName','rent0','rent1','rent2','rent3','rent4','ZIP']]\n",
    "df_11['Rent_Mean'] = df_11[[\"rent0\", \"rent1\",\"rent2\", \"rent3\",\"rent4\"]].mean(numeric_only=True, axis=1)\n",
    "df_11.head()"
   ]
  },
  {
   "cell_type": "code",
   "execution_count": 16,
   "metadata": {
    "collapsed": false
   },
   "outputs": [
    {
     "data": {
      "image/png": "[encoded data removed]",
      "text/plain": [
       "<matplotlib.figure.Figure at 0x7fc6753989b0>"
      ]
     },
     "metadata": {},
     "output_type": "display_data"
    }
   ],
   "source": [
    "year = 2011\n",
    "plt.plot(subplots=True)\n",
    "plt.hist(df_11['Rent_Mean'].values, bins = 20)\n",
    "plt.title('Year: %i' % year)\n",
    "plt.xlabel('Income per person')\n",
    "plt.ylabel('Frequency')\n",
    "plt.show()"
   ]
  },
  {
   "cell_type": "code",
   "execution_count": 17,
   "metadata": {
    "collapsed": false
   },
   "outputs": [
    {
     "data": {
      "text/html": [
       "<div>\n",
       "<table border=\"1\" class=\"dataframe\">\n",
       "  <thead>\n",
       "    <tr style=\"text-align: right;\">\n",
       "      <th></th>\n",
       "      <th>StateName</th>\n",
       "      <th>CountyName</th>\n",
       "      <th>rent0</th>\n",
       "      <th>rent1</th>\n",
       "      <th>rent2</th>\n",
       "      <th>rent3</th>\n",
       "      <th>rent4</th>\n",
       "      <th>Rent_Mean</th>\n",
       "    </tr>\n",
       "  </thead>\n",
       "  <tbody>\n",
       "    <tr>\n",
       "      <th>3113</th>\n",
       "      <td>NY</td>\n",
       "      <td>Kings County</td>\n",
       "      <td>1129</td>\n",
       "      <td>1222</td>\n",
       "      <td>1359</td>\n",
       "      <td>1672</td>\n",
       "      <td>1880</td>\n",
       "      <td>1452.4</td>\n",
       "    </tr>\n",
       "  </tbody>\n",
       "</table>\n",
       "</div>"
      ],
      "text/plain": [
       "     StateName    CountyName  rent0  rent1  rent2  rent3  rent4  Rent_Mean\n",
       "3113        NY  Kings County   1129   1222   1359   1672   1880     1452.4"
      ]
     },
     "execution_count": 17,
     "metadata": {},
     "output_type": "execute_result"
    }
   ],
   "source": [
    "df_10 = df_10[(df_10.CountyName == 'Kings County') & (df_10.StateName == 'NY')]\n",
    "df_10 = df_10[['StateName','CountyName', 'rent0','rent1','rent2','rent3','rent4']]\n",
    "df_10['Rent_Mean'] = df_10[[\"rent0\", \"rent1\",\"rent2\", \"rent3\",\"rent4\"]].mean(numeric_only=True, axis=1)\n",
    "df_10.head()"
   ]
  },
  {
   "cell_type": "code",
   "execution_count": 18,
   "metadata": {
    "collapsed": false
   },
   "outputs": [
    {
     "data": {
      "image/png": "[encoded data removed]",
      "text/plain": [
       "<matplotlib.figure.Figure at 0x7fc6754b89b0>"
      ]
     },
     "metadata": {},
     "output_type": "display_data"
    }
   ],
   "source": [
    "year = 2010\n",
    "plt.plot(subplots=True)\n",
    "plt.hist(df_10['Rent_Mean'].values)\n",
    "plt.title('Year: %i' % year)\n",
    "plt.xlabel('Income per person')\n",
    "plt.ylabel('Frequency')\n",
    "plt.show()"
   ]
  },
  {
   "cell_type": "code",
   "execution_count": 19,
   "metadata": {
    "collapsed": true
   },
   "outputs": [],
   "source": [
    "Y = df_11['Rent_Mean'].values\n",
    "df_11 = df_11.drop('Rent_Mean',1)\n",
    "Y = np.array([1 if y>=1502.0 else 0 for y in Y])"
   ]
  },
  {
   "cell_type": "code",
   "execution_count": 20,
   "metadata": {
    "collapsed": true
   },
   "outputs": [],
   "source": [
    "X = df_11.as_matrix()"
   ]
  },
  {
   "cell_type": "code",
   "execution_count": 21,
   "metadata": {
    "collapsed": false
   },
   "outputs": [
    {
     "ename": "ValueError",
     "evalue": "could not convert string to float: 'Kings County'",
     "output_type": "error",
     "traceback": [
      "\u001b[1;31m---------------------------------------------------------------------------\u001b[0m",
      "\u001b[1;31mValueError\u001b[0m                                Traceback (most recent call last)",
      "\u001b[1;32m<ipython-input-21-f9b646b1cb3a>\u001b[0m in \u001b[0;36m<module>\u001b[1;34m()\u001b[0m\n\u001b[0;32m      2\u001b[0m \u001b[1;32mfor\u001b[0m \u001b[0mne\u001b[0m \u001b[1;32min\u001b[0m \u001b[0mrange\u001b[0m\u001b[1;33m(\u001b[0m\u001b[1;36m1\u001b[0m\u001b[1;33m,\u001b[0m\u001b[1;36m41\u001b[0m\u001b[1;33m)\u001b[0m\u001b[1;33m:\u001b[0m\u001b[1;33m\u001b[0m\u001b[0m\n\u001b[0;32m      3\u001b[0m     \u001b[0mclf\u001b[0m \u001b[1;33m=\u001b[0m \u001b[0mRandomForestClassifier\u001b[0m\u001b[1;33m(\u001b[0m\u001b[0mn_estimators\u001b[0m \u001b[1;33m=\u001b[0m \u001b[0mne\u001b[0m\u001b[1;33m)\u001b[0m\u001b[1;33m\u001b[0m\u001b[0m\n\u001b[1;32m----> 4\u001b[1;33m     \u001b[0mscore_list\u001b[0m \u001b[1;33m=\u001b[0m \u001b[0mcross_val_score\u001b[0m\u001b[1;33m(\u001b[0m\u001b[0mclf\u001b[0m\u001b[1;33m,\u001b[0m \u001b[0mX\u001b[0m\u001b[1;33m,\u001b[0m \u001b[0mY\u001b[0m\u001b[1;33m,\u001b[0m \u001b[0mcv\u001b[0m\u001b[1;33m=\u001b[0m\u001b[1;36m10\u001b[0m\u001b[1;33m)\u001b[0m\u001b[1;33m\u001b[0m\u001b[0m\n\u001b[0m\u001b[0;32m      5\u001b[0m     \u001b[0mscores\u001b[0m\u001b[1;33m.\u001b[0m\u001b[0mappend\u001b[0m\u001b[1;33m(\u001b[0m\u001b[0mscore_list\u001b[0m\u001b[1;33m)\u001b[0m\u001b[1;33m\u001b[0m\u001b[0m\n\u001b[0;32m      6\u001b[0m \u001b[1;33m\u001b[0m\u001b[0m\n",
      "\u001b[1;32m/home/stuff/anaconda3/envs/DataScience-Project/lib/python3.5/site-packages/sklearn/cross_validation.py\u001b[0m in \u001b[0;36mcross_val_score\u001b[1;34m(estimator, X, y, scoring, cv, n_jobs, verbose, fit_params, pre_dispatch)\u001b[0m\n\u001b[0;32m   1431\u001b[0m                                               \u001b[0mtrain\u001b[0m\u001b[1;33m,\u001b[0m \u001b[0mtest\u001b[0m\u001b[1;33m,\u001b[0m \u001b[0mverbose\u001b[0m\u001b[1;33m,\u001b[0m \u001b[1;32mNone\u001b[0m\u001b[1;33m,\u001b[0m\u001b[1;33m\u001b[0m\u001b[0m\n\u001b[0;32m   1432\u001b[0m                                               fit_params)\n\u001b[1;32m-> 1433\u001b[1;33m                       for train, test in cv)\n\u001b[0m\u001b[0;32m   1434\u001b[0m     \u001b[1;32mreturn\u001b[0m \u001b[0mnp\u001b[0m\u001b[1;33m.\u001b[0m\u001b[0marray\u001b[0m\u001b[1;33m(\u001b[0m\u001b[0mscores\u001b[0m\u001b[1;33m)\u001b[0m\u001b[1;33m[\u001b[0m\u001b[1;33m:\u001b[0m\u001b[1;33m,\u001b[0m \u001b[1;36m0\u001b[0m\u001b[1;33m]\u001b[0m\u001b[1;33m\u001b[0m\u001b[0m\n\u001b[0;32m   1435\u001b[0m \u001b[1;33m\u001b[0m\u001b[0m\n",
      "\u001b[1;32m/home/stuff/anaconda3/envs/DataScience-Project/lib/python3.5/site-packages/sklearn/externals/joblib/parallel.py\u001b[0m in \u001b[0;36m__call__\u001b[1;34m(self, iterable)\u001b[0m\n\u001b[0;32m    798\u001b[0m             \u001b[1;31m# was dispatched. In particular this covers the edge\u001b[0m\u001b[1;33m\u001b[0m\u001b[1;33m\u001b[0m\u001b[0m\n\u001b[0;32m    799\u001b[0m             \u001b[1;31m# case of Parallel used with an exhausted iterator.\u001b[0m\u001b[1;33m\u001b[0m\u001b[1;33m\u001b[0m\u001b[0m\n\u001b[1;32m--> 800\u001b[1;33m             \u001b[1;32mwhile\u001b[0m \u001b[0mself\u001b[0m\u001b[1;33m.\u001b[0m\u001b[0mdispatch_one_batch\u001b[0m\u001b[1;33m(\u001b[0m\u001b[0miterator\u001b[0m\u001b[1;33m)\u001b[0m\u001b[1;33m:\u001b[0m\u001b[1;33m\u001b[0m\u001b[0m\n\u001b[0m\u001b[0;32m    801\u001b[0m                 \u001b[0mself\u001b[0m\u001b[1;33m.\u001b[0m\u001b[0m_iterating\u001b[0m \u001b[1;33m=\u001b[0m \u001b[1;32mTrue\u001b[0m\u001b[1;33m\u001b[0m\u001b[0m\n\u001b[0;32m    802\u001b[0m             \u001b[1;32melse\u001b[0m\u001b[1;33m:\u001b[0m\u001b[1;33m\u001b[0m\u001b[0m\n",
      "\u001b[1;32m/home/stuff/anaconda3/envs/DataScience-Project/lib/python3.5/site-packages/sklearn/externals/joblib/parallel.py\u001b[0m in \u001b[0;36mdispatch_one_batch\u001b[1;34m(self, iterator)\u001b[0m\n\u001b[0;32m    656\u001b[0m                 \u001b[1;32mreturn\u001b[0m \u001b[1;32mFalse\u001b[0m\u001b[1;33m\u001b[0m\u001b[0m\n\u001b[0;32m    657\u001b[0m             \u001b[1;32melse\u001b[0m\u001b[1;33m:\u001b[0m\u001b[1;33m\u001b[0m\u001b[0m\n\u001b[1;32m--> 658\u001b[1;33m                 \u001b[0mself\u001b[0m\u001b[1;33m.\u001b[0m\u001b[0m_dispatch\u001b[0m\u001b[1;33m(\u001b[0m\u001b[0mtasks\u001b[0m\u001b[1;33m)\u001b[0m\u001b[1;33m\u001b[0m\u001b[0m\n\u001b[0m\u001b[0;32m    659\u001b[0m                 \u001b[1;32mreturn\u001b[0m \u001b[1;32mTrue\u001b[0m\u001b[1;33m\u001b[0m\u001b[0m\n\u001b[0;32m    660\u001b[0m \u001b[1;33m\u001b[0m\u001b[0m\n",
      "\u001b[1;32m/home/stuff/anaconda3/envs/DataScience-Project/lib/python3.5/site-packages/sklearn/externals/joblib/parallel.py\u001b[0m in \u001b[0;36m_dispatch\u001b[1;34m(self, batch)\u001b[0m\n\u001b[0;32m    564\u001b[0m \u001b[1;33m\u001b[0m\u001b[0m\n\u001b[0;32m    565\u001b[0m         \u001b[1;32mif\u001b[0m \u001b[0mself\u001b[0m\u001b[1;33m.\u001b[0m\u001b[0m_pool\u001b[0m \u001b[1;32mis\u001b[0m \u001b[1;32mNone\u001b[0m\u001b[1;33m:\u001b[0m\u001b[1;33m\u001b[0m\u001b[0m\n\u001b[1;32m--> 566\u001b[1;33m             \u001b[0mjob\u001b[0m \u001b[1;33m=\u001b[0m \u001b[0mImmediateComputeBatch\u001b[0m\u001b[1;33m(\u001b[0m\u001b[0mbatch\u001b[0m\u001b[1;33m)\u001b[0m\u001b[1;33m\u001b[0m\u001b[0m\n\u001b[0m\u001b[0;32m    567\u001b[0m             \u001b[0mself\u001b[0m\u001b[1;33m.\u001b[0m\u001b[0m_jobs\u001b[0m\u001b[1;33m.\u001b[0m\u001b[0mappend\u001b[0m\u001b[1;33m(\u001b[0m\u001b[0mjob\u001b[0m\u001b[1;33m)\u001b[0m\u001b[1;33m\u001b[0m\u001b[0m\n\u001b[0;32m    568\u001b[0m             \u001b[0mself\u001b[0m\u001b[1;33m.\u001b[0m\u001b[0mn_dispatched_batches\u001b[0m \u001b[1;33m+=\u001b[0m \u001b[1;36m1\u001b[0m\u001b[1;33m\u001b[0m\u001b[0m\n",
      "\u001b[1;32m/home/stuff/anaconda3/envs/DataScience-Project/lib/python3.5/site-packages/sklearn/externals/joblib/parallel.py\u001b[0m in \u001b[0;36m__init__\u001b[1;34m(self, batch)\u001b[0m\n\u001b[0;32m    178\u001b[0m         \u001b[1;31m# Don't delay the application, to avoid keeping the input\u001b[0m\u001b[1;33m\u001b[0m\u001b[1;33m\u001b[0m\u001b[0m\n\u001b[0;32m    179\u001b[0m         \u001b[1;31m# arguments in memory\u001b[0m\u001b[1;33m\u001b[0m\u001b[1;33m\u001b[0m\u001b[0m\n\u001b[1;32m--> 180\u001b[1;33m         \u001b[0mself\u001b[0m\u001b[1;33m.\u001b[0m\u001b[0mresults\u001b[0m \u001b[1;33m=\u001b[0m \u001b[0mbatch\u001b[0m\u001b[1;33m(\u001b[0m\u001b[1;33m)\u001b[0m\u001b[1;33m\u001b[0m\u001b[0m\n\u001b[0m\u001b[0;32m    181\u001b[0m \u001b[1;33m\u001b[0m\u001b[0m\n\u001b[0;32m    182\u001b[0m     \u001b[1;32mdef\u001b[0m \u001b[0mget\u001b[0m\u001b[1;33m(\u001b[0m\u001b[0mself\u001b[0m\u001b[1;33m)\u001b[0m\u001b[1;33m:\u001b[0m\u001b[1;33m\u001b[0m\u001b[0m\n",
      "\u001b[1;32m/home/stuff/anaconda3/envs/DataScience-Project/lib/python3.5/site-packages/sklearn/externals/joblib/parallel.py\u001b[0m in \u001b[0;36m__call__\u001b[1;34m(self)\u001b[0m\n\u001b[0;32m     70\u001b[0m \u001b[1;33m\u001b[0m\u001b[0m\n\u001b[0;32m     71\u001b[0m     \u001b[1;32mdef\u001b[0m \u001b[0m__call__\u001b[0m\u001b[1;33m(\u001b[0m\u001b[0mself\u001b[0m\u001b[1;33m)\u001b[0m\u001b[1;33m:\u001b[0m\u001b[1;33m\u001b[0m\u001b[0m\n\u001b[1;32m---> 72\u001b[1;33m         \u001b[1;32mreturn\u001b[0m \u001b[1;33m[\u001b[0m\u001b[0mfunc\u001b[0m\u001b[1;33m(\u001b[0m\u001b[1;33m*\u001b[0m\u001b[0margs\u001b[0m\u001b[1;33m,\u001b[0m \u001b[1;33m**\u001b[0m\u001b[0mkwargs\u001b[0m\u001b[1;33m)\u001b[0m \u001b[1;32mfor\u001b[0m \u001b[0mfunc\u001b[0m\u001b[1;33m,\u001b[0m \u001b[0margs\u001b[0m\u001b[1;33m,\u001b[0m \u001b[0mkwargs\u001b[0m \u001b[1;32min\u001b[0m \u001b[0mself\u001b[0m\u001b[1;33m.\u001b[0m\u001b[0mitems\u001b[0m\u001b[1;33m]\u001b[0m\u001b[1;33m\u001b[0m\u001b[0m\n\u001b[0m\u001b[0;32m     73\u001b[0m \u001b[1;33m\u001b[0m\u001b[0m\n\u001b[0;32m     74\u001b[0m     \u001b[1;32mdef\u001b[0m \u001b[0m__len__\u001b[0m\u001b[1;33m(\u001b[0m\u001b[0mself\u001b[0m\u001b[1;33m)\u001b[0m\u001b[1;33m:\u001b[0m\u001b[1;33m\u001b[0m\u001b[0m\n",
      "\u001b[1;32m/home/stuff/anaconda3/envs/DataScience-Project/lib/python3.5/site-packages/sklearn/externals/joblib/parallel.py\u001b[0m in \u001b[0;36m<listcomp>\u001b[1;34m(.0)\u001b[0m\n\u001b[0;32m     70\u001b[0m \u001b[1;33m\u001b[0m\u001b[0m\n\u001b[0;32m     71\u001b[0m     \u001b[1;32mdef\u001b[0m \u001b[0m__call__\u001b[0m\u001b[1;33m(\u001b[0m\u001b[0mself\u001b[0m\u001b[1;33m)\u001b[0m\u001b[1;33m:\u001b[0m\u001b[1;33m\u001b[0m\u001b[0m\n\u001b[1;32m---> 72\u001b[1;33m         \u001b[1;32mreturn\u001b[0m \u001b[1;33m[\u001b[0m\u001b[0mfunc\u001b[0m\u001b[1;33m(\u001b[0m\u001b[1;33m*\u001b[0m\u001b[0margs\u001b[0m\u001b[1;33m,\u001b[0m \u001b[1;33m**\u001b[0m\u001b[0mkwargs\u001b[0m\u001b[1;33m)\u001b[0m \u001b[1;32mfor\u001b[0m \u001b[0mfunc\u001b[0m\u001b[1;33m,\u001b[0m \u001b[0margs\u001b[0m\u001b[1;33m,\u001b[0m \u001b[0mkwargs\u001b[0m \u001b[1;32min\u001b[0m \u001b[0mself\u001b[0m\u001b[1;33m.\u001b[0m\u001b[0mitems\u001b[0m\u001b[1;33m]\u001b[0m\u001b[1;33m\u001b[0m\u001b[0m\n\u001b[0m\u001b[0;32m     73\u001b[0m \u001b[1;33m\u001b[0m\u001b[0m\n\u001b[0;32m     74\u001b[0m     \u001b[1;32mdef\u001b[0m \u001b[0m__len__\u001b[0m\u001b[1;33m(\u001b[0m\u001b[0mself\u001b[0m\u001b[1;33m)\u001b[0m\u001b[1;33m:\u001b[0m\u001b[1;33m\u001b[0m\u001b[0m\n",
      "\u001b[1;32m/home/stuff/anaconda3/envs/DataScience-Project/lib/python3.5/site-packages/sklearn/cross_validation.py\u001b[0m in \u001b[0;36m_fit_and_score\u001b[1;34m(estimator, X, y, scorer, train, test, verbose, parameters, fit_params, return_train_score, return_parameters, error_score)\u001b[0m\n\u001b[0;32m   1529\u001b[0m             \u001b[0mestimator\u001b[0m\u001b[1;33m.\u001b[0m\u001b[0mfit\u001b[0m\u001b[1;33m(\u001b[0m\u001b[0mX_train\u001b[0m\u001b[1;33m,\u001b[0m \u001b[1;33m**\u001b[0m\u001b[0mfit_params\u001b[0m\u001b[1;33m)\u001b[0m\u001b[1;33m\u001b[0m\u001b[0m\n\u001b[0;32m   1530\u001b[0m         \u001b[1;32melse\u001b[0m\u001b[1;33m:\u001b[0m\u001b[1;33m\u001b[0m\u001b[0m\n\u001b[1;32m-> 1531\u001b[1;33m             \u001b[0mestimator\u001b[0m\u001b[1;33m.\u001b[0m\u001b[0mfit\u001b[0m\u001b[1;33m(\u001b[0m\u001b[0mX_train\u001b[0m\u001b[1;33m,\u001b[0m \u001b[0my_train\u001b[0m\u001b[1;33m,\u001b[0m \u001b[1;33m**\u001b[0m\u001b[0mfit_params\u001b[0m\u001b[1;33m)\u001b[0m\u001b[1;33m\u001b[0m\u001b[0m\n\u001b[0m\u001b[0;32m   1532\u001b[0m \u001b[1;33m\u001b[0m\u001b[0m\n\u001b[0;32m   1533\u001b[0m     \u001b[1;32mexcept\u001b[0m \u001b[0mException\u001b[0m \u001b[1;32mas\u001b[0m \u001b[0me\u001b[0m\u001b[1;33m:\u001b[0m\u001b[1;33m\u001b[0m\u001b[0m\n",
      "\u001b[1;32m/home/stuff/anaconda3/envs/DataScience-Project/lib/python3.5/site-packages/sklearn/ensemble/forest.py\u001b[0m in \u001b[0;36mfit\u001b[1;34m(self, X, y, sample_weight)\u001b[0m\n\u001b[0;32m    210\u001b[0m         \"\"\"\n\u001b[0;32m    211\u001b[0m         \u001b[1;31m# Validate or convert input data\u001b[0m\u001b[1;33m\u001b[0m\u001b[1;33m\u001b[0m\u001b[0m\n\u001b[1;32m--> 212\u001b[1;33m         \u001b[0mX\u001b[0m \u001b[1;33m=\u001b[0m \u001b[0mcheck_array\u001b[0m\u001b[1;33m(\u001b[0m\u001b[0mX\u001b[0m\u001b[1;33m,\u001b[0m \u001b[0mdtype\u001b[0m\u001b[1;33m=\u001b[0m\u001b[0mDTYPE\u001b[0m\u001b[1;33m,\u001b[0m \u001b[0maccept_sparse\u001b[0m\u001b[1;33m=\u001b[0m\u001b[1;34m\"csc\"\u001b[0m\u001b[1;33m)\u001b[0m\u001b[1;33m\u001b[0m\u001b[0m\n\u001b[0m\u001b[0;32m    213\u001b[0m         \u001b[1;32mif\u001b[0m \u001b[0missparse\u001b[0m\u001b[1;33m(\u001b[0m\u001b[0mX\u001b[0m\u001b[1;33m)\u001b[0m\u001b[1;33m:\u001b[0m\u001b[1;33m\u001b[0m\u001b[0m\n\u001b[0;32m    214\u001b[0m             \u001b[1;31m# Pre-sort indices to avoid that each individual tree of the\u001b[0m\u001b[1;33m\u001b[0m\u001b[1;33m\u001b[0m\u001b[0m\n",
      "\u001b[1;32m/home/stuff/anaconda3/envs/DataScience-Project/lib/python3.5/site-packages/sklearn/utils/validation.py\u001b[0m in \u001b[0;36mcheck_array\u001b[1;34m(array, accept_sparse, dtype, order, copy, force_all_finite, ensure_2d, allow_nd, ensure_min_samples, ensure_min_features, warn_on_dtype, estimator)\u001b[0m\n\u001b[0;32m    371\u001b[0m                                       force_all_finite)\n\u001b[0;32m    372\u001b[0m     \u001b[1;32melse\u001b[0m\u001b[1;33m:\u001b[0m\u001b[1;33m\u001b[0m\u001b[0m\n\u001b[1;32m--> 373\u001b[1;33m         \u001b[0marray\u001b[0m \u001b[1;33m=\u001b[0m \u001b[0mnp\u001b[0m\u001b[1;33m.\u001b[0m\u001b[0marray\u001b[0m\u001b[1;33m(\u001b[0m\u001b[0marray\u001b[0m\u001b[1;33m,\u001b[0m \u001b[0mdtype\u001b[0m\u001b[1;33m=\u001b[0m\u001b[0mdtype\u001b[0m\u001b[1;33m,\u001b[0m \u001b[0morder\u001b[0m\u001b[1;33m=\u001b[0m\u001b[0morder\u001b[0m\u001b[1;33m,\u001b[0m \u001b[0mcopy\u001b[0m\u001b[1;33m=\u001b[0m\u001b[0mcopy\u001b[0m\u001b[1;33m)\u001b[0m\u001b[1;33m\u001b[0m\u001b[0m\n\u001b[0m\u001b[0;32m    374\u001b[0m \u001b[1;33m\u001b[0m\u001b[0m\n\u001b[0;32m    375\u001b[0m         \u001b[1;32mif\u001b[0m \u001b[0mensure_2d\u001b[0m\u001b[1;33m:\u001b[0m\u001b[1;33m\u001b[0m\u001b[0m\n",
      "\u001b[1;31mValueError\u001b[0m: could not convert string to float: 'Kings County'"
     ]
    }
   ],
   "source": [
    "scores = []\n",
    "for ne in range(1,41):\n",
    "    clf = RandomForestClassifier(n_estimators = ne)\n",
    "    score_list = cross_val_score(clf, X, Y, cv=10)\n",
    "    scores.append(score_list)\n",
    "\n",
    "sns.boxplot(scores)\n",
    "plt.xlabel('Number of trees')\n",
    "plt.ylabel('Classification score')\n",
    "plt.title('Classification score as a function of the number of trees')\n",
    "plt.show()"
   ]
  },
  {
   "cell_type": "code",
   "execution_count": null,
   "metadata": {
    "collapsed": true
   },
   "outputs": [],
   "source": []
  },
  {
   "cell_type": "code",
   "execution_count": null,
   "metadata": {
    "collapsed": true
   },
   "outputs": [],
   "source": []
  }
 ],
 "metadata": {
  "anaconda-cloud": {},
  "kernelspec": {
   "display_name": "Python [DataScience-Project]",
   "language": "python",
   "name": "Python [DataScience-Project]"
  },
  "language_info": {
   "codemirror_mode": {
    "name": "ipython",
    "version": 3
   },
   "file_extension": ".py",
   "mimetype": "text/x-python",
   "name": "python",
   "nbconvert_exporter": "python",
   "pygments_lexer": "ipython3",
   "version": "3.5.2"
  }
 },
 "nbformat": 4,
 "nbformat_minor": 1
}
