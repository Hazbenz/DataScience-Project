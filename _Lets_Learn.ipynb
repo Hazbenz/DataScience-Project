{
 "cells": [
  {
   "cell_type": "code",
   "execution_count": 39,
   "metadata": {
    "collapsed": false
   },
   "outputs": [],
   "source": [
    "import urllib.request\n",
    "import tarfile\n",
    "import os\n",
    "from pylab import *\n",
    "%matplotlib inline\n",
    "import pandas as pd\n",
    "import numpy as np\n",
    "\n",
    "from sklearn.model_selection import train_test_split\n",
    "from sklearn import datasets\n",
    "from sklearn import svm\n",
    "from sklearn.model_selection import cross_val_score\n",
    "\n",
    "from io import StringIO \n",
    "import pydot\n",
    "from IPython.display import Image\n",
    "from sklearn import tree"
   ]
  },
  {
   "cell_type": "code",
   "execution_count": 30,
   "metadata": {
    "collapsed": true
   },
   "outputs": [],
   "source": [
    "def get_data_and_target(df, features, target):\n",
    "    return {\"data\":df[features],\"target\":df[target]}"
   ]
  },
  {
   "cell_type": "code",
   "execution_count": 18,
   "metadata": {
    "collapsed": true
   },
   "outputs": [],
   "source": [
    "def train_test_split_pd(data, target, test_size):\n",
    "    mask = np.random.rand(len(data)) < test_size\n",
    "    return data[mask], data[~mask], target[mask], target[~mask]"
   ]
  },
  {
   "cell_type": "code",
   "execution_count": 7,
   "metadata": {
    "collapsed": false
   },
   "outputs": [],
   "source": [
    "df0 = pd.read_csv(\"data/QN_merged.csv\", index_col=0)"
   ]
  },
  {
   "cell_type": "code",
   "execution_count": 23,
   "metadata": {
    "collapsed": false
   },
   "outputs": [
    {
     "data": {
      "text/html": [
       "<div>\n",
       "<table border=\"1\" class=\"dataframe\">\n",
       "  <thead>\n",
       "    <tr style=\"text-align: right;\">\n",
       "      <th></th>\n",
       "      <th>total</th>\n",
       "      <th>0</th>\n",
       "      <th>10</th>\n",
       "      <th>15</th>\n",
       "      <th>20</th>\n",
       "      <th>25</th>\n",
       "      <th>30</th>\n",
       "      <th>35</th>\n",
       "      <th>40</th>\n",
       "      <th>45</th>\n",
       "      <th>...</th>\n",
       "      <th>200</th>\n",
       "      <th>ZIP</th>\n",
       "      <th>year</th>\n",
       "      <th>State</th>\n",
       "      <th>CountyName</th>\n",
       "      <th>rent0</th>\n",
       "      <th>rent1</th>\n",
       "      <th>rent2</th>\n",
       "      <th>rent3</th>\n",
       "      <th>rent4</th>\n",
       "    </tr>\n",
       "  </thead>\n",
       "  <tbody>\n",
       "    <tr>\n",
       "      <th>0</th>\n",
       "      <td>9059</td>\n",
       "      <td>244</td>\n",
       "      <td>161</td>\n",
       "      <td>156</td>\n",
       "      <td>331</td>\n",
       "      <td>232</td>\n",
       "      <td>177</td>\n",
       "      <td>397</td>\n",
       "      <td>230</td>\n",
       "      <td>247</td>\n",
       "      <td>...</td>\n",
       "      <td>1062</td>\n",
       "      <td>11001</td>\n",
       "      <td>2011</td>\n",
       "      <td>36</td>\n",
       "      <td>Queens County</td>\n",
       "      <td>1300</td>\n",
       "      <td>1390</td>\n",
       "      <td>1570</td>\n",
       "      <td>1950</td>\n",
       "      <td>2150</td>\n",
       "    </tr>\n",
       "    <tr>\n",
       "      <th>1</th>\n",
       "      <td>5131</td>\n",
       "      <td>149</td>\n",
       "      <td>221</td>\n",
       "      <td>163</td>\n",
       "      <td>130</td>\n",
       "      <td>252</td>\n",
       "      <td>271</td>\n",
       "      <td>165</td>\n",
       "      <td>109</td>\n",
       "      <td>199</td>\n",
       "      <td>...</td>\n",
       "      <td>244</td>\n",
       "      <td>11004</td>\n",
       "      <td>2011</td>\n",
       "      <td>36</td>\n",
       "      <td>Queens County</td>\n",
       "      <td>1130</td>\n",
       "      <td>1200</td>\n",
       "      <td>1360</td>\n",
       "      <td>1690</td>\n",
       "      <td>1870</td>\n",
       "    </tr>\n",
       "    <tr>\n",
       "      <th>2</th>\n",
       "      <td>1356</td>\n",
       "      <td>22</td>\n",
       "      <td>42</td>\n",
       "      <td>85</td>\n",
       "      <td>76</td>\n",
       "      <td>74</td>\n",
       "      <td>54</td>\n",
       "      <td>34</td>\n",
       "      <td>68</td>\n",
       "      <td>39</td>\n",
       "      <td>...</td>\n",
       "      <td>141</td>\n",
       "      <td>11005</td>\n",
       "      <td>2011</td>\n",
       "      <td>36</td>\n",
       "      <td>Queens County</td>\n",
       "      <td>1180</td>\n",
       "      <td>1260</td>\n",
       "      <td>1420</td>\n",
       "      <td>1760</td>\n",
       "      <td>1950</td>\n",
       "    </tr>\n",
       "    <tr>\n",
       "      <th>3</th>\n",
       "      <td>13438</td>\n",
       "      <td>230</td>\n",
       "      <td>313</td>\n",
       "      <td>281</td>\n",
       "      <td>509</td>\n",
       "      <td>499</td>\n",
       "      <td>219</td>\n",
       "      <td>455</td>\n",
       "      <td>380</td>\n",
       "      <td>344</td>\n",
       "      <td>...</td>\n",
       "      <td>1701</td>\n",
       "      <td>11040</td>\n",
       "      <td>2011</td>\n",
       "      <td>36</td>\n",
       "      <td>Queens County</td>\n",
       "      <td>1440</td>\n",
       "      <td>1530</td>\n",
       "      <td>1730</td>\n",
       "      <td>2140</td>\n",
       "      <td>2370</td>\n",
       "    </tr>\n",
       "    <tr>\n",
       "      <th>4</th>\n",
       "      <td>9910</td>\n",
       "      <td>1306</td>\n",
       "      <td>732</td>\n",
       "      <td>481</td>\n",
       "      <td>740</td>\n",
       "      <td>601</td>\n",
       "      <td>513</td>\n",
       "      <td>392</td>\n",
       "      <td>431</td>\n",
       "      <td>382</td>\n",
       "      <td>...</td>\n",
       "      <td>303</td>\n",
       "      <td>11101</td>\n",
       "      <td>2011</td>\n",
       "      <td>36</td>\n",
       "      <td>Queens County</td>\n",
       "      <td>1120</td>\n",
       "      <td>1190</td>\n",
       "      <td>1350</td>\n",
       "      <td>1670</td>\n",
       "      <td>1850</td>\n",
       "    </tr>\n",
       "  </tbody>\n",
       "</table>\n",
       "<p>5 rows × 26 columns</p>\n",
       "</div>"
      ],
      "text/plain": [
       "   total     0   10   15   20   25   30   35   40   45  ...     200    ZIP  \\\n",
       "0   9059   244  161  156  331  232  177  397  230  247  ...    1062  11001   \n",
       "1   5131   149  221  163  130  252  271  165  109  199  ...     244  11004   \n",
       "2   1356    22   42   85   76   74   54   34   68   39  ...     141  11005   \n",
       "3  13438   230  313  281  509  499  219  455  380  344  ...    1701  11040   \n",
       "4   9910  1306  732  481  740  601  513  392  431  382  ...     303  11101   \n",
       "\n",
       "   year  State     CountyName  rent0  rent1  rent2  rent3  rent4  \n",
       "0  2011     36  Queens County   1300   1390   1570   1950   2150  \n",
       "1  2011     36  Queens County   1130   1200   1360   1690   1870  \n",
       "2  2011     36  Queens County   1180   1260   1420   1760   1950  \n",
       "3  2011     36  Queens County   1440   1530   1730   2140   2370  \n",
       "4  2011     36  Queens County   1120   1190   1350   1670   1850  \n",
       "\n",
       "[5 rows x 26 columns]"
      ]
     },
     "execution_count": 23,
     "metadata": {},
     "output_type": "execute_result"
    }
   ],
   "source": [
    "df0.head()"
   ]
  },
  {
   "cell_type": "code",
   "execution_count": 29,
   "metadata": {
    "collapsed": false
   },
   "outputs": [
    {
     "ename": "NameError",
     "evalue": "name 'data' is not defined",
     "output_type": "error",
     "traceback": [
      "\u001b[1;31m---------------------------------------------------------------------------\u001b[0m",
      "\u001b[1;31mNameError\u001b[0m                                 Traceback (most recent call last)",
      "\u001b[1;32m<ipython-input-29-e53bfc382495>\u001b[0m in \u001b[0;36m<module>\u001b[1;34m()\u001b[0m\n\u001b[1;32m----> 1\u001b[1;33m \u001b[0mtemp\u001b[0m \u001b[1;33m=\u001b[0m \u001b[0mget_data_and_target\u001b[0m\u001b[1;33m(\u001b[0m\u001b[0mdf0\u001b[0m\u001b[1;33m,\u001b[0m \u001b[1;33m[\u001b[0m\u001b[1;34m\"rent0\"\u001b[0m\u001b[1;33m,\u001b[0m \u001b[1;34m\"rent1\"\u001b[0m\u001b[1;33m,\u001b[0m \u001b[1;34m\"rent2\"\u001b[0m\u001b[1;33m]\u001b[0m\u001b[1;33m,\u001b[0m \u001b[1;34m\"200\"\u001b[0m\u001b[1;33m)\u001b[0m\u001b[1;33m\u001b[0m\u001b[0m\n\u001b[0m",
      "\u001b[1;32m<ipython-input-28-be3cbc94d7e6>\u001b[0m in \u001b[0;36mget_data_and_target\u001b[1;34m(df, features, target)\u001b[0m\n\u001b[0;32m      1\u001b[0m \u001b[1;32mdef\u001b[0m \u001b[0mget_data_and_target\u001b[0m\u001b[1;33m(\u001b[0m\u001b[0mdf\u001b[0m\u001b[1;33m,\u001b[0m \u001b[0mfeatures\u001b[0m\u001b[1;33m,\u001b[0m \u001b[0mtarget\u001b[0m\u001b[1;33m)\u001b[0m\u001b[1;33m:\u001b[0m\u001b[1;33m\u001b[0m\u001b[0m\n\u001b[1;32m----> 2\u001b[1;33m     \u001b[1;32mreturn\u001b[0m \u001b[1;33m{\u001b[0m\u001b[0mdata\u001b[0m\u001b[1;33m:\u001b[0m\u001b[0mdf\u001b[0m\u001b[1;33m[\u001b[0m\u001b[0mfeatures\u001b[0m\u001b[1;33m]\u001b[0m\u001b[1;33m,\u001b[0m\u001b[0mtarget\u001b[0m\u001b[1;33m:\u001b[0m\u001b[0mdf\u001b[0m\u001b[1;33m[\u001b[0m\u001b[0mtarget\u001b[0m\u001b[1;33m]\u001b[0m\u001b[1;33m}\u001b[0m\u001b[1;33m\u001b[0m\u001b[0m\n\u001b[0m",
      "\u001b[1;31mNameError\u001b[0m: name 'data' is not defined"
     ]
    }
   ],
   "source": [
    "temp = get_data_and_target(df0, [\"rent0\", \"rent1\", \"rent2\"], \"200\")"
   ]
  },
  {
   "cell_type": "code",
   "execution_count": 33,
   "metadata": {
    "collapsed": false
   },
   "outputs": [
    {
     "data": {
      "text/plain": [
       "129"
      ]
     },
     "execution_count": 33,
     "metadata": {},
     "output_type": "execute_result"
    }
   ],
   "source": [
    "len(temp[\"data\"])"
   ]
  },
  {
   "cell_type": "code",
   "execution_count": 34,
   "metadata": {
    "collapsed": true
   },
   "outputs": [],
   "source": [
    "X_train, X_test, Y_train, Y_test = train_test_split_pd(temp[\"data\"], temp[\"target\"], 0.7)"
   ]
  },
  {
   "cell_type": "code",
   "execution_count": 38,
   "metadata": {
    "collapsed": false
   },
   "outputs": [
    {
     "data": {
      "text/plain": [
       "90"
      ]
     },
     "execution_count": 38,
     "metadata": {},
     "output_type": "execute_result"
    }
   ],
   "source": [
    "len(Y_train)"
   ]
  },
  {
   "cell_type": "code",
   "execution_count": 40,
   "metadata": {
    "collapsed": true
   },
   "outputs": [],
   "source": [
    "def fit_tree(X, y, depth=10):\n",
    "    ##: Using the DecisionTreeRegressor, train a model to depth 10.\n",
    "    decision_tree = tree.DecisionTreeRegressor(max_depth=depth)\n",
    "    return decision_tree.fit(X,y)\n",
    "\n",
    "def display_tree(tmodel):\n",
    "    dot_data = StringIO() \n",
    "    tree.export_graphviz(tmodel, out_file=dot_data) \n",
    "    graph = pydot.graph_from_dot_data(dot_data.getvalue())\n",
    "    return Image(graph.create_png())"
   ]
  },
  {
   "cell_type": "code",
   "execution_count": null,
   "metadata": {
    "collapsed": true
   },
   "outputs": [],
   "source": [
    "tmodel = fit_tree(train_basic_features, train_basic_response, 5)\n",
    "display_tree(tmodel)"
   ]
  },
  {
   "cell_type": "code",
   "execution_count": null,
   "metadata": {
    "collapsed": true
   },
   "outputs": [],
   "source": [
    "pd.scatter_matrix(train[features], figsize=(16,9))\n",
    "plt.show()"
   ]
  }
 ],
 "metadata": {
  "anaconda-cloud": {},
  "kernelspec": {
   "display_name": "Python [DataScience-Project]",
   "language": "python",
   "name": "Python [DataScience-Project]"
  },
  "language_info": {
   "codemirror_mode": {
    "name": "ipython",
    "version": 3
   },
   "file_extension": ".py",
   "mimetype": "text/x-python",
   "name": "python",
   "nbconvert_exporter": "python",
   "pygments_lexer": "ipython3",
   "version": "3.5.2"
  }
 },
 "nbformat": 4,
 "nbformat_minor": 0
}
